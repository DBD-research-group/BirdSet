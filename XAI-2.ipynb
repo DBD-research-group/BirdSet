{
 "cells": [
  {
   "cell_type": "code",
   "execution_count": 1,
   "id": "4f353e34-5599-4534-8d56-c80b54a53704",
   "metadata": {},
   "outputs": [
    {
     "name": "stdout",
     "output_type": "stream",
     "text": [
      "/mnt/home/eneubeck/GADME\n"
     ]
    }
   ],
   "source": [
    "!pwd\n"
   ]
  },
  {
   "cell_type": "markdown",
   "id": "8902b9c8-e342-4060-9bcf-2a1193d3a174",
   "metadata": {},
   "source": [
    "## 1- Loading the model and the dataset"
   ]
  },
  {
   "cell_type": "code",
   "execution_count": 2,
   "id": "c9826cf9-2e62-4679-bc98-aebe839964f8",
   "metadata": {},
   "outputs": [],
   "source": [
    "# 1.1 Importe \n",
    "# dauert länger\n",
    "\n",
    "import transformers\n",
    "import torch\n",
    "\n",
    "import torch.nn.functional as F\n",
    "from PIL import Image\n",
    "\n",
    "import os\n",
    "import json\n",
    "import numpy as np\n",
    "from matplotlib.colors import LinearSegmentedColormap\n",
    "\n",
    "import torchvision\n",
    "from torchvision import models\n",
    "from torchvision import transforms\n",
    "\n",
    "from torchaudio.transforms import Spectrogram, MelScale\n",
    "\n",
    "from pytorch_lightning import Callback\n",
    "\n",
    "from omegaconf import DictConfig\n",
    "\n",
    "from captum.attr import IntegratedGradients\n",
    "from captum.attr import GradientShap\n",
    "from captum.attr import LRP\n",
    "from captum.attr import Occlusion\n",
    "from captum.attr import NoiseTunnel\n",
    "from captum.attr import Saliency\n",
    "from captum.attr import visualization as viz\n",
    "from captum.attr._utils.lrp_rules import EpsilonRule, GammaRule, Alpha1_Beta0_Rule"
   ]
  },
  {
   "cell_type": "code",
   "execution_count": 3,
   "id": "5a79f6f7-af7e-4164-b381-b8448d806493",
   "metadata": {
    "tags": []
   },
   "outputs": [],
   "source": [
    "# dauert länger\n",
    "# !nvidia-smi"
   ]
  },
  {
   "cell_type": "code",
   "execution_count": 4,
   "id": "9bba8adf-9de8-4990-b4c3-169e5ab04575",
   "metadata": {
    "tags": []
   },
   "outputs": [
    {
     "name": "stdout",
     "output_type": "stream",
     "text": [
      "True\n"
     ]
    }
   ],
   "source": [
    "print(torch.cuda.is_available())"
   ]
  },
  {
   "cell_type": "markdown",
   "id": "c37a54d3-6c02-4cfe-bbae-ac633e6bb430",
   "metadata": {},
   "source": [
    "## 1.3 Das Modell\n",
    "\n",
    "Hier wird das Modell EfficientNetClassifier initialisiert und direkt aus einem gespeicherten Checkpoint (checkpoint_path) geladen.\n",
    "\n",
    "Aus dem Checkpoint werden hier nur die erlernten Gewichte und Biases (state_dict) des Experiments geladen.\n",
    "Das Laden von Checkpoints ersetzt hier im IPYNB das Training.\n",
    "\n",
    "Der Evaluationsmodus (model.eval()) deaktiviert spezifische Techniken wie Dropout oder Batch-Normalisierung. Diese Techniken sind während des Trainings nützlich, aber können bei der Nutzung des Modells zu Inkonsistenzen führen. "
   ]
  },
  {
   "cell_type": "code",
   "execution_count": 5,
   "id": "2c9ead26-8d2a-445c-b132-283d9b6a117f",
   "metadata": {},
   "outputs": [
    {
     "name": "stderr",
     "output_type": "stream",
     "text": [
      "/mnt/home/eneubeck/.conda/envs/explai/lib/python3.10/site-packages/torchvision/models/_utils.py:208: UserWarning: The parameter 'pretrained' is deprecated since 0.13 and may be removed in the future, please use 'weights' instead.\n",
      "  warnings.warn(\n",
      "/mnt/home/eneubeck/.conda/envs/explai/lib/python3.10/site-packages/torchvision/models/_utils.py:223: UserWarning: Arguments other than a weight enum or `None` for 'weights' are deprecated since 0.13 and may be removed in the future. The current behavior is equivalent to passing `weights=None`.\n",
      "  warnings.warn(msg)\n",
      "/mnt/home/eneubeck/.conda/envs/explai/lib/python3.10/site-packages/torchvision/models/_utils.py:208: UserWarning: The parameter 'pretrained' is deprecated since 0.13 and may be removed in the future, please use 'weights' instead.\n",
      "  warnings.warn(\n",
      "/mnt/home/eneubeck/.conda/envs/explai/lib/python3.10/site-packages/torchvision/models/_utils.py:223: UserWarning: Arguments other than a weight enum or `None` for 'weights' are deprecated since 0.13 and may be removed in the future. The current behavior is equivalent to passing `weights=None`.\n",
      "  warnings.warn(msg)\n"
     ]
    },
    {
     "name": "stdout",
     "output_type": "stream",
     "text": [
      ">> Found a checkpoint. Loading..\n",
      "done\n"
     ]
    }
   ],
   "source": [
    "# 1.3 Modell\n",
    "# dauert länger\n",
    "\n",
    "# EfficientNetClassifier importieren\n",
    "from birdset.modules.models.efficientnet import EfficientNetClassifier\n",
    "\n",
    "# Definition der Parameter\n",
    "architecture = \"efficientnet_b1\"  # The version of EfficientNet to use\n",
    "num_classes = 21 # The number of classes for the output layer\n",
    "num_channels = 1  # The number of input channels  # 1 für Für Graustufenbildern \n",
    "# Der Checkpoint meines EfficientNet-Experiments mit den besten Metriken:\n",
    "checkpoint_path = \"../GADME/logs/train/runs/HSN/efficientnet/2024-02-27_122229/callback_checkpoints/efficientnet_HSN_191.ckpt\"  \n",
    "\n",
    "model = EfficientNetClassifier(\n",
    "    architecture=architecture,\n",
    "    num_classes=num_classes,\n",
    "    num_channels=num_channels,\n",
    "    checkpoint=checkpoint_path)\n",
    "\n",
    "model = model.eval()\n",
    "print(\"done\")"
   ]
  },
  {
   "cell_type": "code",
   "execution_count": 6,
   "id": "8c61bff8-ea77-4c86-96dc-c26cce9397c9",
   "metadata": {},
   "outputs": [],
   "source": [
    "# model\n"
   ]
  },
  {
   "cell_type": "markdown",
   "id": "0b46f292-c9d8-4c8f-b43c-2d1bc4935164",
   "metadata": {},
   "source": [
    "Wenn ich das model in den Evaluierungsmodus setze, bekomme ich unten bei der Modellvorhersage\n",
    "die Ausgabe nach Sigmoid: tensor([[0.5000, 0.5000, 0.5000, \n",
    "\n",
    "Eingabe: tensor([[[[3.0671, 3.3124, 4.0746,  ..., 6.9586, 6.5436, 6.1844],\n",
    "          [1.8969, 2.1422, 2.9044,  ..., 6.0071, 5.3734, 5.0142],\n",
    "          [3.6484, 3.3048, 3.0987,  ..., 3.8083, 3.2876, 2.9555],\n",
    "          ...,\n",
    "          [6.9586, 6.9586, 6.9586,  ..., 6.9586, 6.9586, 6.9586],\n",
    "          [6.9586, 6.9586, 6.9586,  ..., 6.9586, 6.9586, 6.9586],\n",
    "          [6.9586, 6.9586, 6.9586,  ..., 6.9586, 6.9586, 6.9586]]]])\n",
    "Rohe Ausgabe tensor([[-5.4917e-13, -1.1072e-13,  3.0437e-13, -7.3220e-13, -4.9140e-13,\n",
    "          1.6694e-13,  2.1717e-13, -2.1490e-13, -2.8834e-13, -4.3051e-13,\n",
    "          1.0292e-13,  2.7043e-13,  2.3490e-13, -3.2225e-13, -1.2476e-12,\n",
    "          2.6705e-14, -1.5777e-13,  6.8861e-14,  5.6031e-13, -1.3419e-13,\n",
    "         -1.0665e-13]], grad_fn=<AddmmBackward0>)\n",
    "\n",
    "Ausgabe nach Sigmoid: tensor([[0.5000, 0.5000, 0.5000, 0.5000, 0.5000, 0.5000, 0.5000, 0.5000, 0.5000,\n",
    "         0.5000, 0.5000, 0.5000, 0.5000, 0.5000, 0.5000, 0.5000, 0.5000, 0.5000,\n",
    "         0.5000, 0.5000, 0.5000]], grad_fn=<SigmoidBackward0>)\n",
    "Höchste Vorhersage: tensor([0.5000], grad_fn=<MaxBackward0>)\n",
    "Index des Labels mit der höchsten Vorhersage: tensor([0])"
   ]
  },
  {
   "cell_type": "markdown",
   "id": "e57696f6-c2d6-4d24-be47-478bd193cb42",
   "metadata": {},
   "source": [
    "## Datamodule\n",
    "\n",
    "Das Datamodule ist die Struktur, welche die Daten (hier den HSN Datensatz) organisiert, vorverarbeitet und für das Modell bereitstellt.\n",
    "Die vorverarbeiteten Daten werden auf der Festplatte (hier unter /mnt/home/eneubeck/data_birdset) gespeichert.\n"
   ]
  },
  {
   "cell_type": "code",
   "execution_count": 7,
   "id": "975dd049-f897-4106-860f-3c6f27678720",
   "metadata": {},
   "outputs": [],
   "source": [
    "# 1.4 Klassen für datamodule importieren\n",
    "\n",
    "from birdset.datamodule.birdset_datamodule import BirdSetDataModule\n",
    "from birdset.datamodule.components.transforms import  BirdSetTransformsWrapper, BaseTransforms, PreprocessingConfig\n",
    "from birdset.datamodule.components.resize import Resizer\n",
    "\n",
    "from birdset.datamodule.components.augmentations import PowerToDB\n",
    "from birdset.datamodule.base_datamodule import DatasetConfig, LoadersConfig\n",
    "from birdset.datamodule.components.event_mapping import XCEventMapping\n",
    "from birdset.datamodule.components.feature_extraction import DefaultFeatureExtractor"
   ]
  },
  {
   "cell_type": "code",
   "execution_count": 8,
   "id": "af62341d-c682-4034-8ee4-bcc60e0930be",
   "metadata": {},
   "outputs": [
    {
     "name": "stdout",
     "output_type": "stream",
     "text": [
      "done\n"
     ]
    }
   ],
   "source": [
    "# 1.5 datamodule \n",
    "\n",
    "custom_preprocessing = PreprocessingConfig(\n",
    "    spectrogram_conversion=Spectrogram(\n",
    "        n_fft=1024,\n",
    "        hop_length=128,\n",
    "        power=2.0,\n",
    "    ),\n",
    "    resizer=Resizer(\n",
    "        db_scale=True,  # manually adjusted!! False when not using it\n",
    "    ),\n",
    "    melscale_conversion=MelScale(\n",
    "        n_mels=128,\n",
    "        sample_rate=32000,\n",
    "        n_stft=513,  # n_fft//2+1!!! how to include in code\n",
    "    ),\n",
    "    dbscale_conversion=PowerToDB(),\n",
    "    normalize_spectrogram=True,\n",
    "    normalize_waveform=None,\n",
    "    mean=-4.268,  # calculated on AudioSet\n",
    "    std=-4.569,  # calculated on AudioSet\n",
    ")\n",
    "\n",
    "custom_wrapper = BirdSetTransformsWrapper(\n",
    "    task=\"multilabel\",\n",
    "    sampling_rate=32000,\n",
    "    model_type=\"vision\",\n",
    "    spectrogram_augmentations=DictConfig({}),  # TODO: typing is wrong, can also be List of Augmentations\n",
    "    waveform_augmentations=DictConfig({}),  # TODO: typing is wrong, can also be List of Augmentations\n",
    "    decoding=None,\n",
    "    feature_extractor=DefaultFeatureExtractor(),\n",
    "    max_length=5,\n",
    "    nocall_sampler=None, \n",
    "    preprocessing=custom_preprocessing,\n",
    ")\n",
    "\n",
    "datamodule = BirdSetDataModule(\n",
    "    dataset=DatasetConfig(\n",
    "        data_dir= \"/mnt/home/eneubeck/data_birdset\",        \n",
    "        dataset_name='HSN',\n",
    "        hf_path='DBD-research-group/BirdSet',\n",
    "        # seed: int = 42  # was ist seed? wird in DatasetConfig übergeben      \n",
    "        hf_name='HSN',\n",
    "        n_classes=21,\n",
    "        n_workers=3,\n",
    "        val_split=0.2,\n",
    "        task=\"multilabel\",\n",
    "        # subset: Optional[int] = None\n",
    "        sampling_rate=32000,\n",
    "        # class_weights_loss: Optional[bool] = None   # was ist das? wird in DatasetConfig übergeben  \n",
    "        # class_weights_sampler: Optional[bool] = None  # was ist das? wird in DatasetConfig übergeben \n",
    "        classlimit=500,\n",
    "        eventlimit=5,\n",
    "    ),\n",
    "    loaders=LoadersConfig(),\n",
    "    transforms=custom_wrapper,\n",
    "    mapper=XCEventMapping(),\n",
    "    \n",
    ")\n",
    "print(\"done\")"
   ]
  },
  {
   "cell_type": "code",
   "execution_count": 9,
   "id": "499f4ece-9ce2-4b1b-bf9c-3d46164713c5",
   "metadata": {},
   "outputs": [
    {
     "name": "stdout",
     "output_type": "stream",
     "text": [
      "done 1\n"
     ]
    },
    {
     "name": "stderr",
     "output_type": "stream",
     "text": [
      "Processing labels: 100%|██████████| 21/21 [00:01<00:00, 12.03it/s]\n"
     ]
    },
    {
     "data": {
      "application/vnd.jupyter.widget-view+json": {
       "model_id": "b9705efd34ae44249c65a33de447d412",
       "version_major": 2,
       "version_minor": 0
      },
      "text/plain": [
       "Map (num_proc=3):   0%|          | 0/17940 [00:00<?, ? examples/s]"
      ]
     },
     "metadata": {},
     "output_type": "display_data"
    },
    {
     "data": {
      "application/vnd.jupyter.widget-view+json": {
       "model_id": "5595fcbea38c4fd1b94a8418266f034e",
       "version_major": 2,
       "version_minor": 0
      },
      "text/plain": [
       "Saving the dataset (0/1 shards):   0%|          | 0/14352 [00:00<?, ? examples/s]"
      ]
     },
     "metadata": {},
     "output_type": "display_data"
    },
    {
     "data": {
      "application/vnd.jupyter.widget-view+json": {
       "model_id": "ebc75b2102be4f6baf8b1fe5c4e72f6e",
       "version_major": 2,
       "version_minor": 0
      },
      "text/plain": [
       "Saving the dataset (0/1 shards):   0%|          | 0/3588 [00:00<?, ? examples/s]"
      ]
     },
     "metadata": {},
     "output_type": "display_data"
    },
    {
     "data": {
      "application/vnd.jupyter.widget-view+json": {
       "model_id": "53a3b04b1b9a46d59336fe5bc2e0ac5a",
       "version_major": 2,
       "version_minor": 0
      },
      "text/plain": [
       "Saving the dataset (0/1 shards):   0%|          | 0/12000 [00:00<?, ? examples/s]"
      ]
     },
     "metadata": {},
     "output_type": "display_data"
    },
    {
     "name": "stdout",
     "output_type": "stream",
     "text": [
      "done 2\n",
      "done 3\n"
     ]
    }
   ],
   "source": [
    "# 1.6 Weiterverarbeitung des datamodule \n",
    "# Ausführung von datamodule.prepare_data() dauert sehr lange\n",
    "\n",
    "# prepare the data (download dataset, ...)\n",
    "datamodule.prepare_data()\n",
    "# setup the dataloaders\n",
    "datamodule.setup(stage=\"fit\")\n",
    "\n",
    "print(\"done\")"
   ]
  },
  {
   "cell_type": "markdown",
   "id": "0b0460a2-0a6f-4a9e-b47d-be1af4c0de81",
   "metadata": {},
   "source": [
    "# Pipeline Ende"
   ]
  },
  {
   "cell_type": "code",
   "execution_count": 10,
   "id": "d1efbb16-44f7-4df7-93d2-4271ab76f19d",
   "metadata": {},
   "outputs": [
    {
     "name": "stdout",
     "output_type": "stream",
     "text": [
      "batch[labels].shape torch.Size([32, 21])\n"
     ]
    }
   ],
   "source": [
    "# 1.7 get the dataloaders\n",
    "# Die Variable train_loader ist eine Instanz der Klasse DataLoader. Der DataLoader greift auf die vorverarbeiteten Trainingsdaten zu, welche auf der Festplatte  \n",
    "# gespeichert sind. Beim Training werden die Daten schrittweise aus der Festplatte geladen und dem Modell über diesen DataLoader \n",
    "# zur Verfügung gestellt.\n",
    "# Der DataLoader ist eine Klasse aus der PyTorch-Bibliothek, die für das effiziente Laden von Daten während des Trainings von NN verwendet wird.\n",
    "\n",
    "train_loader = datamodule.train_dataloader()\n",
    "# get the first batch\n",
    "batch = next(iter(train_loader))\n",
    "\n",
    "# print(\"batch[input_values].shape\", batch[\"input_values\"].shape)\n",
    "print(\"batch[labels].shape\", batch[\"labels\"].shape)"
   ]
  },
  {
   "cell_type": "code",
   "execution_count": 11,
   "id": "198af55f-ef1d-49d6-b1e6-aaf322eb46be",
   "metadata": {},
   "outputs": [
    {
     "name": "stdout",
     "output_type": "stream",
     "text": [
      "Anzahl der Batches im Train DataLoader: 449\n"
     ]
    }
   ],
   "source": [
    "print(\"Anzahl der Batches im Train DataLoader:\", len(train_loader))"
   ]
  },
  {
   "cell_type": "code",
   "execution_count": 12,
   "id": "2a4927a2-91b1-45e2-86be-203f9a4e9047",
   "metadata": {},
   "outputs": [],
   "source": [
    "# print(batch[\"labels\"])\n",
    "# tensor([[0., 0., 0., 0., 0., 0., 0., 0., 0., 0., 0., 1., 0., 0., 0., 0., 0., 0.,\n",
    "# jeweils nur ein label pro example hat eine 1"
   ]
  },
  {
   "cell_type": "code",
   "execution_count": 14,
   "id": "b5a73e5f-1a5a-49a1-a2bd-bc33d4dbe888",
   "metadata": {},
   "outputs": [
    {
     "name": "stdout",
     "output_type": "stream",
     "text": [
      "first_example tensor([[[7.2949, 7.2949, 7.2949,  ..., 7.2949, 7.2949, 7.2949],\n",
      "         [7.2949, 7.2949, 7.2949,  ..., 7.2949, 7.2949, 7.2949],\n",
      "         [7.2949, 7.2949, 7.2949,  ..., 7.2949, 7.2949, 7.2949],\n",
      "         ...,\n",
      "         [7.2949, 7.2949, 7.2949,  ..., 7.2949, 7.2949, 7.2949],\n",
      "         [7.2949, 7.2949, 7.2949,  ..., 7.2949, 7.2949, 7.2949],\n",
      "         [7.2949, 7.2949, 7.2949,  ..., 7.2949, 7.2949, 7.2949]]])\n",
      "first_example shape torch.Size([1, 128, 1024])\n",
      "labels_first_example tensor([0., 0., 0., 0., 0., 0., 1., 0., 0., 0., 0., 0., 0., 0., 0., 0., 0., 0.,\n",
      "        0., 0., 0.], dtype=torch.float16)\n",
      "Index des Top-Labels: 6\n"
     ]
    }
   ],
   "source": [
    "# 1.8 Das erste Beispiel aus dem Dataset erhalten\n",
    "\n",
    "first_example = batch[\"input_values\"][2]\n",
    "labels_first_example = batch[\"labels\"][2]\n",
    "print(\"first_example\", first_example)\n",
    "print(\"first_example shape\", first_example.shape)\n",
    "print(\"labels_first_example\", labels_first_example)\n",
    "\n",
    "first_example_np = first_example.numpy()\n",
    "first_example_np = np.squeeze(first_example_np)\n",
    "\n",
    "# Verwendung von argmax, um den Index des höchsten Werts zu erhalten\n",
    "top_label_index = torch.argmax(labels_first_example)\n",
    "print(f\"Index des Top-Labels: {top_label_index.item()}\")"
   ]
  },
  {
   "cell_type": "code",
   "execution_count": 15,
   "id": "41883e33-d7ab-4418-a932-97b2626acd8a",
   "metadata": {},
   "outputs": [
    {
     "name": "stdout",
     "output_type": "stream",
     "text": [
      "[[7.2948923 7.2948923 7.2948923 ... 7.2948923 7.2948923 7.2948923]\n",
      " [7.2948923 7.2948923 7.2948923 ... 7.2948923 7.2948923 7.2948923]\n",
      " [7.2948923 7.2948923 7.2948923 ... 7.2948923 7.2948923 7.2948923]\n",
      " ...\n",
      " [7.2948923 7.2948923 7.2948923 ... 7.2948923 7.2948923 7.2948923]\n",
      " [7.2948923 7.2948923 7.2948923 ... 7.2948923 7.2948923 7.2948923]\n",
      " [7.2948923 7.2948923 7.2948923 ... 7.2948923 7.2948923 7.2948923]]\n",
      "Einzigartige Werte im letzten Teil des Tensors: [0.44415614 0.5716007  1.1474009  ... 7.2921762  7.2948194  7.2948923 ]\n",
      "Anzahl einzigartiger Werte: 9529\n"
     ]
    }
   ],
   "source": [
    "# 1.9 Kontrolle, ob Abschnitte des Arrays leer sind\n",
    "\n",
    "# Ermitteln des Index, der dem Beginn des letzten Drittels der Zeitachse entspricht\n",
    "time_dimension = first_example_np.shape[-1]  # Die letzte Dimension sollte die Zeitachse sein\n",
    "start_of_last_part = time_dimension * 7// 8  # Start bei drei Achteln des Weges\n",
    "\n",
    "# Teil des Tensors auswählen, der das letzte Teil der Zeitachse abbildet\n",
    "last_part_of_tensor = first_example_np[..., start_of_last_part:]\n",
    "\n",
    "# Vollständige Anzeige dieses Abschnitts des Tensors\n",
    "print(last_part_of_tensor)\n",
    "\n",
    "# Um zu überprüfen, ob alle Werte gleich sind, einzigartige Werte zählen\n",
    "unique_values = np.unique(last_part_of_tensor)\n",
    "print(f\"Einzigartige Werte im letzten Teil des Tensors: {unique_values}\")\n",
    "\n",
    "# Wenn die Anzahl der einzigartigen Werte sehr gering ist, deutet dies auf Stille oder fehlende Daten hin\n",
    "print(f\"Anzahl einzigartiger Werte: {len(unique_values)}\")"
   ]
  },
  {
   "cell_type": "code",
   "execution_count": 16,
   "id": "bd1c988c-572d-4cf7-a625-67c5e71604d2",
   "metadata": {},
   "outputs": [
    {
     "data": {
      "image/png": "[encoded data removed]",
      "text/plain": [
       "<Figure size 1000x400 with 2 Axes>"
      ]
     },
     "metadata": {},
     "output_type": "display_data"
    }
   ],
   "source": [
    "# alt\n",
    "# 1.10 Spektrogramm - alt\n",
    "\n",
    "import librosa.display\n",
    "import matplotlib.pyplot as plt\n",
    "import numpy as np\n",
    "\n",
    "def show_spektrogramm(spektrum, titel='Mel-Spektrogramm'):\n",
    "  plt.figure(figsize=(10, 4))\n",
    "  librosa.display.specshow(spektrum, y_axis='mel', x_axis='time')\n",
    "  plt.colorbar(format='%+2.0f dB')\n",
    "  plt.title(titel)\n",
    "  plt.tight_layout()\n",
    "  plt.show()\n",
    "\n",
    "# Konvertiere den PyTorch-Tensor in ein NumPy-Array\n",
    "#first_example_np = first_example.numpy()\n",
    "\n",
    "# Entferne die erste Dimension von ([1, 128, 1397]), da diese nicht benötigt wird:\n",
    "first_example_np = np.squeeze(first_example_np)\n",
    "\n",
    "# Rufe die Funktion auf, um das Spektrogramm anzuzeigen\n",
    "show_spektrogramm(first_example_np)"
   ]
  },
  {
   "cell_type": "code",
   "execution_count": null,
   "id": "aa9afee2-7b9b-4804-aab1-a20260dd3b87",
   "metadata": {},
   "outputs": [],
   "source": [
    "# 1.10 Spektrogramm\n",
    "\n",
    "import librosa.display\n",
    "import matplotlib.pyplot as plt\n",
    "import numpy as np\n",
    "\n",
    "def show_spektrogrammm2(spektrum, sample_rate, hop_length, n_fft, titel='Mel-Spektrogramm', cmap=\"viridis\"):\n",
    "    plt.figure(figsize=(10, 4))\n",
    "    librosa.display.specshow(spektrum, \n",
    "                             y_axis='mel', sr=sample_rate, hop_length=hop_length, n_fft=n_fft,  \n",
    "                             x_axis='time', cmap=cmap)\n",
    "    plt.colorbar(format='%+2.0f dB')\n",
    "    plt.title(titel)\n",
    "    plt.tight_layout()\n",
    "    plt.show()\n",
    "\n"
   ]
  },
  {
   "cell_type": "code",
   "execution_count": null,
   "id": "6cd00638-bf20-420c-bfa1-99bede58242c",
   "metadata": {},
   "outputs": [],
   "source": [
    "n_fft = 1024\n",
    "hop_length = 128\n",
    "sample_rate = 32000\n",
    "\n",
    "# Konvertiere den PyTorch-Tensor in ein NumPy-Array\n",
    "first_example_np = first_example.numpy()\n",
    "\n",
    "# Entferne die erste Dimension von ([1, 128, 1397]), da diese nicht benötigt wird:\n",
    "first_example_np = np.squeeze(first_example_np)\n",
    "\n",
    "# Rufe die Funktion auf, um das Spektrogramm anzuzeigen\n",
    "show_spektrogrammm2(first_example_np, sample_rate=sample_rate, hop_length=hop_length, n_fft=n_fft)"
   ]
  },
  {
   "cell_type": "code",
   "execution_count": null,
   "id": "49efbf7e-7e78-4441-8fac-d3431fb28d95",
   "metadata": {},
   "outputs": [],
   "source": [
    "first_example_np.shape"
   ]
  },
  {
   "cell_type": "code",
   "execution_count": null,
   "id": "387b1082-3989-43e9-acf9-c33c15012fae",
   "metadata": {},
   "outputs": [],
   "source": [
    "# 1.11 Wiederholung: Das erste Beispiel aus dem Dataset erhalten\n",
    "\n",
    "print(first_example)\n",
    "print(labels_first_example)\n",
    "print(f\"Index des Top-Labels: {top_label_index.item()}\")"
   ]
  },
  {
   "cell_type": "code",
   "execution_count": null,
   "id": "78c540ae-94a4-4e47-a549-675c9725ba31",
   "metadata": {},
   "outputs": [],
   "source": [
    "model = model.eval()"
   ]
  },
  {
   "cell_type": "code",
   "execution_count": null,
   "id": "d0942d17-5687-479d-b8a3-9b99617ee9b5",
   "metadata": {},
   "outputs": [],
   "source": [
    "# 1.12 Modellvorhersage für ein einzelnes Example\n",
    "\n",
    "import torch\n",
    "import torch.nn.functional as F\n",
    "\n",
    "input = first_example.unsqueeze(0)  # fügt neue Dimension an der Position 0 hinzu\n",
    "# print(\"input\", input)  # input tensor([[[[3.0671, 3.3124, 4.0746,\n",
    "\n",
    "# Ergebnis der Vorhersage als rohe Ausgabe (Logits)\n",
    "output = model(input)\n",
    "\n",
    "# Anwenden der Sigmoid-Funktion, um die rohen Modellausgaben in Wahrscheinlichkeiten zw. 0 und 1 umzuwandeln\n",
    "# Sigmoid, da es eine Multilabel-Klassifizierung ist, und daher jedes Label einzeln einen Wahrscheinlichkeitswert bekommt\n",
    "output_sigmoid = torch.sigmoid(output)\n",
    "\n",
    "# Ermitteln des maximalen Werts und des entsprechenden Indexes\n",
    "prediction_score, pred_label_idx = torch.max(output_sigmoid, dim=1)\n",
    "\n",
    "print(\"Eingabe:\", input)\n",
    "print(\"Rohe Ausgabe\", output)\n",
    "print(\"Ausgabe nach Sigmoid:\", output_sigmoid)\n",
    "print(\"Höchste Vorhersage:\", prediction_score)\n",
    "print(\"Index des Labels mit der höchsten Vorhersage:\", pred_label_idx) \n",
    "print(f\"Index des Top-Labels aus den Testdaten: {top_label_index.item()}\")"
   ]
  },
  {
   "cell_type": "code",
   "execution_count": null,
   "id": "9e4b86df-eacd-418a-922b-bcce80bb6467",
   "metadata": {},
   "outputs": [],
   "source": [
    "# 1.12 Modellvorhersage für einen Batch\n",
    "\n",
    "# Angenommen, 'batch' ist der Batch, den du aus deinem DataLoader erhältst\n",
    "input_values = batch[\"input_values\"]  # Dies sind die Eingabewerte des Batches\n",
    "\n",
    "# Lasse den ganzen Batch durch das Modell laufen\n",
    "output = model(input_values)\n",
    "\n",
    "# Anwenden der Sigmoid-Funktion, um die rohen Modellausgaben in Wahrscheinlichkeiten zwischen 0 und 1 umzuwandeln\n",
    "# Dies ist nützlich, da es eine Multilabel-Klassifizierung ist\n",
    "output_sigmoid = torch.sigmoid(output)\n",
    "\n",
    "# Ermitteln der maximalen Werte und der entsprechenden Indizes für jedes Beispiel im Batch\n",
    "# Dies gibt dir die Vorhersage mit der höchsten Wahrscheinlichkeit für jedes Beispiel\n",
    "prediction_scores, pred_label_idxs = torch.max(output_sigmoid, dim=1)\n",
    "\n",
    "# Ausgabe der Ergebnisse\n",
    "# print(\"Rohe Ausgaben:\", output)\n",
    "# print(\"Ausgaben nach Sigmoid:\", output_sigmoid)\n",
    "print(\"Höchste Vorhersagen:\", prediction_scores)\n",
    "print(\"Indizes der Labels mit den höchsten Vorhersagen:\", pred_label_idxs)"
   ]
  },
  {
   "cell_type": "code",
   "execution_count": null,
   "id": "a4731712-5f00-49c3-b72a-360239f981f7",
   "metadata": {},
   "outputs": [],
   "source": [
    "# Metriken für den batch\n",
    "from sklearn.metrics import f1_score\n",
    "\n",
    "# Angenommen, 'labels' sind die tatsächlichen Labels aus deinem Batch\n",
    "labels = batch[\"labels\"].cpu().numpy()  # Konvertiere die Labels in ein NumPy-Array\n",
    "\n",
    "# Konvertiere die Sigmoid-Ausgaben in binäre Werte basierend auf einem Schwellenwert (z.B. 0.5)\n",
    "predicted_labels = (output_sigmoid > 0.5).cpu().numpy()\n",
    "\n",
    "# Berechne den F1-Score für jedes Label\n",
    "f1_scores = f1_score(labels, predicted_labels, average=None)\n",
    "\n",
    "# Berechne den durchschnittlichen F1-Score über alle Labels\n",
    "average_f1_score = f1_score(labels, predicted_labels, average='macro')\n",
    "\n",
    "print(\"F1-Scores für jedes Label:\", f1_scores)\n",
    "print(\"Durchschnittlicher F1-Score:\", average_f1_score)"
   ]
  },
  {
   "cell_type": "code",
   "execution_count": null,
   "id": "e6adaef8-8810-4c3f-b862-6bc5b8e994ed",
   "metadata": {},
   "outputs": [],
   "source": [
    "# Metriken für den batch\n",
    "\n",
    "# Hier nehmen wir an, dass für jedes Beispiel nur ein \"richtiges\" Label existiert\n",
    "correct_predictions = (pred_label_idxs == batch[\"labels\"].argmax(dim=1)).float()\n",
    "top_1_accuracy = correct_predictions.mean().item()\n",
    "print(\"Top-1 Accuracy:\", top_1_accuracy)\n",
    "\n",
    "from sklearn.metrics import average_precision_score\n",
    "\n",
    "# Berechne AP für jede Klasse und dann den Durchschnitt für den mAP\n",
    "aps = [average_precision_score(labels[:, i], output_sigmoid.detach().cpu().numpy()[:, i]) for i in range(num_classes)]\n",
    "map_score = np.mean(aps)\n",
    "print(\"mAP:\", map_score)\n",
    "\n",
    "from sklearn.metrics import roc_auc_score\n",
    "import numpy as np\n",
    "\n",
    "aucs = []\n",
    "for i in range(num_classes):\n",
    "    # Prüfe, ob in der aktuellen Klasse sowohl positive als auch negative Beispiele vorhanden sind\n",
    "    if len(np.unique(labels[:, i])) > 1:\n",
    "        auc = roc_auc_score(labels[:, i], output_sigmoid.detach().cpu().numpy()[:, i])\n",
    "        aucs.append(auc)\n",
    "\n",
    "# Berechne den durchschnittlichen AUROC, wenn mindestens eine Klasse berechenbar ist\n",
    "if aucs:\n",
    "    mean_auroc = np.mean(aucs)\n",
    "    print(\"Durchschnittlicher Multilabel-AUROC:\", mean_auroc)\n",
    "else:\n",
    "    print(\"Keine Klasse mit ausreichender Variabilität für die Berechnung von AUROC.\")"
   ]
  },
  {
   "cell_type": "markdown",
   "id": "f969af6e-21be-41ae-ae26-800408c5a392",
   "metadata": {},
   "source": [
    "## 2- Gradient-based attribution"
   ]
  },
  {
   "cell_type": "markdown",
   "id": "f396340b-68f6-41da-ab08-12974180c81e",
   "metadata": {},
   "source": [
    "Welche Eingabefaktoren (wie Pixel in einem Bild oder Wörter in einem Text) tragen am meisten zu den Vorhersagen des Modells bei?"
   ]
  },
  {
   "cell_type": "markdown",
   "id": "8dc5afcd-026d-4c5b-8836-0d36bbd2a242",
   "metadata": {},
   "source": [
    "Der Integrated Gradient interpoliert bei jedem Farbkanal von jedem Pixel in n_steps (z.B. 200) zwischen der Basisfarbe (z.B. schwarz) zur Eingabe (z.B. -0.4226) und untersucht dabei die Veränderung der Vorhersage. Er berechnet für jeden dieser Schritte den Gradienten der Vorhersage in Bezug auf die den Farbkanal des Eingabepixels. \n",
    "Der \"Gradient\" in diesem speziellen Fall (wenn wir uns auf einen Farbkanal eines Pixels konzentrieren) könnte daher als eine Reihe von Skalaren (also Zahlen) betrachtet werden, wobei jeder Skalar die Änderungsrate der Vorhersage bezüglich einer kleinen Änderung im Wert dieses Farbkanals an jedem Interpolationsschritt darstellt. Für die Berechnung des Wertes werden die Skalare summiert und dann vom Pixelwert abgezogen. Wenn wir jedoch über das gesamte Bild und alle Farbkanäle aller Pixel sprechen, ist der Gradient ein hochdimensionaler Vektor, der alle diese partiellen Ableitungen umfasst.\n",
    "Wenn die Vorhersagewahrscheinlichkeit sich stark erhöht, bekommt der Farbwert des Pixels einen hohen Wert, wenn der Einfluss klein ist, bekommt der Pixel einen niedrigen Wert. Wenn die Vorhersagewahrscheinlichkeit sich verringert, bekommt der Farbwert des Pixels einen negativen Wert.\n",
    "\n",
    "•\tInitialisierung von Integrated Gradients\n",
    "\n",
    "    Erzeugung des „attributions_ig“-Tensors, der statt jedem Farbwert eines Pixels des input-Tenors einen Attributionswert enthält, der anzeigt, wie die Vorhersage beeinflusst wird.\n",
    "    Visualisierung des attributions_ig – Tensors\n",
    "    \n",
    "•\tAnwendung von Noise Tunnel auf Integrated Gradients\n",
    "\n",
    "    Erzeugung des „attributions_ig_nt“-Tensors, der ein Rauschen auf die Eingabedaten einführt, und dann auf der rauschbehafteten Eingabe die Attributionswerte berechnet.\n",
    "    -> klarere und möglicherweise aussagekräftigere Visualisierung\n",
    "    Die Shapley-Werte sind ein Konzept aus der kooperativen Spieltheorie, benannt nach dem Nobelpreisträger Lloyd Shapley. Sie bieten eine Methode, um den Beitrag jedes Spielers in einem kooperativen Spiel zum Gesamtgewinn fair aufzuteilen\n",
    "    \n",
    "•\tErstellen einer GradientShap-Instanz, \n",
    "\n",
    "    mit einer baseline-Verteilung    \n",
    "    Berechnung der Attributionswerte    \n",
    "    Visualisierung der Attributionswerte"
   ]
  },
  {
   "cell_type": "code",
   "execution_count": null,
   "id": "b720fac8-9e59-45f3-86d1-08c1ba136b95",
   "metadata": {},
   "outputs": [],
   "source": [
    "# 2.1 Initialiserung Integrated Gradients und Anwendung auf den input-Tensor\n",
    "# dauert länger\n",
    "\n",
    "# initialisiert die Integrated Gradients-Methode mit dem gegebenen Modell (model).\n",
    "#  Erstellen einer IntegratedGradients Instanz:\n",
    "integrated_gradients = IntegratedGradients(model)\n",
    "\n",
    "# wendet die Methode attribute auf eine gegebene Eingabe (den tensor \"input\") an, um die Wichtigkeit (Attribution) der einzelnen \n",
    "# Eingabemerkmale für eine spezifische Zielvorhersage (target=pred_label_idx) zu bestimmen\n",
    "# Es gibt dabei positive und negative Werte, und es ist keine feste Skala\n",
    "attributions_ig = integrated_gradients.attribute(input, target=pred_label_idx, n_steps=200)\n",
    "\n",
    "\n",
    "# print(integrated_gradients)  # <captum.attr._core.integrated_gradients.IntegratedGradients object at 0x14d2ad25d660>\n",
    "print(attributions_ig)  # tensor([[[[ 8.4589e-05,  1.9659e-04,  ...\n",
    "# print(\"Attributions-Array-Form:\", attributions_ig.squeeze().cpu().detach().numpy().shape)  # (128, 1024)\n",
    "# print(\"Input-Array-Form:\", input.squeeze().cpu().detach().numpy().shape)  # (128, 1024)"
   ]
  },
  {
   "cell_type": "code",
   "execution_count": null,
   "id": "9215d79c-6652-4002-8dc4-85096c7c3349",
   "metadata": {},
   "outputs": [],
   "source": [
    "# 2.2 Umformung (expand) und Umwandlung des attributions_ig Tensors in einen NumPy-Array\n",
    "\n",
    "attributions_ig_expanded = np.expand_dims(attributions_ig.squeeze().cpu().detach().numpy(), axis=2)\n",
    "# print(attributions_ig_expanded)  # [[[-1.39096885e-04]  [-1.89931092e-03]"
   ]
  },
  {
   "cell_type": "code",
   "execution_count": null,
   "id": "0cbada2f-9509-4af0-bd5b-8f1b3ccdc66c",
   "metadata": {},
   "outputs": [],
   "source": [
    "print(first_example_np.shape)\n",
    "print(attributions_ig_expanded.shape)"
   ]
  },
  {
   "cell_type": "code",
   "execution_count": null,
   "id": "251873c6-db49-4b14-911c-01c127c74bfa",
   "metadata": {},
   "outputs": [],
   "source": [
    "# Entferne die letzte Dimension, da sie die Größe 1 hat und nicht benötigt wird\n",
    "attributions_ig_squeezed = np.squeeze(attributions_ig_expanded, axis=-1)\n",
    "print(attributions_ig_squeezed.shape)"
   ]
  },
  {
   "cell_type": "code",
   "execution_count": null,
   "id": "adc712f4-1474-41ef-b034-41c630a7bbf9",
   "metadata": {},
   "outputs": [],
   "source": [
    "# Füge eine Dimension am Ende des 2D-Arrays hinzu, um es zu einem 3D-Array zu machen\n",
    "attributions_ig_expanded_3d = np.expand_dims(attributions_ig_squeezed, axis=2)\n",
    "print(attributions_ig_expanded_3d.shape)"
   ]
  },
  {
   "cell_type": "code",
   "execution_count": null,
   "id": "c8500d06-ccd1-411e-bd4a-c9766685b64a",
   "metadata": {},
   "outputs": [],
   "source": [
    "# 2.3 Visualisierung der Attributionswerte\n",
    "\n",
    "# Erstellung einer benutzerdefinierten Farbkarte\n",
    "default_cmap = LinearSegmentedColormap.from_list('custom blue', \n",
    "                                                 [(0, '#ffffff'),\n",
    "                                                  (0.25, '#000000'),\n",
    "                                                  (1, '#000000')], \n",
    "                                                 N=256)\n",
    "\n",
    "# Visualisierung der Attributionswerte: \n",
    "\n",
    "# Figur und Subplots erstellen\n",
    "fig, axs = plt.subplots(2, 1, figsize=(10, 10))  # 2 Zeilen für 2 Plots, 1 Spalte\n",
    "\n",
    "# Heatmap der Attributionswerte visualisieren\n",
    "viz.visualize_image_attr(attributions_ig_expanded,\n",
    "                         input.squeeze().cpu().detach().numpy(),\n",
    "                         method=\"heat_map\",\n",
    "                         sign=\"positive\",\n",
    "                         use_pyplot=False,\n",
    "                         plt_fig_axis=(fig, axs[0]),\n",
    "                         cmap=default_cmap,\n",
    "                         outlier_perc=1,\n",
    "                         show_colorbar=True)\n",
    "axs[0].title.set_text('Attributions-Heatmap')\n",
    "axs[0].set_aspect('auto')\n",
    "\n",
    "\n",
    "# Originalbild visualisieren\n",
    "viz.visualize_image_attr(None,\n",
    "                         input.squeeze().cpu().detach().numpy(),\n",
    "                         method=\"original_image\",\n",
    "                         use_pyplot=False,\n",
    "                         plt_fig_axis=(fig, axs[1]),\n",
    "                         cmap=default_cmap,\n",
    "                         show_colorbar=True)\n",
    "axs[1].title.set_text('Originalbild')\n",
    "axs[1].set_aspect('auto')\n",
    "\n",
    "# Setze die Achsenbeschriftungen für das Originalbild\n",
    "axs[1].set_xlabel('X-Achse')  # Ersetze 'X-Achse' mit einer passenden Beschriftung\n",
    "axs[1].set_ylabel('Y-Achse')  # Ersetze 'Y-Achse' mit einer passenden Beschriftung\n",
    "\n",
    "\n",
    "\n",
    "plt.tight_layout()\n",
    "plt.show()\n",
    "\n",
    "# Spektrogramm\n",
    "show_spektrogrammm2(first_example_np, sample_rate=sample_rate, hop_length=hop_length, n_fft=n_fft)"
   ]
  },
  {
   "cell_type": "code",
   "execution_count": null,
   "id": "2f39d242-020d-4686-88d1-23445561c4fa",
   "metadata": {},
   "outputs": [],
   "source": [
    "input2 = np.random.rand(10, 10, 3) # input ist ein mit zufälligen zahlen zwicshen 0 und 1 initialisierter np array mit 10 arrays mit jeweils 10 arrays mit je 3 Werten\n",
    "# print(input)  # [[[0.8379178  0.65078754 0.49306238]  [0.55092165 0.71386188 ... \n",
    "#    np.random.rand(10, 10, 3) erzeugt einen Array mit drei Dimensionen.\n",
    "#    Die erste Dimension hat eine Länge von 10, was bedeutet, dass es 10 Unterarrays gibt.\n",
    "#    Jeder dieser 10 Unterarrays hat ebenfalls 10 Unterarrays (zweite Dimension).\n",
    "#    Jeder der Unterarrays in der zweiten Dimension hat 3 Elemente (dritte Dimension).\n",
    "#    Jedes Element in diesen Arrays ist eine zufällige Zahl zwischen 0 und 1, generiert aus einer gleichverteilten Zufallsverteilung."
   ]
  },
  {
   "cell_type": "code",
   "execution_count": null,
   "id": "c2a7aedf-a1ba-4efa-892e-8c4f23b417d7",
   "metadata": {},
   "outputs": [],
   "source": [
    "import matplotlib.pyplot as plt\n",
    "from matplotlib.colors import LinearSegmentedColormap\n",
    "import numpy as np\n",
    "from captum.attr import visualization as viz  # Korrekter Import für Visualisierungsfunktionen\n",
    "\n",
    "# Angenommene Daten\n",
    "input2 = np.random.rand(10, 10, 3)  # Beispiel-Input\n",
    "attributions_ig_expanded = np.random.rand(10, 10)  # Beispiel-Attributionen\n",
    "\n",
    "# Hinzufügen einer dritten Dimension zum Attributions-Array\n",
    "attributions_ig_expanded = attributions_ig_expanded[:, :, np.newaxis]\n",
    "\n",
    "# Erstellung einer benutzerdefinierten Farbkarte\n",
    "default_cmap = LinearSegmentedColormap.from_list('custom blue', \n",
    "                                                 [(0, '#ffffff'), \n",
    "                                                  (0.25, '#000000'), \n",
    "                                                  (1, '#000000')], \n",
    "                                                 N=256)\n",
    "\n",
    "# Figur und Subplots erstellen\n",
    "fig, axs = plt.subplots(2, 1, figsize=(10, 10))\n",
    "\n",
    "# Heatmap der Attributionswerte visualisieren\n",
    "viz.visualize_image_attr(attributions_ig_expanded,\n",
    "                         input2.squeeze(),  # Beispiel: ersten Tensor benutzen und Dimension reduzieren\n",
    "                         method=\"heat_map\",\n",
    "                         sign=\"all\",\n",
    "                         show_colorbar=True,\n",
    "                         title=\"Attributions-Heatmap\",\n",
    "                         plt_fig_axis=(fig, axs[0]),\n",
    "                         cmap=default_cmap)\n",
    "axs[0].set_aspect('auto')\n",
    "# Achsenbeschriftungen setzen\n",
    "axs[0].set_xlabel('Time (s)')\n",
    "axs[0].set_ylabel('Frequency (Hz)')\n",
    "\n",
    "# Originalbild visualisieren\n",
    "viz.visualize_image_attr(None,\n",
    "                         input2.squeeze(),  # Beispiel: ersten Tensor benutzen und Dimension reduzieren\n",
    "                         method=\"original_image\",\n",
    "                         show_colorbar=True,\n",
    "                         title=\"Originalbild\",\n",
    "                         plt_fig_axis=(fig, axs[1]),\n",
    "                         cmap=default_cmap)\n",
    "axs[1].set_aspect('auto')\n",
    "# Achsenbeschriftungen setzen\n",
    "axs[1].set_xlabel('Time (s)')\n",
    "axs[1].set_ylabel('Frequency (Hz)')\n",
    "\n",
    "plt.tight_layout()\n",
    "plt.show()"
   ]
  },
  {
   "cell_type": "code",
   "execution_count": null,
   "id": "2c2f5206-c560-444c-ad6c-511e22dd387d",
   "metadata": {},
   "outputs": [],
   "source": [
    "# 2.4 Anwendung von Noise Tunnel auf Integrated Gradients: fügt Rauschen in die Eingabedaten ein\n",
    "# dauert länger\n",
    "\n",
    "#  Erstellen einer Noise-Tunnel Instanz:\n",
    "noise_tunnel = NoiseTunnel(integrated_gradients)\n",
    "\n",
    "# input ist der tensor des schwanenfotos, pred_label_idx= 99\n",
    "attributions_ig_nt = noise_tunnel.attribute(input, nt_samples=10, nt_type='smoothgrad_sq', target=pred_label_idx)\n",
    "# print(attributions_ig_nt)\n",
    "\n",
    "\n",
    "# Visualisierung der Noise Tunnel Attributionswerte: \n",
    "\n",
    "# Figur und Subplots erstellen\n",
    "fig, axs = plt.subplots(2, 1, figsize=(10, 10))  # 2 Zeilen für 2 Plots, 1 Spalte\n",
    "\n",
    "# Heatmap der Attributionswerte visualisieren\n",
    "viz.visualize_image_attr(attributions_ig_expanded,\n",
    "                         input.squeeze().cpu().detach().numpy(),\n",
    "                         method=\"heat_map\",\n",
    "                         sign=\"positive\",\n",
    "                         use_pyplot=False,\n",
    "                         plt_fig_axis=(fig, axs[0]),\n",
    "                         cmap=default_cmap,\n",
    "                         show_colorbar=True)\n",
    "axs[0].title.set_text('Noise-Tunnel Attributions-Heatmap')\n",
    "axs[0].set_aspect('auto')\n",
    "\n",
    "\n",
    "# Originalbild visualisieren\n",
    "viz.visualize_image_attr(None,\n",
    "                         input.squeeze().cpu().detach().numpy(),\n",
    "                         method=\"original_image\",\n",
    "                         use_pyplot=False,\n",
    "                         plt_fig_axis=(fig, axs[1]),\n",
    "                         cmap=default_cmap,\n",
    "                         show_colorbar=True)\n",
    "axs[1].title.set_text('Originalbild')\n",
    "axs[1].set_aspect('auto')\n",
    "\n",
    "\n",
    "plt.tight_layout()\n",
    "plt.show()\n",
    "\n",
    "\n"
   ]
  },
  {
   "cell_type": "code",
   "execution_count": null,
   "id": "1ef3b845-6c41-4cf7-998b-de0f33f65112",
   "metadata": {},
   "outputs": [],
   "source": [
    "# 2.5 GradientShap\n",
    "\n",
    "# Setzen der Zufallssamenfür PyTorch und NumPy (sorgt für Reproduzierbarkeit):\n",
    "torch.manual_seed(0)\n",
    "np.random.seed(0)\n",
    "\n",
    "# Erstellen einer GradientShap-Instanz:\n",
    "# GradientShap ist eine Erklärungsmethode, die auf der Idee der Shapley-Werte basiert, aber Gradienten verwendet\n",
    "gradient_shap = GradientShap(model)\n",
    "\n",
    "# Defining baseline distribution of images\n",
    "# baseline-Verteilung besteht aus 2 Eingabebildern: input*0 (also schwarzes Bild) und input*1 (unveränderter schwan)\n",
    "rand_img_dist = torch.cat([input * 0, input * 1])\n",
    "\n",
    "# Berechnung der Attributionswerte mit GradientShap:\n",
    "attributions_gs = gradient_shap.attribute(input,\n",
    "                                          n_samples=50,\n",
    "                                          stdevs=0.0001,\n",
    "                                          baselines=rand_img_dist,\n",
    "                                          target=pred_label_idx)\n",
    "# print(\"attributions_gs\", attributions_gs)  # tensor([[[[-2.8246e-05,  2.7142e-04,  3.7\n"
   ]
  },
  {
   "cell_type": "code",
   "execution_count": null,
   "id": "79fc28f1-bffc-4342-be1b-d7df5c207643",
   "metadata": {},
   "outputs": [],
   "source": [
    "# 2.5.a Visualisierung der GradientShap Attributionswerte: \n",
    "\n",
    "# Figur und Subplots erstellen\n",
    "fig, axs = plt.subplots(2, 1, figsize=(10, 10))  # 2 Zeilen für 2 Plots, 1 Spalte\n",
    "\n",
    "# Heatmap der Attributionswerte visualisieren\n",
    "viz.visualize_image_attr(attributions_ig_expanded,\n",
    "                         input.squeeze().cpu().detach().numpy(),\n",
    "                         method=\"heat_map\",\n",
    "                         sign=\"absolute_value\",\n",
    "                         use_pyplot=False,\n",
    "                         plt_fig_axis=(fig, axs[0]),\n",
    "                         cmap=default_cmap,\n",
    "                         show_colorbar=True)\n",
    "axs[0].title.set_text('GradientShap Attributions-Heatmap')\n",
    "axs[0].set_aspect('auto')\n",
    "\n",
    "\n",
    "# Originalbild visualisieren\n",
    "viz.visualize_image_attr(None,\n",
    "                         input.squeeze().cpu().detach().numpy(),\n",
    "                         method=\"original_image\",\n",
    "                         use_pyplot=False,\n",
    "                         plt_fig_axis=(fig, axs[1]),\n",
    "                         cmap=default_cmap,\n",
    "                         show_colorbar=True)\n",
    "axs[1].title.set_text('Originalbild')\n",
    "axs[1].set_aspect('auto')\n",
    "\n",
    "\n",
    "plt.tight_layout()\n",
    "plt.show()\n"
   ]
  },
  {
   "cell_type": "markdown",
   "id": "f33a44c1-dc2a-4c7d-8e70-0326892c2a8b",
   "metadata": {},
   "source": [
    "## 3- Occlusion-based attribution"
   ]
  },
  {
   "cell_type": "markdown",
   "id": "e4b3f402-0fa6-4dea-b8f4-794176a54b7c",
   "metadata": {},
   "source": [
    "Verdeckung von Bildteilen"
   ]
  },
  {
   "cell_type": "markdown",
   "id": "1bb74fae-e92c-4bd9-ad49-86ed5372e9de",
   "metadata": {},
   "source": [
    "Abschätzen, welche Bereiche des Bildes für die Entscheidung des Klassifikators kritisch sind, indem wir sie verdecken und quantifizieren, wie sich die Entscheidung ändert."
   ]
  },
  {
   "cell_type": "markdown",
   "id": "d0221593-f64f-4494-b4a8-d8379b8a8e10",
   "metadata": {},
   "source": [
    "Technik, die aufzeigt, wie das Entfernen (oder \"Verdecken\") von Teilen der Eingabedaten die Vorhersage des Modells beeinflusst. Diese Methode hilft dabei zu verstehen, welche Bereiche oder Merkmale der Eingabedaten für die Vorhersagen des Modells besonders wichtig sind.\n",
    "Kleines verdeckendes Fenster wird über das Bild bewegt. Jedes Mal macht das Modell eine Vorhersage. Die Veränderung des Prediction Scores zeigt, wie wichtig der verdeckte Teil ist.\n",
    "\n",
    "\n",
    "•\tErstellen einer Occlusion-Instanz\n",
    "\n",
    "    Berechnung der Attributionswerte für den „attributions_occ“-Tensor\n",
    "    Visualisierung\n",
    "\n",
    "•\tErneutes Erstellen der Occlusion-Instanz mit größeren Windows\n",
    "\n",
    "    Berechnung der Attributionswerte, diesmal strides=(3, 50, 50), sliding_window_shapes=(3, 60, 60)\n",
    "    Visualisierung\n"
   ]
  },
  {
   "cell_type": "code",
   "execution_count": null,
   "id": "61e64e9e-4dc5-4c9f-ada3-104b3368b85e",
   "metadata": {},
   "outputs": [],
   "source": [
    "print(input)"
   ]
  },
  {
   "cell_type": "code",
   "execution_count": null,
   "id": "cf792256-03bc-4a5b-a253-620f17349edc",
   "metadata": {},
   "outputs": [],
   "source": [
    "# 3.1 Erstellen einer Occlusion-Instanz:\n",
    "# dauert länger\n",
    "\n",
    "occlusion = Occlusion(model)\n",
    "\n",
    "# Attributionsberechnung:\n",
    "attributions_occ = occlusion.attribute(input,\n",
    "                                       strides = (1, 8, 8),\n",
    "                                       target=pred_label_idx,\n",
    "                                       sliding_window_shapes=(1,15, 15),\n",
    "                                       baselines=0)\n",
    "print(attributions_occ)"
   ]
  },
  {
   "cell_type": "code",
   "execution_count": null,
   "id": "a9a9b8f2-9150-49f1-ba5a-99aff9c1690c",
   "metadata": {},
   "outputs": [],
   "source": [
    "# 2.2 Umformung und Umwandlung des attributions_ig Tensors in einen NumPy-Array\n",
    "\n",
    "attributions_occ_expanded = np.expand_dims(attributions_ig.squeeze().cpu().detach().numpy(), axis=2)\n",
    "# print(attributions_occ_expanded)  # [[[ 2.21424055e-05]   [-8.83162433e-05]"
   ]
  },
  {
   "cell_type": "code",
   "execution_count": null,
   "id": "ea932221-d2da-425a-a21d-b24268fbc598",
   "metadata": {
    "scrolled": true
   },
   "outputs": [],
   "source": [
    "# 3.2 Verwenden einer Visualisierungsfunktion, um mehrere Bildattribute gleichzeitig zu visualisieren\n",
    "\n",
    "\n",
    "# Figur und Subplots erstellen\n",
    "fig, axs = plt.subplots(3, 1, figsize=(10, 15))  # 3 Zeilen für 3 Plots, 1 Spalte\n",
    "\n",
    "\n",
    "# Erste Heatmap der Attributionswerte visualisieren (z.B. positive Attributionen)\n",
    "viz.visualize_image_attr(attributions_occ_expanded, \n",
    "                         input.squeeze().cpu().detach().numpy(),\n",
    "                         method=\"heat_map\",\n",
    "                         sign=\"positive\",\n",
    "                         use_pyplot=False,\n",
    "                         plt_fig_axis=(fig, axs[0]),\n",
    "                         # cmap='inferno',\n",
    "                         show_colorbar=True,\n",
    "                         outlier_perc=2)\n",
    "axs[0].set_title('Positive Attributions-Heatmap')\n",
    "axs[0].set_aspect('auto')\n",
    "\n",
    "# Zweite Heatmap der Attributionswerte visualisieren (z.B. negative Attributionen)\n",
    "# Stelle sicher, dass du hier eine andere Attribution verwendest, falls verfügbar\n",
    "viz.visualize_image_attr(attributions_occ_expanded,\n",
    "                         input.squeeze().cpu().detach().numpy(),\n",
    "                         method=\"heat_map\",\n",
    "                         sign=\"negative\",  # Annahme, dass dies negative Attributionen darstellt\n",
    "                         use_pyplot=False,\n",
    "                         plt_fig_axis=(fig, axs[1]),\n",
    "                         # cmap='inferno',\n",
    "                         show_colorbar=True,\n",
    "                         outlier_perc=2)\n",
    "axs[1].set_title('Negative Attributions-Heatmap')\n",
    "axs[1].set_aspect('auto')\n",
    "\n",
    "# Originalbild visualisieren\n",
    "viz.visualize_image_attr(None,\n",
    "                         input.squeeze().cpu().detach().numpy(),\n",
    "                         method=\"original_image\",\n",
    "                         use_pyplot=False,\n",
    "                         plt_fig_axis=(fig, axs[2]),\n",
    "                         cmap='gray',  # 'gray' funktioniert gut für Graustufenbilder\n",
    "                         show_colorbar=False)  # Farbleiste ist für das Originalbild normalerweise nicht nötig\n",
    "axs[2].set_title('Originalbild')\n",
    "axs[2].set_aspect('auto')\n",
    "\n",
    "plt.tight_layout()\n",
    "plt.show()"
   ]
  },
  {
   "cell_type": "code",
   "execution_count": null,
   "id": "d3ef982c-21e3-471b-9b49-bebbf8e3dc1d",
   "metadata": {},
   "outputs": [],
   "source": [
    "\n"
   ]
  },
  {
   "cell_type": "code",
   "execution_count": null,
   "id": "7b06ac73-a823-466a-9418-6f601088eb69",
   "metadata": {},
   "outputs": [],
   "source": [
    "# 3.3 Versuch, den plot in extra-Fenster anzuzeigen\n",
    "\n",
    "import plotly.express as px\n",
    "import numpy as np\n",
    "import torch\n",
    "\n",
    "import plotly.io as pio\n",
    "pio.renderers.default = 'notebook'\n",
    "\n",
    "\n",
    "# Angenommen, attributions_ig_expanded ist dein Tensor mit Attributionswerten\n",
    "# und 'input' ist dein Eingabebild\n",
    "\n",
    "# Bereite die Attributionsdaten vor\n",
    "attributions = attributions_ig_expanded.squeeze()  # Stelle sicher, dass es ein 2D-Array ist\n",
    "input_image = input.squeeze().cpu().detach().numpy()  # Bereite das Eingabebild vor\n",
    "\n",
    "# Du möchtest vielleicht die Attributionswerte auf das Eingabebild auftragen\n",
    "# Hier ein einfaches Beispiel, wie man die Attributionswerte normalisieren und auf das Bild anwenden könnte\n",
    "# Beachte: Du musst dies an deinen spezifischen Fall anpassen\n",
    "attributions_normalized = (attributions - attributions.min()) / (attributions.max() - attributions.min())\n",
    "heatmap = np.uint8(255 * attributions_normalized)  # Konvertiere zu einem 8-Bit-Array für die Darstellung\n",
    "\n",
    "# Verwende Plotly, um das Bild anzuzeigen\n",
    "fig = px.imshow(heatmap, color_continuous_scale='Inferno')  # 'Inferno' oder eine andere Farbskala deiner Wahl\n",
    "fig.show()"
   ]
  },
  {
   "cell_type": "code",
   "execution_count": null,
   "id": "d2262ec9-70fa-44b3-8566-dcba5e618ba2",
   "metadata": {},
   "outputs": [],
   "source": [
    "# 3.3 Okklusion mit einem größeren Sliding Window\n",
    "\n",
    "\n",
    "occlusion = Occlusion(model)\n",
    "\n",
    "attributions_occ = occlusion.attribute(input,\n",
    "                                       strides = (1, 127, 127),\n",
    "                                       target=pred_label_idx,\n",
    "                                       sliding_window_shapes=(1,128, 128),\n",
    "                                       baselines=0)\n",
    "\"\"\"\n",
    "_ = viz.visualize_image_attr_multiple(\n",
    "        attributions_ig_expanded,  # Verwende das erweiterte Attributions-Array\n",
    "        input.squeeze().cpu().detach().numpy(),  # Verwende transformed_img direkt, ohne Transposition\n",
    "        [\"heat_map\"],\n",
    "        [\"positive\"],\n",
    "        #[\"original_image\", \"heat_map\"],\n",
    "        #[\"all\", \"positive\"],\n",
    "        show_colorbar=True,\n",
    "        outlier_perc=2)\n",
    "\"\"\"\n",
    "\n",
    "# Figur und Subplots erstellen\n",
    "fig, axs = plt.subplots(2, 1, figsize=(10, 15))  # 3 Zeilen für 3 Plots, 1 Spalte\n",
    "\n",
    "# Erste Heatmap der Attributionswerte visualisieren (z.B. positive Attributionen)\n",
    "\n",
    "# attributions_ig_expanded? TODO\n",
    "viz.visualize_image_attr(attributions_occ_expanded,\n",
    "                         input.squeeze().cpu().detach().numpy(),\n",
    "                         method=\"heat_map\",\n",
    "                         sign=\"positive\",\n",
    "                         use_pyplot=False,\n",
    "                         plt_fig_axis=(fig, axs[0]),\n",
    "                         # cmap='inferno',\n",
    "                         show_colorbar=True,\n",
    "                         outlier_perc=2)\n",
    "axs[0].set_title('Occlusion-Heatmap mit einem größeren Sliding Window')\n",
    "axs[0].set_aspect('auto')\n",
    "\n",
    "\n",
    "# Originalbild visualisieren\n",
    "viz.visualize_image_attr(None,\n",
    "                         input.squeeze().cpu().detach().numpy(),\n",
    "                         method=\"original_image\",\n",
    "                         use_pyplot=False,\n",
    "                         plt_fig_axis=(fig, axs[1]),\n",
    "                         cmap='gray',  # 'gray' funktioniert gut für Graustufenbilder\n",
    "                         show_colorbar=False)  # Farbleiste ist für das Originalbild normalerweise nicht nötig\n",
    "axs[1].set_title('Originalbild')\n",
    "axs[1].set_aspect('auto')\n",
    "\n",
    "plt.tight_layout()\n",
    "plt.show()"
   ]
  },
  {
   "cell_type": "code",
   "execution_count": null,
   "id": "aeb411a2-a359-431a-9541-5ddfb607e6c7",
   "metadata": {},
   "outputs": [],
   "source": [
    "input.shape"
   ]
  },
  {
   "cell_type": "code",
   "execution_count": null,
   "id": "e26fad00-3606-455e-b990-9d48dc09c234",
   "metadata": {},
   "outputs": [],
   "source": []
  },
  {
   "cell_type": "markdown",
   "id": "44190a6b-518d-4c48-8dba-ee1f480fdfa2",
   "metadata": {},
   "source": [
    " ## 4- LRP-based attribution"
   ]
  },
  {
   "cell_type": "markdown",
   "id": "ca190688-f794-42e0-a5bc-a440f227dc3e",
   "metadata": {},
   "source": [
    "Wie tragen die Eingabemerkmale (z.B. Pixel eines Bildes) zur Vorhersage des Modells bei?"
   ]
  },
  {
   "cell_type": "markdown",
   "id": "eb16cf75-ba2a-43b8-bc6d-103a9f6bcd2d",
   "metadata": {},
   "source": [
    "LRP basiert auf der Idee, die Relevanz, die ein Ausgabeneuron (zum Beispiel die Vorhersage eines bestimmten Labels) hat, rückwärts durch das Netzwerk zu den Eingabeneuronen zu propagieren. Auf diese Weise kann bestimmt werden, welche Teile der Eingabe für die Vorhersage des Netzwerks am wichtigsten sind.\n",
    "\n",
    "•\tVortrainiertes Modell laden\n",
    "Modell in Evaluierungsmodus setzen\n",
    "LRP-Instanz erstellen: lrp = LRP(model)\n",
    "Tensor mit Attributionswerten auf dem Spektrogramm und Label berechnen\n",
    "\n",
    "•\tVisualisieren\n",
    "\n",
    "•\tLRP mit verschiedenen Propagation Rules:\n",
    "\n",
    "Extrahieren der Modellschichten\n",
    "Anzahl der Schichten bestimmen\n",
    "spezifische LRP-Regeln zuweisen\n",
    "\n",
    "LRP-Instanz erstellen und Attributionswerte berechnen\n",
    "\n",
    "\n",
    "•\tVisualisieren\n"
   ]
  },
  {
   "cell_type": "code",
   "execution_count": null,
   "id": "ba47449d-eb5a-47bd-baf3-48b875a48fdf",
   "metadata": {},
   "outputs": [],
   "source": [
    "# 4.1  LRP-Instanz erstellen und Attributionswerte berechnen\n",
    "\n",
    "# Modell in den Evaluierungsmodus setzen:\n",
    "# model.eval()\n",
    "\n",
    "# LRP-Instanz erstellen (default ist Epsilon-Rule):\n",
    "# lrp = LRP(model)\n",
    "# print(\"lrp\", lrp)\n",
    "\n",
    "# Attributionswerte berechnen:\n",
    "# attributions_lrp = lrp.attribute(\n",
    "#         input, \n",
    "#         target=pred_label_idx)\n"
   ]
  },
  {
   "cell_type": "markdown",
   "id": "48e3d8fc-2835-44a9-aba7-7321d8b7e885",
   "metadata": {},
   "source": [
    "Funktioniert nicht, gibt:\n",
    "TypeError: Module of type <class 'torch.nn.modules.activation.SiLU'> has no rule defined and nodefault rule exists for this module type. Please, set a ruleexplicitly for this module and assure that it is appropriatefor this type of layer.\n",
    "\n",
    "Grund: \n",
    "EfficientNet verwendet SiLU, und LRP kann nicht mit SiLU umgehen"
   ]
  },
  {
   "cell_type": "markdown",
   "id": "18cd917a-c594-440c-a68f-360d257c5055",
   "metadata": {},
   "source": [
    "Es gäbe für Efficientnet-B0 einen Wrapper:\n",
    "    https://github.com/AlexBinder/LRP_EfficientnetB0"
   ]
  },
  {
   "cell_type": "markdown",
   "id": "fdc4dea8-3f5d-488b-8af1-474779465e8c",
   "metadata": {},
   "source": [
    "# 5 Saliency"
   ]
  },
  {
   "cell_type": "code",
   "execution_count": null,
   "id": "38637fca-45fa-4fd1-9065-fcdea6f1193c",
   "metadata": {},
   "outputs": [],
   "source": [
    "\"\"\"\n",
    "def attribute_image_features(algorithm, input, **kwargs):\n",
    "    model.zero_grad()\n",
    "    tensor_attributions = algorithm.attribute(input,\n",
    "                                              target=labels[ind],\n",
    "                                              **kwargs\n",
    "                                             )\n",
    "    \n",
    "    return tensor_attributions\n",
    "\"\"\""
   ]
  },
  {
   "cell_type": "code",
   "execution_count": null,
   "id": "aa959a17-210a-4041-bf91-e5359fb4b2a1",
   "metadata": {},
   "outputs": [],
   "source": [
    "\"\"\"\n",
    "from captum.attr import Saliency\n",
    "\n",
    "saliency = Saliency(model)\n",
    "grads = saliency.attribute(first_example, target=labels[first_example].item())\n",
    "grads = np.transpose(grads.squeeze().cpu().detach().numpy(), (1, 2, 0))\n",
    "\"\"\""
   ]
  },
  {
   "cell_type": "code",
   "execution_count": null,
   "id": "428ed22c-cecb-421d-b162-52b320bdb520",
   "metadata": {},
   "outputs": [],
   "source": []
  }
 ],
 "metadata": {
  "kernelspec": {
   "display_name": "Python3 (explai)",
   "language": "python",
   "name": "explai"
  },
  "language_info": {
   "codemirror_mode": {
    "name": "ipython",
    "version": 3
   },
   "file_extension": ".py",
   "mimetype": "text/x-python",
   "name": "python",
   "nbconvert_exporter": "python",
   "pygments_lexer": "ipython3",
   "version": "3.10.13"
  }
 },
 "nbformat": 4,
 "nbformat_minor": 5
}
