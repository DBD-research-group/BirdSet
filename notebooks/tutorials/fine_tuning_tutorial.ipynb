{
 "cells": [
  {
   "cell_type": "markdown",
   "metadata": {},
   "source": [
    "# BirdSet Fine-Tuning Tutorial\n",
    "\n",
    "This notebook details how to fine-tune models on BirdSet data."
   ]
  },
  {
   "cell_type": "code",
   "execution_count": 191,
   "metadata": {},
   "outputs": [],
   "source": [
    "# set paths\n",
    "import os\n",
    "BACKGROUND_NOISE_PATH = '/workspace/data_birdset/background_noise'\n",
    "HSN_DATASET_PATH = '/workspace/data_birdset/HSN'\n",
    "CHECKPOINT_PATH = os.getcwd()"
   ]
  },
  {
   "cell_type": "markdown",
   "metadata": {},
   "source": [
    "## Helper Functions\n",
    "\n",
    "These functions are just helper functions for the code below. These can be ignored for now and looked up when they are used in the notebook.  \n",
    "Not all BirdSet code used, is turned into helper functions for this notebook as there are too many to do that, however, the most abstracting parts are."
   ]
  },
  {
   "cell_type": "markdown",
   "metadata": {},
   "source": [
    "### Event Limiting\n",
    "\n",
    "This function limits event extraction per specification. If needed it can limit the extracted events per class, per extracted file, or of both."
   ]
  },
  {
   "cell_type": "code",
   "execution_count": 147,
   "metadata": {},
   "outputs": [],
   "source": [
    "import pandas as pd\n",
    "import random\n",
    "from tqdm import tqdm\n",
    "from collections import Counter\n",
    "\n",
    "\n",
    "def smart_sampling(dataset, label_name, class_limit, event_limit):\n",
    "    def _unique_identifier(x, labelname):\n",
    "        file = x[\"filepath\"]\n",
    "        label = x[labelname]\n",
    "        return {\"id\": f\"{file}-{label}\"}\n",
    "\n",
    "    class_limit = class_limit if class_limit else -float(\"inf\")\n",
    "    dataset = dataset.map(\n",
    "        lambda x: _unique_identifier(x, label_name), desc=\"sampling: unique-identifier\"\n",
    "    )\n",
    "    df = pd.DataFrame(dataset)\n",
    "    path_label_count = df.groupby([\"id\", label_name], as_index=False).size()\n",
    "    path_label_count = path_label_count.set_index(\"id\")\n",
    "    class_sizes = df.groupby(label_name).size()\n",
    "\n",
    "    for label in tqdm(class_sizes.index, desc=\"sampling\"):\n",
    "        current = path_label_count[path_label_count[label_name] == label]\n",
    "        total = current[\"size\"].sum()\n",
    "        most = current[\"size\"].max()\n",
    "\n",
    "        while total > class_limit or most != event_limit:\n",
    "            largest_count = current[\"size\"].value_counts()[current[\"size\"].max()]\n",
    "            n_largest = current.nlargest(largest_count + 1, \"size\")\n",
    "            to_del = n_largest[\"size\"].max() - n_largest[\"size\"].min()\n",
    "\n",
    "            idxs = n_largest[n_largest[\"size\"] == n_largest[\"size\"].max()].index\n",
    "            if (\n",
    "                total - (to_del * largest_count) < class_limit\n",
    "                or most == event_limit\n",
    "                or most == 1\n",
    "            ):\n",
    "                break\n",
    "            for idx in idxs:\n",
    "                current.at[idx, \"size\"] = current.at[idx, \"size\"] - to_del\n",
    "                path_label_count.at[idx, \"size\"] = (\n",
    "                    path_label_count.at[idx, \"size\"] - to_del\n",
    "                )\n",
    "\n",
    "            total = current[\"size\"].sum()\n",
    "            most = current[\"size\"].max()\n",
    "\n",
    "    event_counts = Counter(dataset[\"id\"])\n",
    "\n",
    "    all_file_indices = {label: [] for label in event_counts.keys()}\n",
    "    for idx, label in enumerate(dataset[\"id\"]):\n",
    "        all_file_indices[label].append(idx)\n",
    "\n",
    "    limited_indices = []\n",
    "    for file, indices in all_file_indices.items():\n",
    "        limit = path_label_count.loc[file][\"size\"]\n",
    "        limited_indices.extend(random.sample(indices, limit))\n",
    "\n",
    "    dataset = dataset.remove_columns(\"id\")\n",
    "    return dataset.select(limited_indices)"
   ]
  },
  {
   "cell_type": "markdown",
   "metadata": {},
   "source": [
    "### One-Hot Encoding\n",
    "\n",
    "This function one hot encodes the given labels. This is needed for BirdSet's multilabel training as a `MultilabelMix` transform gets applied that mixes the labels and input values of some inputs into one to simulate multilabel data. Without that multilabel data is only present in the `test_5s` splits of BirdSet's datasets."
   ]
  },
  {
   "cell_type": "code",
   "execution_count": 148,
   "metadata": {},
   "outputs": [],
   "source": [
    "import torch\n",
    "\n",
    "\n",
    "def classes_one_hot(batch, num_classes):\n",
    "    \"\"\"\n",
    "    Converts class labels to one-hot encoding.\n",
    "\n",
    "    This method takes a batch of data and converts the class labels to one-hot encoding.\n",
    "    The one-hot encoding is a binary matrix representation of the class labels.\n",
    "\n",
    "    Args:\n",
    "        batch (dict): A batch of data. The batch should be a dictionary where the keys are the field names and the values are the field data.\n",
    "\n",
    "    Returns:\n",
    "        dict: The batch with the \"labels\" field converted to one-hot encoding. The keys are the field names and the values are the field data.\n",
    "    \"\"\"\n",
    "    label_list = [y for y in batch[\"labels\"]]\n",
    "    class_one_hot_matrix = torch.zeros(\n",
    "        (len(label_list), num_classes), dtype=torch.float\n",
    "    )\n",
    "\n",
    "    for class_idx, idx in enumerate(label_list):\n",
    "        class_one_hot_matrix[class_idx, idx] = 1\n",
    "\n",
    "    class_one_hot_matrix = torch.tensor(class_one_hot_matrix, dtype=torch.float32)\n",
    "    return {\"labels\": class_one_hot_matrix}"
   ]
  },
  {
   "cell_type": "markdown",
   "metadata": {},
   "source": [
    "### Basic Transforms Wrapper\n",
    "\n",
    "This class will help in handling the application of transforms on the data as well as converting the waveforms to spectrogramms. Transforms are stored in a list and then applied in the list order when a call to this class is made."
   ]
  },
  {
   "cell_type": "code",
   "execution_count": 149,
   "metadata": {},
   "outputs": [],
   "source": [
    "from dataclasses import dataclass\n",
    "from torchaudio.transforms import Spectrogram, MelScale\n",
    "from birdset.datamodule.components.resize import Resizer\n",
    "from birdset.datamodule.components.augmentations import PowerToDB\n",
    "import numpy as np\n",
    "import torch_audiomentations\n",
    "import torchvision.transforms\n",
    "\n",
    "\n",
    "@dataclass\n",
    "class CustomProcessingConfig:\n",
    "    spectrogram_conversion: Spectrogram | None = Spectrogram(\n",
    "        n_fft=1024,\n",
    "        hop_length=320,\n",
    "        power=2.0,\n",
    "    )\n",
    "    resizer: Resizer | None = (\n",
    "        Resizer(\n",
    "            db_scale=True,\n",
    "        ),\n",
    "    )\n",
    "    melscale_conversion: MelScale | None = (\n",
    "        MelScale(\n",
    "            n_mels=128,\n",
    "            sample_rate=32000,\n",
    "            n_stft=513,  # n_fft//2+1\n",
    "        ),\n",
    "    )\n",
    "    dbscale_conversion: PowerToDB | None = (PowerToDB(),)\n",
    "    normalize_spectrogram: bool = (True,)\n",
    "    mean: float = (-4.268,)\n",
    "    std: float = (-4.569,)\n",
    "\n",
    "\n",
    "class BasicTransformsWrapper:\n",
    "    def __init__(\n",
    "        self,\n",
    "        wav_transforms,\n",
    "        spec_transforms,\n",
    "        decoding,\n",
    "        feature_extractor,\n",
    "        nocall_sampler,\n",
    "        processing_config=CustomProcessingConfig,\n",
    "    ):\n",
    "        self.wav_transforms = torch_audiomentations.Compose(\n",
    "            transforms=wav_transforms, output_type=\"object_dict\"\n",
    "        )\n",
    "        self.spec_transforms = torchvision.transforms.Compose(\n",
    "            transforms=spec_transforms\n",
    "        )\n",
    "        self.processing = processing_config\n",
    "        self.nocall_sampler = nocall_sampler\n",
    "        self.decoding = decoding\n",
    "        self.feature_extractor = feature_extractor\n",
    "\n",
    "    def __call__(self, batch, **kwds):\n",
    "\n",
    "        batch = self.decoding(batch)\n",
    "\n",
    "        waveform_batch = self._get_waveform_batch(batch)\n",
    "\n",
    "        input_values = waveform_batch[\"input_values\"]\n",
    "        input_values = input_values.unsqueeze(1)\n",
    "        labels = torch.tensor(batch[\"labels\"])\n",
    "\n",
    "        input_values, labels = self._waveform_augmentation(input_values, labels)\n",
    "\n",
    "        if self.nocall_sampler:\n",
    "            input_values, labels = self.nocall_sampler(input_values, labels)\n",
    "\n",
    "        if self.processing.spectrogram_conversion is not None:\n",
    "            spectrograms = self.processing.spectrogram_conversion(input_values)\n",
    "\n",
    "            if self.spec_transforms:\n",
    "                spectrograms = self.spec_transforms(spectrograms)\n",
    "\n",
    "            if self.processing.melscale_conversion:\n",
    "                spectrograms = self.processing.melscale_conversion(spectrograms)\n",
    "\n",
    "            if self.processing.dbscale_conversion:\n",
    "                spectrograms = self.processing.dbscale_conversion(spectrograms)\n",
    "\n",
    "            if self.processing.resizer:\n",
    "                spectrograms = self.processing.resizer.resize_spectrogram_batch(\n",
    "                    spectrograms\n",
    "                )\n",
    "\n",
    "            if self.processing.normalize_spectrogram:\n",
    "                spectrograms = (\n",
    "                    spectrograms - self.processing.mean\n",
    "                ) / self.processing.std\n",
    "\n",
    "            input_values = spectrograms\n",
    "\n",
    "        # values in labels need to be of type float for further use\n",
    "        labels = labels.to(torch.float16)\n",
    "\n",
    "        return {\"input_values\": input_values, \"labels\": labels}\n",
    "\n",
    "    def _get_waveform_batch(self, batch):\n",
    "        waveform_batch = [audio[\"array\"] for audio in batch[\"audio\"]]\n",
    "\n",
    "        # extract/pad/truncate\n",
    "        max_length = int(\n",
    "            int(self.feature_extractor.sampling_rate) * int(self.decoding.max_len)\n",
    "        )\n",
    "        waveform_batch = self.feature_extractor(\n",
    "            waveform_batch,\n",
    "            padding=\"max_length\",\n",
    "            max_length=max_length,\n",
    "            truncation=True,\n",
    "            return_attention_mask=True,\n",
    "        )\n",
    "\n",
    "        return waveform_batch\n",
    "\n",
    "    def _waveform_augmentation(self, input_values, labels):\n",
    "        labels = labels.unsqueeze(1).unsqueeze(1)\n",
    "        output_dict = self.wav_transforms(\n",
    "            samples=input_values,\n",
    "            sample_rate=self.feature_extractor.sampling_rate,\n",
    "            targets=labels,\n",
    "        )\n",
    "        labels = output_dict.targets.squeeze(1).squeeze(1)\n",
    "\n",
    "        return output_dict.samples, labels"
   ]
  },
  {
   "cell_type": "markdown",
   "metadata": {},
   "source": [
    "### Custom Datamodule\n",
    "\n",
    "When using a lightning trainer you can either pass a Datamodule or the Dataloaders needed for the planed task. Typically a Datamodule would load the data, preprocess it and apply transforms. In this case the datamodule will only hold the data and provide Dataloaders. The other steps are done separately so as to not abstract each step too much.  \n",
    "For a more typical implementation of Datamodules you should look into the `BirdSetDataModule` in `birdset/datamodules/birdset_datamodule.py`."
   ]
  },
  {
   "cell_type": "code",
   "execution_count": 150,
   "metadata": {},
   "outputs": [],
   "source": [
    "import lightning as L\n",
    "from torch.utils.data import DataLoader\n",
    "\n",
    "\n",
    "class CustomDatamodule(L.LightningDataModule):\n",
    "    def __init__(self, dataset, batch_size, num_workers, num_classes, task):\n",
    "        super().__init__()\n",
    "        self.dataset = dataset\n",
    "        self.batch_size = batch_size\n",
    "        self.train_batch_size = batch_size\n",
    "        self.num_workers = num_workers\n",
    "        self.num_classes = num_classes\n",
    "        self.task = task\n",
    "        self.len_trainset = len(dataset[\"train\"])\n",
    "\n",
    "    def setup(self, stage):\n",
    "        pass\n",
    "\n",
    "    def train_dataloader(self):\n",
    "        return DataLoader(\n",
    "            dataset=self.dataset[\"train\"],\n",
    "            batch_size=self.batch_size,\n",
    "            num_workers=self.num_workers,\n",
    "        )\n",
    "\n",
    "    def val_dataloader(self):\n",
    "        return DataLoader(\n",
    "            dataset=self.dataset[\"valid\"],\n",
    "            batch_size=self.batch_size,\n",
    "            num_workers=self.num_workers,\n",
    "        )\n",
    "\n",
    "    def test_dataloader(self):\n",
    "        return DataLoader(\n",
    "            dataset=self.dataset[\"test\"],\n",
    "            batch_size=self.batch_size,\n",
    "            num_workers=self.num_workers,\n",
    "        )"
   ]
  },
  {
   "cell_type": "markdown",
   "metadata": {},
   "source": [
    "### Custom Lightning Module\n",
    "\n",
    "This snippet defines a custom LightningModule. It is needed as a wrapper for models loaded from Hugging Face if you want to train using the Lightning trainer, as it expects an instance of `Lightning.LightningModule` and models loaded from Hugging Face are not."
   ]
  },
  {
   "cell_type": "code",
   "execution_count": 151,
   "metadata": {},
   "outputs": [],
   "source": [
    "from transformers import ASTForAudioClassification, ConvNextForImageClassification\n",
    "from torchmetrics import AUROC, MetricCollection\n",
    "from birdset.modules.metrics.multilabel import TopKAccuracy, cmAP\n",
    "import lightning as l\n",
    "import torch.nn as nn\n",
    "import torch\n",
    "from transformers import AdamW\n",
    "\n",
    "\n",
    "class ConvNextClassifierLightningModule(l.LightningModule):\n",
    "    def __init__(\n",
    "        self,\n",
    "        num_classes,\n",
    "        num_epochs,\n",
    "    ):\n",
    "        super(ConvNextClassifierLightningModule, self).__init__()\n",
    "        self.model = ConvNextForImageClassification.from_pretrained(\n",
    "            \"DBD-research-group/ConvNeXT-Base-BirdSet-XCL\",\n",
    "            num_labels=num_classes,\n",
    "            ignore_mismatched_sizes=True,\n",
    "        )\n",
    "\n",
    "        self.num_classes = num_classes\n",
    "        self.num_epochs = num_epochs\n",
    "        self.loss = nn.BCEWithLogitsLoss()\n",
    "        self.main_metric = cmAP(num_labels=num_classes, thresholds=None)\n",
    "        self.other_metrics = MetricCollection(\n",
    "            {\n",
    "                \"MultilabelAUROC\": AUROC(\n",
    "                    task=\"multilabel\",\n",
    "                    num_labels=num_classes,\n",
    "                    average=\"macro\",\n",
    "                    thresholds=None,\n",
    "                ),\n",
    "                \"T1Accuracy\": TopKAccuracy(topk=1),\n",
    "            }\n",
    "        )\n",
    "\n",
    "    def forward(self, pixel_values):\n",
    "        outputs = self.model(pixel_values=pixel_values)\n",
    "        return outputs.logits\n",
    "\n",
    "    def common_step(self, batch, batch_idx):\n",
    "        values = batch[\"input_values\"]\n",
    "        labels = batch[\"labels\"]\n",
    "        logits = self(values)\n",
    "\n",
    "        loss = self.loss(logits, labels)\n",
    "        predictions = torch.sigmoid(logits)\n",
    "\n",
    "        return loss, predictions\n",
    "\n",
    "    def training_step(self, batch, batch_idx):\n",
    "        loss, preds = self.common_step(batch, batch_idx)\n",
    "        self.log(\n",
    "            f\"train/{self.loss.__class__.__name__}\",\n",
    "            loss,\n",
    "            on_step=True,\n",
    "            on_epoch=True,\n",
    "            prog_bar=True,\n",
    "        )\n",
    "\n",
    "        return loss\n",
    "\n",
    "    def validation_step(self, batch, batch_idx):\n",
    "        loss, preds = self.common_step(batch, batch_idx)\n",
    "        self.log(\n",
    "            f\"val/{self.loss.__class__.__name__}\",\n",
    "            loss,\n",
    "            on_step=True,\n",
    "            on_epoch=True,\n",
    "            prog_bar=True,\n",
    "        )\n",
    "\n",
    "        return loss\n",
    "\n",
    "    def test_step(self, batch, batch_idx):\n",
    "        loss, preds = self.common_step(batch, batch_idx)\n",
    "        self.log(\n",
    "            f\"test/{self.loss.__class__.__name__}\",\n",
    "            loss,\n",
    "            on_step=False,\n",
    "            on_epoch=True,\n",
    "            prog_bar=True,\n",
    "        )\n",
    "        self.main_metric(preds, batch[\"labels\"].int())\n",
    "        self.log(\n",
    "            f\"test/{self.main_metric.__class__.__name__}\",\n",
    "            self.main_metric,\n",
    "            on_step=False,\n",
    "            on_epoch=True,\n",
    "            prog_bar=False,\n",
    "        )\n",
    "        self.other_metrics(preds, batch[\"labels\"].int())\n",
    "        self.log_dict(self.other_metrics, on_step=False, on_epoch=True, prog_bar=False)\n",
    "\n",
    "        return loss\n",
    "\n",
    "    def configure_optimizers(self):\n",
    "        return AdamW(self.parameters(), lr=5e-5)"
   ]
  },
  {
   "cell_type": "markdown",
   "metadata": {},
   "source": [
    "## Loading Data\n",
    "\n",
    "There are two ways to use BirdSet datasets:\n",
    "\n",
    "1. using BirdSet's inbuild datamodules which manage the loading, preparing and transformation of data\n",
    "2. loading, preparing and transforming the data manually\n",
    "\n",
    "Both of these options are shown in this section. The configurations shown here are taken from the configurations that are used in BirdSet's training proccesses, although some things (e.g. batch size) may differ."
   ]
  },
  {
   "cell_type": "markdown",
   "metadata": {},
   "source": [
    "### Using BirdSet Datamodules\n",
    "\n",
    "This section shows how to load a dataset with BirdSets datamodules. These are the modules that handle the loading, preparing and transforming of data. They have a great amount of customizability. For more information about what the parameters of the various configs do, a look into the `birdset-pipeline_tutorial` notebook is advised. The configuration of datamodules is explained there.\n",
    "\n",
    "Please note that `PretrainDataModule` should be used for the `XCL` and `XCM` datasets as they do not have `test` splits."
   ]
  },
  {
   "cell_type": "markdown",
   "metadata": {},
   "source": [
    "#### Configuring Transforms\n",
    "\n",
    "Here all the relevant transforms as well as event decoding and extracting is confifigured. For a more granular look into which configurations apply to what please refer to the `Loading Data Manually` section or the `birdset-pipeline-tutorial`.\n",
    "\n",
    "Please note that the usage of `NoCallMixer` and `AddBackgroundNoise` requires extra soundfiles that can be used as such. You can utilize a script provided by BirdSet under `resources/utils/download_background_noise.py` to download files that can be used. Alternatively you can set `nocall` to `None` and comment out `AddBackgroundNoise` to not use them for now."
   ]
  },
  {
   "cell_type": "code",
   "execution_count": 152,
   "metadata": {},
   "outputs": [],
   "source": [
    "from birdset.datamodule.components.transforms import (\n",
    "    BirdSetTransformsWrapper,\n",
    "    PreprocessingConfig,\n",
    ")\n",
    "from birdset.datamodule.components.event_decoding import EventDecoding\n",
    "from birdset.datamodule.components.feature_extraction import DefaultFeatureExtractor\n",
    "from birdset.datamodule.components.augmentations import (\n",
    "    NoCallMixer,\n",
    "    MultilabelMix,\n",
    "    AddBackgroundNoise,\n",
    "    PowerToDB,\n",
    ")\n",
    "from birdset.datamodule.components.resize import Resizer\n",
    "from torch_audiomentations import AddColoredNoise, Gain\n",
    "from torchaudio.transforms import Spectrogram, MelScale, FrequencyMasking, TimeMasking\n",
    "from torchvision.transforms import RandomApply\n",
    "\n",
    "decoder = EventDecoding(\n",
    "    min_len=1, max_len=5, sample_rate=32000, extension_time=8, extracted_interval=5\n",
    ")\n",
    "\n",
    "feature_extractor = DefaultFeatureExtractor(\n",
    "    feature_size=1, sampling_rate=32000, padding_value=0.0, return_attention_mask=False\n",
    ")\n",
    "\n",
    "nocall = NoCallMixer(\n",
    "    directory=BACKGROUND_NOISE_PATH,\n",
    "    p=0.075,\n",
    "    sample_rate=32000,\n",
    "    length=5,\n",
    ")\n",
    "\n",
    "wav_transforms = {\n",
    "    \"multilabel_mix\": MultilabelMix(\n",
    "        p=0.7, min_snr_in_db=3.0, max_snr_in_db=30.0, mix_target=\"union\"\n",
    "    ),\n",
    "    \"add_background_noise\": AddBackgroundNoise(\n",
    "        p=0.5,\n",
    "        min_snr_in_db=3,\n",
    "        max_snr_in_db=30,\n",
    "        sample_rate=32000,\n",
    "        target_rate=32000,\n",
    "        background_paths=BACKGROUND_NOISE_PATH,\n",
    "    ),\n",
    "    \"add_colored_noise\": AddColoredNoise(\n",
    "        p=0.2, max_f_decay=2, min_f_decay=-2, max_snr_in_db=30, min_snr_in_db=3\n",
    "    ),\n",
    "    \"gain\": Gain(p=0.2, min_gain_in_db=-18, max_gain_in_db=6),\n",
    "}\n",
    "\n",
    "preprocessing = PreprocessingConfig(\n",
    "    spectrogram_conversion=Spectrogram(n_fft=1024, hop_length=320, power=2.0),\n",
    "    resizer=Resizer(db_scale=True, target_height=None, target_width=None),\n",
    "    melscale_conversion=MelScale(n_mels=128, sample_rate=32000, n_stft=513),\n",
    "    dbscale_conversion=PowerToDB(),\n",
    "    normalize_spectrogram=True,\n",
    "    mean=-4.268,\n",
    "    std=4.569,\n",
    ")\n",
    "\n",
    "spec_transforms = {\n",
    "    \"frequency_masking\": RandomApply(\n",
    "        p=0.5, transforms=[FrequencyMasking(freq_mask_param=100, iid_masks=True)]\n",
    "    ),\n",
    "    \"time_masking\": RandomApply(\n",
    "        p=0.5, transforms=[TimeMasking(time_mask_param=100, iid_masks=True)]\n",
    "    ),\n",
    "}\n",
    "\n",
    "\n",
    "birdset_transforms = BirdSetTransformsWrapper(\n",
    "    task=\"multilabel\",\n",
    "    sample_rate=32000,\n",
    "    model_type=\"vision\",\n",
    "    max_length=5,\n",
    "    decoding=decoder,\n",
    "    feature_extractor=feature_extractor,\n",
    "    nocall_sampler=nocall,\n",
    "    waveform_augmentations=wav_transforms,\n",
    "    preprocessing=preprocessing,\n",
    "    spectrogram_augmentations=spec_transforms,\n",
    ")"
   ]
  },
  {
   "cell_type": "markdown",
   "metadata": {},
   "source": [
    "#### Instantiating the Datamodule"
   ]
  },
  {
   "cell_type": "code",
   "execution_count": 153,
   "metadata": {},
   "outputs": [],
   "source": [
    "from birdset.datamodule.birdset_datamodule import BirdSetDataModule\n",
    "from birdset.configs.datamodule_configs import DatasetConfig, LoadersConfig\n",
    "from birdset.datamodule.components import XCEventMapping\n",
    "\n",
    "dataset_config = DatasetConfig(\n",
    "    data_dir=HSN_DATASET_PATH,\n",
    "    hf_path=\"DBD-research-group/BirdSet\",\n",
    "    hf_name=\"HSN\",\n",
    "    n_workers=3,\n",
    "    val_split=0.2,\n",
    "    task=\"multilabel\",\n",
    "    classlimit=500,\n",
    "    eventlimit=5,\n",
    "    sample_rate=32000,\n",
    "    seed=2,\n",
    ")\n",
    "loaders_config = LoadersConfig()\n",
    "mapper_config = XCEventMapping()\n",
    "\n",
    "datamodule = BirdSetDataModule(\n",
    "    dataset=dataset_config,\n",
    "    loaders=loaders_config,\n",
    "    transforms=birdset_transforms,\n",
    "    mapper=mapper_config,\n",
    ")"
   ]
  },
  {
   "cell_type": "markdown",
   "metadata": {},
   "source": [
    "The code above only configures the datamodule. To actully use it we need to prepare the data (which also downloads it) and setup the dataloaders."
   ]
  },
  {
   "cell_type": "code",
   "execution_count": 154,
   "metadata": {},
   "outputs": [
    {
     "name": "stderr",
     "output_type": "stream",
     "text": [
      "sampling: 100%|██████████| 21/21 [00:01<00:00, 15.54it/s]\n"
     ]
    },
    {
     "data": {
      "application/vnd.jupyter.widget-view+json": {
       "model_id": "308963ae61e54e6fbb42dbcbd94cfe49",
       "version_major": 2,
       "version_minor": 0
      },
      "text/plain": [
       "One-hot-encoding train labels. (num_proc=3):   0%|          | 0/17940 [00:00<?, ? examples/s]"
      ]
     },
     "metadata": {},
     "output_type": "display_data"
    },
    {
     "name": "stderr",
     "output_type": "stream",
     "text": [
      "/workspace/birdset/datamodule/base_datamodule.py:484: UserWarning: To copy construct from a tensor, it is recommended to use sourceTensor.clone().detach() or sourceTensor.clone().detach().requires_grad_(True), rather than torch.tensor(sourceTensor).\n",
      "  class_one_hot_matrix = torch.tensor(class_one_hot_matrix, dtype=torch.float32)\n",
      "/workspace/birdset/datamodule/base_datamodule.py:484: UserWarning: To copy construct from a tensor, it is recommended to use sourceTensor.clone().detach() or sourceTensor.clone().detach().requires_grad_(True), rather than torch.tensor(sourceTensor).\n",
      "  class_one_hot_matrix = torch.tensor(class_one_hot_matrix, dtype=torch.float32)\n",
      "/workspace/birdset/datamodule/base_datamodule.py:484: UserWarning: To copy construct from a tensor, it is recommended to use sourceTensor.clone().detach() or sourceTensor.clone().detach().requires_grad_(True), rather than torch.tensor(sourceTensor).\n",
      "  class_one_hot_matrix = torch.tensor(class_one_hot_matrix, dtype=torch.float32)\n"
     ]
    },
    {
     "data": {
      "application/vnd.jupyter.widget-view+json": {
       "model_id": "b211854f358a43a1bde13090d62972d6",
       "version_major": 2,
       "version_minor": 0
      },
      "text/plain": [
       "Saving the dataset (0/1 shards):   0%|          | 0/14352 [00:00<?, ? examples/s]"
      ]
     },
     "metadata": {},
     "output_type": "display_data"
    },
    {
     "data": {
      "application/vnd.jupyter.widget-view+json": {
       "model_id": "027c9253bea14c2fb8cb88e1451ec61f",
       "version_major": 2,
       "version_minor": 0
      },
      "text/plain": [
       "Saving the dataset (0/1 shards):   0%|          | 0/3588 [00:00<?, ? examples/s]"
      ]
     },
     "metadata": {},
     "output_type": "display_data"
    },
    {
     "data": {
      "application/vnd.jupyter.widget-view+json": {
       "model_id": "4cdf78b1e3564e90936ccfeb73586c03",
       "version_major": 2,
       "version_minor": 0
      },
      "text/plain": [
       "Saving the dataset (0/1 shards):   0%|          | 0/12000 [00:00<?, ? examples/s]"
      ]
     },
     "metadata": {},
     "output_type": "display_data"
    }
   ],
   "source": [
    "datamodule.prepare_data()\n",
    "datamodule.setup(stage=\"fit\")"
   ]
  },
  {
   "cell_type": "markdown",
   "metadata": {},
   "source": [
    "Now the datamodule can be used."
   ]
  },
  {
   "cell_type": "code",
   "execution_count": 155,
   "metadata": {},
   "outputs": [
    {
     "name": "stderr",
     "output_type": "stream",
     "text": [
      "/workspace/birdset/datamodule/components/transforms.py:172: UserWarning: To copy construct from a tensor, it is recommended to use sourceTensor.clone().detach() or sourceTensor.clone().detach().requires_grad_(True), rather than torch.tensor(sourceTensor).\n",
      "  labels = torch.tensor(labels, dtype=torch.float16)\n"
     ]
    },
    {
     "data": {
      "text/plain": [
       "<matplotlib.image.AxesImage at 0x79594040a470>"
      ]
     },
     "execution_count": 155,
     "metadata": {},
     "output_type": "execute_result"
    },
    {
     "data": {
      "image/png": "[encoded data removed]",
      "text/plain": [
       "<Figure size 640x480 with 1 Axes>"
      ]
     },
     "metadata": {},
     "output_type": "display_data"
    }
   ],
   "source": [
    "import matplotlib.pyplot as plt\n",
    "\n",
    "dl = datamodule.train_dataloader()\n",
    "sample = next(iter(dl))[\"input_values\"][0]\n",
    "\n",
    "plt.imshow(sample.squeeze().numpy())"
   ]
  },
  {
   "cell_type": "markdown",
   "metadata": {},
   "source": [
    "### Loading Data Manually\n",
    "\n",
    "If you want to implement your own data pipeline you can also load the datasets through Hugging Face datasets. This section will detail that aproach.  \n",
    "Some amount of BirdSet Code will still be used here, so as to not fill up this notebook with helper functions. If you want to, you can look up the used classes and methods under their respective import paths."
   ]
  },
  {
   "cell_type": "code",
   "execution_count": 156,
   "metadata": {},
   "outputs": [],
   "source": [
    "from datasets import load_dataset\n",
    "\n",
    "dataset = load_dataset(\n",
    "    path=\"DBD-research-group/BirdSet\",\n",
    "    name=\"HSN\",\n",
    "    cache_dir=HSN_DATASET_PATH,\n",
    "    num_proc=4,\n",
    ")"
   ]
  },
  {
   "cell_type": "code",
   "execution_count": 157,
   "metadata": {},
   "outputs": [
    {
     "name": "stdout",
     "output_type": "stream",
     "text": [
      "DatasetDict({\n",
      "    train: Dataset({\n",
      "        features: ['audio', 'filepath', 'start_time', 'end_time', 'low_freq', 'high_freq', 'ebird_code', 'ebird_code_multilabel', 'ebird_code_secondary', 'call_type', 'sex', 'lat', 'long', 'length', 'microphone', 'license', 'source', 'local_time', 'detected_events', 'event_cluster', 'peaks', 'quality', 'recordist', 'genus', 'species_group', 'order', 'genus_multilabel', 'species_group_multilabel', 'order_multilabel'],\n",
      "        num_rows: 5460\n",
      "    })\n",
      "    test: Dataset({\n",
      "        features: ['audio', 'filepath', 'start_time', 'end_time', 'low_freq', 'high_freq', 'ebird_code', 'ebird_code_multilabel', 'ebird_code_secondary', 'call_type', 'sex', 'lat', 'long', 'length', 'microphone', 'license', 'source', 'local_time', 'detected_events', 'event_cluster', 'peaks', 'quality', 'recordist', 'genus', 'species_group', 'order', 'genus_multilabel', 'species_group_multilabel', 'order_multilabel'],\n",
      "        num_rows: 10296\n",
      "    })\n",
      "    test_5s: Dataset({\n",
      "        features: ['audio', 'filepath', 'start_time', 'end_time', 'low_freq', 'high_freq', 'ebird_code', 'ebird_code_multilabel', 'ebird_code_secondary', 'call_type', 'sex', 'lat', 'long', 'length', 'microphone', 'license', 'source', 'local_time', 'detected_events', 'event_cluster', 'peaks', 'quality', 'recordist', 'genus', 'species_group', 'order', 'genus_multilabel', 'species_group_multilabel', 'order_multilabel'],\n",
      "        num_rows: 12000\n",
      "    })\n",
      "})\n",
      "{'bytes': None, 'path': '/workspace/data_birdset/HSN/downloads/extracted/e8d87da059276237fe3a09f216dfe50ac2186afa53bf9c3b9e14c93979cbeba4/XC768334.ogg'}\n",
      "[[0.016, 0.672], [1.6, 2.816], [5.792, 6.976], [8.672, 10.048], [13.12, 14.624], [15.104, 17.024], [18.16, 19.648], [21.504, 22.96], [25.152, 27.504], [29.088, 30.256], [31.776, 33.888], [34.32, 34.848], [35.744, 36.384], [40.112, 40.896], [45.344, 46.128], [47.776, 48.704], [49.456, 50.4], [52.112, 52.816], [56.688, 57.568], [60.272, 61.136], [63.664, 64.224], [65.264, 66.288], [70.96, 71.792], [82.352, 83.2], [84.0, 85.424], [86.032, 87.248], [88.592, 89.552], [95.68, 96.288], [97.056, 97.632], [99.744, 100.64], [101.68, 106.064], [106.592, 111.68], [110.896, 111.552], [112.576, 113.408], [114.368, 116.704], [118.608, 124.24], [125.6, 129.04], [139.072, 139.68], [142.832, 143.632], [145.168, 145.872]]\n"
     ]
    }
   ],
   "source": [
    "print(dataset)\n",
    "print(dataset[\"train\"][0][\"audio\"])\n",
    "print(dataset[\"train\"][0][\"detected_events\"])"
   ]
  },
  {
   "cell_type": "markdown",
   "metadata": {},
   "source": [
    "#### Preprocessing the Data\n",
    "\n",
    "You may heave seen that the `audio` column doesn't actually contain any audio data. The loaded dataset as it is, only contains the filepaths of the respective audiosamples. As shown above those files may also contain multiple birdcall events per file which is why it is not encouraged to directly load the whole audio into the sample (it may also just be too big). For BirdSet we typically specify some kind of eventlimit per file and per class and extract and map those events to singular samples in the dataset.\n",
    "\n",
    "**Please Note:** Only the `train` split needs to be processed this way. Both the `test_5s` and `test` splits do not need to be processed like that."
   ]
  },
  {
   "cell_type": "code",
   "execution_count": 158,
   "metadata": {},
   "outputs": [
    {
     "name": "stdout",
     "output_type": "stream",
     "text": [
      "DatasetDict({\n",
      "    train: Dataset({\n",
      "        features: ['filepath', 'start_time', 'end_time', 'low_freq', 'high_freq', 'ebird_code', 'ebird_code_multilabel', 'ebird_code_secondary', 'call_type', 'sex', 'lat', 'long', 'length', 'microphone', 'license', 'source', 'local_time', 'detected_events', 'event_cluster', 'peaks', 'quality', 'recordist', 'genus', 'species_group', 'order', 'genus_multilabel', 'species_group_multilabel', 'order_multilabel'],\n",
      "        num_rows: 38170\n",
      "    })\n",
      "    test: Dataset({\n",
      "        features: ['audio', 'filepath', 'start_time', 'end_time', 'low_freq', 'high_freq', 'ebird_code', 'ebird_code_multilabel', 'ebird_code_secondary', 'call_type', 'sex', 'lat', 'long', 'length', 'microphone', 'license', 'source', 'local_time', 'detected_events', 'event_cluster', 'peaks', 'quality', 'recordist', 'genus', 'species_group', 'order', 'genus_multilabel', 'species_group_multilabel', 'order_multilabel'],\n",
      "        num_rows: 10296\n",
      "    })\n",
      "    test_5s: Dataset({\n",
      "        features: ['audio', 'filepath', 'start_time', 'end_time', 'low_freq', 'high_freq', 'ebird_code', 'ebird_code_multilabel', 'ebird_code_secondary', 'call_type', 'sex', 'lat', 'long', 'length', 'microphone', 'license', 'source', 'local_time', 'detected_events', 'event_cluster', 'peaks', 'quality', 'recordist', 'genus', 'species_group', 'order', 'genus_multilabel', 'species_group_multilabel', 'order_multilabel'],\n",
      "        num_rows: 12000\n",
      "    })\n",
      "})\n",
      "/workspace/data_birdset/HSN/downloads/extracted/e8d87da059276237fe3a09f216dfe50ac2186afa53bf9c3b9e14c93979cbeba4/XC768334.ogg\n",
      "[0.016, 0.672]\n"
     ]
    }
   ],
   "source": [
    "from datasets import Audio\n",
    "from birdset.datamodule.components.event_mapping import XCEventMapping\n",
    "\n",
    "dataset[\"train\"] = dataset[\"train\"].cast_column(\n",
    "    column=\"audio\",\n",
    "    feature=Audio(\n",
    "        sampling_rate=32_000,\n",
    "        mono=True,\n",
    "        decode=False,\n",
    "    ),\n",
    ")\n",
    "\n",
    "mapper = XCEventMapping()\n",
    "dataset[\"train\"] = dataset[\"train\"].map(\n",
    "    mapper,\n",
    "    remove_columns=[\"audio\"],\n",
    "    batched=True,\n",
    "    batch_size=300,\n",
    "    num_proc=3,\n",
    "    desc=\"Train event mapping\",\n",
    ")\n",
    "\n",
    "dataset[\"train\"] = dataset[\"train\"].remove_columns(\"audio\")\n",
    "\n",
    "print(dataset)\n",
    "print(dataset[\"train\"][0][\"filepath\"])\n",
    "print(dataset[\"train\"][0][\"detected_events\"])"
   ]
  },
  {
   "cell_type": "markdown",
   "metadata": {},
   "source": [
    "Now every event in the train split has been extracted into it's own sample. If you want to, you can limit these to some amount of events per class or per file."
   ]
  },
  {
   "cell_type": "code",
   "execution_count": 159,
   "metadata": {},
   "outputs": [
    {
     "name": "stderr",
     "output_type": "stream",
     "text": [
      "sampling: 100%|██████████| 21/21 [00:01<00:00, 15.54it/s]\n"
     ]
    },
    {
     "name": "stdout",
     "output_type": "stream",
     "text": [
      "DatasetDict({\n",
      "    train: Dataset({\n",
      "        features: ['filepath', 'start_time', 'end_time', 'low_freq', 'high_freq', 'ebird_code', 'ebird_code_multilabel', 'ebird_code_secondary', 'call_type', 'sex', 'lat', 'long', 'length', 'microphone', 'license', 'source', 'local_time', 'detected_events', 'event_cluster', 'peaks', 'quality', 'recordist', 'genus', 'species_group', 'order', 'genus_multilabel', 'species_group_multilabel', 'order_multilabel'],\n",
      "        num_rows: 17940\n",
      "    })\n",
      "    test: Dataset({\n",
      "        features: ['audio', 'filepath', 'start_time', 'end_time', 'low_freq', 'high_freq', 'ebird_code', 'ebird_code_multilabel', 'ebird_code_secondary', 'call_type', 'sex', 'lat', 'long', 'length', 'microphone', 'license', 'source', 'local_time', 'detected_events', 'event_cluster', 'peaks', 'quality', 'recordist', 'genus', 'species_group', 'order', 'genus_multilabel', 'species_group_multilabel', 'order_multilabel'],\n",
      "        num_rows: 10296\n",
      "    })\n",
      "    test_5s: Dataset({\n",
      "        features: ['audio', 'filepath', 'start_time', 'end_time', 'low_freq', 'high_freq', 'ebird_code', 'ebird_code_multilabel', 'ebird_code_secondary', 'call_type', 'sex', 'lat', 'long', 'length', 'microphone', 'license', 'source', 'local_time', 'detected_events', 'event_cluster', 'peaks', 'quality', 'recordist', 'genus', 'species_group', 'order', 'genus_multilabel', 'species_group_multilabel', 'order_multilabel'],\n",
      "        num_rows: 12000\n",
      "    })\n",
      "})\n"
     ]
    }
   ],
   "source": [
    "# smart sampling is defined in the \"Helper Functions\" section\n",
    "dataset[\"train\"] = smart_sampling(\n",
    "    dataset=dataset[\"train\"], label_name=\"ebird_code\", class_limit=500, event_limit=5\n",
    ")\n",
    "\n",
    "print(dataset)"
   ]
  },
  {
   "cell_type": "markdown",
   "metadata": {},
   "source": [
    "The last step of this part is to remove unnecessary columns or splits. For BirdSet we use the `test_5s` split for multilabel testing. It contains 5 second long soundscape samples that may contain multiple birds per sample.  \n",
    "To use it you need to remove the `test` split and rename the `test_5s` split to `test`.\n",
    "\n",
    "Additionaly the dataset contains multiple columns that are not used and as such can be removed to make it more lightweight."
   ]
  },
  {
   "cell_type": "code",
   "execution_count": 160,
   "metadata": {},
   "outputs": [
    {
     "data": {
      "text/plain": [
       "DatasetDict({\n",
       "    train: Dataset({\n",
       "        features: ['filepath', 'start_time', 'end_time', 'low_freq', 'high_freq', 'ebird_code', 'ebird_code_multilabel', 'ebird_code_secondary', 'call_type', 'sex', 'lat', 'long', 'length', 'microphone', 'license', 'source', 'local_time', 'detected_events', 'event_cluster', 'peaks', 'quality', 'recordist', 'genus', 'species_group', 'order', 'genus_multilabel', 'species_group_multilabel', 'order_multilabel'],\n",
       "        num_rows: 17940\n",
       "    })\n",
       "    test: Dataset({\n",
       "        features: ['audio', 'filepath', 'start_time', 'end_time', 'low_freq', 'high_freq', 'ebird_code', 'ebird_code_multilabel', 'ebird_code_secondary', 'call_type', 'sex', 'lat', 'long', 'length', 'microphone', 'license', 'source', 'local_time', 'detected_events', 'event_cluster', 'peaks', 'quality', 'recordist', 'genus', 'species_group', 'order', 'genus_multilabel', 'species_group_multilabel', 'order_multilabel'],\n",
       "        num_rows: 12000\n",
       "    })\n",
       "})"
      ]
     },
     "execution_count": 160,
     "metadata": {},
     "output_type": "execute_result"
    }
   ],
   "source": [
    "from datasets import DatasetDict\n",
    "\n",
    "dataset = DatasetDict({\"train\": dataset[\"train\"], \"test\": dataset[\"test_5s\"]})\n",
    "dataset"
   ]
  },
  {
   "cell_type": "code",
   "execution_count": 161,
   "metadata": {},
   "outputs": [
    {
     "data": {
      "text/plain": [
       "DatasetDict({\n",
       "    train: Dataset({\n",
       "        features: ['filepath', 'start_time', 'end_time', 'low_freq', 'high_freq', 'ebird_code', 'labels', 'ebird_code_secondary', 'call_type', 'sex', 'lat', 'long', 'length', 'microphone', 'license', 'source', 'local_time', 'detected_events', 'event_cluster', 'peaks', 'quality', 'recordist', 'genus', 'species_group', 'order', 'genus_multilabel', 'species_group_multilabel', 'order_multilabel'],\n",
       "        num_rows: 17940\n",
       "    })\n",
       "    test: Dataset({\n",
       "        features: ['audio', 'filepath', 'start_time', 'end_time', 'low_freq', 'high_freq', 'ebird_code', 'labels', 'ebird_code_secondary', 'call_type', 'sex', 'lat', 'long', 'length', 'microphone', 'license', 'source', 'local_time', 'detected_events', 'event_cluster', 'peaks', 'quality', 'recordist', 'genus', 'species_group', 'order', 'genus_multilabel', 'species_group_multilabel', 'order_multilabel'],\n",
       "        num_rows: 12000\n",
       "    })\n",
       "})"
      ]
     },
     "execution_count": 161,
     "metadata": {},
     "output_type": "execute_result"
    }
   ],
   "source": [
    "dataset = dataset.rename_column(\"ebird_code_multilabel\", \"labels\")\n",
    "dataset"
   ]
  },
  {
   "cell_type": "code",
   "execution_count": 162,
   "metadata": {},
   "outputs": [
    {
     "name": "stdout",
     "output_type": "stream",
     "text": [
      "['audio', 'low_freq', 'high_freq', 'ebird_code', 'ebird_code_secondary', 'call_type', 'sex', 'lat', 'long', 'length', 'microphone', 'license', 'source', 'local_time', 'event_cluster', 'peaks', 'quality', 'recordist', 'genus', 'species_group', 'order', 'genus_multilabel', 'species_group_multilabel', 'order_multilabel'] \n",
      " ['low_freq', 'high_freq', 'ebird_code', 'ebird_code_secondary', 'call_type', 'sex', 'lat', 'long', 'length', 'microphone', 'license', 'source', 'local_time', 'event_cluster', 'peaks', 'quality', 'recordist', 'genus', 'species_group', 'order', 'genus_multilabel', 'species_group_multilabel', 'order_multilabel']\n"
     ]
    }
   ],
   "source": [
    "columns_to_keep = {\"filepath\", \"labels\", \"detected_events\", \"start_time\", \"end_time\"}\n",
    "\n",
    "removable_train_columns = [\n",
    "    column for column in dataset[\"train\"].column_names if column not in columns_to_keep\n",
    "]\n",
    "removable_test_columns = [\n",
    "    column for column in dataset[\"test\"].column_names if column not in columns_to_keep\n",
    "]\n",
    "\n",
    "print(removable_test_columns, \"\\n\", removable_train_columns)"
   ]
  },
  {
   "cell_type": "code",
   "execution_count": 163,
   "metadata": {},
   "outputs": [],
   "source": [
    "dataset[\"train\"] = dataset[\"train\"].remove_columns(removable_train_columns)\n",
    "dataset[\"test\"] = dataset[\"test\"].remove_columns(removable_test_columns)"
   ]
  },
  {
   "cell_type": "code",
   "execution_count": 164,
   "metadata": {},
   "outputs": [
    {
     "name": "stdout",
     "output_type": "stream",
     "text": [
      "DatasetDict({\n",
      "    train: Dataset({\n",
      "        features: ['filepath', 'start_time', 'end_time', 'labels', 'detected_events'],\n",
      "        num_rows: 17940\n",
      "    })\n",
      "    test: Dataset({\n",
      "        features: ['filepath', 'start_time', 'end_time', 'labels', 'detected_events'],\n",
      "        num_rows: 12000\n",
      "    })\n",
      "})\n"
     ]
    }
   ],
   "source": [
    "print(dataset)"
   ]
  },
  {
   "cell_type": "markdown",
   "metadata": {},
   "source": [
    "Now the labels need to be one hot encoded for multilabel training."
   ]
  },
  {
   "cell_type": "code",
   "execution_count": 165,
   "metadata": {},
   "outputs": [
    {
     "data": {
      "application/vnd.jupyter.widget-view+json": {
       "model_id": "c658d4434c944eb3a42b3250172a975d",
       "version_major": 2,
       "version_minor": 0
      },
      "text/plain": [
       "One-hot-encoding labels. (num_proc=4):   0%|          | 0/17940 [00:00<?, ? examples/s]"
      ]
     },
     "metadata": {},
     "output_type": "display_data"
    },
    {
     "name": "stderr",
     "output_type": "stream",
     "text": [
      "/tmp/ipykernel_166446/546761237.py:25: UserWarning: To copy construct from a tensor, it is recommended to use sourceTensor.clone().detach() or sourceTensor.clone().detach().requires_grad_(True), rather than torch.tensor(sourceTensor).\n",
      "  class_one_hot_matrix = torch.tensor(class_one_hot_matrix, dtype=torch.float32)\n",
      "/tmp/ipykernel_166446/546761237.py:25: UserWarning: To copy construct from a tensor, it is recommended to use sourceTensor.clone().detach() or sourceTensor.clone().detach().requires_grad_(True), rather than torch.tensor(sourceTensor).\n",
      "  class_one_hot_matrix = torch.tensor(class_one_hot_matrix, dtype=torch.float32)\n",
      "/tmp/ipykernel_166446/546761237.py:25: UserWarning: To copy construct from a tensor, it is recommended to use sourceTensor.clone().detach() or sourceTensor.clone().detach().requires_grad_(True), rather than torch.tensor(sourceTensor).\n",
      "  class_one_hot_matrix = torch.tensor(class_one_hot_matrix, dtype=torch.float32)\n",
      "/tmp/ipykernel_166446/546761237.py:25: UserWarning: To copy construct from a tensor, it is recommended to use sourceTensor.clone().detach() or sourceTensor.clone().detach().requires_grad_(True), rather than torch.tensor(sourceTensor).\n",
      "  class_one_hot_matrix = torch.tensor(class_one_hot_matrix, dtype=torch.float32)\n"
     ]
    }
   ],
   "source": [
    "# classes_one_hot it defined in the \"Helper Functions\" section\n",
    "dataset = dataset.map(\n",
    "    lambda batch: classes_one_hot(batch, num_classes=21),\n",
    "    batched=True,\n",
    "    batch_size=300,\n",
    "    load_from_cache_file=True,\n",
    "    num_proc=4,\n",
    "    desc=f\"One-hot-encoding labels.\",\n",
    ")"
   ]
  },
  {
   "cell_type": "markdown",
   "metadata": {},
   "source": [
    "#### Splitting the Data\n",
    "\n",
    "for better results the `train` split should be split into splits for training and for validation."
   ]
  },
  {
   "cell_type": "code",
   "execution_count": 166,
   "metadata": {},
   "outputs": [
    {
     "name": "stdout",
     "output_type": "stream",
     "text": [
      "DatasetDict({\n",
      "    train: Dataset({\n",
      "        features: ['filepath', 'start_time', 'end_time', 'labels', 'detected_events'],\n",
      "        num_rows: 14352\n",
      "    })\n",
      "    valid: Dataset({\n",
      "        features: ['filepath', 'start_time', 'end_time', 'labels', 'detected_events'],\n",
      "        num_rows: 3588\n",
      "    })\n",
      "    test: Dataset({\n",
      "        features: ['filepath', 'start_time', 'end_time', 'labels', 'detected_events'],\n",
      "        num_rows: 12000\n",
      "    })\n",
      "})\n"
     ]
    }
   ],
   "source": [
    "from datasets import DatasetDict\n",
    "\n",
    "splits = dataset[\"train\"].train_test_split(test_size=0.2)\n",
    "\n",
    "dataset = DatasetDict(\n",
    "    {\"train\": splits[\"train\"], \"valid\": splits[\"test\"], \"test\": dataset[\"test\"]}\n",
    ")\n",
    "\n",
    "print(dataset)"
   ]
  },
  {
   "cell_type": "markdown",
   "metadata": {},
   "source": [
    "#### Applying Transforms\n",
    "\n",
    "As the datasets can get very big very quickly we suggest applying transforms on-the-fly. That means that transforms are only applied to a batch when it is requested (e.g. by a trainer). With huggingface datasets that is possible through the `set_transform` method. For this you will need a wrapper class that will be able to handle multiple transforms on the data. Here, only a very basic one is implemented but like before you can look up a more sophisticated one in the BirdSet code (`BirdSetTransformsWrapper` in `birdset/datamodule/components/transforms.py`)."
   ]
  },
  {
   "cell_type": "markdown",
   "metadata": {},
   "source": [
    "##### Decoding & Extracting\n",
    "\n",
    "As previously mentioned the loaded dataset currently only contains filepaths but to apply transforms or use the data otherwise actual audio data is needed. As the name implies BirdSets `EventDecoding` class takes an event and pulls the associated audio data out of the respective file."
   ]
  },
  {
   "cell_type": "code",
   "execution_count": 167,
   "metadata": {},
   "outputs": [],
   "source": [
    "from birdset.datamodule.components.event_decoding import EventDecoding\n",
    "from birdset.datamodule.components.feature_extraction import DefaultFeatureExtractor\n",
    "\n",
    "decoder = EventDecoding(\n",
    "    min_len=1, max_len=5, sample_rate=32000, extension_time=8, extracted_interval=5\n",
    ")\n",
    "\n",
    "feature_extractor = DefaultFeatureExtractor(\n",
    "    feature_size=1, sampling_rate=32000, padding_value=0.0, return_attention_mask=False\n",
    ")"
   ]
  },
  {
   "cell_type": "markdown",
   "metadata": {},
   "source": [
    "##### Nocall Sampling\n",
    "\n",
    "Nocall Sampling uses other soundfiles to introduce samples which don't have any birdcalls in them as such samples are not included by default. To use Nocall Sampling you need to download background noise. BirdSet provides such functionality under `resources/utils/download_background_noise.py`. You will also need this background noise to use `AddBackgroundNoise` in the Waveform Transforms section."
   ]
  },
  {
   "cell_type": "code",
   "execution_count": 168,
   "metadata": {},
   "outputs": [],
   "source": [
    "from birdset.datamodule.components.augmentations import NoCallMixer\n",
    "\n",
    "nocall = NoCallMixer(\n",
    "    directory=BACKGROUND_NOISE_PATH,\n",
    "    p=0.075,\n",
    "    sample_rate=32000,\n",
    "    length=5,\n",
    ")"
   ]
  },
  {
   "cell_type": "markdown",
   "metadata": {},
   "source": [
    "##### Waveform Transforms\n",
    "\n",
    "The transform in this section change the input data to ensure that the models learned are more robust."
   ]
  },
  {
   "cell_type": "code",
   "execution_count": 169,
   "metadata": {},
   "outputs": [],
   "source": [
    "wav_transforms = []"
   ]
  },
  {
   "cell_type": "code",
   "execution_count": 170,
   "metadata": {},
   "outputs": [
    {
     "name": "stderr",
     "output_type": "stream",
     "text": [
      "/workspace/.venv/lib/python3.10/site-packages/torch_audiomentations/core/transforms_interface.py:77: FutureWarning: Transforms now expect an `output_type` argument that currently defaults to 'tensor', will default to 'dict' in v0.12, and will be removed in v0.13. Make sure to update your code to something like:\n",
      "  >>> augment = MultilabelMix(..., output_type='dict')\n",
      "  >>> augmented_samples = augment(samples).samples\n",
      "  warnings.warn(\n"
     ]
    }
   ],
   "source": [
    "from birdset.datamodule.components.augmentations import MultilabelMix\n",
    "\n",
    "multilabel_mix = MultilabelMix(\n",
    "    p=0.7, min_snr_in_db=3.0, max_snr_in_db=30.0, mix_target=\"union\"\n",
    ")\n",
    "\n",
    "wav_transforms.append(multilabel_mix)"
   ]
  },
  {
   "cell_type": "code",
   "execution_count": 171,
   "metadata": {},
   "outputs": [
    {
     "name": "stderr",
     "output_type": "stream",
     "text": [
      "/workspace/.venv/lib/python3.10/site-packages/torch_audiomentations/core/transforms_interface.py:77: FutureWarning: Transforms now expect an `output_type` argument that currently defaults to 'tensor', will default to 'dict' in v0.12, and will be removed in v0.13. Make sure to update your code to something like:\n",
      "  >>> augment = AddBackgroundNoise(..., output_type='dict')\n",
      "  >>> augmented_samples = augment(samples).samples\n",
      "  warnings.warn(\n"
     ]
    }
   ],
   "source": [
    "from birdset.datamodule.components.augmentations import AddBackgroundNoise\n",
    "\n",
    "background_noise = AddBackgroundNoise(\n",
    "    p=0.5,\n",
    "    min_snr_in_db=3,\n",
    "    max_snr_in_db=30,\n",
    "    sample_rate=32000,\n",
    "    target_rate=32000,\n",
    "    background_paths=BACKGROUND_NOISE_PATH,\n",
    ")\n",
    "\n",
    "wav_transforms.append(background_noise)"
   ]
  },
  {
   "cell_type": "code",
   "execution_count": 172,
   "metadata": {},
   "outputs": [
    {
     "name": "stderr",
     "output_type": "stream",
     "text": [
      "/workspace/.venv/lib/python3.10/site-packages/torch_audiomentations/core/transforms_interface.py:77: FutureWarning: Transforms now expect an `output_type` argument that currently defaults to 'tensor', will default to 'dict' in v0.12, and will be removed in v0.13. Make sure to update your code to something like:\n",
      "  >>> augment = AddColoredNoise(..., output_type='dict')\n",
      "  >>> augmented_samples = augment(samples).samples\n",
      "  warnings.warn(\n"
     ]
    }
   ],
   "source": [
    "from torch_audiomentations import AddColoredNoise\n",
    "\n",
    "colored_noise = AddColoredNoise(\n",
    "    p=0.2, max_f_decay=2, min_f_decay=-2, max_snr_in_db=30, min_snr_in_db=3\n",
    ")\n",
    "\n",
    "wav_transforms.append(colored_noise)"
   ]
  },
  {
   "cell_type": "code",
   "execution_count": 173,
   "metadata": {},
   "outputs": [
    {
     "name": "stderr",
     "output_type": "stream",
     "text": [
      "/workspace/.venv/lib/python3.10/site-packages/torch_audiomentations/core/transforms_interface.py:77: FutureWarning: Transforms now expect an `output_type` argument that currently defaults to 'tensor', will default to 'dict' in v0.12, and will be removed in v0.13. Make sure to update your code to something like:\n",
      "  >>> augment = Gain(..., output_type='dict')\n",
      "  >>> augmented_samples = augment(samples).samples\n",
      "  warnings.warn(\n"
     ]
    }
   ],
   "source": [
    "from torch_audiomentations import Gain\n",
    "\n",
    "gain = Gain(p=0.2, min_gain_in_db=-18, max_gain_in_db=6)\n",
    "\n",
    "wav_transforms.append(gain)"
   ]
  },
  {
   "cell_type": "markdown",
   "metadata": {},
   "source": [
    "##### Spectrogramm Processing\n",
    "\n",
    "As ConvNeXT needs spectrogramm data as input, the waveform need to turned into spectrogramms. These steps are configured here."
   ]
  },
  {
   "cell_type": "code",
   "execution_count": 174,
   "metadata": {},
   "outputs": [],
   "source": [
    "from torchaudio.transforms import Spectrogram\n",
    "\n",
    "spectrogramm_conversion = Spectrogram(n_fft=1024, hop_length=320, power=2.0)"
   ]
  },
  {
   "cell_type": "code",
   "execution_count": 175,
   "metadata": {},
   "outputs": [],
   "source": [
    "from torchaudio.transforms import MelScale\n",
    "\n",
    "melscale_conversion = MelScale(n_mels=128, sample_rate=32000, n_stft=513)"
   ]
  },
  {
   "cell_type": "code",
   "execution_count": 176,
   "metadata": {},
   "outputs": [],
   "source": [
    "from birdset.datamodule.components.augmentations import PowerToDB\n",
    "\n",
    "dbscale_conversion = PowerToDB()"
   ]
  },
  {
   "cell_type": "code",
   "execution_count": 177,
   "metadata": {},
   "outputs": [],
   "source": [
    "from birdset.datamodule.components.resize import Resizer\n",
    "\n",
    "resizer = Resizer(db_scale=True, target_height=None, target_width=None)"
   ]
  },
  {
   "cell_type": "code",
   "execution_count": 178,
   "metadata": {},
   "outputs": [],
   "source": [
    "processing_config = CustomProcessingConfig(\n",
    "    spectrogram_conversion=spectrogramm_conversion,\n",
    "    resizer=resizer,\n",
    "    melscale_conversion=melscale_conversion,\n",
    "    dbscale_conversion=dbscale_conversion,\n",
    "    normalize_spectrogram=True,\n",
    "    mean=-4.268,\n",
    "    std=4.569,\n",
    ")"
   ]
  },
  {
   "cell_type": "markdown",
   "metadata": {},
   "source": [
    "##### Spectrogram Transformation\n",
    "\n",
    "Like with the waveform transforms before the spectrogramms are also transformed to ensure more robust models."
   ]
  },
  {
   "cell_type": "code",
   "execution_count": 179,
   "metadata": {},
   "outputs": [],
   "source": [
    "spec_transforms = []"
   ]
  },
  {
   "cell_type": "code",
   "execution_count": 180,
   "metadata": {},
   "outputs": [],
   "source": [
    "from torchvision.transforms import RandomApply\n",
    "from torchaudio.transforms import FrequencyMasking\n",
    "\n",
    "frequency_masking = RandomApply(\n",
    "    p=0.5, transforms=[FrequencyMasking(freq_mask_param=100, iid_masks=True)]\n",
    ")\n",
    "\n",
    "spec_transforms.append(frequency_masking)"
   ]
  },
  {
   "cell_type": "code",
   "execution_count": 181,
   "metadata": {},
   "outputs": [],
   "source": [
    "from torchvision.transforms import RandomApply\n",
    "from torchaudio.transforms import TimeMasking\n",
    "\n",
    "time_masking = RandomApply(\n",
    "    p=0.5, transforms=[TimeMasking(time_mask_param=100, iid_masks=True)]\n",
    ")\n",
    "\n",
    "spec_transforms.append(time_masking)"
   ]
  },
  {
   "cell_type": "markdown",
   "metadata": {},
   "source": [
    "##### On The Fly Transforming\n",
    "\n",
    "As mentioned we want to apply the transforms on a batch only as it is getting processed. To achieve that behaviour we use the `set_transform` method of huggingface datatets. The test data does not get transformed using waveform and spectrogramm transformations. It only gets processed so that it can be used by the model."
   ]
  },
  {
   "cell_type": "code",
   "execution_count": 182,
   "metadata": {},
   "outputs": [],
   "source": [
    "transforms = BasicTransformsWrapper(\n",
    "    wav_transforms=wav_transforms,\n",
    "    spec_transforms=spec_transforms,\n",
    "    decoding=decoder,\n",
    "    feature_extractor=feature_extractor,\n",
    "    processing_config=processing_config,\n",
    "    nocall_sampler=nocall,\n",
    ")\n",
    "\n",
    "dataset[\"train\"].set_transform(transforms, output_all_columns=False)\n",
    "dataset[\"valid\"].set_transform(transforms, output_all_columns=False)\n",
    "\n",
    "test_transforms = BasicTransformsWrapper(\n",
    "    wav_transforms=[],\n",
    "    spec_transforms=[],\n",
    "    decoding=decoder,\n",
    "    feature_extractor=feature_extractor,\n",
    "    processing_config=processing_config,\n",
    "    nocall_sampler=None,\n",
    ")\n",
    "\n",
    "dataset[\"test\"].set_transform(test_transforms, output_all_columns=False)"
   ]
  },
  {
   "cell_type": "markdown",
   "metadata": {},
   "source": [
    "#### Wrapping the Data in a Datamodule\n",
    "\n",
    "To use hte previously configured dataset in a trainer it needs to be wrapped in a datamodule. The datamodule provides dataloaders that are needed by the trainer."
   ]
  },
  {
   "cell_type": "code",
   "execution_count": 183,
   "metadata": {},
   "outputs": [],
   "source": [
    "datamodule = CustomDatamodule(\n",
    "    dataset=dataset, batch_size=32, num_workers=8, num_classes=21, task=\"multilabel\"\n",
    ")"
   ]
  },
  {
   "cell_type": "code",
   "execution_count": 184,
   "metadata": {},
   "outputs": [
    {
     "data": {
      "text/plain": [
       "DatasetDict({\n",
       "    train: Dataset({\n",
       "        features: ['filepath', 'start_time', 'end_time', 'labels', 'detected_events'],\n",
       "        num_rows: 14352\n",
       "    })\n",
       "    valid: Dataset({\n",
       "        features: ['filepath', 'start_time', 'end_time', 'labels', 'detected_events'],\n",
       "        num_rows: 3588\n",
       "    })\n",
       "    test: Dataset({\n",
       "        features: ['filepath', 'start_time', 'end_time', 'labels', 'detected_events'],\n",
       "        num_rows: 12000\n",
       "    })\n",
       "})"
      ]
     },
     "execution_count": 184,
     "metadata": {},
     "output_type": "execute_result"
    }
   ],
   "source": [
    "datamodule.dataset"
   ]
  },
  {
   "cell_type": "code",
   "execution_count": 185,
   "metadata": {},
   "outputs": [
    {
     "data": {
      "text/plain": [
       "<matplotlib.image.AxesImage at 0x795940403400>"
      ]
     },
     "execution_count": 185,
     "metadata": {},
     "output_type": "execute_result"
    },
    {
     "data": {
      "image/png": "[encoded data removed]",
      "text/plain": [
       "<Figure size 640x480 with 1 Axes>"
      ]
     },
     "metadata": {},
     "output_type": "display_data"
    }
   ],
   "source": [
    "import matplotlib.pyplot as plt\n",
    "\n",
    "dl = datamodule.train_dataloader()\n",
    "sample = next(iter(dl))[\"input_values\"][0]\n",
    "\n",
    "plt.imshow(sample.squeeze().numpy())"
   ]
  },
  {
   "cell_type": "code",
   "execution_count": 186,
   "metadata": {},
   "outputs": [
    {
     "data": {
      "text/plain": [
       "<matplotlib.image.AxesImage at 0x7958b8890430>"
      ]
     },
     "execution_count": 186,
     "metadata": {},
     "output_type": "execute_result"
    },
    {
     "data": {
      "image/png": "[encoded data removed]",
      "text/plain": [
       "<Figure size 640x480 with 1 Axes>"
      ]
     },
     "metadata": {},
     "output_type": "display_data"
    }
   ],
   "source": [
    "test_loader = datamodule.test_dataloader()\n",
    "sample = next(iter(test_loader))\n",
    "\n",
    "plt.imshow(sample[\"input_values\"][2].squeeze().numpy())"
   ]
  },
  {
   "cell_type": "markdown",
   "metadata": {},
   "source": [
    "## Setting up a Model"
   ]
  },
  {
   "cell_type": "markdown",
   "metadata": {},
   "source": [
    "### Using BirdSet's Pretrained Models with BirdSet\n",
    "\n",
    "Here the ConvNeXT model pretrained on XCL by BirdSet is loaded. For more information regarding BirdSet's modules please refer to the `birdset-pipeline_tutorial` notebook."
   ]
  },
  {
   "cell_type": "code",
   "execution_count": null,
   "metadata": {},
   "outputs": [
    {
     "name": "stderr",
     "output_type": "stream",
     "text": [
      "/workspace/.venv/lib/python3.10/site-packages/huggingface_hub/file_download.py:795: FutureWarning: `resume_download` is deprecated and will be removed in version 1.0.0. Downloads always resume when possible. If you want to force a new download, use `force_download=True`.\n",
      "  warnings.warn(\n"
     ]
    },
    {
     "data": {
      "application/vnd.jupyter.widget-view+json": {
       "model_id": "0b796aa5c478432890971a0139ff1637",
       "version_major": 2,
       "version_minor": 0
      },
      "text/plain": [
       "config.json:   0%|          | 0.00/425k [00:00<?, ?B/s]"
      ]
     },
     "metadata": {},
     "output_type": "display_data"
    },
    {
     "data": {
      "application/vnd.jupyter.widget-view+json": {
       "model_id": "7f9c85f9693c44c49e1f8fa742d406d5",
       "version_major": 2,
       "version_minor": 0
      },
      "text/plain": [
       "model.safetensors:   0%|          | 0.00/390M [00:00<?, ?B/s]"
      ]
     },
     "metadata": {},
     "output_type": "display_data"
    },
    {
     "name": "stderr",
     "output_type": "stream",
     "text": [
      "Some weights of ConvNextForImageClassification were not initialized from the model checkpoint at DBD-research-group/ConvNeXT-Base-BirdSet-XCL and are newly initialized because the shapes did not match:\n",
      "- classifier.bias: found shape torch.Size([9736]) in the checkpoint and torch.Size([21]) in the model instantiated\n",
      "- classifier.weight: found shape torch.Size([9736, 1024]) in the checkpoint and torch.Size([21, 1024]) in the model instantiated\n",
      "You should probably TRAIN this model on a down-stream task to be able to use it for predictions and inference.\n",
      "/workspace/.venv/lib/python3.10/site-packages/lightning/pytorch/utilities/parsing.py:209: Attribute 'loss' is an instance of `nn.Module` and is already saved during checkpointing. It is recommended to ignore them using `self.save_hyperparameters(ignore=['loss'])`.\n"
     ]
    },
    {
     "data": {
      "text/plain": [
       "MultilabelModule(\n",
       "  (loss): BCEWithLogitsLoss()\n",
       "  (model): ConvNextClassifier(\n",
       "    (model): ConvNextForImageClassification(\n",
       "      (convnext): ConvNextModel(\n",
       "        (embeddings): ConvNextEmbeddings(\n",
       "          (patch_embeddings): Conv2d(1, 128, kernel_size=(4, 4), stride=(4, 4))\n",
       "          (layernorm): ConvNextLayerNorm()\n",
       "        )\n",
       "        (encoder): ConvNextEncoder(\n",
       "          (stages): ModuleList(\n",
       "            (0): ConvNextStage(\n",
       "              (downsampling_layer): Identity()\n",
       "              (layers): Sequential(\n",
       "                (0): ConvNextLayer(\n",
       "                  (dwconv): Conv2d(128, 128, kernel_size=(7, 7), stride=(1, 1), padding=(3, 3), groups=128)\n",
       "                  (layernorm): ConvNextLayerNorm()\n",
       "                  (pwconv1): Linear(in_features=128, out_features=512, bias=True)\n",
       "                  (act): GELUActivation()\n",
       "                  (pwconv2): Linear(in_features=512, out_features=128, bias=True)\n",
       "                  (drop_path): Identity()\n",
       "                )\n",
       "                (1): ConvNextLayer(\n",
       "                  (dwconv): Conv2d(128, 128, kernel_size=(7, 7), stride=(1, 1), padding=(3, 3), groups=128)\n",
       "                  (layernorm): ConvNextLayerNorm()\n",
       "                  (pwconv1): Linear(in_features=128, out_features=512, bias=True)\n",
       "                  (act): GELUActivation()\n",
       "                  (pwconv2): Linear(in_features=512, out_features=128, bias=True)\n",
       "                  (drop_path): Identity()\n",
       "                )\n",
       "                (2): ConvNextLayer(\n",
       "                  (dwconv): Conv2d(128, 128, kernel_size=(7, 7), stride=(1, 1), padding=(3, 3), groups=128)\n",
       "                  (layernorm): ConvNextLayerNorm()\n",
       "                  (pwconv1): Linear(in_features=128, out_features=512, bias=True)\n",
       "                  (act): GELUActivation()\n",
       "                  (pwconv2): Linear(in_features=512, out_features=128, bias=True)\n",
       "                  (drop_path): Identity()\n",
       "                )\n",
       "              )\n",
       "            )\n",
       "            (1): ConvNextStage(\n",
       "              (downsampling_layer): Sequential(\n",
       "                (0): ConvNextLayerNorm()\n",
       "                (1): Conv2d(128, 256, kernel_size=(2, 2), stride=(2, 2))\n",
       "              )\n",
       "              (layers): Sequential(\n",
       "                (0): ConvNextLayer(\n",
       "                  (dwconv): Conv2d(256, 256, kernel_size=(7, 7), stride=(1, 1), padding=(3, 3), groups=256)\n",
       "                  (layernorm): ConvNextLayerNorm()\n",
       "                  (pwconv1): Linear(in_features=256, out_features=1024, bias=True)\n",
       "                  (act): GELUActivation()\n",
       "                  (pwconv2): Linear(in_features=1024, out_features=256, bias=True)\n",
       "                  (drop_path): Identity()\n",
       "                )\n",
       "                (1): ConvNextLayer(\n",
       "                  (dwconv): Conv2d(256, 256, kernel_size=(7, 7), stride=(1, 1), padding=(3, 3), groups=256)\n",
       "                  (layernorm): ConvNextLayerNorm()\n",
       "                  (pwconv1): Linear(in_features=256, out_features=1024, bias=True)\n",
       "                  (act): GELUActivation()\n",
       "                  (pwconv2): Linear(in_features=1024, out_features=256, bias=True)\n",
       "                  (drop_path): Identity()\n",
       "                )\n",
       "                (2): ConvNextLayer(\n",
       "                  (dwconv): Conv2d(256, 256, kernel_size=(7, 7), stride=(1, 1), padding=(3, 3), groups=256)\n",
       "                  (layernorm): ConvNextLayerNorm()\n",
       "                  (pwconv1): Linear(in_features=256, out_features=1024, bias=True)\n",
       "                  (act): GELUActivation()\n",
       "                  (pwconv2): Linear(in_features=1024, out_features=256, bias=True)\n",
       "                  (drop_path): Identity()\n",
       "                )\n",
       "              )\n",
       "            )\n",
       "            (2): ConvNextStage(\n",
       "              (downsampling_layer): Sequential(\n",
       "                (0): ConvNextLayerNorm()\n",
       "                (1): Conv2d(256, 512, kernel_size=(2, 2), stride=(2, 2))\n",
       "              )\n",
       "              (layers): Sequential(\n",
       "                (0): ConvNextLayer(\n",
       "                  (dwconv): Conv2d(512, 512, kernel_size=(7, 7), stride=(1, 1), padding=(3, 3), groups=512)\n",
       "                  (layernorm): ConvNextLayerNorm()\n",
       "                  (pwconv1): Linear(in_features=512, out_features=2048, bias=True)\n",
       "                  (act): GELUActivation()\n",
       "                  (pwconv2): Linear(in_features=2048, out_features=512, bias=True)\n",
       "                  (drop_path): Identity()\n",
       "                )\n",
       "                (1): ConvNextLayer(\n",
       "                  (dwconv): Conv2d(512, 512, kernel_size=(7, 7), stride=(1, 1), padding=(3, 3), groups=512)\n",
       "                  (layernorm): ConvNextLayerNorm()\n",
       "                  (pwconv1): Linear(in_features=512, out_features=2048, bias=True)\n",
       "                  (act): GELUActivation()\n",
       "                  (pwconv2): Linear(in_features=2048, out_features=512, bias=True)\n",
       "                  (drop_path): Identity()\n",
       "                )\n",
       "                (2): ConvNextLayer(\n",
       "                  (dwconv): Conv2d(512, 512, kernel_size=(7, 7), stride=(1, 1), padding=(3, 3), groups=512)\n",
       "                  (layernorm): ConvNextLayerNorm()\n",
       "                  (pwconv1): Linear(in_features=512, out_features=2048, bias=True)\n",
       "                  (act): GELUActivation()\n",
       "                  (pwconv2): Linear(in_features=2048, out_features=512, bias=True)\n",
       "                  (drop_path): Identity()\n",
       "                )\n",
       "                (3): ConvNextLayer(\n",
       "                  (dwconv): Conv2d(512, 512, kernel_size=(7, 7), stride=(1, 1), padding=(3, 3), groups=512)\n",
       "                  (layernorm): ConvNextLayerNorm()\n",
       "                  (pwconv1): Linear(in_features=512, out_features=2048, bias=True)\n",
       "                  (act): GELUActivation()\n",
       "                  (pwconv2): Linear(in_features=2048, out_features=512, bias=True)\n",
       "                  (drop_path): Identity()\n",
       "                )\n",
       "                (4): ConvNextLayer(\n",
       "                  (dwconv): Conv2d(512, 512, kernel_size=(7, 7), stride=(1, 1), padding=(3, 3), groups=512)\n",
       "                  (layernorm): ConvNextLayerNorm()\n",
       "                  (pwconv1): Linear(in_features=512, out_features=2048, bias=True)\n",
       "                  (act): GELUActivation()\n",
       "                  (pwconv2): Linear(in_features=2048, out_features=512, bias=True)\n",
       "                  (drop_path): Identity()\n",
       "                )\n",
       "                (5): ConvNextLayer(\n",
       "                  (dwconv): Conv2d(512, 512, kernel_size=(7, 7), stride=(1, 1), padding=(3, 3), groups=512)\n",
       "                  (layernorm): ConvNextLayerNorm()\n",
       "                  (pwconv1): Linear(in_features=512, out_features=2048, bias=True)\n",
       "                  (act): GELUActivation()\n",
       "                  (pwconv2): Linear(in_features=2048, out_features=512, bias=True)\n",
       "                  (drop_path): Identity()\n",
       "                )\n",
       "                (6): ConvNextLayer(\n",
       "                  (dwconv): Conv2d(512, 512, kernel_size=(7, 7), stride=(1, 1), padding=(3, 3), groups=512)\n",
       "                  (layernorm): ConvNextLayerNorm()\n",
       "                  (pwconv1): Linear(in_features=512, out_features=2048, bias=True)\n",
       "                  (act): GELUActivation()\n",
       "                  (pwconv2): Linear(in_features=2048, out_features=512, bias=True)\n",
       "                  (drop_path): Identity()\n",
       "                )\n",
       "                (7): ConvNextLayer(\n",
       "                  (dwconv): Conv2d(512, 512, kernel_size=(7, 7), stride=(1, 1), padding=(3, 3), groups=512)\n",
       "                  (layernorm): ConvNextLayerNorm()\n",
       "                  (pwconv1): Linear(in_features=512, out_features=2048, bias=True)\n",
       "                  (act): GELUActivation()\n",
       "                  (pwconv2): Linear(in_features=2048, out_features=512, bias=True)\n",
       "                  (drop_path): Identity()\n",
       "                )\n",
       "                (8): ConvNextLayer(\n",
       "                  (dwconv): Conv2d(512, 512, kernel_size=(7, 7), stride=(1, 1), padding=(3, 3), groups=512)\n",
       "                  (layernorm): ConvNextLayerNorm()\n",
       "                  (pwconv1): Linear(in_features=512, out_features=2048, bias=True)\n",
       "                  (act): GELUActivation()\n",
       "                  (pwconv2): Linear(in_features=2048, out_features=512, bias=True)\n",
       "                  (drop_path): Identity()\n",
       "                )\n",
       "                (9): ConvNextLayer(\n",
       "                  (dwconv): Conv2d(512, 512, kernel_size=(7, 7), stride=(1, 1), padding=(3, 3), groups=512)\n",
       "                  (layernorm): ConvNextLayerNorm()\n",
       "                  (pwconv1): Linear(in_features=512, out_features=2048, bias=True)\n",
       "                  (act): GELUActivation()\n",
       "                  (pwconv2): Linear(in_features=2048, out_features=512, bias=True)\n",
       "                  (drop_path): Identity()\n",
       "                )\n",
       "                (10): ConvNextLayer(\n",
       "                  (dwconv): Conv2d(512, 512, kernel_size=(7, 7), stride=(1, 1), padding=(3, 3), groups=512)\n",
       "                  (layernorm): ConvNextLayerNorm()\n",
       "                  (pwconv1): Linear(in_features=512, out_features=2048, bias=True)\n",
       "                  (act): GELUActivation()\n",
       "                  (pwconv2): Linear(in_features=2048, out_features=512, bias=True)\n",
       "                  (drop_path): Identity()\n",
       "                )\n",
       "                (11): ConvNextLayer(\n",
       "                  (dwconv): Conv2d(512, 512, kernel_size=(7, 7), stride=(1, 1), padding=(3, 3), groups=512)\n",
       "                  (layernorm): ConvNextLayerNorm()\n",
       "                  (pwconv1): Linear(in_features=512, out_features=2048, bias=True)\n",
       "                  (act): GELUActivation()\n",
       "                  (pwconv2): Linear(in_features=2048, out_features=512, bias=True)\n",
       "                  (drop_path): Identity()\n",
       "                )\n",
       "                (12): ConvNextLayer(\n",
       "                  (dwconv): Conv2d(512, 512, kernel_size=(7, 7), stride=(1, 1), padding=(3, 3), groups=512)\n",
       "                  (layernorm): ConvNextLayerNorm()\n",
       "                  (pwconv1): Linear(in_features=512, out_features=2048, bias=True)\n",
       "                  (act): GELUActivation()\n",
       "                  (pwconv2): Linear(in_features=2048, out_features=512, bias=True)\n",
       "                  (drop_path): Identity()\n",
       "                )\n",
       "                (13): ConvNextLayer(\n",
       "                  (dwconv): Conv2d(512, 512, kernel_size=(7, 7), stride=(1, 1), padding=(3, 3), groups=512)\n",
       "                  (layernorm): ConvNextLayerNorm()\n",
       "                  (pwconv1): Linear(in_features=512, out_features=2048, bias=True)\n",
       "                  (act): GELUActivation()\n",
       "                  (pwconv2): Linear(in_features=2048, out_features=512, bias=True)\n",
       "                  (drop_path): Identity()\n",
       "                )\n",
       "                (14): ConvNextLayer(\n",
       "                  (dwconv): Conv2d(512, 512, kernel_size=(7, 7), stride=(1, 1), padding=(3, 3), groups=512)\n",
       "                  (layernorm): ConvNextLayerNorm()\n",
       "                  (pwconv1): Linear(in_features=512, out_features=2048, bias=True)\n",
       "                  (act): GELUActivation()\n",
       "                  (pwconv2): Linear(in_features=2048, out_features=512, bias=True)\n",
       "                  (drop_path): Identity()\n",
       "                )\n",
       "                (15): ConvNextLayer(\n",
       "                  (dwconv): Conv2d(512, 512, kernel_size=(7, 7), stride=(1, 1), padding=(3, 3), groups=512)\n",
       "                  (layernorm): ConvNextLayerNorm()\n",
       "                  (pwconv1): Linear(in_features=512, out_features=2048, bias=True)\n",
       "                  (act): GELUActivation()\n",
       "                  (pwconv2): Linear(in_features=2048, out_features=512, bias=True)\n",
       "                  (drop_path): Identity()\n",
       "                )\n",
       "                (16): ConvNextLayer(\n",
       "                  (dwconv): Conv2d(512, 512, kernel_size=(7, 7), stride=(1, 1), padding=(3, 3), groups=512)\n",
       "                  (layernorm): ConvNextLayerNorm()\n",
       "                  (pwconv1): Linear(in_features=512, out_features=2048, bias=True)\n",
       "                  (act): GELUActivation()\n",
       "                  (pwconv2): Linear(in_features=2048, out_features=512, bias=True)\n",
       "                  (drop_path): Identity()\n",
       "                )\n",
       "                (17): ConvNextLayer(\n",
       "                  (dwconv): Conv2d(512, 512, kernel_size=(7, 7), stride=(1, 1), padding=(3, 3), groups=512)\n",
       "                  (layernorm): ConvNextLayerNorm()\n",
       "                  (pwconv1): Linear(in_features=512, out_features=2048, bias=True)\n",
       "                  (act): GELUActivation()\n",
       "                  (pwconv2): Linear(in_features=2048, out_features=512, bias=True)\n",
       "                  (drop_path): Identity()\n",
       "                )\n",
       "                (18): ConvNextLayer(\n",
       "                  (dwconv): Conv2d(512, 512, kernel_size=(7, 7), stride=(1, 1), padding=(3, 3), groups=512)\n",
       "                  (layernorm): ConvNextLayerNorm()\n",
       "                  (pwconv1): Linear(in_features=512, out_features=2048, bias=True)\n",
       "                  (act): GELUActivation()\n",
       "                  (pwconv2): Linear(in_features=2048, out_features=512, bias=True)\n",
       "                  (drop_path): Identity()\n",
       "                )\n",
       "                (19): ConvNextLayer(\n",
       "                  (dwconv): Conv2d(512, 512, kernel_size=(7, 7), stride=(1, 1), padding=(3, 3), groups=512)\n",
       "                  (layernorm): ConvNextLayerNorm()\n",
       "                  (pwconv1): Linear(in_features=512, out_features=2048, bias=True)\n",
       "                  (act): GELUActivation()\n",
       "                  (pwconv2): Linear(in_features=2048, out_features=512, bias=True)\n",
       "                  (drop_path): Identity()\n",
       "                )\n",
       "                (20): ConvNextLayer(\n",
       "                  (dwconv): Conv2d(512, 512, kernel_size=(7, 7), stride=(1, 1), padding=(3, 3), groups=512)\n",
       "                  (layernorm): ConvNextLayerNorm()\n",
       "                  (pwconv1): Linear(in_features=512, out_features=2048, bias=True)\n",
       "                  (act): GELUActivation()\n",
       "                  (pwconv2): Linear(in_features=2048, out_features=512, bias=True)\n",
       "                  (drop_path): Identity()\n",
       "                )\n",
       "                (21): ConvNextLayer(\n",
       "                  (dwconv): Conv2d(512, 512, kernel_size=(7, 7), stride=(1, 1), padding=(3, 3), groups=512)\n",
       "                  (layernorm): ConvNextLayerNorm()\n",
       "                  (pwconv1): Linear(in_features=512, out_features=2048, bias=True)\n",
       "                  (act): GELUActivation()\n",
       "                  (pwconv2): Linear(in_features=2048, out_features=512, bias=True)\n",
       "                  (drop_path): Identity()\n",
       "                )\n",
       "                (22): ConvNextLayer(\n",
       "                  (dwconv): Conv2d(512, 512, kernel_size=(7, 7), stride=(1, 1), padding=(3, 3), groups=512)\n",
       "                  (layernorm): ConvNextLayerNorm()\n",
       "                  (pwconv1): Linear(in_features=512, out_features=2048, bias=True)\n",
       "                  (act): GELUActivation()\n",
       "                  (pwconv2): Linear(in_features=2048, out_features=512, bias=True)\n",
       "                  (drop_path): Identity()\n",
       "                )\n",
       "                (23): ConvNextLayer(\n",
       "                  (dwconv): Conv2d(512, 512, kernel_size=(7, 7), stride=(1, 1), padding=(3, 3), groups=512)\n",
       "                  (layernorm): ConvNextLayerNorm()\n",
       "                  (pwconv1): Linear(in_features=512, out_features=2048, bias=True)\n",
       "                  (act): GELUActivation()\n",
       "                  (pwconv2): Linear(in_features=2048, out_features=512, bias=True)\n",
       "                  (drop_path): Identity()\n",
       "                )\n",
       "                (24): ConvNextLayer(\n",
       "                  (dwconv): Conv2d(512, 512, kernel_size=(7, 7), stride=(1, 1), padding=(3, 3), groups=512)\n",
       "                  (layernorm): ConvNextLayerNorm()\n",
       "                  (pwconv1): Linear(in_features=512, out_features=2048, bias=True)\n",
       "                  (act): GELUActivation()\n",
       "                  (pwconv2): Linear(in_features=2048, out_features=512, bias=True)\n",
       "                  (drop_path): Identity()\n",
       "                )\n",
       "                (25): ConvNextLayer(\n",
       "                  (dwconv): Conv2d(512, 512, kernel_size=(7, 7), stride=(1, 1), padding=(3, 3), groups=512)\n",
       "                  (layernorm): ConvNextLayerNorm()\n",
       "                  (pwconv1): Linear(in_features=512, out_features=2048, bias=True)\n",
       "                  (act): GELUActivation()\n",
       "                  (pwconv2): Linear(in_features=2048, out_features=512, bias=True)\n",
       "                  (drop_path): Identity()\n",
       "                )\n",
       "                (26): ConvNextLayer(\n",
       "                  (dwconv): Conv2d(512, 512, kernel_size=(7, 7), stride=(1, 1), padding=(3, 3), groups=512)\n",
       "                  (layernorm): ConvNextLayerNorm()\n",
       "                  (pwconv1): Linear(in_features=512, out_features=2048, bias=True)\n",
       "                  (act): GELUActivation()\n",
       "                  (pwconv2): Linear(in_features=2048, out_features=512, bias=True)\n",
       "                  (drop_path): Identity()\n",
       "                )\n",
       "              )\n",
       "            )\n",
       "            (3): ConvNextStage(\n",
       "              (downsampling_layer): Sequential(\n",
       "                (0): ConvNextLayerNorm()\n",
       "                (1): Conv2d(512, 1024, kernel_size=(2, 2), stride=(2, 2))\n",
       "              )\n",
       "              (layers): Sequential(\n",
       "                (0): ConvNextLayer(\n",
       "                  (dwconv): Conv2d(1024, 1024, kernel_size=(7, 7), stride=(1, 1), padding=(3, 3), groups=1024)\n",
       "                  (layernorm): ConvNextLayerNorm()\n",
       "                  (pwconv1): Linear(in_features=1024, out_features=4096, bias=True)\n",
       "                  (act): GELUActivation()\n",
       "                  (pwconv2): Linear(in_features=4096, out_features=1024, bias=True)\n",
       "                  (drop_path): Identity()\n",
       "                )\n",
       "                (1): ConvNextLayer(\n",
       "                  (dwconv): Conv2d(1024, 1024, kernel_size=(7, 7), stride=(1, 1), padding=(3, 3), groups=1024)\n",
       "                  (layernorm): ConvNextLayerNorm()\n",
       "                  (pwconv1): Linear(in_features=1024, out_features=4096, bias=True)\n",
       "                  (act): GELUActivation()\n",
       "                  (pwconv2): Linear(in_features=4096, out_features=1024, bias=True)\n",
       "                  (drop_path): Identity()\n",
       "                )\n",
       "                (2): ConvNextLayer(\n",
       "                  (dwconv): Conv2d(1024, 1024, kernel_size=(7, 7), stride=(1, 1), padding=(3, 3), groups=1024)\n",
       "                  (layernorm): ConvNextLayerNorm()\n",
       "                  (pwconv1): Linear(in_features=1024, out_features=4096, bias=True)\n",
       "                  (act): GELUActivation()\n",
       "                  (pwconv2): Linear(in_features=4096, out_features=1024, bias=True)\n",
       "                  (drop_path): Identity()\n",
       "                )\n",
       "              )\n",
       "            )\n",
       "          )\n",
       "        )\n",
       "        (layernorm): LayerNorm((1024,), eps=1e-12, elementwise_affine=True)\n",
       "      )\n",
       "      (classifier): Linear(in_features=1024, out_features=21, bias=True)\n",
       "    )\n",
       "  )\n",
       "  (train_metric): cmAP()\n",
       "  (valid_metric): cmAP()\n",
       "  (test_metric): cmAP()\n",
       "  (valid_metric_best): MaxMetric()\n",
       "  (valid_add_metrics): MetricCollection(\n",
       "    (MultilabelAUROC): MultilabelAUROC()\n",
       "    (T1Accuracy): TopKAccuracy()\n",
       "    (T3Accuracy): TopKAccuracy()\n",
       "    (mAP): mAP(),\n",
       "    prefix=val/\n",
       "  )\n",
       "  (test_add_metrics): MetricCollection(\n",
       "    (MultilabelAUROC): MultilabelAUROC()\n",
       "    (T1Accuracy): TopKAccuracy()\n",
       "    (T3Accuracy): TopKAccuracy()\n",
       "    (mAP): mAP(),\n",
       "    prefix=test/\n",
       "  )\n",
       "  (test_complete_metrics): MetricCollection(\n",
       "    (cmAP5): cmAP5(\n",
       "      (multilabel_ap): MultilabelAveragePrecision()\n",
       "    )\n",
       "    (pcmAP): pcmAP(),\n",
       "    prefix=test/\n",
       "  )\n",
       ")"
      ]
     },
     "execution_count": 187,
     "metadata": {},
     "output_type": "execute_result"
    }
   ],
   "source": [
    "from birdset.modules.models.convnext import ConvNextClassifier\n",
    "from birdset.modules.multilabel_module import MultilabelModule\n",
    "from birdset.configs import (\n",
    "    NetworkConfig,\n",
    ")\n",
    "\n",
    "network = NetworkConfig(\n",
    "    model=ConvNextClassifier(\n",
    "        checkpoint=\"DBD-research-group/ConvNeXT-Base-BirdSet-XCL\",\n",
    "        num_classes=datamodule.num_classes,\n",
    "        num_channels=1,\n",
    "    ),\n",
    "    model_name=\"convnext\",\n",
    "    model_type=\"vision\",\n",
    ")\n",
    "\n",
    "model = MultilabelModule(\n",
    "    network=network,\n",
    "    num_epochs=5,\n",
    "    len_trainset=datamodule.len_trainset,\n",
    "    task=datamodule.task,\n",
    "    batch_size=datamodule.train_batch_size,\n",
    ")\n",
    "\n",
    "model"
   ]
  },
  {
   "cell_type": "markdown",
   "metadata": {},
   "source": [
    "### Loading Models through Hugging Face\n",
    "\n",
    "Loading a model through Hugging Face and then training it using a Lightning trainer is a bit more work as the trainer expects a `LightningModule`. This means that we need to wrap the model in such a module."
   ]
  },
  {
   "cell_type": "code",
   "execution_count": 188,
   "metadata": {},
   "outputs": [
    {
     "name": "stderr",
     "output_type": "stream",
     "text": [
      "Some weights of ConvNextForImageClassification were not initialized from the model checkpoint at DBD-research-group/ConvNeXT-Base-BirdSet-XCL and are newly initialized because the shapes did not match:\n",
      "- classifier.bias: found shape torch.Size([9736]) in the checkpoint and torch.Size([21]) in the model instantiated\n",
      "- classifier.weight: found shape torch.Size([9736, 1024]) in the checkpoint and torch.Size([21, 1024]) in the model instantiated\n",
      "You should probably TRAIN this model on a down-stream task to be able to use it for predictions and inference.\n"
     ]
    },
    {
     "data": {
      "text/plain": [
       "ConvNextClassifierLightningModule(\n",
       "  (model): ConvNextForImageClassification(\n",
       "    (convnext): ConvNextModel(\n",
       "      (embeddings): ConvNextEmbeddings(\n",
       "        (patch_embeddings): Conv2d(1, 128, kernel_size=(4, 4), stride=(4, 4))\n",
       "        (layernorm): ConvNextLayerNorm()\n",
       "      )\n",
       "      (encoder): ConvNextEncoder(\n",
       "        (stages): ModuleList(\n",
       "          (0): ConvNextStage(\n",
       "            (downsampling_layer): Identity()\n",
       "            (layers): Sequential(\n",
       "              (0): ConvNextLayer(\n",
       "                (dwconv): Conv2d(128, 128, kernel_size=(7, 7), stride=(1, 1), padding=(3, 3), groups=128)\n",
       "                (layernorm): ConvNextLayerNorm()\n",
       "                (pwconv1): Linear(in_features=128, out_features=512, bias=True)\n",
       "                (act): GELUActivation()\n",
       "                (pwconv2): Linear(in_features=512, out_features=128, bias=True)\n",
       "                (drop_path): Identity()\n",
       "              )\n",
       "              (1): ConvNextLayer(\n",
       "                (dwconv): Conv2d(128, 128, kernel_size=(7, 7), stride=(1, 1), padding=(3, 3), groups=128)\n",
       "                (layernorm): ConvNextLayerNorm()\n",
       "                (pwconv1): Linear(in_features=128, out_features=512, bias=True)\n",
       "                (act): GELUActivation()\n",
       "                (pwconv2): Linear(in_features=512, out_features=128, bias=True)\n",
       "                (drop_path): Identity()\n",
       "              )\n",
       "              (2): ConvNextLayer(\n",
       "                (dwconv): Conv2d(128, 128, kernel_size=(7, 7), stride=(1, 1), padding=(3, 3), groups=128)\n",
       "                (layernorm): ConvNextLayerNorm()\n",
       "                (pwconv1): Linear(in_features=128, out_features=512, bias=True)\n",
       "                (act): GELUActivation()\n",
       "                (pwconv2): Linear(in_features=512, out_features=128, bias=True)\n",
       "                (drop_path): Identity()\n",
       "              )\n",
       "            )\n",
       "          )\n",
       "          (1): ConvNextStage(\n",
       "            (downsampling_layer): Sequential(\n",
       "              (0): ConvNextLayerNorm()\n",
       "              (1): Conv2d(128, 256, kernel_size=(2, 2), stride=(2, 2))\n",
       "            )\n",
       "            (layers): Sequential(\n",
       "              (0): ConvNextLayer(\n",
       "                (dwconv): Conv2d(256, 256, kernel_size=(7, 7), stride=(1, 1), padding=(3, 3), groups=256)\n",
       "                (layernorm): ConvNextLayerNorm()\n",
       "                (pwconv1): Linear(in_features=256, out_features=1024, bias=True)\n",
       "                (act): GELUActivation()\n",
       "                (pwconv2): Linear(in_features=1024, out_features=256, bias=True)\n",
       "                (drop_path): Identity()\n",
       "              )\n",
       "              (1): ConvNextLayer(\n",
       "                (dwconv): Conv2d(256, 256, kernel_size=(7, 7), stride=(1, 1), padding=(3, 3), groups=256)\n",
       "                (layernorm): ConvNextLayerNorm()\n",
       "                (pwconv1): Linear(in_features=256, out_features=1024, bias=True)\n",
       "                (act): GELUActivation()\n",
       "                (pwconv2): Linear(in_features=1024, out_features=256, bias=True)\n",
       "                (drop_path): Identity()\n",
       "              )\n",
       "              (2): ConvNextLayer(\n",
       "                (dwconv): Conv2d(256, 256, kernel_size=(7, 7), stride=(1, 1), padding=(3, 3), groups=256)\n",
       "                (layernorm): ConvNextLayerNorm()\n",
       "                (pwconv1): Linear(in_features=256, out_features=1024, bias=True)\n",
       "                (act): GELUActivation()\n",
       "                (pwconv2): Linear(in_features=1024, out_features=256, bias=True)\n",
       "                (drop_path): Identity()\n",
       "              )\n",
       "            )\n",
       "          )\n",
       "          (2): ConvNextStage(\n",
       "            (downsampling_layer): Sequential(\n",
       "              (0): ConvNextLayerNorm()\n",
       "              (1): Conv2d(256, 512, kernel_size=(2, 2), stride=(2, 2))\n",
       "            )\n",
       "            (layers): Sequential(\n",
       "              (0): ConvNextLayer(\n",
       "                (dwconv): Conv2d(512, 512, kernel_size=(7, 7), stride=(1, 1), padding=(3, 3), groups=512)\n",
       "                (layernorm): ConvNextLayerNorm()\n",
       "                (pwconv1): Linear(in_features=512, out_features=2048, bias=True)\n",
       "                (act): GELUActivation()\n",
       "                (pwconv2): Linear(in_features=2048, out_features=512, bias=True)\n",
       "                (drop_path): Identity()\n",
       "              )\n",
       "              (1): ConvNextLayer(\n",
       "                (dwconv): Conv2d(512, 512, kernel_size=(7, 7), stride=(1, 1), padding=(3, 3), groups=512)\n",
       "                (layernorm): ConvNextLayerNorm()\n",
       "                (pwconv1): Linear(in_features=512, out_features=2048, bias=True)\n",
       "                (act): GELUActivation()\n",
       "                (pwconv2): Linear(in_features=2048, out_features=512, bias=True)\n",
       "                (drop_path): Identity()\n",
       "              )\n",
       "              (2): ConvNextLayer(\n",
       "                (dwconv): Conv2d(512, 512, kernel_size=(7, 7), stride=(1, 1), padding=(3, 3), groups=512)\n",
       "                (layernorm): ConvNextLayerNorm()\n",
       "                (pwconv1): Linear(in_features=512, out_features=2048, bias=True)\n",
       "                (act): GELUActivation()\n",
       "                (pwconv2): Linear(in_features=2048, out_features=512, bias=True)\n",
       "                (drop_path): Identity()\n",
       "              )\n",
       "              (3): ConvNextLayer(\n",
       "                (dwconv): Conv2d(512, 512, kernel_size=(7, 7), stride=(1, 1), padding=(3, 3), groups=512)\n",
       "                (layernorm): ConvNextLayerNorm()\n",
       "                (pwconv1): Linear(in_features=512, out_features=2048, bias=True)\n",
       "                (act): GELUActivation()\n",
       "                (pwconv2): Linear(in_features=2048, out_features=512, bias=True)\n",
       "                (drop_path): Identity()\n",
       "              )\n",
       "              (4): ConvNextLayer(\n",
       "                (dwconv): Conv2d(512, 512, kernel_size=(7, 7), stride=(1, 1), padding=(3, 3), groups=512)\n",
       "                (layernorm): ConvNextLayerNorm()\n",
       "                (pwconv1): Linear(in_features=512, out_features=2048, bias=True)\n",
       "                (act): GELUActivation()\n",
       "                (pwconv2): Linear(in_features=2048, out_features=512, bias=True)\n",
       "                (drop_path): Identity()\n",
       "              )\n",
       "              (5): ConvNextLayer(\n",
       "                (dwconv): Conv2d(512, 512, kernel_size=(7, 7), stride=(1, 1), padding=(3, 3), groups=512)\n",
       "                (layernorm): ConvNextLayerNorm()\n",
       "                (pwconv1): Linear(in_features=512, out_features=2048, bias=True)\n",
       "                (act): GELUActivation()\n",
       "                (pwconv2): Linear(in_features=2048, out_features=512, bias=True)\n",
       "                (drop_path): Identity()\n",
       "              )\n",
       "              (6): ConvNextLayer(\n",
       "                (dwconv): Conv2d(512, 512, kernel_size=(7, 7), stride=(1, 1), padding=(3, 3), groups=512)\n",
       "                (layernorm): ConvNextLayerNorm()\n",
       "                (pwconv1): Linear(in_features=512, out_features=2048, bias=True)\n",
       "                (act): GELUActivation()\n",
       "                (pwconv2): Linear(in_features=2048, out_features=512, bias=True)\n",
       "                (drop_path): Identity()\n",
       "              )\n",
       "              (7): ConvNextLayer(\n",
       "                (dwconv): Conv2d(512, 512, kernel_size=(7, 7), stride=(1, 1), padding=(3, 3), groups=512)\n",
       "                (layernorm): ConvNextLayerNorm()\n",
       "                (pwconv1): Linear(in_features=512, out_features=2048, bias=True)\n",
       "                (act): GELUActivation()\n",
       "                (pwconv2): Linear(in_features=2048, out_features=512, bias=True)\n",
       "                (drop_path): Identity()\n",
       "              )\n",
       "              (8): ConvNextLayer(\n",
       "                (dwconv): Conv2d(512, 512, kernel_size=(7, 7), stride=(1, 1), padding=(3, 3), groups=512)\n",
       "                (layernorm): ConvNextLayerNorm()\n",
       "                (pwconv1): Linear(in_features=512, out_features=2048, bias=True)\n",
       "                (act): GELUActivation()\n",
       "                (pwconv2): Linear(in_features=2048, out_features=512, bias=True)\n",
       "                (drop_path): Identity()\n",
       "              )\n",
       "              (9): ConvNextLayer(\n",
       "                (dwconv): Conv2d(512, 512, kernel_size=(7, 7), stride=(1, 1), padding=(3, 3), groups=512)\n",
       "                (layernorm): ConvNextLayerNorm()\n",
       "                (pwconv1): Linear(in_features=512, out_features=2048, bias=True)\n",
       "                (act): GELUActivation()\n",
       "                (pwconv2): Linear(in_features=2048, out_features=512, bias=True)\n",
       "                (drop_path): Identity()\n",
       "              )\n",
       "              (10): ConvNextLayer(\n",
       "                (dwconv): Conv2d(512, 512, kernel_size=(7, 7), stride=(1, 1), padding=(3, 3), groups=512)\n",
       "                (layernorm): ConvNextLayerNorm()\n",
       "                (pwconv1): Linear(in_features=512, out_features=2048, bias=True)\n",
       "                (act): GELUActivation()\n",
       "                (pwconv2): Linear(in_features=2048, out_features=512, bias=True)\n",
       "                (drop_path): Identity()\n",
       "              )\n",
       "              (11): ConvNextLayer(\n",
       "                (dwconv): Conv2d(512, 512, kernel_size=(7, 7), stride=(1, 1), padding=(3, 3), groups=512)\n",
       "                (layernorm): ConvNextLayerNorm()\n",
       "                (pwconv1): Linear(in_features=512, out_features=2048, bias=True)\n",
       "                (act): GELUActivation()\n",
       "                (pwconv2): Linear(in_features=2048, out_features=512, bias=True)\n",
       "                (drop_path): Identity()\n",
       "              )\n",
       "              (12): ConvNextLayer(\n",
       "                (dwconv): Conv2d(512, 512, kernel_size=(7, 7), stride=(1, 1), padding=(3, 3), groups=512)\n",
       "                (layernorm): ConvNextLayerNorm()\n",
       "                (pwconv1): Linear(in_features=512, out_features=2048, bias=True)\n",
       "                (act): GELUActivation()\n",
       "                (pwconv2): Linear(in_features=2048, out_features=512, bias=True)\n",
       "                (drop_path): Identity()\n",
       "              )\n",
       "              (13): ConvNextLayer(\n",
       "                (dwconv): Conv2d(512, 512, kernel_size=(7, 7), stride=(1, 1), padding=(3, 3), groups=512)\n",
       "                (layernorm): ConvNextLayerNorm()\n",
       "                (pwconv1): Linear(in_features=512, out_features=2048, bias=True)\n",
       "                (act): GELUActivation()\n",
       "                (pwconv2): Linear(in_features=2048, out_features=512, bias=True)\n",
       "                (drop_path): Identity()\n",
       "              )\n",
       "              (14): ConvNextLayer(\n",
       "                (dwconv): Conv2d(512, 512, kernel_size=(7, 7), stride=(1, 1), padding=(3, 3), groups=512)\n",
       "                (layernorm): ConvNextLayerNorm()\n",
       "                (pwconv1): Linear(in_features=512, out_features=2048, bias=True)\n",
       "                (act): GELUActivation()\n",
       "                (pwconv2): Linear(in_features=2048, out_features=512, bias=True)\n",
       "                (drop_path): Identity()\n",
       "              )\n",
       "              (15): ConvNextLayer(\n",
       "                (dwconv): Conv2d(512, 512, kernel_size=(7, 7), stride=(1, 1), padding=(3, 3), groups=512)\n",
       "                (layernorm): ConvNextLayerNorm()\n",
       "                (pwconv1): Linear(in_features=512, out_features=2048, bias=True)\n",
       "                (act): GELUActivation()\n",
       "                (pwconv2): Linear(in_features=2048, out_features=512, bias=True)\n",
       "                (drop_path): Identity()\n",
       "              )\n",
       "              (16): ConvNextLayer(\n",
       "                (dwconv): Conv2d(512, 512, kernel_size=(7, 7), stride=(1, 1), padding=(3, 3), groups=512)\n",
       "                (layernorm): ConvNextLayerNorm()\n",
       "                (pwconv1): Linear(in_features=512, out_features=2048, bias=True)\n",
       "                (act): GELUActivation()\n",
       "                (pwconv2): Linear(in_features=2048, out_features=512, bias=True)\n",
       "                (drop_path): Identity()\n",
       "              )\n",
       "              (17): ConvNextLayer(\n",
       "                (dwconv): Conv2d(512, 512, kernel_size=(7, 7), stride=(1, 1), padding=(3, 3), groups=512)\n",
       "                (layernorm): ConvNextLayerNorm()\n",
       "                (pwconv1): Linear(in_features=512, out_features=2048, bias=True)\n",
       "                (act): GELUActivation()\n",
       "                (pwconv2): Linear(in_features=2048, out_features=512, bias=True)\n",
       "                (drop_path): Identity()\n",
       "              )\n",
       "              (18): ConvNextLayer(\n",
       "                (dwconv): Conv2d(512, 512, kernel_size=(7, 7), stride=(1, 1), padding=(3, 3), groups=512)\n",
       "                (layernorm): ConvNextLayerNorm()\n",
       "                (pwconv1): Linear(in_features=512, out_features=2048, bias=True)\n",
       "                (act): GELUActivation()\n",
       "                (pwconv2): Linear(in_features=2048, out_features=512, bias=True)\n",
       "                (drop_path): Identity()\n",
       "              )\n",
       "              (19): ConvNextLayer(\n",
       "                (dwconv): Conv2d(512, 512, kernel_size=(7, 7), stride=(1, 1), padding=(3, 3), groups=512)\n",
       "                (layernorm): ConvNextLayerNorm()\n",
       "                (pwconv1): Linear(in_features=512, out_features=2048, bias=True)\n",
       "                (act): GELUActivation()\n",
       "                (pwconv2): Linear(in_features=2048, out_features=512, bias=True)\n",
       "                (drop_path): Identity()\n",
       "              )\n",
       "              (20): ConvNextLayer(\n",
       "                (dwconv): Conv2d(512, 512, kernel_size=(7, 7), stride=(1, 1), padding=(3, 3), groups=512)\n",
       "                (layernorm): ConvNextLayerNorm()\n",
       "                (pwconv1): Linear(in_features=512, out_features=2048, bias=True)\n",
       "                (act): GELUActivation()\n",
       "                (pwconv2): Linear(in_features=2048, out_features=512, bias=True)\n",
       "                (drop_path): Identity()\n",
       "              )\n",
       "              (21): ConvNextLayer(\n",
       "                (dwconv): Conv2d(512, 512, kernel_size=(7, 7), stride=(1, 1), padding=(3, 3), groups=512)\n",
       "                (layernorm): ConvNextLayerNorm()\n",
       "                (pwconv1): Linear(in_features=512, out_features=2048, bias=True)\n",
       "                (act): GELUActivation()\n",
       "                (pwconv2): Linear(in_features=2048, out_features=512, bias=True)\n",
       "                (drop_path): Identity()\n",
       "              )\n",
       "              (22): ConvNextLayer(\n",
       "                (dwconv): Conv2d(512, 512, kernel_size=(7, 7), stride=(1, 1), padding=(3, 3), groups=512)\n",
       "                (layernorm): ConvNextLayerNorm()\n",
       "                (pwconv1): Linear(in_features=512, out_features=2048, bias=True)\n",
       "                (act): GELUActivation()\n",
       "                (pwconv2): Linear(in_features=2048, out_features=512, bias=True)\n",
       "                (drop_path): Identity()\n",
       "              )\n",
       "              (23): ConvNextLayer(\n",
       "                (dwconv): Conv2d(512, 512, kernel_size=(7, 7), stride=(1, 1), padding=(3, 3), groups=512)\n",
       "                (layernorm): ConvNextLayerNorm()\n",
       "                (pwconv1): Linear(in_features=512, out_features=2048, bias=True)\n",
       "                (act): GELUActivation()\n",
       "                (pwconv2): Linear(in_features=2048, out_features=512, bias=True)\n",
       "                (drop_path): Identity()\n",
       "              )\n",
       "              (24): ConvNextLayer(\n",
       "                (dwconv): Conv2d(512, 512, kernel_size=(7, 7), stride=(1, 1), padding=(3, 3), groups=512)\n",
       "                (layernorm): ConvNextLayerNorm()\n",
       "                (pwconv1): Linear(in_features=512, out_features=2048, bias=True)\n",
       "                (act): GELUActivation()\n",
       "                (pwconv2): Linear(in_features=2048, out_features=512, bias=True)\n",
       "                (drop_path): Identity()\n",
       "              )\n",
       "              (25): ConvNextLayer(\n",
       "                (dwconv): Conv2d(512, 512, kernel_size=(7, 7), stride=(1, 1), padding=(3, 3), groups=512)\n",
       "                (layernorm): ConvNextLayerNorm()\n",
       "                (pwconv1): Linear(in_features=512, out_features=2048, bias=True)\n",
       "                (act): GELUActivation()\n",
       "                (pwconv2): Linear(in_features=2048, out_features=512, bias=True)\n",
       "                (drop_path): Identity()\n",
       "              )\n",
       "              (26): ConvNextLayer(\n",
       "                (dwconv): Conv2d(512, 512, kernel_size=(7, 7), stride=(1, 1), padding=(3, 3), groups=512)\n",
       "                (layernorm): ConvNextLayerNorm()\n",
       "                (pwconv1): Linear(in_features=512, out_features=2048, bias=True)\n",
       "                (act): GELUActivation()\n",
       "                (pwconv2): Linear(in_features=2048, out_features=512, bias=True)\n",
       "                (drop_path): Identity()\n",
       "              )\n",
       "            )\n",
       "          )\n",
       "          (3): ConvNextStage(\n",
       "            (downsampling_layer): Sequential(\n",
       "              (0): ConvNextLayerNorm()\n",
       "              (1): Conv2d(512, 1024, kernel_size=(2, 2), stride=(2, 2))\n",
       "            )\n",
       "            (layers): Sequential(\n",
       "              (0): ConvNextLayer(\n",
       "                (dwconv): Conv2d(1024, 1024, kernel_size=(7, 7), stride=(1, 1), padding=(3, 3), groups=1024)\n",
       "                (layernorm): ConvNextLayerNorm()\n",
       "                (pwconv1): Linear(in_features=1024, out_features=4096, bias=True)\n",
       "                (act): GELUActivation()\n",
       "                (pwconv2): Linear(in_features=4096, out_features=1024, bias=True)\n",
       "                (drop_path): Identity()\n",
       "              )\n",
       "              (1): ConvNextLayer(\n",
       "                (dwconv): Conv2d(1024, 1024, kernel_size=(7, 7), stride=(1, 1), padding=(3, 3), groups=1024)\n",
       "                (layernorm): ConvNextLayerNorm()\n",
       "                (pwconv1): Linear(in_features=1024, out_features=4096, bias=True)\n",
       "                (act): GELUActivation()\n",
       "                (pwconv2): Linear(in_features=4096, out_features=1024, bias=True)\n",
       "                (drop_path): Identity()\n",
       "              )\n",
       "              (2): ConvNextLayer(\n",
       "                (dwconv): Conv2d(1024, 1024, kernel_size=(7, 7), stride=(1, 1), padding=(3, 3), groups=1024)\n",
       "                (layernorm): ConvNextLayerNorm()\n",
       "                (pwconv1): Linear(in_features=1024, out_features=4096, bias=True)\n",
       "                (act): GELUActivation()\n",
       "                (pwconv2): Linear(in_features=4096, out_features=1024, bias=True)\n",
       "                (drop_path): Identity()\n",
       "              )\n",
       "            )\n",
       "          )\n",
       "        )\n",
       "      )\n",
       "      (layernorm): LayerNorm((1024,), eps=1e-12, elementwise_affine=True)\n",
       "    )\n",
       "    (classifier): Linear(in_features=1024, out_features=21, bias=True)\n",
       "  )\n",
       "  (loss): BCEWithLogitsLoss()\n",
       "  (main_metric): cmAP()\n",
       "  (other_metrics): MetricCollection(\n",
       "    (MultilabelAUROC): MultilabelAUROC()\n",
       "    (T1Accuracy): TopKAccuracy()\n",
       "  )\n",
       ")"
      ]
     },
     "execution_count": 188,
     "metadata": {},
     "output_type": "execute_result"
    }
   ],
   "source": [
    "# ConvNextClassifierLightningModule is a custom class defined in the \"Helper\" section\n",
    "# HSN contains 21 classes\n",
    "model = ConvNextClassifierLightningModule(21, num_epochs=5)\n",
    "model"
   ]
  },
  {
   "cell_type": "markdown",
   "metadata": {},
   "source": [
    "## Starting Fine-Tuning with a Lightning Trainer\n",
    "\n",
    "Now that the model and dataset are loaded the trainer needs to be configured. As before the trainer here is configured similar to how it would be in a BirdSet training although it is simplified for the use in this notebook. The `ModelCheckpoint` callback allows the easy selection of models after the evaluation.\n",
    "\n",
    "Please note that the trainer is configured to only two epochs of training and validation. If you get errors regarding the usage of hardware resources you can try to lower the batch size or the numver of workers in the datamodules."
   ]
  },
  {
   "cell_type": "code",
   "execution_count": 193,
   "metadata": {},
   "outputs": [
    {
     "name": "stderr",
     "output_type": "stream",
     "text": [
      "/workspace/.venv/lib/python3.10/site-packages/lightning/fabric/connector.py:572: `precision=16` is supported for historical reasons but its usage is discouraged. Please set your precision to 16-mixed instead!\n",
      "Trainer will use only 1 of 4 GPUs because it is running inside an interactive / notebook environment. You may try to set `Trainer(devices=4)` but please note that multi-GPU inside interactive / notebook environments is considered experimental and unstable. Your mileage may vary.\n",
      "Using 16bit Automatic Mixed Precision (AMP)\n",
      "Trainer already configured with model summary callbacks: [<class 'lightning.pytorch.callbacks.rich_model_summary.RichModelSummary'>]. Skipping setting a default `ModelSummary` callback.\n",
      "GPU available: True (cuda), used: True\n",
      "TPU available: False, using: 0 TPU cores\n",
      "HPU available: False, using: 0 HPUs\n"
     ]
    }
   ],
   "source": [
    "import lightning as L\n",
    "from lightning.pytorch.callbacks import ModelCheckpoint\n",
    "from lightning.pytorch.callbacks import RichModelSummary\n",
    "\n",
    "model_checkpoint = ModelCheckpoint(\n",
    "    dirpath=CHECKPOINT_PATH,\n",
    "    monitor=\"val/BCEWithLogitsLoss\",\n",
    "    verbose=False,\n",
    "    save_last=False,\n",
    "    save_top_k=2,\n",
    "    mode=\"min\",\n",
    "    auto_insert_metric_name=False,\n",
    "    save_weights_only=False,\n",
    "    every_n_train_steps=None,\n",
    "    train_time_interval=None,\n",
    "    every_n_epochs=1,\n",
    "    save_on_train_epoch_end=None,\n",
    ")\n",
    "\n",
    "rich_model_summary = RichModelSummary(max_depth=1)\n",
    "\n",
    "trainer = L.Trainer(\n",
    "    min_epochs=1,\n",
    "    max_epochs=2,\n",
    "    gradient_clip_val=0.5,\n",
    "    precision=16,\n",
    "    accumulate_grad_batches=1,\n",
    "    callbacks=[model_checkpoint, rich_model_summary],\n",
    ")"
   ]
  },
  {
   "cell_type": "markdown",
   "metadata": {},
   "source": [
    "Now that the trainer is configured the model can be fine-tuned."
   ]
  },
  {
   "cell_type": "code",
   "execution_count": 194,
   "metadata": {},
   "outputs": [
    {
     "name": "stderr",
     "output_type": "stream",
     "text": [
      "/workspace/.venv/lib/python3.10/site-packages/lightning/pytorch/callbacks/model_checkpoint.py:654: Checkpoint directory /workspace/notebooks/tutorials exists and is not empty.\n",
      "LOCAL_RANK: 0 - CUDA_VISIBLE_DEVICES: [0,1,2,3]\n",
      "/workspace/.venv/lib/python3.10/site-packages/transformers/optimization.py:429: FutureWarning: This implementation of AdamW is deprecated and will be removed in a future version. Use the PyTorch implementation torch.optim.AdamW instead, or set `no_deprecation_warning=True` to disable this warning\n",
      "  warnings.warn(\n"
     ]
    },
    {
     "data": {
      "text/html": [
       "<pre style=\"white-space:pre;overflow-x:auto;line-height:normal;font-family:Menlo,'DejaVu Sans Mono',consolas,'Courier New',monospace\">┏━━━┳━━━━━━━━━━━━━━━┳━━━━━━━━━━━━━━━━━━━━━━━━━━━━━━━━┳━━━━━━━━┳━━━━━━━┓\n",
       "┃<span style=\"color: #800080; text-decoration-color: #800080; font-weight: bold\">   </span>┃<span style=\"color: #800080; text-decoration-color: #800080; font-weight: bold\"> Name          </span>┃<span style=\"color: #800080; text-decoration-color: #800080; font-weight: bold\"> Type                           </span>┃<span style=\"color: #800080; text-decoration-color: #800080; font-weight: bold\"> Params </span>┃<span style=\"color: #800080; text-decoration-color: #800080; font-weight: bold\"> Mode  </span>┃\n",
       "┡━━━╇━━━━━━━━━━━━━━━╇━━━━━━━━━━━━━━━━━━━━━━━━━━━━━━━━╇━━━━━━━━╇━━━━━━━┩\n",
       "│<span style=\"color: #7f7f7f; text-decoration-color: #7f7f7f\"> 0 </span>│ model         │ ConvNextForImageClassification │ 87.6 M │ eval  │\n",
       "│<span style=\"color: #7f7f7f; text-decoration-color: #7f7f7f\"> 1 </span>│ loss          │ BCEWithLogitsLoss              │      0 │ train │\n",
       "│<span style=\"color: #7f7f7f; text-decoration-color: #7f7f7f\"> 2 </span>│ main_metric   │ cmAP                           │      0 │ train │\n",
       "│<span style=\"color: #7f7f7f; text-decoration-color: #7f7f7f\"> 3 </span>│ other_metrics │ MetricCollection               │      0 │ train │\n",
       "└───┴───────────────┴────────────────────────────────┴────────┴───────┘\n",
       "</pre>\n"
      ],
      "text/plain": [
       "┏━━━┳━━━━━━━━━━━━━━━┳━━━━━━━━━━━━━━━━━━━━━━━━━━━━━━━━┳━━━━━━━━┳━━━━━━━┓\n",
       "┃\u001b[1;35m \u001b[0m\u001b[1;35m \u001b[0m\u001b[1;35m \u001b[0m┃\u001b[1;35m \u001b[0m\u001b[1;35mName         \u001b[0m\u001b[1;35m \u001b[0m┃\u001b[1;35m \u001b[0m\u001b[1;35mType                          \u001b[0m\u001b[1;35m \u001b[0m┃\u001b[1;35m \u001b[0m\u001b[1;35mParams\u001b[0m\u001b[1;35m \u001b[0m┃\u001b[1;35m \u001b[0m\u001b[1;35mMode \u001b[0m\u001b[1;35m \u001b[0m┃\n",
       "┡━━━╇━━━━━━━━━━━━━━━╇━━━━━━━━━━━━━━━━━━━━━━━━━━━━━━━━╇━━━━━━━━╇━━━━━━━┩\n",
       "│\u001b[2m \u001b[0m\u001b[2m0\u001b[0m\u001b[2m \u001b[0m│ model         │ ConvNextForImageClassification │ 87.6 M │ eval  │\n",
       "│\u001b[2m \u001b[0m\u001b[2m1\u001b[0m\u001b[2m \u001b[0m│ loss          │ BCEWithLogitsLoss              │      0 │ train │\n",
       "│\u001b[2m \u001b[0m\u001b[2m2\u001b[0m\u001b[2m \u001b[0m│ main_metric   │ cmAP                           │      0 │ train │\n",
       "│\u001b[2m \u001b[0m\u001b[2m3\u001b[0m\u001b[2m \u001b[0m│ other_metrics │ MetricCollection               │      0 │ train │\n",
       "└───┴───────────────┴────────────────────────────────┴────────┴───────┘\n"
      ]
     },
     "metadata": {},
     "output_type": "display_data"
    },
    {
     "data": {
      "text/html": [
       "<pre style=\"white-space:pre;overflow-x:auto;line-height:normal;font-family:Menlo,'DejaVu Sans Mono',consolas,'Courier New',monospace\"><span style=\"font-weight: bold\">Trainable params</span>: 87.6 M                                                                                           \n",
       "<span style=\"font-weight: bold\">Non-trainable params</span>: 0                                                                                            \n",
       "<span style=\"font-weight: bold\">Total params</span>: 87.6 M                                                                                               \n",
       "<span style=\"font-weight: bold\">Total estimated model params size (MB)</span>: 350                                                                        \n",
       "<span style=\"font-weight: bold\">Modules in train mode</span>: 5                                                                                           \n",
       "<span style=\"font-weight: bold\">Modules in eval mode</span>: 279                                                                                          \n",
       "</pre>\n"
      ],
      "text/plain": [
       "\u001b[1mTrainable params\u001b[0m: 87.6 M                                                                                           \n",
       "\u001b[1mNon-trainable params\u001b[0m: 0                                                                                            \n",
       "\u001b[1mTotal params\u001b[0m: 87.6 M                                                                                               \n",
       "\u001b[1mTotal estimated model params size (MB)\u001b[0m: 350                                                                        \n",
       "\u001b[1mModules in train mode\u001b[0m: 5                                                                                           \n",
       "\u001b[1mModules in eval mode\u001b[0m: 279                                                                                          \n"
      ]
     },
     "metadata": {},
     "output_type": "display_data"
    },
    {
     "data": {
      "application/vnd.jupyter.widget-view+json": {
       "model_id": "0ade28dde3d14aa48a6f083d4b3044a4",
       "version_major": 2,
       "version_minor": 0
      },
      "text/plain": [
       "Sanity Checking: |          | 0/? [00:00<?, ?it/s]"
      ]
     },
     "metadata": {},
     "output_type": "display_data"
    },
    {
     "name": "stderr",
     "output_type": "stream",
     "text": [
      "Exception ignored in: <function _MultiProcessingDataLoaderIter.__del__ at 0x795a3c17e170>\n",
      "Traceback (most recent call last):\n",
      "  File \"/workspace/.venv/lib/python3.10/site-packages/torch/utils/data/dataloader.py\", line 1479, in __del__\n",
      "    self._shutdown_workers()\n",
      "  File \"/workspace/.venv/lib/python3.10/site-packages/torch/utils/data/dataloader.py\", line 1462, in _shutdown_workers\n",
      "    Exception ignored in: if w.is_alive():\n",
      "<function _MultiProcessingDataLoaderIter.__del__ at 0x795a3c17e170>  File \"/usr/lib/python3.10/multiprocessing/process.py\", line 160, in is_alive\n",
      "Exception ignored in:     \n",
      "Traceback (most recent call last):\n",
      "assert self._parent_pid == os.getpid(), 'can only test a child process'  File \"/workspace/.venv/lib/python3.10/site-packages/torch/utils/data/dataloader.py\", line 1479, in __del__\n",
      "<function _MultiProcessingDataLoaderIter.__del__ at 0x795a3c17e170>Exception ignored in: \n",
      "\n",
      "AssertionError    <function _MultiProcessingDataLoaderIter.__del__ at 0x795a3c17e170>Traceback (most recent call last):\n",
      ": \n",
      "self._shutdown_workers()Exception ignored in:   File \"/workspace/.venv/lib/python3.10/site-packages/torch/utils/data/dataloader.py\", line 1479, in __del__\n",
      "Traceback (most recent call last):\n",
      "can only test a child process\n",
      "  File \"/workspace/.venv/lib/python3.10/site-packages/torch/utils/data/dataloader.py\", line 1479, in __del__\n",
      "<function _MultiProcessingDataLoaderIter.__del__ at 0x795a3c17e170>\n",
      "  File \"/workspace/.venv/lib/python3.10/site-packages/torch/utils/data/dataloader.py\", line 1462, in _shutdown_workers\n",
      "Exception ignored in: \n",
      "            Traceback (most recent call last):\n",
      "<function _MultiProcessingDataLoaderIter.__del__ at 0x795a3c17e170>if w.is_alive():self._shutdown_workers()  File \"/workspace/.venv/lib/python3.10/site-packages/torch/utils/data/dataloader.py\", line 1479, in __del__\n",
      "self._shutdown_workers()\n",
      "\n",
      "\n",
      "\n",
      "    Traceback (most recent call last):\n",
      "  File \"/workspace/.venv/lib/python3.10/site-packages/torch/utils/data/dataloader.py\", line 1462, in _shutdown_workers\n",
      "  File \"/usr/lib/python3.10/multiprocessing/process.py\", line 160, in is_alive\n",
      "  File \"/workspace/.venv/lib/python3.10/site-packages/torch/utils/data/dataloader.py\", line 1462, in _shutdown_workers\n",
      "self._shutdown_workers()      File \"/workspace/.venv/lib/python3.10/site-packages/torch/utils/data/dataloader.py\", line 1479, in __del__\n",
      "    \n",
      "if w.is_alive():    assert self._parent_pid == os.getpid(), 'can only test a child process'  File \"/workspace/.venv/lib/python3.10/site-packages/torch/utils/data/dataloader.py\", line 1462, in _shutdown_workers\n",
      "    if w.is_alive():\n",
      "    \n",
      "  File \"/usr/lib/python3.10/multiprocessing/process.py\", line 160, in is_alive\n",
      "\n",
      "self._shutdown_workers()if w.is_alive():AssertionError  File \"/usr/lib/python3.10/multiprocessing/process.py\", line 160, in is_alive\n",
      "    \n",
      ": \n",
      "assert self._parent_pid == os.getpid(), 'can only test a child process'      File \"/workspace/.venv/lib/python3.10/site-packages/torch/utils/data/dataloader.py\", line 1462, in _shutdown_workers\n",
      "can only test a child process\n",
      "assert self._parent_pid == os.getpid(), 'can only test a child process'  File \"/usr/lib/python3.10/multiprocessing/process.py\", line 160, in is_alive\n",
      "    \n",
      "AssertionError    \n",
      ": if w.is_alive():AssertionErrorassert self._parent_pid == os.getpid(), 'can only test a child process'can only test a child process\n",
      ": \n",
      "\n",
      "  File \"/usr/lib/python3.10/multiprocessing/process.py\", line 160, in is_alive\n",
      "can only test a child processAssertionError:     \n",
      "can only test a child processassert self._parent_pid == os.getpid(), 'can only test a child process'\n",
      "\n",
      "Exception ignored in: AssertionError: <function _MultiProcessingDataLoaderIter.__del__ at 0x795a3c17e170>can only test a child process\n",
      "\n",
      "Traceback (most recent call last):\n",
      "  File \"/workspace/.venv/lib/python3.10/site-packages/torch/utils/data/dataloader.py\", line 1479, in __del__\n",
      "    self._shutdown_workers()\n",
      "  File \"/workspace/.venv/lib/python3.10/site-packages/torch/utils/data/dataloader.py\", line 1462, in _shutdown_workers\n",
      "    if w.is_alive():\n",
      "  File \"/usr/lib/python3.10/multiprocessing/process.py\", line 160, in is_alive\n",
      "    assert self._parent_pid == os.getpid(), 'can only test a child process'\n",
      "AssertionErrorException ignored in: : can only test a child process\n",
      "<function _MultiProcessingDataLoaderIter.__del__ at 0x795a3c17e170>\n",
      "Traceback (most recent call last):\n",
      "  File \"/workspace/.venv/lib/python3.10/site-packages/torch/utils/data/dataloader.py\", line 1479, in __del__\n",
      "    self._shutdown_workers()\n",
      "  File \"/workspace/.venv/lib/python3.10/site-packages/torch/utils/data/dataloader.py\", line 1462, in _shutdown_workers\n",
      "    if w.is_alive():\n",
      "  File \"/usr/lib/python3.10/multiprocessing/process.py\", line 160, in is_alive\n",
      "    assert self._parent_pid == os.getpid(), 'can only test a child process'\n",
      "AssertionError: can only test a child process\n"
     ]
    },
    {
     "data": {
      "application/vnd.jupyter.widget-view+json": {
       "model_id": "a5cc96e5a4e54dfd8c34c9389c9f8eb5",
       "version_major": 2,
       "version_minor": 0
      },
      "text/plain": [
       "Training: |          | 0/? [00:00<?, ?it/s]"
      ]
     },
     "metadata": {},
     "output_type": "display_data"
    },
    {
     "name": "stderr",
     "output_type": "stream",
     "text": [
      "Exception ignored in: Exception ignored in: <function _MultiProcessingDataLoaderIter.__del__ at 0x795a3c17e170>\n",
      "<function _MultiProcessingDataLoaderIter.__del__ at 0x795a3c17e170>Traceback (most recent call last):\n",
      "\n",
      "Traceback (most recent call last):\n",
      "  File \"/workspace/.venv/lib/python3.10/site-packages/torch/utils/data/dataloader.py\", line 1479, in __del__\n",
      "Exception ignored in:   File \"/workspace/.venv/lib/python3.10/site-packages/torch/utils/data/dataloader.py\", line 1479, in __del__\n",
      "    Exception ignored in: <function _MultiProcessingDataLoaderIter.__del__ at 0x795a3c17e170>self._shutdown_workers()    \n",
      "\n",
      "self._shutdown_workers()<function _MultiProcessingDataLoaderIter.__del__ at 0x795a3c17e170>Traceback (most recent call last):\n",
      "\n",
      "  File \"/workspace/.venv/lib/python3.10/site-packages/torch/utils/data/dataloader.py\", line 1462, in _shutdown_workers\n",
      "\n",
      "Exception ignored in:   File \"/workspace/.venv/lib/python3.10/site-packages/torch/utils/data/dataloader.py\", line 1462, in _shutdown_workers\n",
      "  File \"/workspace/.venv/lib/python3.10/site-packages/torch/utils/data/dataloader.py\", line 1479, in __del__\n",
      "    Traceback (most recent call last):\n",
      "    <function _MultiProcessingDataLoaderIter.__del__ at 0x795a3c17e170>if w.is_alive():      File \"/workspace/.venv/lib/python3.10/site-packages/torch/utils/data/dataloader.py\", line 1479, in __del__\n",
      "if w.is_alive():\n",
      "\n",
      "self._shutdown_workers()\n",
      "      File \"/usr/lib/python3.10/multiprocessing/process.py\", line 160, in is_alive\n",
      "Traceback (most recent call last):\n",
      "\n",
      "  File \"/usr/lib/python3.10/multiprocessing/process.py\", line 160, in is_alive\n",
      "    self._shutdown_workers()  File \"/workspace/.venv/lib/python3.10/site-packages/torch/utils/data/dataloader.py\", line 1479, in __del__\n",
      "  File \"/workspace/.venv/lib/python3.10/site-packages/torch/utils/data/dataloader.py\", line 1462, in _shutdown_workers\n",
      "assert self._parent_pid == os.getpid(), 'can only test a child process'        \n",
      "\n",
      "    assert self._parent_pid == os.getpid(), 'can only test a child process'if w.is_alive():  File \"/workspace/.venv/lib/python3.10/site-packages/torch/utils/data/dataloader.py\", line 1462, in _shutdown_workers\n",
      "AssertionError\n",
      "self._shutdown_workers()\n",
      "    AssertionError: \n",
      "if w.is_alive():  File \"/usr/lib/python3.10/multiprocessing/process.py\", line 160, in is_alive\n",
      ": can only test a child process  File \"/workspace/.venv/lib/python3.10/site-packages/torch/utils/data/dataloader.py\", line 1462, in _shutdown_workers\n",
      "\n",
      "can only test a child process    \n",
      "  File \"/usr/lib/python3.10/multiprocessing/process.py\", line 160, in is_alive\n",
      "    assert self._parent_pid == os.getpid(), 'can only test a child process'\n",
      "if w.is_alive():    \n",
      "\n",
      "AssertionErrorassert self._parent_pid == os.getpid(), 'can only test a child process'  File \"/usr/lib/python3.10/multiprocessing/process.py\", line 160, in is_alive\n",
      ": \n",
      "    can only test a child processAssertionErrorassert self._parent_pid == os.getpid(), 'can only test a child process'\n",
      ": \n",
      "AssertionErrorcan only test a child process\n",
      ": can only test a child process\n",
      "Exception ignored in: <function _MultiProcessingDataLoaderIter.__del__ at 0x795a3c17e170>\n",
      "Traceback (most recent call last):\n",
      "  File \"/workspace/.venv/lib/python3.10/site-packages/torch/utils/data/dataloader.py\", line 1479, in __del__\n",
      "    self._shutdown_workers()\n",
      "  File \"/workspace/.venv/lib/python3.10/site-packages/torch/utils/data/dataloader.py\", line 1462, in _shutdown_workers\n",
      "    if w.is_alive():\n",
      "  File \"/usr/lib/python3.10/multiprocessing/process.py\", line 160, in is_alive\n",
      "    assert self._parent_pid == os.getpid(), 'can only test a child process'\n",
      "AssertionError: can only test a child process\n",
      "Exception ignored in: <function _MultiProcessingDataLoaderIter.__del__ at 0x795a3c17e170>\n",
      "Traceback (most recent call last):\n",
      "  File \"/workspace/.venv/lib/python3.10/site-packages/torch/utils/data/dataloader.py\", line 1479, in __del__\n",
      "    self._shutdown_workers()\n",
      "  File \"/workspace/.venv/lib/python3.10/site-packages/torch/utils/data/dataloader.py\", line 1462, in _shutdown_workers\n",
      "    if w.is_alive():\n",
      "  File \"/usr/lib/python3.10/multiprocessing/process.py\", line 160, in is_alive\n",
      "    assert self._parent_pid == os.getpid(), 'can only test a child process'\n",
      "AssertionError: can only test a child process\n",
      "Exception ignored in: <function _MultiProcessingDataLoaderIter.__del__ at 0x795a3c17e170>\n",
      "Traceback (most recent call last):\n",
      "  File \"/workspace/.venv/lib/python3.10/site-packages/torch/utils/data/dataloader.py\", line 1479, in __del__\n",
      "    self._shutdown_workers()\n",
      "  File \"/workspace/.venv/lib/python3.10/site-packages/torch/utils/data/dataloader.py\", line 1462, in _shutdown_workers\n",
      "    if w.is_alive():\n",
      "  File \"/usr/lib/python3.10/multiprocessing/process.py\", line 160, in is_alive\n",
      "    assert self._parent_pid == os.getpid(), 'can only test a child process'\n",
      "AssertionError: can only test a child process\n"
     ]
    },
    {
     "data": {
      "application/vnd.jupyter.widget-view+json": {
       "model_id": "97afd37b657c435a8fb4e49958afad8a",
       "version_major": 2,
       "version_minor": 0
      },
      "text/plain": [
       "Validation: |          | 0/? [00:00<?, ?it/s]"
      ]
     },
     "metadata": {},
     "output_type": "display_data"
    },
    {
     "name": "stderr",
     "output_type": "stream",
     "text": [
      "Exception ignored in: Exception ignored in: Exception ignored in: <function _MultiProcessingDataLoaderIter.__del__ at 0x795a3c17e170><function _MultiProcessingDataLoaderIter.__del__ at 0x795a3c17e170>Exception ignored in: \n",
      "<function _MultiProcessingDataLoaderIter.__del__ at 0x795a3c17e170>\n",
      "Traceback (most recent call last):\n",
      "\n",
      "Traceback (most recent call last):\n",
      "<function _MultiProcessingDataLoaderIter.__del__ at 0x795a3c17e170>  File \"/workspace/.venv/lib/python3.10/site-packages/torch/utils/data/dataloader.py\", line 1479, in __del__\n",
      "Traceback (most recent call last):\n",
      "  File \"/workspace/.venv/lib/python3.10/site-packages/torch/utils/data/dataloader.py\", line 1479, in __del__\n",
      "\n",
      "  File \"/workspace/.venv/lib/python3.10/site-packages/torch/utils/data/dataloader.py\", line 1479, in __del__\n",
      "Traceback (most recent call last):\n",
      "        self._shutdown_workers()      File \"/workspace/.venv/lib/python3.10/site-packages/torch/utils/data/dataloader.py\", line 1479, in __del__\n",
      "self._shutdown_workers()self._shutdown_workers()\n",
      "\n",
      "      File \"/workspace/.venv/lib/python3.10/site-packages/torch/utils/data/dataloader.py\", line 1462, in _shutdown_workers\n",
      "  File \"/workspace/.venv/lib/python3.10/site-packages/torch/utils/data/dataloader.py\", line 1462, in _shutdown_workers\n",
      "\n",
      "self._shutdown_workers()        \n",
      "if w.is_alive():if w.is_alive():  File \"/workspace/.venv/lib/python3.10/site-packages/torch/utils/data/dataloader.py\", line 1462, in _shutdown_workers\n",
      "\n",
      "  File \"/workspace/.venv/lib/python3.10/site-packages/torch/utils/data/dataloader.py\", line 1462, in _shutdown_workers\n",
      "\n",
      "  File \"/usr/lib/python3.10/multiprocessing/process.py\", line 160, in is_alive\n",
      "      File \"/usr/lib/python3.10/multiprocessing/process.py\", line 160, in is_alive\n",
      "        if w.is_alive():    assert self._parent_pid == os.getpid(), 'can only test a child process'if w.is_alive():\n",
      "assert self._parent_pid == os.getpid(), 'can only test a child process'\n",
      "  File \"/usr/lib/python3.10/multiprocessing/process.py\", line 160, in is_alive\n",
      "\n",
      "\n",
      "AssertionError:     AssertionError  File \"/usr/lib/python3.10/multiprocessing/process.py\", line 160, in is_alive\n",
      "can only test a child process: assert self._parent_pid == os.getpid(), 'can only test a child process'    \n",
      "can only test a child process\n",
      "\n",
      "assert self._parent_pid == os.getpid(), 'can only test a child process'AssertionError\n",
      ": AssertionErrorcan only test a child process: \n",
      "can only test a child process\n",
      "Exception ignored in: <function _MultiProcessingDataLoaderIter.__del__ at 0x795a3c17e170>\n",
      "Traceback (most recent call last):\n",
      "  File \"/workspace/.venv/lib/python3.10/site-packages/torch/utils/data/dataloader.py\", line 1479, in __del__\n",
      "    self._shutdown_workers()\n",
      "  File \"/workspace/.venv/lib/python3.10/site-packages/torch/utils/data/dataloader.py\", line 1462, in _shutdown_workers\n",
      "    if w.is_alive():\n",
      "  File \"/usr/lib/python3.10/multiprocessing/process.py\", line 160, in is_alive\n",
      "    Exception ignored in: assert self._parent_pid == os.getpid(), 'can only test a child process'Exception ignored in: Exception ignored in: \n",
      "<function _MultiProcessingDataLoaderIter.__del__ at 0x795a3c17e170>AssertionError\n",
      "<function _MultiProcessingDataLoaderIter.__del__ at 0x795a3c17e170>: <function _MultiProcessingDataLoaderIter.__del__ at 0x795a3c17e170>Traceback (most recent call last):\n",
      "\n",
      "can only test a child process  File \"/workspace/.venv/lib/python3.10/site-packages/torch/utils/data/dataloader.py\", line 1479, in __del__\n",
      "\n",
      "Traceback (most recent call last):\n",
      "\n",
      "    Traceback (most recent call last):\n",
      "  File \"/workspace/.venv/lib/python3.10/site-packages/torch/utils/data/dataloader.py\", line 1479, in __del__\n",
      "self._shutdown_workers()  File \"/workspace/.venv/lib/python3.10/site-packages/torch/utils/data/dataloader.py\", line 1479, in __del__\n",
      "    \n",
      "self._shutdown_workers()  File \"/workspace/.venv/lib/python3.10/site-packages/torch/utils/data/dataloader.py\", line 1462, in _shutdown_workers\n",
      "    \n",
      "    self._shutdown_workers()  File \"/workspace/.venv/lib/python3.10/site-packages/torch/utils/data/dataloader.py\", line 1462, in _shutdown_workers\n",
      "if w.is_alive():\n",
      "    \n",
      "  File \"/workspace/.venv/lib/python3.10/site-packages/torch/utils/data/dataloader.py\", line 1462, in _shutdown_workers\n",
      "  File \"/usr/lib/python3.10/multiprocessing/process.py\", line 160, in is_alive\n",
      "if w.is_alive():\n",
      "          File \"/usr/lib/python3.10/multiprocessing/process.py\", line 160, in is_alive\n",
      "assert self._parent_pid == os.getpid(), 'can only test a child process'if w.is_alive():\n",
      "    \n",
      "assert self._parent_pid == os.getpid(), 'can only test a child process'  File \"/usr/lib/python3.10/multiprocessing/process.py\", line 160, in is_alive\n",
      "AssertionError\n",
      ":     AssertionErrorcan only test a child processassert self._parent_pid == os.getpid(), 'can only test a child process': \n",
      "\n",
      "can only test a child processAssertionError\n",
      ": can only test a child process\n",
      "Exception ignored in: Exception ignored in: Exception ignored in: Exception ignored in: <function _MultiProcessingDataLoaderIter.__del__ at 0x795a3c17e170><function _MultiProcessingDataLoaderIter.__del__ at 0x795a3c17e170><function _MultiProcessingDataLoaderIter.__del__ at 0x795a3c17e170>\n",
      "\n",
      "\n",
      "<function _MultiProcessingDataLoaderIter.__del__ at 0x795a3c17e170>Traceback (most recent call last):\n",
      "Traceback (most recent call last):\n",
      "\n",
      "Traceback (most recent call last):\n",
      "  File \"/workspace/.venv/lib/python3.10/site-packages/torch/utils/data/dataloader.py\", line 1479, in __del__\n",
      "  File \"/workspace/.venv/lib/python3.10/site-packages/torch/utils/data/dataloader.py\", line 1479, in __del__\n",
      "  File \"/workspace/.venv/lib/python3.10/site-packages/torch/utils/data/dataloader.py\", line 1479, in __del__\n",
      "Traceback (most recent call last):\n",
      "  File \"/workspace/.venv/lib/python3.10/site-packages/torch/utils/data/dataloader.py\", line 1479, in __del__\n",
      "            self._shutdown_workers()    self._shutdown_workers()self._shutdown_workers()self._shutdown_workers()\n",
      "\n",
      "\n",
      "  File \"/workspace/.venv/lib/python3.10/site-packages/torch/utils/data/dataloader.py\", line 1462, in _shutdown_workers\n",
      "\n",
      "  File \"/workspace/.venv/lib/python3.10/site-packages/torch/utils/data/dataloader.py\", line 1462, in _shutdown_workers\n",
      "  File \"/workspace/.venv/lib/python3.10/site-packages/torch/utils/data/dataloader.py\", line 1462, in _shutdown_workers\n",
      "      File \"/workspace/.venv/lib/python3.10/site-packages/torch/utils/data/dataloader.py\", line 1462, in _shutdown_workers\n",
      "    if w.is_alive():    if w.is_alive():\n",
      "if w.is_alive():\n",
      "      File \"/usr/lib/python3.10/multiprocessing/process.py\", line 160, in is_alive\n",
      "\n",
      "  File \"/usr/lib/python3.10/multiprocessing/process.py\", line 160, in is_alive\n",
      "      File \"/usr/lib/python3.10/multiprocessing/process.py\", line 160, in is_alive\n",
      "if w.is_alive():    assert self._parent_pid == os.getpid(), 'can only test a child process'    \n",
      "assert self._parent_pid == os.getpid(), 'can only test a child process'\n",
      "assert self._parent_pid == os.getpid(), 'can only test a child process'  File \"/usr/lib/python3.10/multiprocessing/process.py\", line 160, in is_alive\n",
      "\n",
      "AssertionError\n",
      "AssertionError: AssertionError:     can only test a child processcan only test a child processassert self._parent_pid == os.getpid(), 'can only test a child process': \n",
      "\n",
      "\n",
      "can only test a child processAssertionError\n",
      ": can only test a child process\n",
      "Exception ignored in: <function _MultiProcessingDataLoaderIter.__del__ at 0x795a3c17e170>\n",
      "Traceback (most recent call last):\n",
      "  File \"/workspace/.venv/lib/python3.10/site-packages/torch/utils/data/dataloader.py\", line 1479, in __del__\n",
      "    self._shutdown_workers()\n",
      "  File \"/workspace/.venv/lib/python3.10/site-packages/torch/utils/data/dataloader.py\", line 1462, in _shutdown_workers\n",
      "    if w.is_alive():\n",
      "  File \"/usr/lib/python3.10/multiprocessing/process.py\", line 160, in is_alive\n",
      "    assert self._parent_pid == os.getpid(), 'can only test a child process'\n",
      "AssertionError: can only test a child process\n",
      "Exception ignored in: <function _MultiProcessingDataLoaderIter.__del__ at 0x795a3c17e170>\n",
      "Traceback (most recent call last):\n",
      "  File \"/workspace/.venv/lib/python3.10/site-packages/torch/utils/data/dataloader.py\", line 1479, in __del__\n",
      "    self._shutdown_workers()\n",
      "  File \"/workspace/.venv/lib/python3.10/site-packages/torch/utils/data/dataloader.py\", line 1462, in _shutdown_workers\n",
      "    if w.is_alive():\n",
      "  File \"/usr/lib/python3.10/multiprocessing/process.py\", line 160, in is_alive\n",
      "    assert self._parent_pid == os.getpid(), 'can only test a child process'\n",
      "AssertionError: can only test a child process\n",
      "Exception ignored in: <function _MultiProcessingDataLoaderIter.__del__ at 0x795a3c17e170>\n",
      "Exception ignored in: Traceback (most recent call last):\n",
      "  File \"/workspace/.venv/lib/python3.10/site-packages/torch/utils/data/dataloader.py\", line 1479, in __del__\n",
      "<function _MultiProcessingDataLoaderIter.__del__ at 0x795a3c17e170>    \n",
      "Traceback (most recent call last):\n",
      "self._shutdown_workers()  File \"/workspace/.venv/lib/python3.10/site-packages/torch/utils/data/dataloader.py\", line 1479, in __del__\n",
      "\n",
      "  File \"/workspace/.venv/lib/python3.10/site-packages/torch/utils/data/dataloader.py\", line 1462, in _shutdown_workers\n",
      "        self._shutdown_workers()if w.is_alive():\n",
      "\n",
      "  File \"/workspace/.venv/lib/python3.10/site-packages/torch/utils/data/dataloader.py\", line 1462, in _shutdown_workers\n",
      "  File \"/usr/lib/python3.10/multiprocessing/process.py\", line 160, in is_alive\n",
      "        assert self._parent_pid == os.getpid(), 'can only test a child process'if w.is_alive():\n",
      "\n",
      "AssertionError  File \"/usr/lib/python3.10/multiprocessing/process.py\", line 160, in is_alive\n",
      ":     can only test a child processassert self._parent_pid == os.getpid(), 'can only test a child process'\n",
      "\n",
      "AssertionError: can only test a child process\n"
     ]
    },
    {
     "data": {
      "application/vnd.jupyter.widget-view+json": {
       "model_id": "6fb917cee78d4d1aa046b8a2f2473eae",
       "version_major": 2,
       "version_minor": 0
      },
      "text/plain": [
       "Validation: |          | 0/? [00:00<?, ?it/s]"
      ]
     },
     "metadata": {},
     "output_type": "display_data"
    },
    {
     "name": "stderr",
     "output_type": "stream",
     "text": [
      "`Trainer.fit` stopped: `max_epochs=2` reached.\n"
     ]
    }
   ],
   "source": [
    "trainer.fit(datamodule=datamodule, model=model)"
   ]
  },
  {
   "cell_type": "code",
   "execution_count": 195,
   "metadata": {},
   "outputs": [
    {
     "data": {
      "text/plain": [
       "{'train/BCEWithLogitsLoss': tensor(0.0851),\n",
       " 'train/BCEWithLogitsLoss_step': tensor(0.0579),\n",
       " 'val/BCEWithLogitsLoss': tensor(0.0807),\n",
       " 'val/BCEWithLogitsLoss_epoch': tensor(0.0807),\n",
       " 'train/BCEWithLogitsLoss_epoch': tensor(0.0851)}"
      ]
     },
     "execution_count": 195,
     "metadata": {},
     "output_type": "execute_result"
    }
   ],
   "source": [
    "trainer.callback_metrics"
   ]
  },
  {
   "cell_type": "code",
   "execution_count": 196,
   "metadata": {},
   "outputs": [
    {
     "data": {
      "text/plain": [
       "'/workspace/notebooks/tutorials/1-898.ckpt'"
      ]
     },
     "execution_count": 196,
     "metadata": {},
     "output_type": "execute_result"
    }
   ],
   "source": [
    "ckpt_path = trainer.checkpoint_callback.best_model_path\n",
    "ckpt_path"
   ]
  },
  {
   "cell_type": "code",
   "execution_count": 197,
   "metadata": {},
   "outputs": [
    {
     "name": "stderr",
     "output_type": "stream",
     "text": [
      "Restoring states from the checkpoint path at /workspace/notebooks/tutorials/1-898.ckpt\n"
     ]
    },
    {
     "name": "stderr",
     "output_type": "stream",
     "text": [
      "LOCAL_RANK: 0 - CUDA_VISIBLE_DEVICES: [0,1,2,3]\n",
      "Loaded model weights from the checkpoint at /workspace/notebooks/tutorials/1-898.ckpt\n"
     ]
    },
    {
     "data": {
      "application/vnd.jupyter.widget-view+json": {
       "model_id": "d680c0c15be04dbaab457c28e28da243",
       "version_major": 2,
       "version_minor": 0
      },
      "text/plain": [
       "Testing: |          | 0/? [00:00<?, ?it/s]"
      ]
     },
     "metadata": {},
     "output_type": "display_data"
    },
    {
     "name": "stderr",
     "output_type": "stream",
     "text": [
      "/workspace/.venv/lib/python3.10/site-packages/torchmetrics/utilities/prints.py:43: UserWarning: Average precision score for one or more classes was `nan`. Ignoring these classes in macro-average\n",
      "  warnings.warn(*args, **kwargs)  # noqa: B028\n",
      "/workspace/.venv/lib/python3.10/site-packages/torchmetrics/utilities/prints.py:43: UserWarning: No positive samples in targets, true positive value should be meaningless. Returning zero tensor in true positive score\n",
      "  warnings.warn(*args, **kwargs)  # noqa: B028\n"
     ]
    },
    {
     "data": {
      "text/html": [
       "<pre style=\"white-space:pre;overflow-x:auto;line-height:normal;font-family:Menlo,'DejaVu Sans Mono',consolas,'Courier New',monospace\">┏━━━━━━━━━━━━━━━━━━━━━━━━━━━┳━━━━━━━━━━━━━━━━━━━━━━━━━━━┓\n",
       "┃<span style=\"font-weight: bold\">        Test metric        </span>┃<span style=\"font-weight: bold\">       DataLoader 0        </span>┃\n",
       "┡━━━━━━━━━━━━━━━━━━━━━━━━━━━╇━━━━━━━━━━━━━━━━━━━━━━━━━━━┩\n",
       "│<span style=\"color: #008080; text-decoration-color: #008080\">      MultilabelAUROC      </span>│<span style=\"color: #800080; text-decoration-color: #800080\">    0.8972869515419006     </span>│\n",
       "│<span style=\"color: #008080; text-decoration-color: #008080\">        T1Accuracy         </span>│<span style=\"color: #800080; text-decoration-color: #800080\">    0.5774595737457275     </span>│\n",
       "│<span style=\"color: #008080; text-decoration-color: #008080\">  test/BCEWithLogitsLoss   </span>│<span style=\"color: #800080; text-decoration-color: #800080\">    0.09194598346948624    </span>│\n",
       "│<span style=\"color: #008080; text-decoration-color: #008080\">         test/cmAP         </span>│<span style=\"color: #800080; text-decoration-color: #800080\">    0.49273109436035156    </span>│\n",
       "└───────────────────────────┴───────────────────────────┘\n",
       "</pre>\n"
      ],
      "text/plain": [
       "┏━━━━━━━━━━━━━━━━━━━━━━━━━━━┳━━━━━━━━━━━━━━━━━━━━━━━━━━━┓\n",
       "┃\u001b[1m \u001b[0m\u001b[1m       Test metric       \u001b[0m\u001b[1m \u001b[0m┃\u001b[1m \u001b[0m\u001b[1m      DataLoader 0       \u001b[0m\u001b[1m \u001b[0m┃\n",
       "┡━━━━━━━━━━━━━━━━━━━━━━━━━━━╇━━━━━━━━━━━━━━━━━━━━━━━━━━━┩\n",
       "│\u001b[36m \u001b[0m\u001b[36m     MultilabelAUROC     \u001b[0m\u001b[36m \u001b[0m│\u001b[35m \u001b[0m\u001b[35m   0.8972869515419006    \u001b[0m\u001b[35m \u001b[0m│\n",
       "│\u001b[36m \u001b[0m\u001b[36m       T1Accuracy        \u001b[0m\u001b[36m \u001b[0m│\u001b[35m \u001b[0m\u001b[35m   0.5774595737457275    \u001b[0m\u001b[35m \u001b[0m│\n",
       "│\u001b[36m \u001b[0m\u001b[36m test/BCEWithLogitsLoss  \u001b[0m\u001b[36m \u001b[0m│\u001b[35m \u001b[0m\u001b[35m   0.09194598346948624   \u001b[0m\u001b[35m \u001b[0m│\n",
       "│\u001b[36m \u001b[0m\u001b[36m        test/cmAP        \u001b[0m\u001b[36m \u001b[0m│\u001b[35m \u001b[0m\u001b[35m   0.49273109436035156   \u001b[0m\u001b[35m \u001b[0m│\n",
       "└───────────────────────────┴───────────────────────────┘\n"
      ]
     },
     "metadata": {},
     "output_type": "display_data"
    },
    {
     "data": {
      "text/plain": [
       "[{'test/BCEWithLogitsLoss': 0.09194598346948624,\n",
       "  'test/cmAP': 0.49273109436035156,\n",
       "  'MultilabelAUROC': 0.8972869515419006,\n",
       "  'T1Accuracy': 0.5774595737457275}]"
      ]
     },
     "execution_count": 197,
     "metadata": {},
     "output_type": "execute_result"
    }
   ],
   "source": [
    "trainer.test(datamodule=datamodule, model=model, ckpt_path=ckpt_path)"
   ]
  }
 ],
 "metadata": {
  "kernelspec": {
   "display_name": ".venv",
   "language": "python",
   "name": "python3"
  },
  "language_info": {
   "codemirror_mode": {
    "name": "ipython",
    "version": 3
   },
   "file_extension": ".py",
   "mimetype": "text/x-python",
   "name": "python",
   "nbconvert_exporter": "python",
   "pygments_lexer": "ipython3",
   "version": "3.10.12"
  }
 },
 "nbformat": 4,
 "nbformat_minor": 4
}
