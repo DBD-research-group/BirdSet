{
 "cells": [
  {
   "cell_type": "markdown",
   "metadata": {},
   "source": [
    "# Tutorial for Multiclass Training"
   ]
  },
  {
   "cell_type": "markdown",
   "metadata": {},
   "source": [
    "At this tutorial, we will train the ResNet on the esc50 data which is a mutlticlass dataset and evaluate our model by the whole test data. "
   ]
  },
  {
   "cell_type": "markdown",
   "metadata": {},
   "source": [
    "# Step1) Import esc50 Dataset\n",
    "\n"
   ]
  },
  {
   "cell_type": "code",
   "execution_count": 1,
   "metadata": {},
   "outputs": [
    {
     "name": "stderr",
     "output_type": "stream",
     "text": [
      "/home/vscode/.cache/pypoetry/virtualenvs/birdset-xS3fZVNL-py3.10/lib/python3.10/site-packages/torchvision/models/_utils.py:208: UserWarning: The parameter 'pretrained' is deprecated since 0.13 and may be removed in the future, please use 'weights' instead.\n",
      "  warnings.warn(\n",
      "/home/vscode/.cache/pypoetry/virtualenvs/birdset-xS3fZVNL-py3.10/lib/python3.10/site-packages/torchvision/models/_utils.py:223: UserWarning: Arguments other than a weight enum or `None` for 'weights' are deprecated since 0.13 and may be removed in the future. The current behavior is equivalent to passing `weights=None`.\n",
      "  warnings.warn(msg)\n"
     ]
    }
   ],
   "source": [
    "from birdset.datamodule.components.event_decoding import EventDecoding\n",
    "from birdset.datamodule.components.transforms import  BirdSetTransformsWrapper\n",
    "from birdset.datamodule.base_datamodule import DatasetConfig\n",
    "from birdset.datamodule.esc50_datamodule import ESC50DataModule\n",
    "\n",
    "\n",
    "transforms = BirdSetTransformsWrapper(model_type='vision', decoding=EventDecoding(sampling_rate=32000), task=\"multiclass\")\n",
    "#, preprocessing=PreprocessingConfig(spectrogram_conversion=Spectrogram(n_fft=1024, hop_length=79),melscale_conversion=MelScale ( n_mels=128)))\n",
    "dataset_config = DatasetConfig(\n",
    "    data_dir=\"../../data_birdset\",\n",
    "    dataset_name=\"esc50\",\n",
    "    hf_path=\"ashraq/esc50\",\n",
    "    hf_name=\"default\",\n",
    "    seed=2,\n",
    "    n_classes=50,\n",
    "    n_workers=1,\n",
    "    val_split=0.2,\n",
    "    task=\"multiclass\",\n",
    "    subset=None,\n",
    "    sampling_rate=32000,\n",
    ")\n",
    "dm = ESC50DataModule(dataset=dataset_config, transforms=transforms)"
   ]
  },
  {
   "cell_type": "markdown",
   "metadata": {},
   "source": [
    "# Step2) Prepare Data"
   ]
  },
  {
   "cell_type": "code",
   "execution_count": null,
   "metadata": {},
   "outputs": [],
   "source": [
    "dm.prepare_data()\n",
    "print(dm.len_trainset)\n",
    "print(dm.num_classes)\n",
    "dm.setup(stage='fit')\n",
    "train_dataloader = dm.train_dataloader\n",
    "test_loader = dm.test_dataloader()"
   ]
  },
  {
   "cell_type": "markdown",
   "metadata": {},
   "source": [
    "# Read and plot Spectrogram of one sample of data"
   ]
  },
  {
   "cell_type": "code",
   "execution_count": 4,
   "metadata": {},
   "outputs": [
    {
     "name": "stdout",
     "output_type": "stream",
     "text": [
      "dict_keys(['input_values', 'labels'])\n",
      "torch.Size([32, 1, 128, 1024])\n",
      "torch.Size([32])\n"
     ]
    },
    {
     "data": {
      "text/plain": [
       "{'input_values': tensor([[[[ 5.8352e+00,  5.8352e+00,  5.8352e+00,  ...,  1.6575e+01,\n",
       "             1.6575e+01,  1.6575e+01],\n",
       "           [ 5.8352e+00,  5.8352e+00,  5.8352e+00,  ...,  1.6575e+01,\n",
       "             1.6575e+01,  1.6575e+01],\n",
       "           [ 5.8352e+00,  5.8352e+00,  5.8352e+00,  ...,  1.6575e+01,\n",
       "             1.6575e+01,  1.6575e+01],\n",
       "           ...,\n",
       "           [ 5.8352e+00,  5.8352e+00,  5.8352e+00,  ...,  1.6575e+01,\n",
       "             1.6575e+01,  1.6575e+01],\n",
       "           [ 5.8352e+00,  5.8352e+00,  5.8352e+00,  ...,  1.6575e+01,\n",
       "             1.6575e+01,  1.6575e+01],\n",
       "           [ 5.8352e+00,  5.8352e+00,  5.8352e+00,  ...,  1.6575e+01,\n",
       "             1.6575e+01,  1.6575e+01]]],\n",
       " \n",
       " \n",
       "         [[[ 5.8352e+00,  5.8352e+00,  5.8352e+00,  ...,  1.6575e+01,\n",
       "             1.6575e+01,  1.6575e+01],\n",
       "           [ 4.9323e+00,  5.8352e+00,  5.8352e+00,  ...,  1.6575e+01,\n",
       "             1.6575e+01,  1.6575e+01],\n",
       "           [ 4.5614e+00,  3.7705e+00,  4.1276e+00,  ...,  1.6575e+01,\n",
       "             1.6575e+01,  1.6575e+01],\n",
       "           ...,\n",
       "           [ 5.8352e+00,  5.8352e+00,  5.8352e+00,  ...,  1.6575e+01,\n",
       "             1.6575e+01,  1.6575e+01],\n",
       "           [ 5.8352e+00,  5.8352e+00,  5.8352e+00,  ...,  1.6575e+01,\n",
       "             1.6575e+01,  1.6575e+01],\n",
       "           [ 5.8352e+00,  5.8352e+00,  5.8352e+00,  ...,  1.6575e+01,\n",
       "             1.6575e+01,  1.6575e+01]]],\n",
       " \n",
       " \n",
       "         [[[-2.0634e+00,  1.0706e-02,  1.0045e+00,  ...,  1.6575e+01,\n",
       "             1.6575e+01,  1.6575e+01],\n",
       "           [-3.2336e+00, -1.1595e+00, -1.6569e-01,  ...,  1.6575e+01,\n",
       "             1.6575e+01,  1.6575e+01],\n",
       "           [-3.2955e+00, -2.0966e+00, -1.3332e+00,  ...,  1.6575e+01,\n",
       "             1.6575e+01,  1.6575e+01],\n",
       "           ...,\n",
       "           [ 1.0680e+00,  3.1749e+00,  5.8352e+00,  ...,  1.6575e+01,\n",
       "             1.6575e+01,  1.6575e+01],\n",
       "           [ 8.1970e-02,  2.2963e+00,  5.6227e+00,  ...,  1.6575e+01,\n",
       "             1.6575e+01,  1.6575e+01],\n",
       "           [-5.5095e-01,  1.6806e+00,  5.8352e+00,  ...,  1.6575e+01,\n",
       "             1.6575e+01,  1.6575e+01]]],\n",
       " \n",
       " \n",
       "         ...,\n",
       " \n",
       " \n",
       "         [[[-7.7702e-01, -1.0224e+00, -6.9554e-01,  ...,  1.6575e+01,\n",
       "             1.6575e+01,  1.6575e+01],\n",
       "           [-1.9472e+00, -2.1926e+00, -1.8657e+00,  ...,  1.6575e+01,\n",
       "             1.6575e+01,  1.6575e+01],\n",
       "           [ 2.7371e+00, -1.0042e+00, -9.9993e-01,  ...,  1.6575e+01,\n",
       "             1.6575e+01,  1.6575e+01],\n",
       "           ...,\n",
       "           [ 5.4619e+00,  5.3995e+00,  5.7646e+00,  ...,  1.6575e+01,\n",
       "             1.6575e+01,  1.6575e+01],\n",
       "           [ 5.4607e+00,  5.8352e+00,  5.8352e+00,  ...,  1.6575e+01,\n",
       "             1.6575e+01,  1.6575e+01],\n",
       "           [ 5.8352e+00,  5.8352e+00,  5.8352e+00,  ...,  1.6575e+01,\n",
       "             1.6575e+01,  1.6575e+01]]],\n",
       " \n",
       " \n",
       "         [[[-3.1457e+00, -1.2990e+00, -1.4742e+00,  ...,  1.6575e+01,\n",
       "             1.6575e+01,  1.6575e+01],\n",
       "           [-4.3158e+00, -2.4691e+00, -2.6444e+00,  ...,  1.6575e+01,\n",
       "             1.6575e+01,  1.6575e+01],\n",
       "           [-4.6289e+00, -1.8330e+00, -3.6303e+00,  ...,  1.6575e+01,\n",
       "             1.6575e+01,  1.6575e+01],\n",
       "           ...,\n",
       "           [-4.3736e-01, -6.2371e-01, -1.5355e+00,  ...,  1.6575e+01,\n",
       "             1.6575e+01,  1.6575e+01],\n",
       "           [-4.9619e-01, -2.0846e-01, -3.5757e-01,  ...,  1.6575e+01,\n",
       "             1.6575e+01,  1.6575e+01],\n",
       "           [-1.1428e+00,  8.0056e-01,  2.0118e+00,  ...,  1.6575e+01,\n",
       "             1.6575e+01,  1.6575e+01]]],\n",
       " \n",
       " \n",
       "         [[[ 5.8352e+00,  5.8352e+00,  5.8352e+00,  ...,  1.6575e+01,\n",
       "             1.6575e+01,  1.6575e+01],\n",
       "           [ 5.8352e+00,  5.8352e+00,  5.8352e+00,  ...,  1.6575e+01,\n",
       "             1.6575e+01,  1.6575e+01],\n",
       "           [ 5.8352e+00,  5.8352e+00,  5.8352e+00,  ...,  1.6575e+01,\n",
       "             1.6575e+01,  1.6575e+01],\n",
       "           ...,\n",
       "           [ 5.8352e+00,  5.8352e+00,  5.8352e+00,  ...,  1.6575e+01,\n",
       "             1.6575e+01,  1.6575e+01],\n",
       "           [ 5.8352e+00,  5.8352e+00,  5.8352e+00,  ...,  1.6575e+01,\n",
       "             1.6575e+01,  1.6575e+01],\n",
       "           [ 5.8352e+00,  5.8352e+00,  5.8352e+00,  ...,  1.6575e+01,\n",
       "             1.6575e+01,  1.6575e+01]]]]),\n",
       " 'labels': tensor([20,  1, 42, 28, 21, 36, 21, 30, 19, 12, 30, 33, 17,  8, 27,  5, 24, 30,\n",
       "         35, 13, 32, 14, 42, 40, 22, 23, 16, 38, 18, 29, 36, 10])}"
      ]
     },
     "execution_count": 4,
     "metadata": {},
     "output_type": "execute_result"
    },
    {
     "data": {
      "image/png": "[encoded data removed]",
      "text/plain": [
       "<Figure size 640x480 with 1 Axes>"
      ]
     },
     "metadata": {},
     "output_type": "display_data"
    }
   ],
   "source": [
    "from matplotlib import pyplot as plt\n",
    "\n",
    "# get first batch\n",
    "batch = next(iter(train_dataloader()))\n",
    "print(batch.keys())\n",
    "print(batch['input_values'].shape)\n",
    "print(batch['labels'].shape)\n",
    "\n",
    "spectorgram = batch['input_values'][0]\n",
    "\n",
    "plt.imshow(spectorgram.squeeze().numpy())\n",
    "batch"
   ]
  },
  {
   "cell_type": "markdown",
   "metadata": {},
   "source": [
    "# Step3) Prepare trainer"
   ]
  },
  {
   "cell_type": "markdown",
   "metadata": {},
   "source": [
    "In this tutorial we train our model with 20 epochs to show how it works and make a visible pipline . For having reasonable results the model should be traind by more epochs. "
   ]
  },
  {
   "cell_type": "code",
   "execution_count": 8,
   "metadata": {},
   "outputs": [
    {
     "name": "stderr",
     "output_type": "stream",
     "text": [
      "GPU available: True (cuda), used: True\n",
      "TPU available: False, using: 0 TPU cores\n",
      "IPU available: False, using: 0 IPUs\n",
      "HPU available: False, using: 0 HPUs\n"
     ]
    }
   ],
   "source": [
    "#from train_loader = dm.train_dataloader() import Trainer\n",
    "from lightning import Trainer\n",
    "min_epochs = 1\n",
    "max_epochs = 20\n",
    "trainer = Trainer(min_epochs=min_epochs, max_epochs=max_epochs, accelerator=\"gpu\", devices=[0])"
   ]
  },
  {
   "cell_type": "markdown",
   "metadata": {},
   "source": [
    "# Step4) Prepare your model"
   ]
  },
  {
   "cell_type": "code",
   "execution_count": 16,
   "metadata": {},
   "outputs": [],
   "source": [
    "from birdset.modules.metrics.multiclass import MulticlassMetricsConfig\n",
    "from birdset.modules.models.resnet import ResNetClassifier\n",
    "from birdset.modules.base_module import BaseModule,NetworkConfig\n",
    "from torch.nn import CrossEntropyLoss\n",
    "\n",
    "NetworkConfig=NetworkConfig(        \n",
    "        model=ResNetClassifier(baseline_architecture=\"resnet50\",num_classes =50,num_channels=1),\n",
    "        model_name =\"resnet50\",\n",
    "        model_type=\"vision\",\n",
    "        torch_compile= False,\n",
    "        sample_rate=32000,\n",
    "        normalize_waveform=False,\n",
    "        normalize_spectrogram=True)\n",
    "\n",
    "\n",
    "model = BaseModule(\n",
    "    network=NetworkConfig,\n",
    "    loss=CrossEntropyLoss(),\n",
    "    #label_counts= 50,\n",
    "    len_trainset=dm.len_trainset,\n",
    "    task=dm.task,\n",
    "    batch_size=dm.train_batch_size,\n",
    "    num_epochs=max_epochs,\n",
    "    metrics=MulticlassMetricsConfig(num_labels=50)\n",
    "    )\n",
    "\n",
    "\n",
    "        # define optimizer and scheduler"
   ]
  },
  {
   "cell_type": "code",
   "execution_count": 17,
   "metadata": {},
   "outputs": [
    {
     "data": {
      "text/plain": [
       "BaseModule(\n",
       "  (loss): CrossEntropyLoss()\n",
       "  (model): ResNetClassifier(\n",
       "    (model): ResNet(\n",
       "      (conv1): Conv2d(1, 64, kernel_size=(7, 7), stride=(2, 2), padding=(3, 3), bias=False)\n",
       "      (bn1): BatchNorm2d(64, eps=1e-05, momentum=0.1, affine=True, track_running_stats=True)\n",
       "      (relu): ReLU(inplace=True)\n",
       "      (maxpool): MaxPool2d(kernel_size=3, stride=2, padding=1, dilation=1, ceil_mode=False)\n",
       "      (layer1): Sequential(\n",
       "        (0): Bottleneck(\n",
       "          (conv1): Conv2d(64, 64, kernel_size=(1, 1), stride=(1, 1), bias=False)\n",
       "          (bn1): BatchNorm2d(64, eps=1e-05, momentum=0.1, affine=True, track_running_stats=True)\n",
       "          (conv2): Conv2d(64, 64, kernel_size=(3, 3), stride=(1, 1), padding=(1, 1), bias=False)\n",
       "          (bn2): BatchNorm2d(64, eps=1e-05, momentum=0.1, affine=True, track_running_stats=True)\n",
       "          (conv3): Conv2d(64, 256, kernel_size=(1, 1), stride=(1, 1), bias=False)\n",
       "          (bn3): BatchNorm2d(256, eps=1e-05, momentum=0.1, affine=True, track_running_stats=True)\n",
       "          (relu): ReLU(inplace=True)\n",
       "          (downsample): Sequential(\n",
       "            (0): Conv2d(64, 256, kernel_size=(1, 1), stride=(1, 1), bias=False)\n",
       "            (1): BatchNorm2d(256, eps=1e-05, momentum=0.1, affine=True, track_running_stats=True)\n",
       "          )\n",
       "        )\n",
       "        (1): Bottleneck(\n",
       "          (conv1): Conv2d(256, 64, kernel_size=(1, 1), stride=(1, 1), bias=False)\n",
       "          (bn1): BatchNorm2d(64, eps=1e-05, momentum=0.1, affine=True, track_running_stats=True)\n",
       "          (conv2): Conv2d(64, 64, kernel_size=(3, 3), stride=(1, 1), padding=(1, 1), bias=False)\n",
       "          (bn2): BatchNorm2d(64, eps=1e-05, momentum=0.1, affine=True, track_running_stats=True)\n",
       "          (conv3): Conv2d(64, 256, kernel_size=(1, 1), stride=(1, 1), bias=False)\n",
       "          (bn3): BatchNorm2d(256, eps=1e-05, momentum=0.1, affine=True, track_running_stats=True)\n",
       "          (relu): ReLU(inplace=True)\n",
       "        )\n",
       "        (2): Bottleneck(\n",
       "          (conv1): Conv2d(256, 64, kernel_size=(1, 1), stride=(1, 1), bias=False)\n",
       "          (bn1): BatchNorm2d(64, eps=1e-05, momentum=0.1, affine=True, track_running_stats=True)\n",
       "          (conv2): Conv2d(64, 64, kernel_size=(3, 3), stride=(1, 1), padding=(1, 1), bias=False)\n",
       "          (bn2): BatchNorm2d(64, eps=1e-05, momentum=0.1, affine=True, track_running_stats=True)\n",
       "          (conv3): Conv2d(64, 256, kernel_size=(1, 1), stride=(1, 1), bias=False)\n",
       "          (bn3): BatchNorm2d(256, eps=1e-05, momentum=0.1, affine=True, track_running_stats=True)\n",
       "          (relu): ReLU(inplace=True)\n",
       "        )\n",
       "      )\n",
       "      (layer2): Sequential(\n",
       "        (0): Bottleneck(\n",
       "          (conv1): Conv2d(256, 128, kernel_size=(1, 1), stride=(1, 1), bias=False)\n",
       "          (bn1): BatchNorm2d(128, eps=1e-05, momentum=0.1, affine=True, track_running_stats=True)\n",
       "          (conv2): Conv2d(128, 128, kernel_size=(3, 3), stride=(2, 2), padding=(1, 1), bias=False)\n",
       "          (bn2): BatchNorm2d(128, eps=1e-05, momentum=0.1, affine=True, track_running_stats=True)\n",
       "          (conv3): Conv2d(128, 512, kernel_size=(1, 1), stride=(1, 1), bias=False)\n",
       "          (bn3): BatchNorm2d(512, eps=1e-05, momentum=0.1, affine=True, track_running_stats=True)\n",
       "          (relu): ReLU(inplace=True)\n",
       "          (downsample): Sequential(\n",
       "            (0): Conv2d(256, 512, kernel_size=(1, 1), stride=(2, 2), bias=False)\n",
       "            (1): BatchNorm2d(512, eps=1e-05, momentum=0.1, affine=True, track_running_stats=True)\n",
       "          )\n",
       "        )\n",
       "        (1): Bottleneck(\n",
       "          (conv1): Conv2d(512, 128, kernel_size=(1, 1), stride=(1, 1), bias=False)\n",
       "          (bn1): BatchNorm2d(128, eps=1e-05, momentum=0.1, affine=True, track_running_stats=True)\n",
       "          (conv2): Conv2d(128, 128, kernel_size=(3, 3), stride=(1, 1), padding=(1, 1), bias=False)\n",
       "          (bn2): BatchNorm2d(128, eps=1e-05, momentum=0.1, affine=True, track_running_stats=True)\n",
       "          (conv3): Conv2d(128, 512, kernel_size=(1, 1), stride=(1, 1), bias=False)\n",
       "          (bn3): BatchNorm2d(512, eps=1e-05, momentum=0.1, affine=True, track_running_stats=True)\n",
       "          (relu): ReLU(inplace=True)\n",
       "        )\n",
       "        (2): Bottleneck(\n",
       "          (conv1): Conv2d(512, 128, kernel_size=(1, 1), stride=(1, 1), bias=False)\n",
       "          (bn1): BatchNorm2d(128, eps=1e-05, momentum=0.1, affine=True, track_running_stats=True)\n",
       "          (conv2): Conv2d(128, 128, kernel_size=(3, 3), stride=(1, 1), padding=(1, 1), bias=False)\n",
       "          (bn2): BatchNorm2d(128, eps=1e-05, momentum=0.1, affine=True, track_running_stats=True)\n",
       "          (conv3): Conv2d(128, 512, kernel_size=(1, 1), stride=(1, 1), bias=False)\n",
       "          (bn3): BatchNorm2d(512, eps=1e-05, momentum=0.1, affine=True, track_running_stats=True)\n",
       "          (relu): ReLU(inplace=True)\n",
       "        )\n",
       "        (3): Bottleneck(\n",
       "          (conv1): Conv2d(512, 128, kernel_size=(1, 1), stride=(1, 1), bias=False)\n",
       "          (bn1): BatchNorm2d(128, eps=1e-05, momentum=0.1, affine=True, track_running_stats=True)\n",
       "          (conv2): Conv2d(128, 128, kernel_size=(3, 3), stride=(1, 1), padding=(1, 1), bias=False)\n",
       "          (bn2): BatchNorm2d(128, eps=1e-05, momentum=0.1, affine=True, track_running_stats=True)\n",
       "          (conv3): Conv2d(128, 512, kernel_size=(1, 1), stride=(1, 1), bias=False)\n",
       "          (bn3): BatchNorm2d(512, eps=1e-05, momentum=0.1, affine=True, track_running_stats=True)\n",
       "          (relu): ReLU(inplace=True)\n",
       "        )\n",
       "      )\n",
       "      (layer3): Sequential(\n",
       "        (0): Bottleneck(\n",
       "          (conv1): Conv2d(512, 256, kernel_size=(1, 1), stride=(1, 1), bias=False)\n",
       "          (bn1): BatchNorm2d(256, eps=1e-05, momentum=0.1, affine=True, track_running_stats=True)\n",
       "          (conv2): Conv2d(256, 256, kernel_size=(3, 3), stride=(2, 2), padding=(1, 1), bias=False)\n",
       "          (bn2): BatchNorm2d(256, eps=1e-05, momentum=0.1, affine=True, track_running_stats=True)\n",
       "          (conv3): Conv2d(256, 1024, kernel_size=(1, 1), stride=(1, 1), bias=False)\n",
       "          (bn3): BatchNorm2d(1024, eps=1e-05, momentum=0.1, affine=True, track_running_stats=True)\n",
       "          (relu): ReLU(inplace=True)\n",
       "          (downsample): Sequential(\n",
       "            (0): Conv2d(512, 1024, kernel_size=(1, 1), stride=(2, 2), bias=False)\n",
       "            (1): BatchNorm2d(1024, eps=1e-05, momentum=0.1, affine=True, track_running_stats=True)\n",
       "          )\n",
       "        )\n",
       "        (1): Bottleneck(\n",
       "          (conv1): Conv2d(1024, 256, kernel_size=(1, 1), stride=(1, 1), bias=False)\n",
       "          (bn1): BatchNorm2d(256, eps=1e-05, momentum=0.1, affine=True, track_running_stats=True)\n",
       "          (conv2): Conv2d(256, 256, kernel_size=(3, 3), stride=(1, 1), padding=(1, 1), bias=False)\n",
       "          (bn2): BatchNorm2d(256, eps=1e-05, momentum=0.1, affine=True, track_running_stats=True)\n",
       "          (conv3): Conv2d(256, 1024, kernel_size=(1, 1), stride=(1, 1), bias=False)\n",
       "          (bn3): BatchNorm2d(1024, eps=1e-05, momentum=0.1, affine=True, track_running_stats=True)\n",
       "          (relu): ReLU(inplace=True)\n",
       "        )\n",
       "        (2): Bottleneck(\n",
       "          (conv1): Conv2d(1024, 256, kernel_size=(1, 1), stride=(1, 1), bias=False)\n",
       "          (bn1): BatchNorm2d(256, eps=1e-05, momentum=0.1, affine=True, track_running_stats=True)\n",
       "          (conv2): Conv2d(256, 256, kernel_size=(3, 3), stride=(1, 1), padding=(1, 1), bias=False)\n",
       "          (bn2): BatchNorm2d(256, eps=1e-05, momentum=0.1, affine=True, track_running_stats=True)\n",
       "          (conv3): Conv2d(256, 1024, kernel_size=(1, 1), stride=(1, 1), bias=False)\n",
       "          (bn3): BatchNorm2d(1024, eps=1e-05, momentum=0.1, affine=True, track_running_stats=True)\n",
       "          (relu): ReLU(inplace=True)\n",
       "        )\n",
       "        (3): Bottleneck(\n",
       "          (conv1): Conv2d(1024, 256, kernel_size=(1, 1), stride=(1, 1), bias=False)\n",
       "          (bn1): BatchNorm2d(256, eps=1e-05, momentum=0.1, affine=True, track_running_stats=True)\n",
       "          (conv2): Conv2d(256, 256, kernel_size=(3, 3), stride=(1, 1), padding=(1, 1), bias=False)\n",
       "          (bn2): BatchNorm2d(256, eps=1e-05, momentum=0.1, affine=True, track_running_stats=True)\n",
       "          (conv3): Conv2d(256, 1024, kernel_size=(1, 1), stride=(1, 1), bias=False)\n",
       "          (bn3): BatchNorm2d(1024, eps=1e-05, momentum=0.1, affine=True, track_running_stats=True)\n",
       "          (relu): ReLU(inplace=True)\n",
       "        )\n",
       "        (4): Bottleneck(\n",
       "          (conv1): Conv2d(1024, 256, kernel_size=(1, 1), stride=(1, 1), bias=False)\n",
       "          (bn1): BatchNorm2d(256, eps=1e-05, momentum=0.1, affine=True, track_running_stats=True)\n",
       "          (conv2): Conv2d(256, 256, kernel_size=(3, 3), stride=(1, 1), padding=(1, 1), bias=False)\n",
       "          (bn2): BatchNorm2d(256, eps=1e-05, momentum=0.1, affine=True, track_running_stats=True)\n",
       "          (conv3): Conv2d(256, 1024, kernel_size=(1, 1), stride=(1, 1), bias=False)\n",
       "          (bn3): BatchNorm2d(1024, eps=1e-05, momentum=0.1, affine=True, track_running_stats=True)\n",
       "          (relu): ReLU(inplace=True)\n",
       "        )\n",
       "        (5): Bottleneck(\n",
       "          (conv1): Conv2d(1024, 256, kernel_size=(1, 1), stride=(1, 1), bias=False)\n",
       "          (bn1): BatchNorm2d(256, eps=1e-05, momentum=0.1, affine=True, track_running_stats=True)\n",
       "          (conv2): Conv2d(256, 256, kernel_size=(3, 3), stride=(1, 1), padding=(1, 1), bias=False)\n",
       "          (bn2): BatchNorm2d(256, eps=1e-05, momentum=0.1, affine=True, track_running_stats=True)\n",
       "          (conv3): Conv2d(256, 1024, kernel_size=(1, 1), stride=(1, 1), bias=False)\n",
       "          (bn3): BatchNorm2d(1024, eps=1e-05, momentum=0.1, affine=True, track_running_stats=True)\n",
       "          (relu): ReLU(inplace=True)\n",
       "        )\n",
       "      )\n",
       "      (layer4): Sequential(\n",
       "        (0): Bottleneck(\n",
       "          (conv1): Conv2d(1024, 512, kernel_size=(1, 1), stride=(1, 1), bias=False)\n",
       "          (bn1): BatchNorm2d(512, eps=1e-05, momentum=0.1, affine=True, track_running_stats=True)\n",
       "          (conv2): Conv2d(512, 512, kernel_size=(3, 3), stride=(2, 2), padding=(1, 1), bias=False)\n",
       "          (bn2): BatchNorm2d(512, eps=1e-05, momentum=0.1, affine=True, track_running_stats=True)\n",
       "          (conv3): Conv2d(512, 2048, kernel_size=(1, 1), stride=(1, 1), bias=False)\n",
       "          (bn3): BatchNorm2d(2048, eps=1e-05, momentum=0.1, affine=True, track_running_stats=True)\n",
       "          (relu): ReLU(inplace=True)\n",
       "          (downsample): Sequential(\n",
       "            (0): Conv2d(1024, 2048, kernel_size=(1, 1), stride=(2, 2), bias=False)\n",
       "            (1): BatchNorm2d(2048, eps=1e-05, momentum=0.1, affine=True, track_running_stats=True)\n",
       "          )\n",
       "        )\n",
       "        (1): Bottleneck(\n",
       "          (conv1): Conv2d(2048, 512, kernel_size=(1, 1), stride=(1, 1), bias=False)\n",
       "          (bn1): BatchNorm2d(512, eps=1e-05, momentum=0.1, affine=True, track_running_stats=True)\n",
       "          (conv2): Conv2d(512, 512, kernel_size=(3, 3), stride=(1, 1), padding=(1, 1), bias=False)\n",
       "          (bn2): BatchNorm2d(512, eps=1e-05, momentum=0.1, affine=True, track_running_stats=True)\n",
       "          (conv3): Conv2d(512, 2048, kernel_size=(1, 1), stride=(1, 1), bias=False)\n",
       "          (bn3): BatchNorm2d(2048, eps=1e-05, momentum=0.1, affine=True, track_running_stats=True)\n",
       "          (relu): ReLU(inplace=True)\n",
       "        )\n",
       "        (2): Bottleneck(\n",
       "          (conv1): Conv2d(2048, 512, kernel_size=(1, 1), stride=(1, 1), bias=False)\n",
       "          (bn1): BatchNorm2d(512, eps=1e-05, momentum=0.1, affine=True, track_running_stats=True)\n",
       "          (conv2): Conv2d(512, 512, kernel_size=(3, 3), stride=(1, 1), padding=(1, 1), bias=False)\n",
       "          (bn2): BatchNorm2d(512, eps=1e-05, momentum=0.1, affine=True, track_running_stats=True)\n",
       "          (conv3): Conv2d(512, 2048, kernel_size=(1, 1), stride=(1, 1), bias=False)\n",
       "          (bn3): BatchNorm2d(2048, eps=1e-05, momentum=0.1, affine=True, track_running_stats=True)\n",
       "          (relu): ReLU(inplace=True)\n",
       "        )\n",
       "      )\n",
       "      (avgpool): AdaptiveAvgPool2d(output_size=(1, 1))\n",
       "      (fc): Linear(in_features=2048, out_features=50, bias=True)\n",
       "    )\n",
       "  )\n",
       "  (train_metric): MulticlassAccuracy()\n",
       "  (valid_metric): MulticlassAccuracy()\n",
       "  (test_metric): MulticlassAccuracy()\n",
       "  (valid_metric_best): MaxMetric()\n",
       "  (valid_add_metrics): MetricCollection(\n",
       "    (F1): MulticlassF1Score(),\n",
       "    prefix=val/\n",
       "  )\n",
       "  (test_add_metrics): MetricCollection(\n",
       "    (F1): MulticlassF1Score(),\n",
       "    prefix=test/\n",
       "  )\n",
       "  (test_complete_metrics): MetricCollection(\n",
       "    (acc): MulticlassAccuracy(),\n",
       "    prefix=test/\n",
       "  )\n",
       ")"
      ]
     },
     "execution_count": 17,
     "metadata": {},
     "output_type": "execute_result"
    }
   ],
   "source": [
    "model"
   ]
  },
  {
   "cell_type": "markdown",
   "metadata": {},
   "source": [
    "# Step5) Initializing your model with esc50 data"
   ]
  },
  {
   "cell_type": "code",
   "execution_count": 18,
   "metadata": {},
   "outputs": [
    {
     "name": "stderr",
     "output_type": "stream",
     "text": [
      "LOCAL_RANK: 0 - CUDA_VISIBLE_DEVICES: [0,1,2,3]\n",
      "\n",
      "  | Name                  | Type               | Params\n",
      "-------------------------------------------------------------\n",
      "0 | loss                  | CrossEntropyLoss   | 0     \n",
      "1 | model                 | ResNetClassifier   | 23.6 M\n",
      "2 | train_metric          | MulticlassAccuracy | 0     \n",
      "3 | valid_metric          | MulticlassAccuracy | 0     \n",
      "4 | test_metric           | MulticlassAccuracy | 0     \n",
      "5 | valid_metric_best     | MaxMetric          | 0     \n",
      "6 | valid_add_metrics     | MetricCollection   | 0     \n",
      "7 | test_add_metrics      | MetricCollection   | 0     \n",
      "8 | test_complete_metrics | MetricCollection   | 0     \n",
      "-------------------------------------------------------------\n",
      "23.6 M    Trainable params\n",
      "0         Non-trainable params\n",
      "23.6 M    Total params\n",
      "94.417    Total estimated model params size (MB)\n"
     ]
    },
    {
     "data": {
      "application/vnd.jupyter.widget-view+json": {
       "model_id": "9d7e73b019834d3e8a85514b2efdc5c0",
       "version_major": 2,
       "version_minor": 0
      },
      "text/plain": [
       "Sanity Checking: |          | 0/? [00:00<?, ?it/s]"
      ]
     },
     "metadata": {},
     "output_type": "display_data"
    },
    {
     "data": {
      "application/vnd.jupyter.widget-view+json": {
       "model_id": "913e971db4604ccd8d01463ca0b85dac",
       "version_major": 2,
       "version_minor": 0
      },
      "text/plain": [
       "Training: |          | 0/? [00:00<?, ?it/s]"
      ]
     },
     "metadata": {},
     "output_type": "display_data"
    },
    {
     "data": {
      "application/vnd.jupyter.widget-view+json": {
       "model_id": "89ee941ad8434f218c3cd04141e5b128",
       "version_major": 2,
       "version_minor": 0
      },
      "text/plain": [
       "Validation: |          | 0/? [00:00<?, ?it/s]"
      ]
     },
     "metadata": {},
     "output_type": "display_data"
    },
    {
     "data": {
      "application/vnd.jupyter.widget-view+json": {
       "model_id": "fda16cc3d4b444bca481915c1da82e12",
       "version_major": 2,
       "version_minor": 0
      },
      "text/plain": [
       "Validation: |          | 0/? [00:00<?, ?it/s]"
      ]
     },
     "metadata": {},
     "output_type": "display_data"
    },
    {
     "data": {
      "application/vnd.jupyter.widget-view+json": {
       "model_id": "8c815871952949f0ab1ae9781cf68972",
       "version_major": 2,
       "version_minor": 0
      },
      "text/plain": [
       "Validation: |          | 0/? [00:00<?, ?it/s]"
      ]
     },
     "metadata": {},
     "output_type": "display_data"
    },
    {
     "data": {
      "application/vnd.jupyter.widget-view+json": {
       "model_id": "d80c197a833a416ca9d87d9d99f8dfa8",
       "version_major": 2,
       "version_minor": 0
      },
      "text/plain": [
       "Validation: |          | 0/? [00:00<?, ?it/s]"
      ]
     },
     "metadata": {},
     "output_type": "display_data"
    },
    {
     "data": {
      "application/vnd.jupyter.widget-view+json": {
       "model_id": "a8defdf31375445ebf5f0203cfa66c9b",
       "version_major": 2,
       "version_minor": 0
      },
      "text/plain": [
       "Validation: |          | 0/? [00:00<?, ?it/s]"
      ]
     },
     "metadata": {},
     "output_type": "display_data"
    },
    {
     "name": "stderr",
     "output_type": "stream",
     "text": [
      "`Trainer.fit` stopped: `max_epochs=5` reached.\n"
     ]
    }
   ],
   "source": [
    "trainer.fit(model, dm)"
   ]
  },
  {
   "cell_type": "markdown",
   "metadata": {},
   "source": [
    "# Step6) Evaluate your model with your test data"
   ]
  },
  {
   "cell_type": "code",
   "execution_count": null,
   "metadata": {},
   "outputs": [],
   "source": [
    "trainer.test(model=model,dataloaders=test_loader,ckpt_path=\"best\")"
   ]
  }
 ],
 "metadata": {
  "kernelspec": {
   "display_name": "birdset-xS3fZVNL-py3.10",
   "language": "python",
   "name": "python3"
  },
  "language_info": {
   "codemirror_mode": {
    "name": "ipython",
    "version": 3
   },
   "file_extension": ".py",
   "mimetype": "text/x-python",
   "name": "python",
   "nbconvert_exporter": "python",
   "pygments_lexer": "ipython3",
   "version": "3.10.12"
  }
 },
 "nbformat": 4,
 "nbformat_minor": 2
}
