{
    "cells": [
        {
            "cell_type": "code",
            "execution_count": 25,
            "metadata": {},
            "outputs": [],
            "source": [
                "%load_ext autoreload\n",
                "%autoreload 2\n",
                "\n",
                "import pandas as pd \n",
                "from tqdm import tqdm"
            ]
        },
        {
            "cell_type": "code",
            "execution_count": 2,
            "metadata": {},
            "outputs": [],
            "source": [
                "metadata = pd.read_csv(\"/home/lukas/projects/Bird2Vec/gadme/data/metadata/metadata.csv\")"
            ]
        },
        {
            "cell_type": "code",
            "execution_count": 4,
            "metadata": {},
            "outputs": [
                {
                    "name": "stdout",
                    "output_type": "stream",
                    "text": [
                        "<class 'pandas.core.frame.DataFrame'>\n",
                        "RangeIndex: 659989 entries, 0 to 659988\n",
                        "Data columns (total 16 columns):\n",
                        " #   Column           Non-Null Count   Dtype  \n",
                        "---  ------           --------------   -----  \n",
                        " 0   id               659989 non-null  int64  \n",
                        " 1   english_name     659989 non-null  object \n",
                        " 2   lat              642848 non-null  float64\n",
                        " 3   lng              642897 non-null  float64\n",
                        " 4   alt              636127 non-null  object \n",
                        " 5   type             654268 non-null  object \n",
                        " 6   sex              139296 non-null  object \n",
                        " 7   licence          659989 non-null  object \n",
                        " 8   q                659989 non-null  object \n",
                        " 9   length_s         659989 non-null  int64  \n",
                        " 10  scientific_name  659989 non-null  object \n",
                        " 11  continent        659989 non-null  object \n",
                        " 12  secondary_sci    659989 non-null  object \n",
                        " 13  ebird_code       659989 non-null  object \n",
                        " 14  file_name        659989 non-null  object \n",
                        " 15  secondary_ebird  659989 non-null  object \n",
                        "dtypes: float64(2), int64(2), object(12)\n",
                        "memory usage: 80.6+ MB\n"
                    ]
                }
            ],
            "source": [
                "metadata.info()"
            ]
        },
        {
            "cell_type": "code",
            "execution_count": 6,
            "metadata": {},
            "outputs": [
                {
                    "data": {
                        "text/html": [
                            "<div>\n",
                            "<style scoped>\n",
                            "    .dataframe tbody tr th:only-of-type {\n",
                            "        vertical-align: middle;\n",
                            "    }\n",
                            "\n",
                            "    .dataframe tbody tr th {\n",
                            "        vertical-align: top;\n",
                            "    }\n",
                            "\n",
                            "    .dataframe thead th {\n",
                            "        text-align: right;\n",
                            "    }\n",
                            "</style>\n",
                            "<table border=\"1\" class=\"dataframe\">\n",
                            "  <thead>\n",
                            "    <tr style=\"text-align: right;\">\n",
                            "      <th></th>\n",
                            "      <th>id</th>\n",
                            "      <th>english_name</th>\n",
                            "      <th>lat</th>\n",
                            "      <th>lng</th>\n",
                            "      <th>alt</th>\n",
                            "      <th>type</th>\n",
                            "      <th>sex</th>\n",
                            "      <th>licence</th>\n",
                            "      <th>q</th>\n",
                            "      <th>length_s</th>\n",
                            "      <th>scientific_name</th>\n",
                            "      <th>continent</th>\n",
                            "      <th>secondary_sci</th>\n",
                            "      <th>ebird_code</th>\n",
                            "      <th>file_name</th>\n",
                            "      <th>secondary_ebird</th>\n",
                            "    </tr>\n",
                            "  </thead>\n",
                            "  <tbody>\n",
                            "    <tr>\n",
                            "      <th>0</th>\n",
                            "      <td>516153</td>\n",
                            "      <td>Common Ostrich</td>\n",
                            "      <td>-23.9513</td>\n",
                            "      <td>29.4735</td>\n",
                            "      <td>1300</td>\n",
                            "      <td>call</td>\n",
                            "      <td>NaN</td>\n",
                            "      <td>//creativecommons.org/licenses/by-nc-nd/4.0/</td>\n",
                            "      <td>A</td>\n",
                            "      <td>53</td>\n",
                            "      <td>struthio camelus</td>\n",
                            "      <td>africa</td>\n",
                            "      <td>[]</td>\n",
                            "      <td>ostric2</td>\n",
                            "      <td>africa/struthio_camelus/XC516153.ogg</td>\n",
                            "      <td>[]</td>\n",
                            "    </tr>\n",
                            "    <tr>\n",
                            "      <th>1</th>\n",
                            "      <td>208209</td>\n",
                            "      <td>Common Ostrich</td>\n",
                            "      <td>-22.6770</td>\n",
                            "      <td>28.2629</td>\n",
                            "      <td>750</td>\n",
                            "      <td>call</td>\n",
                            "      <td>NaN</td>\n",
                            "      <td>//creativecommons.org/licenses/by-nc-sa/4.0/</td>\n",
                            "      <td>A</td>\n",
                            "      <td>26</td>\n",
                            "      <td>struthio camelus</td>\n",
                            "      <td>africa</td>\n",
                            "      <td>['Caprimulgus rufigena']</td>\n",
                            "      <td>ostric2</td>\n",
                            "      <td>africa/struthio_camelus/XC208209.ogg</td>\n",
                            "      <td>['rucnig1']</td>\n",
                            "    </tr>\n",
                            "    <tr>\n",
                            "      <th>2</th>\n",
                            "      <td>208128</td>\n",
                            "      <td>Common Ostrich</td>\n",
                            "      <td>-22.6085</td>\n",
                            "      <td>28.2996</td>\n",
                            "      <td>750</td>\n",
                            "      <td>call</td>\n",
                            "      <td>NaN</td>\n",
                            "      <td>//creativecommons.org/licenses/by-nc-sa/4.0/</td>\n",
                            "      <td>A</td>\n",
                            "      <td>4</td>\n",
                            "      <td>struthio camelus</td>\n",
                            "      <td>africa</td>\n",
                            "      <td>[]</td>\n",
                            "      <td>ostric2</td>\n",
                            "      <td>africa/struthio_camelus/XC208128.ogg</td>\n",
                            "      <td>[]</td>\n",
                            "    </tr>\n",
                            "    <tr>\n",
                            "      <th>3</th>\n",
                            "      <td>46725</td>\n",
                            "      <td>Common Ostrich</td>\n",
                            "      <td>-24.3834</td>\n",
                            "      <td>30.9334</td>\n",
                            "      <td>523</td>\n",
                            "      <td>call</td>\n",
                            "      <td>NaN</td>\n",
                            "      <td>//creativecommons.org/licenses/by-nc-nd/2.5/</td>\n",
                            "      <td>A</td>\n",
                            "      <td>11</td>\n",
                            "      <td>struthio camelus</td>\n",
                            "      <td>africa</td>\n",
                            "      <td>[]</td>\n",
                            "      <td>ostric2</td>\n",
                            "      <td>africa/struthio_camelus/XC46725.ogg</td>\n",
                            "      <td>[]</td>\n",
                            "    </tr>\n",
                            "    <tr>\n",
                            "      <th>4</th>\n",
                            "      <td>673753</td>\n",
                            "      <td>Common Ostrich</td>\n",
                            "      <td>-26.9306</td>\n",
                            "      <td>26.2697</td>\n",
                            "      <td>1500</td>\n",
                            "      <td>call</td>\n",
                            "      <td>uncertain</td>\n",
                            "      <td>//creativecommons.org/licenses/by-nc-sa/4.0/</td>\n",
                            "      <td>C</td>\n",
                            "      <td>11</td>\n",
                            "      <td>struthio camelus</td>\n",
                            "      <td>africa</td>\n",
                            "      <td>['Tricholaema leucomelas', 'Curruca subcoerule...</td>\n",
                            "      <td>ostric2</td>\n",
                            "      <td>africa/struthio_camelus/XC673753.ogg</td>\n",
                            "      <td>['piebar1', 'ruvwar2', 'laudov1']</td>\n",
                            "    </tr>\n",
                            "  </tbody>\n",
                            "</table>\n",
                            "</div>"
                        ],
                        "text/plain": [
                            "       id    english_name      lat      lng   alt  type        sex   \n",
                            "0  516153  Common Ostrich -23.9513  29.4735  1300  call        NaN  \\\n",
                            "1  208209  Common Ostrich -22.6770  28.2629   750  call        NaN   \n",
                            "2  208128  Common Ostrich -22.6085  28.2996   750  call        NaN   \n",
                            "3   46725  Common Ostrich -24.3834  30.9334   523  call        NaN   \n",
                            "4  673753  Common Ostrich -26.9306  26.2697  1500  call  uncertain   \n",
                            "\n",
                            "                                        licence  q  length_s   \n",
                            "0  //creativecommons.org/licenses/by-nc-nd/4.0/  A        53  \\\n",
                            "1  //creativecommons.org/licenses/by-nc-sa/4.0/  A        26   \n",
                            "2  //creativecommons.org/licenses/by-nc-sa/4.0/  A         4   \n",
                            "3  //creativecommons.org/licenses/by-nc-nd/2.5/  A        11   \n",
                            "4  //creativecommons.org/licenses/by-nc-sa/4.0/  C        11   \n",
                            "\n",
                            "    scientific_name continent   \n",
                            "0  struthio camelus    africa  \\\n",
                            "1  struthio camelus    africa   \n",
                            "2  struthio camelus    africa   \n",
                            "3  struthio camelus    africa   \n",
                            "4  struthio camelus    africa   \n",
                            "\n",
                            "                                       secondary_sci ebird_code   \n",
                            "0                                                 []    ostric2  \\\n",
                            "1                           ['Caprimulgus rufigena']    ostric2   \n",
                            "2                                                 []    ostric2   \n",
                            "3                                                 []    ostric2   \n",
                            "4  ['Tricholaema leucomelas', 'Curruca subcoerule...    ostric2   \n",
                            "\n",
                            "                              file_name                    secondary_ebird  \n",
                            "0  africa/struthio_camelus/XC516153.ogg                                 []  \n",
                            "1  africa/struthio_camelus/XC208209.ogg                        ['rucnig1']  \n",
                            "2  africa/struthio_camelus/XC208128.ogg                                 []  \n",
                            "3   africa/struthio_camelus/XC46725.ogg                                 []  \n",
                            "4  africa/struthio_camelus/XC673753.ogg  ['piebar1', 'ruvwar2', 'laudov1']  "
                        ]
                    },
                    "execution_count": 6,
                    "metadata": {},
                    "output_type": "execute_result"
                }
            ],
            "source": [
                "metadata.head()"
            ]
        },
        {
            "cell_type": "code",
            "execution_count": 11,
            "metadata": {},
            "outputs": [],
            "source": [
                "na_metadata = metadata.loc[metadata[\"continent\"]==\"north_america\"]"
            ]
        },
        {
            "cell_type": "code",
            "execution_count": 12,
            "metadata": {},
            "outputs": [
                {
                    "data": {
                        "text/plain": [
                            "(106662, 16)"
                        ]
                    },
                    "execution_count": 12,
                    "metadata": {},
                    "output_type": "execute_result"
                }
            ],
            "source": [
                "na_metadata.shape"
            ]
        },
        {
            "cell_type": "code",
            "execution_count": 17,
            "metadata": {},
            "outputs": [],
            "source": [
                "na_metadata_sample = na_metadata.sample(50_000, random_state=7, ignore_index=True)"
            ]
        },
        {
            "cell_type": "code",
            "execution_count": 18,
            "metadata": {},
            "outputs": [
                {
                    "data": {
                        "text/plain": [
                            "(50000, 16)"
                        ]
                    },
                    "execution_count": 18,
                    "metadata": {},
                    "output_type": "execute_result"
                }
            ],
            "source": [
                "na_metadata_sample.shape"
            ]
        },
        {
            "cell_type": "code",
            "execution_count": 20,
            "metadata": {},
            "outputs": [],
            "source": [
                "na_metadata_sample.to_csv(\"/home/lukas/projects/Bird2Vec/gadme/data/metadata/metadata_na_50.csv\")"
            ]
        },
        {
            "cell_type": "code",
            "execution_count": 19,
            "metadata": {},
            "outputs": [
                {
                    "data": {
                        "text/html": [
                            "<div>\n",
                            "<style scoped>\n",
                            "    .dataframe tbody tr th:only-of-type {\n",
                            "        vertical-align: middle;\n",
                            "    }\n",
                            "\n",
                            "    .dataframe tbody tr th {\n",
                            "        vertical-align: top;\n",
                            "    }\n",
                            "\n",
                            "    .dataframe thead th {\n",
                            "        text-align: right;\n",
                            "    }\n",
                            "</style>\n",
                            "<table border=\"1\" class=\"dataframe\">\n",
                            "  <thead>\n",
                            "    <tr style=\"text-align: right;\">\n",
                            "      <th></th>\n",
                            "      <th>id</th>\n",
                            "      <th>english_name</th>\n",
                            "      <th>lat</th>\n",
                            "      <th>lng</th>\n",
                            "      <th>alt</th>\n",
                            "      <th>type</th>\n",
                            "      <th>sex</th>\n",
                            "      <th>licence</th>\n",
                            "      <th>q</th>\n",
                            "      <th>length_s</th>\n",
                            "      <th>scientific_name</th>\n",
                            "      <th>continent</th>\n",
                            "      <th>secondary_sci</th>\n",
                            "      <th>ebird_code</th>\n",
                            "      <th>file_name</th>\n",
                            "      <th>secondary_ebird</th>\n",
                            "    </tr>\n",
                            "  </thead>\n",
                            "  <tbody>\n",
                            "    <tr>\n",
                            "      <th>0</th>\n",
                            "      <td>550424</td>\n",
                            "      <td>Song Sparrow</td>\n",
                            "      <td>45.0889</td>\n",
                            "      <td>-74.2627</td>\n",
                            "      <td>100</td>\n",
                            "      <td>song</td>\n",
                            "      <td>NaN</td>\n",
                            "      <td>//creativecommons.org/licenses/by-nc-sa/4.0/</td>\n",
                            "      <td>B</td>\n",
                            "      <td>167</td>\n",
                            "      <td>melospiza melodia</td>\n",
                            "      <td>north_america</td>\n",
                            "      <td>['Melospiza melodia', 'Geothlypis trichas']</td>\n",
                            "      <td>sonspa</td>\n",
                            "      <td>north_america/melospiza_melodia/XC550424.ogg</td>\n",
                            "      <td>['sonspa', 'comyel']</td>\n",
                            "    </tr>\n",
                            "    <tr>\n",
                            "      <th>1</th>\n",
                            "      <td>363656</td>\n",
                            "      <td>Scarlet Tanager</td>\n",
                            "      <td>34.3615</td>\n",
                            "      <td>-87.1788</td>\n",
                            "      <td>260</td>\n",
                            "      <td>song</td>\n",
                            "      <td>male</td>\n",
                            "      <td>//creativecommons.org/licenses/by-nc-sa/4.0/</td>\n",
                            "      <td>B</td>\n",
                            "      <td>66</td>\n",
                            "      <td>piranga olivacea</td>\n",
                            "      <td>north_america</td>\n",
                            "      <td>['Vireo olivaceus']</td>\n",
                            "      <td>scatan</td>\n",
                            "      <td>north_america/piranga_olivacea/XC363656.ogg</td>\n",
                            "      <td>['reevir1']</td>\n",
                            "    </tr>\n",
                            "    <tr>\n",
                            "      <th>2</th>\n",
                            "      <td>499738</td>\n",
                            "      <td>Eared Poorwill</td>\n",
                            "      <td>21.4871</td>\n",
                            "      <td>-104.9933</td>\n",
                            "      <td>1400m</td>\n",
                            "      <td>song</td>\n",
                            "      <td>NaN</td>\n",
                            "      <td>//creativecommons.org/licenses/by-nc-sa/4.0/</td>\n",
                            "      <td>A</td>\n",
                            "      <td>196</td>\n",
                            "      <td>nyctiphrynus mcleodii</td>\n",
                            "      <td>north_america</td>\n",
                            "      <td>['Antrostomus arizonae']</td>\n",
                            "      <td>earpoo1</td>\n",
                            "      <td>north_america/nyctiphrynus_mcleodii/XC499738.ogg</td>\n",
                            "      <td>['souwpw1']</td>\n",
                            "    </tr>\n",
                            "    <tr>\n",
                            "      <th>3</th>\n",
                            "      <td>135666</td>\n",
                            "      <td>Prairie Warbler</td>\n",
                            "      <td>35.5587</td>\n",
                            "      <td>-84.1326</td>\n",
                            "      <td>260</td>\n",
                            "      <td>song</td>\n",
                            "      <td>NaN</td>\n",
                            "      <td>//creativecommons.org/licenses/by-nc-sa/3.0/</td>\n",
                            "      <td>A</td>\n",
                            "      <td>63</td>\n",
                            "      <td>setophaga discolor</td>\n",
                            "      <td>north_america</td>\n",
                            "      <td>['Icteria virens']</td>\n",
                            "      <td>prawar</td>\n",
                            "      <td>north_america/setophaga_discolor/XC135666.ogg</td>\n",
                            "      <td>['yebcha']</td>\n",
                            "    </tr>\n",
                            "    <tr>\n",
                            "      <th>4</th>\n",
                            "      <td>495394</td>\n",
                            "      <td>Black-crowned Antshrike</td>\n",
                            "      <td>9.1270</td>\n",
                            "      <td>-79.7150</td>\n",
                            "      <td>70</td>\n",
                            "      <td>song</td>\n",
                            "      <td>male</td>\n",
                            "      <td>//creativecommons.org/licenses/by-nc-sa/4.0/</td>\n",
                            "      <td>A</td>\n",
                            "      <td>44</td>\n",
                            "      <td>thamnophilus atrinucha</td>\n",
                            "      <td>north_america</td>\n",
                            "      <td>['Microrhopias quixensis']</td>\n",
                            "      <td>wesant1</td>\n",
                            "      <td>north_america/thamnophilus_atrinucha/XC495394.ogg</td>\n",
                            "      <td>['dowant1']</td>\n",
                            "    </tr>\n",
                            "  </tbody>\n",
                            "</table>\n",
                            "</div>"
                        ],
                        "text/plain": [
                            "       id             english_name      lat       lng    alt  type   sex   \n",
                            "0  550424             Song Sparrow  45.0889  -74.2627    100  song   NaN  \\\n",
                            "1  363656          Scarlet Tanager  34.3615  -87.1788    260  song  male   \n",
                            "2  499738           Eared Poorwill  21.4871 -104.9933  1400m  song   NaN   \n",
                            "3  135666          Prairie Warbler  35.5587  -84.1326    260  song   NaN   \n",
                            "4  495394  Black-crowned Antshrike   9.1270  -79.7150     70  song  male   \n",
                            "\n",
                            "                                        licence  q  length_s   \n",
                            "0  //creativecommons.org/licenses/by-nc-sa/4.0/  B       167  \\\n",
                            "1  //creativecommons.org/licenses/by-nc-sa/4.0/  B        66   \n",
                            "2  //creativecommons.org/licenses/by-nc-sa/4.0/  A       196   \n",
                            "3  //creativecommons.org/licenses/by-nc-sa/3.0/  A        63   \n",
                            "4  //creativecommons.org/licenses/by-nc-sa/4.0/  A        44   \n",
                            "\n",
                            "          scientific_name      continent   \n",
                            "0       melospiza melodia  north_america  \\\n",
                            "1        piranga olivacea  north_america   \n",
                            "2   nyctiphrynus mcleodii  north_america   \n",
                            "3      setophaga discolor  north_america   \n",
                            "4  thamnophilus atrinucha  north_america   \n",
                            "\n",
                            "                                 secondary_sci ebird_code   \n",
                            "0  ['Melospiza melodia', 'Geothlypis trichas']     sonspa  \\\n",
                            "1                          ['Vireo olivaceus']     scatan   \n",
                            "2                     ['Antrostomus arizonae']    earpoo1   \n",
                            "3                           ['Icteria virens']     prawar   \n",
                            "4                   ['Microrhopias quixensis']    wesant1   \n",
                            "\n",
                            "                                           file_name       secondary_ebird  \n",
                            "0       north_america/melospiza_melodia/XC550424.ogg  ['sonspa', 'comyel']  \n",
                            "1        north_america/piranga_olivacea/XC363656.ogg           ['reevir1']  \n",
                            "2   north_america/nyctiphrynus_mcleodii/XC499738.ogg           ['souwpw1']  \n",
                            "3      north_america/setophaga_discolor/XC135666.ogg            ['yebcha']  \n",
                            "4  north_america/thamnophilus_atrinucha/XC495394.ogg           ['dowant1']  "
                        ]
                    },
                    "execution_count": 19,
                    "metadata": {},
                    "output_type": "execute_result"
                }
            ],
            "source": [
                "na_metadata_sample.head()"
            ]
        },
        {
            "cell_type": "code",
            "execution_count": 21,
            "metadata": {},
            "outputs": [],
            "source": [
                "metadata = pd.read_csv(\"/home/lukas/projects/Bird2Vec/gadme/data/metadata/metadata_na_1k.csv\", index_col='id')\n"
            ]
        },
        {
            "cell_type": "code",
            "execution_count": 22,
            "metadata": {},
            "outputs": [
                {
                    "data": {
                        "text/html": [
                            "<div>\n",
                            "<style scoped>\n",
                            "    .dataframe tbody tr th:only-of-type {\n",
                            "        vertical-align: middle;\n",
                            "    }\n",
                            "\n",
                            "    .dataframe tbody tr th {\n",
                            "        vertical-align: top;\n",
                            "    }\n",
                            "\n",
                            "    .dataframe thead th {\n",
                            "        text-align: right;\n",
                            "    }\n",
                            "</style>\n",
                            "<table border=\"1\" class=\"dataframe\">\n",
                            "  <thead>\n",
                            "    <tr style=\"text-align: right;\">\n",
                            "      <th></th>\n",
                            "      <th>lat</th>\n",
                            "      <th>lng</th>\n",
                            "      <th>type</th>\n",
                            "      <th>sex</th>\n",
                            "      <th>primary</th>\n",
                            "      <th>continent</th>\n",
                            "      <th>secondary</th>\n",
                            "      <th>file_name</th>\n",
                            "      <th>ebird_code</th>\n",
                            "    </tr>\n",
                            "    <tr>\n",
                            "      <th>id</th>\n",
                            "      <th></th>\n",
                            "      <th></th>\n",
                            "      <th></th>\n",
                            "      <th></th>\n",
                            "      <th></th>\n",
                            "      <th></th>\n",
                            "      <th></th>\n",
                            "      <th></th>\n",
                            "      <th></th>\n",
                            "    </tr>\n",
                            "  </thead>\n",
                            "  <tbody>\n",
                            "    <tr>\n",
                            "      <th>241017</th>\n",
                            "      <td>31.4312</td>\n",
                            "      <td>-110.2366</td>\n",
                            "      <td>song</td>\n",
                            "      <td>NaN</td>\n",
                            "      <td>campylorhynchus brunneicapillus</td>\n",
                            "      <td>North America</td>\n",
                            "      <td>['Zenaida asiatica', 'Haemorhous mexicanus', '...</td>\n",
                            "      <td>data/xeno-canto/north_america/campylorhynchus_...</td>\n",
                            "      <td>cacwre</td>\n",
                            "    </tr>\n",
                            "    <tr>\n",
                            "      <th>741556</th>\n",
                            "      <td>17.8693</td>\n",
                            "      <td>-97.0266</td>\n",
                            "      <td>song</td>\n",
                            "      <td>NaN</td>\n",
                            "      <td>vireo hypochryseus</td>\n",
                            "      <td>North America</td>\n",
                            "      <td>[]</td>\n",
                            "      <td>data/xeno-canto/north_america/vireo_hypochryse...</td>\n",
                            "      <td>golvir1</td>\n",
                            "    </tr>\n",
                            "    <tr>\n",
                            "      <th>796595</th>\n",
                            "      <td>43.0706</td>\n",
                            "      <td>-76.0712</td>\n",
                            "      <td>call</td>\n",
                            "      <td>uncertain</td>\n",
                            "      <td>corvus brachyrhynchos</td>\n",
                            "      <td>North America</td>\n",
                            "      <td>[]</td>\n",
                            "      <td>data/xeno-canto/north_america/corvus_brachyrhy...</td>\n",
                            "      <td>amecro</td>\n",
                            "    </tr>\n",
                            "    <tr>\n",
                            "      <th>796809</th>\n",
                            "      <td>17.1543</td>\n",
                            "      <td>-88.8522</td>\n",
                            "      <td>song</td>\n",
                            "      <td>NaN</td>\n",
                            "      <td>cyanoloxia cyanoides</td>\n",
                            "      <td>North America</td>\n",
                            "      <td>[]</td>\n",
                            "      <td>data/xeno-canto/north_america/cyanoloxia_cyano...</td>\n",
                            "      <td>bubgro1</td>\n",
                            "    </tr>\n",
                            "    <tr>\n",
                            "      <th>236014</th>\n",
                            "      <td>29.7599</td>\n",
                            "      <td>-95.4468</td>\n",
                            "      <td>song</td>\n",
                            "      <td>NaN</td>\n",
                            "      <td>thryothorus ludovicianus</td>\n",
                            "      <td>North America</td>\n",
                            "      <td>[]</td>\n",
                            "      <td>data/xeno-canto/north_america/thryothorus_ludo...</td>\n",
                            "      <td>carwre</td>\n",
                            "    </tr>\n",
                            "  </tbody>\n",
                            "</table>\n",
                            "</div>"
                        ],
                        "text/plain": [
                            "            lat       lng  type        sex                          primary   \n",
                            "id                                                                            \n",
                            "241017  31.4312 -110.2366  song        NaN  campylorhynchus brunneicapillus  \\\n",
                            "741556  17.8693  -97.0266  song        NaN               vireo hypochryseus   \n",
                            "796595  43.0706  -76.0712  call  uncertain            corvus brachyrhynchos   \n",
                            "796809  17.1543  -88.8522  song        NaN             cyanoloxia cyanoides   \n",
                            "236014  29.7599  -95.4468  song        NaN         thryothorus ludovicianus   \n",
                            "\n",
                            "            continent                                          secondary   \n",
                            "id                                                                         \n",
                            "241017  North America  ['Zenaida asiatica', 'Haemorhous mexicanus', '...  \\\n",
                            "741556  North America                                                 []   \n",
                            "796595  North America                                                 []   \n",
                            "796809  North America                                                 []   \n",
                            "236014  North America                                                 []   \n",
                            "\n",
                            "                                                file_name ebird_code  \n",
                            "id                                                                    \n",
                            "241017  data/xeno-canto/north_america/campylorhynchus_...     cacwre  \n",
                            "741556  data/xeno-canto/north_america/vireo_hypochryse...    golvir1  \n",
                            "796595  data/xeno-canto/north_america/corvus_brachyrhy...     amecro  \n",
                            "796809  data/xeno-canto/north_america/cyanoloxia_cyano...    bubgro1  \n",
                            "236014  data/xeno-canto/north_america/thryothorus_ludo...     carwre  "
                        ]
                    },
                    "execution_count": 22,
                    "metadata": {},
                    "output_type": "execute_result"
                }
            ],
            "source": [
                "metadata.head()"
            ]
        },
        {
            "cell_type": "code",
            "execution_count": 1,
            "metadata": {},
            "outputs": [],
            "source": [
                "from datasets import load_dataset"
            ]
        },
        {
            "cell_type": "code",
            "execution_count": 2,
            "metadata": {},
            "outputs": [
                {
                    "name": "stderr",
                    "output_type": "stream",
                    "text": [
                        "Found cached dataset parquet (/home/lukas/.cache/huggingface/datasets/DBD-research-group___parquet/DBD-research-group--na_metadata50k-d5510c71c5ecd5da/0.0.0/2a3b91fbd88a2c90d1dbbb32b460cf621d31bd5b05b934492fdef7d8d6f236ec)\n"
                    ]
                },
                {
                    "data": {
                        "application/vnd.jupyter.widget-view+json": {
                            "model_id": "ca39703f5c93457a8ad122cc4eb11774",
                            "version_major": 2,
                            "version_minor": 0
                        },
                        "text/plain": [
                            "  0%|          | 0/2 [00:00<?, ?it/s]"
                        ]
                    },
                    "metadata": {},
                    "output_type": "display_data"
                }
            ],
            "source": [
                "ds = load_dataset(\"DBD-research-group/na_metadata50k\")\n",
                "# download time: 40 mins"
            ]
        },
        {
            "cell_type": "code",
            "execution_count": 26,
            "metadata": {},
            "outputs": [
                {
                    "data": {
                        "text/plain": [
                            "{'Unnamed: 0': 325805,\n",
                            " 'english_name': 'Northern Raven',\n",
                            " 'lat': 67.20123,\n",
                            " 'lng': -154.53601,\n",
                            " 'alt': '214',\n",
                            " 'type': 'call',\n",
                            " 'sex': None,\n",
                            " 'licence': '//creativecommons.org/licenses/by-nc-sa/4.0/',\n",
                            " 'q': 'B',\n",
                            " 'length_s': 76,\n",
                            " 'scientific_name': 'corvus corax',\n",
                            " 'continent': 'north_america',\n",
                            " 'secondary_sci': '[]',\n",
                            " 'ebird_code': 339,\n",
                            " 'audio': {'path': 'XC535000.ogg',\n",
                            "  'array': array([ 9.04992339e-06, -9.53266863e-07, -6.33765012e-07, ...,\n",
                            "          1.65803102e-03,  2.20180815e-03,  1.61758508e-03]),\n",
                            "  'sampling_rate': 32000},\n",
                            " 'secondary_ebird': '[]',\n",
                            " 'id': 535000,\n",
                            " 'file': 'data/xeno-canto/north_america/corvus_corax/XC535000.ogg'}"
                        ]
                    },
                    "execution_count": 26,
                    "metadata": {},
                    "output_type": "execute_result"
                }
            ],
            "source": [
                "ds[\"train\"][0]"
            ]
        },
        {
            "cell_type": "code",
            "execution_count": 3,
            "metadata": {},
            "outputs": [],
            "source": [
                "ds = ds.select_columns(['audio', 'ebird_code'])"
            ]
        },
        {
            "cell_type": "code",
            "execution_count": 30,
            "metadata": {},
            "outputs": [
                {
                    "data": {
                        "text/plain": [
                            "{'type': None,\n",
                            " 'format_kwargs': {},\n",
                            " 'columns': ['audio', 'ebird_code'],\n",
                            " 'output_all_columns': False}"
                        ]
                    },
                    "execution_count": 30,
                    "metadata": {},
                    "output_type": "execute_result"
                }
            ],
            "source": [
                "ds[\"train\"].format"
            ]
        },
        {
            "cell_type": "code",
            "execution_count": 4,
            "metadata": {},
            "outputs": [],
            "source": [
                "ds.set_format(\"np\")"
            ]
        },
        {
            "cell_type": "code",
            "execution_count": 7,
            "metadata": {},
            "outputs": [],
            "source": [
                "sample = ds[\"train\"].select(range(1000))"
            ]
        },
        {
            "cell_type": "markdown",
            "metadata": {},
            "source": []
        },
        {
            "cell_type": "code",
            "execution_count": 32,
            "metadata": {},
            "outputs": [
                {
                    "data": {
                        "text/plain": [
                            "Dataset({\n",
                            "    features: ['audio', 'ebird_code'],\n",
                            "    num_rows: 1000\n",
                            "})"
                        ]
                    },
                    "execution_count": 32,
                    "metadata": {},
                    "output_type": "execute_result"
                }
            ],
            "source": [
                "sample"
            ]
        },
        {
            "cell_type": "code",
            "execution_count": 5,
            "metadata": {},
            "outputs": [
                {
                    "data": {
                        "text/plain": [
                            "18.23040643"
                        ]
                    },
                    "execution_count": 5,
                    "metadata": {},
                    "output_type": "execute_result"
                }
            ],
            "source": [
                "ds[\"train\"].data.nbytes /1e9"
            ]
        },
        {
            "cell_type": "code",
            "execution_count": 6,
            "metadata": {},
            "outputs": [
                {
                    "data": {
                        "text/plain": [
                            "4.510534707"
                        ]
                    },
                    "execution_count": 6,
                    "metadata": {},
                    "output_type": "execute_result"
                }
            ],
            "source": [
                "ds[\"test\"].data.nbytes /1e9"
            ]
        },
        {
            "cell_type": "code",
            "execution_count": 12,
            "metadata": {},
            "outputs": [
                {
                    "data": {
                        "text/plain": [
                            "1385"
                        ]
                    },
                    "execution_count": 12,
                    "metadata": {},
                    "output_type": "execute_result"
                }
            ],
            "source": [
                "len(ds[\"train\"].features[\"ebird_code\"].names)"
            ]
        },
        {
            "cell_type": "code",
            "execution_count": 5,
            "metadata": {},
            "outputs": [
                {
                    "data": {
                        "text/plain": [
                            "DatasetDict({\n",
                            "    train: Dataset({\n",
                            "        features: ['Unnamed: 0', 'english_name', 'lat', 'lng', 'alt', 'type', 'sex', 'licence', 'q', 'length_s', 'scientific_name', 'continent', 'secondary_sci', 'ebird_code', 'audio', 'secondary_ebird', 'id', 'file'],\n",
                            "        num_rows: 40000\n",
                            "    })\n",
                            "    test: Dataset({\n",
                            "        features: ['Unnamed: 0', 'english_name', 'lat', 'lng', 'alt', 'type', 'sex', 'licence', 'q', 'length_s', 'scientific_name', 'continent', 'secondary_sci', 'ebird_code', 'audio', 'secondary_ebird', 'id', 'file'],\n",
                            "        num_rows: 10000\n",
                            "    })\n",
                            "})"
                        ]
                    },
                    "execution_count": 5,
                    "metadata": {},
                    "output_type": "execute_result"
                }
            ],
            "source": [
                "ds"
            ]
        },
        {
            "cell_type": "code",
            "execution_count": null,
            "metadata": {},
            "outputs": [],
            "source": [
                "# takes very long \n",
                "for i in tqdm(ds[\"train\"]):\n",
                "    pass"
            ]
        },
        {
            "cell_type": "code",
            "execution_count": 7,
            "metadata": {},
            "outputs": [
                {
                    "data": {
                        "text/plain": [
                            "{'ebird_code': 339,\n",
                            " 'audio': {'path': 'XC535000.ogg',\n",
                            "  'array': array([ 9.04992339e-06, -9.53266863e-07, -6.33765012e-07, ...,\n",
                            "          1.65803102e-03,  2.20180815e-03,  1.61758508e-03]),\n",
                            "  'sampling_rate': 32000}}"
                        ]
                    },
                    "execution_count": 7,
                    "metadata": {},
                    "output_type": "execute_result"
                }
            ],
            "source": [
                "ds[\"train\"][0]"
            ]
        },
        {
            "cell_type": "code",
            "execution_count": 5,
            "metadata": {},
            "outputs": [
                {
                    "data": {
                        "text/plain": [
                            "{'audio': {'path': 'XC535000.ogg',\n",
                            "  'array': array([ 9.04992339e-06, -9.53266863e-07, -6.33765012e-07, ...,\n",
                            "          1.65803102e-03,  2.20180815e-03,  1.61758508e-03]),\n",
                            "  'sampling_rate': 32000},\n",
                            " 'ebird_code': 339}"
                        ]
                    },
                    "execution_count": 5,
                    "metadata": {},
                    "output_type": "execute_result"
                }
            ],
            "source": [
                "sample[0]"
            ]
        },
        {
            "cell_type": "code",
            "execution_count": 5,
            "metadata": {},
            "outputs": [],
            "source": [
                "%load_ext autoreload\n",
                "%autoreload 2\n",
                "from src.data.extraction import CustomFeatureExtractor\n",
                "\n",
                "feature_extractor = CustomFeatureExtractor()\n",
                "\n",
                "def preprocess_function(samples):\n",
                "    audio_arrays = [x[\"array\"] for x in samples[\"audio\"]]\n",
                "    inputs = feature_extractor(\n",
                "        audio_arrays,\n",
                "        sampling_rate=feature_extractor.sampling_rate,\n",
                "        padding=True,\n",
                "        max_length=32_000*5,\n",
                "        truncation=True,\n",
                "        return_tensors=\"pt\"\n",
                "    )\n",
                "    return inputs"
            ]
        },
        {
            "cell_type": "code",
            "execution_count": 9,
            "metadata": {},
            "outputs": [
                {
                    "data": {
                        "application/vnd.jupyter.widget-view+json": {
                            "model_id": "d4fdce1d989145ce94ba3d5f66b5658b",
                            "version_major": 2,
                            "version_minor": 0
                        },
                        "text/plain": [
                            "Map (num_proc=4):   0%|          | 0/1000 [00:00<?, ? examples/s]"
                        ]
                    },
                    "metadata": {},
                    "output_type": "display_data"
                }
            ],
            "source": [
                "encoded_sample = sample.map(\n",
                "    preprocess_function,\n",
                "    remove_columns=['audio'],\n",
                "    batched=True,\n",
                "    batch_size=50,\n",
                "    num_proc=4,\n",
                "    load_from_cache_file=True\n",
                ")"
            ]
        },
        {
            "cell_type": "code",
            "execution_count": 10,
            "metadata": {},
            "outputs": [
                {
                    "data": {
                        "text/plain": [
                            "{'type': 'numpy',\n",
                            " 'format_kwargs': {},\n",
                            " 'columns': ['ebird_code', 'input_values'],\n",
                            " 'output_all_columns': False}"
                        ]
                    },
                    "execution_count": 10,
                    "metadata": {},
                    "output_type": "execute_result"
                }
            ],
            "source": [
                "encoded_sample.format"
            ]
        },
        {
            "cell_type": "code",
            "execution_count": 12,
            "metadata": {},
            "outputs": [
                {
                    "data": {
                        "text/plain": [
                            "5.0"
                        ]
                    },
                    "execution_count": 12,
                    "metadata": {},
                    "output_type": "execute_result"
                }
            ],
            "source": [
                "len(encoded_sample[400][\"input_values\"]) / 32_000"
            ]
        },
        {
            "cell_type": "code",
            "execution_count": 14,
            "metadata": {},
            "outputs": [],
            "source": [
                "from tqdm import tqdm"
            ]
        },
        {
            "cell_type": "code",
            "execution_count": 17,
            "metadata": {},
            "outputs": [
                {
                    "name": "stderr",
                    "output_type": "stream",
                    "text": [
                        "100%|██████████| 1000/1000 [00:00<00:00, 4140.02it/s]\n"
                    ]
                }
            ],
            "source": [
                "for i in tqdm(encoded_sample):\n",
                "    pass\n"
            ]
        },
        {
            "cell_type": "code",
            "execution_count": 6,
            "metadata": {},
            "outputs": [
                {
                    "data": {
                        "application/vnd.jupyter.widget-view+json": {
                            "model_id": "339271f9a49a4075b9be7a193de40d05",
                            "version_major": 2,
                            "version_minor": 0
                        },
                        "text/plain": [
                            "Map (num_proc=4):   0%|          | 0/40000 [00:00<?, ? examples/s]"
                        ]
                    },
                    "metadata": {},
                    "output_type": "display_data"
                },
                {
                    "data": {
                        "application/vnd.jupyter.widget-view+json": {
                            "model_id": "911c7fe12fae43f4ab5bba20422523d9",
                            "version_major": 2,
                            "version_minor": 0
                        },
                        "text/plain": [
                            "Map (num_proc=4):   0%|          | 0/10000 [00:00<?, ? examples/s]"
                        ]
                    },
                    "metadata": {},
                    "output_type": "display_data"
                }
            ],
            "source": [
                "encoded_ds = ds.map(\n",
                "    preprocess_function,\n",
                "    remove_columns=['audio'],\n",
                "    batched=True,\n",
                "    batch_size=1000,\n",
                "    num_proc=4,\n",
                "    load_from_cache_file=True\n",
                ")"
            ]
        },
        {
            "cell_type": "markdown",
            "metadata": {},
            "source": [
                "Once you have your final dataset you can save it on your disk and reuse it later using datasets.load_from_disk. Saving a dataset creates a directory with various files:\n",
                "\n",
                "    arrow files: they contain your dataset’s data\n",
                "\n",
                "    dataset_info.json: contains the description, citations, etc. of the dataset\n",
                "\n",
                "    state.json: contains the list of the arrow files and other informations like the dataset format type, if any (torch or tensorflow for example)\n"
            ]
        },
        {
            "cell_type": "code",
            "execution_count": 10,
            "metadata": {},
            "outputs": [
                {
                    "data": {
                        "application/vnd.jupyter.widget-view+json": {
                            "model_id": "24bfe8d5063042b6bfe21ca51501e425",
                            "version_major": 2,
                            "version_minor": 0
                        },
                        "text/plain": [
                            "Saving the dataset (0/26 shards):   0%|          | 0/40000 [00:00<?, ? examples/s]"
                        ]
                    },
                    "metadata": {},
                    "output_type": "display_data"
                },
                {
                    "data": {
                        "application/vnd.jupyter.widget-view+json": {
                            "model_id": "697c6a6fe6d3419aa571266e3ce07315",
                            "version_major": 2,
                            "version_minor": 0
                        },
                        "text/plain": [
                            "Saving the dataset (0/7 shards):   0%|          | 0/10000 [00:00<?, ? examples/s]"
                        ]
                    },
                    "metadata": {},
                    "output_type": "display_data"
                }
            ],
            "source": [
                "encoded_ds.save_to_disk(\n",
                "    \"/home/lukas/data_bird_hf\",\n",
                "    num_proc=4,\n",
                "    max_shard_size=\"1GB\")"
            ]
        },
        {
            "cell_type": "code",
            "execution_count": null,
            "metadata": {},
            "outputs": [],
            "source": [
                "# size of saved dataset: 30 GB"
            ]
        },
        {
            "cell_type": "code",
            "execution_count": 12,
            "metadata": {},
            "outputs": [],
            "source": [
                "from datasets import load_from_disk"
            ]
        },
        {
            "cell_type": "code",
            "execution_count": 13,
            "metadata": {},
            "outputs": [],
            "source": [
                "ds = load_from_disk(\"/home/lukas/data_bird_hf\")"
            ]
        },
        {
            "cell_type": "code",
            "execution_count": 14,
            "metadata": {},
            "outputs": [
                {
                    "data": {
                        "text/plain": [
                            "DatasetDict({\n",
                            "    train: Dataset({\n",
                            "        features: ['ebird_code', 'input_values'],\n",
                            "        num_rows: 40000\n",
                            "    })\n",
                            "    test: Dataset({\n",
                            "        features: ['ebird_code', 'input_values'],\n",
                            "        num_rows: 10000\n",
                            "    })\n",
                            "})"
                        ]
                    },
                    "execution_count": 14,
                    "metadata": {},
                    "output_type": "execute_result"
                }
            ],
            "source": [
                "ds"
            ]
        },
        {
            "cell_type": "code",
            "execution_count": 17,
            "metadata": {},
            "outputs": [
                {
                    "name": "stdout",
                    "output_type": "stream",
                    "text": [
                        "The autoreload extension is already loaded. To reload it, use:\n",
                        "  %reload_ext autoreload\n"
                    ]
                }
            ],
            "source": [
                "%load_ext autoreload\n",
                "%autoreload 2\n",
                "from src.data.extraction import CustomCollatorWithPadding"
            ]
        },
        {
            "cell_type": "code",
            "execution_count": 34,
            "metadata": {},
            "outputs": [
                {
                    "data": {
                        "text/plain": [
                            "{'path': 'XC535000.ogg',\n",
                            " 'array': array([ 9.04992339e-06, -9.53266863e-07, -6.33765012e-07, ...,\n",
                            "         1.65803102e-03,  2.20180815e-03,  1.61758508e-03]),\n",
                            " 'sampling_rate': 32000}"
                        ]
                    },
                    "execution_count": 34,
                    "metadata": {},
                    "output_type": "execute_result"
                }
            ],
            "source": [
                "encoded_ds[\"train\"][0][\"audio\"]"
            ]
        },
        {
            "cell_type": "code",
            "execution_count": 8,
            "metadata": {},
            "outputs": [],
            "source": [
                "from tqdm import tqdm"
            ]
        },
        {
            "cell_type": "code",
            "execution_count": 9,
            "metadata": {},
            "outputs": [
                {
                    "name": "stderr",
                    "output_type": "stream",
                    "text": [
                        "  0%|          | 0/40000 [00:00<?, ?it/s]"
                    ]
                },
                {
                    "name": "stderr",
                    "output_type": "stream",
                    "text": [
                        "100%|██████████| 40000/40000 [00:11<00:00, 3438.00it/s]\n"
                    ]
                }
            ],
            "source": [
                "for i in tqdm(encoded_ds[\"train\"]):\n",
                "    pass\n",
                "\n",
                "# takes 11.6 seconds to run through 40k samples"
            ]
        },
        {
            "cell_type": "code",
            "execution_count": 15,
            "metadata": {},
            "outputs": [],
            "source": [
                "from torch.utils.data import DataLoader"
            ]
        },
        {
            "cell_type": "code",
            "execution_count": 20,
            "metadata": {},
            "outputs": [],
            "source": [
                "ds.preprocessed=True"
            ]
        },
        {
            "cell_type": "code",
            "execution_count": 29,
            "metadata": {},
            "outputs": [],
            "source": [
                "dataloader = DataLoader(\n",
                "    ds[\"train\"],\n",
                "    collate_fn=CustomCollatorWithPadding(\n",
                "        feature_extractor,\n",
                "        padding='longest',\n",
                "        return_tensors=\"pt\",\n",
                "        truncation=False   ,\n",
                "        preprocessed=True     \n",
                "    ),\n",
                "    batch_size=8,\n",
                "    shuffle=False,\n",
                "    num_workers=4,\n",
                ")"
            ]
        },
        {
            "cell_type": "code",
            "execution_count": 31,
            "metadata": {},
            "outputs": [],
            "source": [
                "dataloader = DataLoader(\n",
                "    ds[\"train\"],\n",
                "    batch_size=16,\n",
                "    shuffle=False,\n",
                "    num_workers=4,\n",
                ")"
            ]
        },
        {
            "cell_type": "code",
            "execution_count": 32,
            "metadata": {},
            "outputs": [
                {
                    "name": "stderr",
                    "output_type": "stream",
                    "text": [
                        "  1%|          | 15/2500 [00:00<00:17, 145.69it/s]"
                    ]
                },
                {
                    "name": "stderr",
                    "output_type": "stream",
                    "text": [
                        "100%|██████████| 2500/2500 [00:07<00:00, 332.85it/s]\n"
                    ]
                }
            ],
            "source": [
                "for i in tqdm(dataloader):\n",
                "    pass\n",
                "\n",
                "#7.5 seconds with batch_size=16"
            ]
        }
    ],
    "metadata": {
        "kernelspec": {
            "display_name": "dal-toolbox",
            "language": "python",
            "name": "python3"
        },
        "language_info": {
            "codemirror_mode": {
                "name": "ipython",
                "version": 3
            },
            "file_extension": ".py",
            "mimetype": "text/x-python",
            "name": "python",
            "nbconvert_exporter": "python",
            "pygments_lexer": "ipython3",
            "version": "3.9.16"
        },
        "orig_nbformat": 4
    },
    "nbformat": 4,
    "nbformat_minor": 2
}