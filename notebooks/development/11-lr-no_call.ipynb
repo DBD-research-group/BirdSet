{
 "cells": [
  {
   "cell_type": "code",
   "execution_count": 2,
   "metadata": {},
   "outputs": [],
   "source": [
    "import torch\n",
    "from torchmetrics.classification.average_precision import MultilabelAveragePrecision"
   ]
  },
  {
   "cell_type": "code",
   "execution_count": 31,
   "metadata": {},
   "outputs": [
    {
     "name": "stdout",
     "output_type": "stream",
     "text": [
      "tensor(0.8378)\n"
     ]
    }
   ],
   "source": [
    "criterion = torch.nn.BCEWithLogitsLoss()\n",
    "target = torch.tensor([[0.0, 0.0, 0.0]])\n",
    "probas = torch.tensor([[0.9, 0.1, 0.1]])\n",
    "logits = torch.log(probas / (1 - probas))\n",
    "\n",
    "loss = criterion(logits, target)\n",
    "\n",
    "print(loss)"
   ]
  },
  {
   "cell_type": "code",
   "execution_count": 16,
   "metadata": {},
   "outputs": [],
   "source": [
    "metric = MultilabelAveragePrecision(num_labels=3, average=\"macro\")\n",
    "target = torch.tensor([[1, 0, 0]])\n",
    "probas = torch.tensor([[0.9, 0.1, 0.1]])\n",
    "metric(probas, target)\n"
   ]
  },
  {
   "cell_type": "code",
   "execution_count": 17,
   "metadata": {},
   "outputs": [
    {
     "data": {
      "text/plain": [
       "tensor(1.)"
      ]
     },
     "execution_count": 17,
     "metadata": {},
     "output_type": "execute_result"
    }
   ],
   "source": [
    "metric = MultilabelAveragePrecision(num_labels=3, average=\"macro\", thresholds=None)\n",
    "metric(preds, target)"
   ]
  },
  {
   "cell_type": "code",
   "execution_count": 38,
   "metadata": {},
   "outputs": [
    {
     "data": {
      "text/plain": [
       "tensor([1.0000, 1.0000, 0.5833])"
      ]
     },
     "execution_count": 38,
     "metadata": {},
     "output_type": "execute_result"
    }
   ],
   "source": [
    "from torch import tensor\n",
    "from torchmetrics.classification import MultilabelAveragePrecision\n",
    "preds = tensor([[0.75, 0.05, 0.9],\n",
    "                [0.1, 0.4, 0.9],\n",
    "                [0.05, 0.55, 0.05]])\n",
    "target = tensor([[1, 0, 1],\n",
    "                 [0, 0, 0],\n",
    "                 [0, 1, 1]])\n",
    "metric = MultilabelAveragePrecision(num_labels=3, average=\"none\", thresholds=None)\n",
    "metric(preds, target)"
   ]
  },
  {
   "cell_type": "code",
   "execution_count": 9,
   "metadata": {},
   "outputs": [
    {
     "data": {
      "text/plain": [
       "tensor(0.)"
      ]
     },
     "execution_count": 9,
     "metadata": {},
     "output_type": "execute_result"
    }
   ],
   "source": [
    "from src.modules.metrics.multilabel import TopKAccuracy\n",
    "from torch import tensor\n",
    "\n",
    "preds = tensor([[0.1, 0.4, 0.1],\n",
    "                [0.1, 0.9, 0.1],\n",
    "                [0.05, 0.01, 0.04]])\n",
    "target = tensor([[1, 0, 1],\n",
    "                 [0, 0, 0],\n",
    "                 [0, 1, 1]])\n",
    "metric = TopKAccuracy(topk=1, include_nocalls=False)\n",
    "metric(preds, target)"
   ]
  }
 ],
 "metadata": {
  "kernelspec": {
   "display_name": "gadme",
   "language": "python",
   "name": "python3"
  },
  "language_info": {
   "codemirror_mode": {
    "name": "ipython",
    "version": 3
   },
   "file_extension": ".py",
   "mimetype": "text/x-python",
   "name": "python",
   "nbconvert_exporter": "python",
   "pygments_lexer": "ipython3",
   "version": "3.10.13"
  }
 },
 "nbformat": 4,
 "nbformat_minor": 2
}
