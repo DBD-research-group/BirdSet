{
 "cells": [
  {
   "cell_type": "code",
   "execution_count": 19,
   "metadata": {},
   "outputs": [],
   "source": [
    "import wandb\n",
    "api = wandb.Api()\n",
    "\n",
    " # Define your project and the old/new group names\n",
    "project = \"deepbirddetect/birdset\"\n",
    "# Fetch all runs in the project\n",
    "runs = api.runs(project)"
   ]
  },
  {
   "cell_type": "code",
   "execution_count": 28,
   "metadata": {},
   "outputs": [
    {
     "name": "stdout",
     "output_type": "stream",
     "text": [
      "Renaming run eat_UHH#1_2024-05-22_152907 from group inference_eat_xcl_UHH to LT_UHH_eat\n",
      "Renaming run eat_UHH#1_2024-05-22_152433 from group inference_eat_xcl_UHH to LT_UHH_eat\n",
      "Renaming run eat_UHH#1_2024-05-22_152426 from group inference_eat_xcl_UHH to LT_UHH_eat\n"
     ]
    }
   ],
   "source": [
    "old_group_name = \"inference_eat_xcl_UHH\"\n",
    "new_group_name = \"LT_UHH_eat\"\n",
    " \n",
    "\n",
    " \n",
    "# Loop through each run and update the group name if it matches the old group name\n",
    "for run in runs:\n",
    "    if run.group == old_group_name:\n",
    "        print(f\"Renaming run {run.name} from group {old_group_name} to {new_group_name}\")\n",
    "        run.group = new_group_name\n",
    "        # add tag to the run\n",
    "        # if tag is \"BirdSet\" then it is a birdset run\n",
    "        if \"BirdSet\" in run.tags:\n",
    "            run.tags.append(\"birdsetDT\")\n",
    "        run.update()"
   ]
  }
 ],
 "metadata": {
  "kernelspec": {
   "display_name": "birdset-xS3fZVNL-py3.10",
   "language": "python",
   "name": "python3"
  },
  "language_info": {
   "codemirror_mode": {
    "name": "ipython",
    "version": 3
   },
   "file_extension": ".py",
   "mimetype": "text/x-python",
   "name": "python",
   "nbconvert_exporter": "python",
   "pygments_lexer": "ipython3",
   "version": "3.10.12"
  }
 },
 "nbformat": 4,
 "nbformat_minor": 2
}
