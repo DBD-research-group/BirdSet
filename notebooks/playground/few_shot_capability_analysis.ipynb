{
 "cells": [
  {
   "cell_type": "markdown",
   "metadata": {},
   "source": [
    "# Helper"
   ]
  },
  {
   "cell_type": "markdown",
   "metadata": {},
   "source": [
    "## Dataset"
   ]
  },
  {
   "cell_type": "code",
   "execution_count": null,
   "metadata": {},
   "outputs": [],
   "source": [
    "from datasets import load_dataset, Dataset\n",
    "\n",
    "def load_birdset_train_split(name: str):\n",
    "    return load_dataset(\n",
    "    path=\"DBD-research-group/BirdSet\",\n",
    "    name=name,\n",
    "    cache_dir=f\"/home/rantjuschin/data_birdset/{name}\",\n",
    "    trust_remote_code=True,\n",
    "    split=\"train\"\n",
    ")"
   ]
  },
  {
   "cell_type": "markdown",
   "metadata": {},
   "source": [
    "## Data Selection"
   ]
  },
  {
   "cell_type": "code",
   "execution_count": null,
   "metadata": {},
   "outputs": [],
   "source": [
    "from datasets import Dataset\n",
    "import soundfile as sf\n",
    "\n",
    "def get_all_legal_indeces(dataset: Dataset, condition: callable) -> list[int]:\n",
    "    legal_indeces = []\n",
    "    \n",
    "    for i in range(len(dataset)):\n",
    "        if condition(dataset, i):\n",
    "            legal_indeces.append(i)\n",
    "\n",
    "    return legal_indeces\n",
    "\n",
    "\n",
    "def strict_condition(dataset: Dataset, idx: int) -> bool:\n",
    "    \"\"\"\n",
    "    This condition only allows files that up to 5s long so that no event detection has to occur when sampling.\n",
    "    \"\"\"\n",
    "    file_info = sf.info(dataset[idx][\"filepath\"])\n",
    "    if file_info.duration <= 5:\n",
    "        return True\n",
    "    \n",
    "\n",
    "def lenient_condition(dataset: Dataset, idx: int) -> bool:\n",
    "    \"\"\"\n",
    "    This condition allows files up to 10s but only if one bird occurence is in the file.\n",
    "    \"\"\"\n",
    "    file_info = sf.info(dataset[idx][\"filepath\"])\n",
    "    if file_info.duration <= 10 and (not dataset[idx][\"ebird_code_secondary\"]) and len(dataset[idx][\"ebird_code_multilabel\"]) == 1:\n",
    "        return True\n",
    "\n",
    "    \n",
    "def count_labels_from_legal_indeces(dataset: Dataset, indeces: list[int]) -> dict:\n",
    "    all_labels = set(dataset[\"ebird_code\"])\n",
    "    unique_label_counts = {label: 0 for label in all_labels}\n",
    "    for i in indeces:\n",
    "       unique_label_counts[dataset[i][\"ebird_code\"]] = unique_label_counts.get(dataset[i][\"ebird_code\"]) + 1\n",
    "    return unique_label_counts\n",
    "\n"
   ]
  },
  {
   "cell_type": "markdown",
   "metadata": {},
   "source": [
    "## Few-Shot analysis"
   ]
  },
  {
   "cell_type": "code",
   "execution_count": null,
   "metadata": {},
   "outputs": [],
   "source": [
    "def analyse_with_few_shot_counts(few_shot_counts: list[int], dataset_label_counts: dict) -> dict:\n",
    "    results = {}\n",
    "    for condition, label_counts in dataset_label_counts.items():\n",
    "        results[condition] = {}\n",
    "        for few_shot_count in few_shot_counts:\n",
    "            limited_label_counts = {label: min(few_shot_count, count) for label, count in label_counts.items()}\n",
    "            \n",
    "            max_possible_sample_count = len(label_counts) * few_shot_count\n",
    "            actual_sample_count = sum(limited_label_counts.values())\n",
    "            total_difference = max_possible_sample_count - actual_sample_count\n",
    "\n",
    "            max_difference = 0\n",
    "            min_difference = few_shot_count\n",
    "            incomplete_labels = 0\n",
    "            for label_count in limited_label_counts.values():\n",
    "                if label_count < few_shot_count:\n",
    "                    incomplete_labels += 1\n",
    "                    max_difference = max(max_difference, few_shot_count - label_count)\n",
    "                    min_difference = min(min_difference, few_shot_count - label_count)\n",
    "            \n",
    "            # avg and deviaton are only computed on labels that are actually missing samples\n",
    "            if incomplete_labels > 0:\n",
    "                avg_difference = total_difference / max(incomplete_labels, 1)\n",
    "                \n",
    "                total_difference_to_avg = 0\n",
    "                for label_count in limited_label_counts.values():\n",
    "                    if label_count < few_shot_count:\n",
    "                        total_difference_to_avg += (label_count - avg_difference)**2\n",
    "                std_deviation = total_difference_to_avg / max((incomplete_labels - 1), 1) \n",
    "                std_deviation = std_deviation**(1/2)\n",
    "            else:\n",
    "                avg_difference = 0\n",
    "                std_deviation = 0\n",
    "\n",
    "            results[condition][few_shot_count] = {\"max_possible_sample_count\":max_possible_sample_count, \n",
    "                                    \"actual_sample_count\": actual_sample_count,\n",
    "                                    \"total_difference\": total_difference, \n",
    "                                    \"incomplete_labels\": incomplete_labels,\n",
    "                                    \"max_difference\": max_difference,\n",
    "                                    \"min_difference\": min_difference,\n",
    "                                    \"avg_difference\": avg_difference,\n",
    "                                    \"std_deviation\": std_deviation,\n",
    "                                    }\n",
    "    return results\n",
    "\n",
    "def print_results(results):\n",
    "    for condition in results.keys():\n",
    "        print(f\"\\n{condition} results:\")\n",
    "        printed_first_row = False\n",
    "        first_row = \"\\t\"\n",
    "        for few_shot_count, values in results[condition].items():\n",
    "            if not printed_first_row:\n",
    "                for key in values.keys():\n",
    "                    if key in [\"max_difference\", \"min_difference\", \"avg_difference\", \"std_deviation\"]:\n",
    "                        first_row += key + \"\\t\\t\" \n",
    "                    else:\n",
    "                        first_row += key + \"\\t\"\n",
    "                print(first_row)\n",
    "                printed_first_row = True\n",
    "\n",
    "            output = str(few_shot_count) + \"\\t\\t\\t\"\n",
    "            for value in values.values():\n",
    "                output += f\"{value:.2f}\\t\\t\\t\"\n",
    "            print(output)"
   ]
  },
  {
   "cell_type": "markdown",
   "metadata": {},
   "source": [
    "# Analysis"
   ]
  },
  {
   "cell_type": "markdown",
   "metadata": {},
   "source": [
    "## PER"
   ]
  },
  {
   "cell_type": "code",
   "execution_count": null,
   "metadata": {},
   "outputs": [],
   "source": [
    "PER = load_birdset_train_split(\"PER\")\n",
    "PER"
   ]
  },
  {
   "cell_type": "code",
   "execution_count": null,
   "metadata": {},
   "outputs": [],
   "source": [
    "PER_label_counts = {\"strict_condition\": count_labels_from_legal_indeces(PER, get_all_legal_indeces(PER, strict_condition)),\n",
    "                    \"lenient_condition\": count_labels_from_legal_indeces(PER, get_all_legal_indeces(PER, lenient_condition))}"
   ]
  },
  {
   "cell_type": "code",
   "execution_count": null,
   "metadata": {},
   "outputs": [],
   "source": [
    "results = analyse_with_few_shot_counts([2, 4, 8, 16, 32, 64, 128], PER_label_counts)\n",
    "print_results(results)"
   ]
  },
  {
   "cell_type": "code",
   "execution_count": null,
   "metadata": {},
   "outputs": [],
   "source": [
    "# how many classes are completly empty\n",
    "strict_empty = 0\n",
    "lenient_empty = 0\n",
    "for label, count in PER_label_counts[\"strict_condition\"].items():\n",
    "    if count == 0:\n",
    "        strict_empty += 1\n",
    "        \n",
    "for label, count in PER_label_counts[\"lenient_condition\"].items():\n",
    "    if count == 0:\n",
    "        lenient_empty += 1\n",
    "\n",
    "print(strict_empty, lenient_empty)"
   ]
  },
  {
   "cell_type": "markdown",
   "metadata": {},
   "source": [
    "## NES"
   ]
  },
  {
   "cell_type": "code",
   "execution_count": null,
   "metadata": {},
   "outputs": [],
   "source": [
    "NES = load_birdset_train_split(\"NES\")\n",
    "NES"
   ]
  },
  {
   "cell_type": "code",
   "execution_count": null,
   "metadata": {},
   "outputs": [],
   "source": [
    "NES_label_counts = {\"strict_condition\": count_labels_from_legal_indeces(NES, get_all_legal_indeces(NES, strict_condition)),\n",
    "                    \"lenient_condition\": count_labels_from_legal_indeces(NES, get_all_legal_indeces(NES, lenient_condition))}"
   ]
  },
  {
   "cell_type": "code",
   "execution_count": null,
   "metadata": {},
   "outputs": [],
   "source": [
    "results = analyse_with_few_shot_counts([2, 4, 8, 16, 32, 64, 128], NES_label_counts)\n",
    "print_results(results)"
   ]
  },
  {
   "cell_type": "code",
   "execution_count": null,
   "metadata": {},
   "outputs": [],
   "source": [
    "# how many classes are completly empty\n",
    "strict_empty = 0\n",
    "lenient_empty = 0\n",
    "for label, count in NES_label_counts[\"strict_condition\"].items():\n",
    "    if count == 0:\n",
    "        strict_empty += 1\n",
    "        \n",
    "for label, count in NES_label_counts[\"lenient_condition\"].items():\n",
    "    if count == 0:\n",
    "        lenient_empty += 1\n",
    "\n",
    "print(strict_empty, lenient_empty)"
   ]
  },
  {
   "cell_type": "markdown",
   "metadata": {},
   "source": [
    "## UHH"
   ]
  },
  {
   "cell_type": "code",
   "execution_count": null,
   "metadata": {},
   "outputs": [],
   "source": [
    "UHH = load_birdset_train_split(\"UHH\")\n",
    "UHH"
   ]
  },
  {
   "cell_type": "code",
   "execution_count": null,
   "metadata": {},
   "outputs": [],
   "source": [
    "UHH_label_counts = {\"strict_condition\": count_labels_from_legal_indeces(UHH, get_all_legal_indeces(UHH, strict_condition)),\n",
    "                    \"lenient_condition\": count_labels_from_legal_indeces(UHH, get_all_legal_indeces(UHH, lenient_condition))}"
   ]
  },
  {
   "cell_type": "code",
   "execution_count": null,
   "metadata": {},
   "outputs": [],
   "source": [
    "results = analyse_with_few_shot_counts([2, 4, 8, 16, 32, 64, 128], UHH_label_counts)\n",
    "print_results(results)"
   ]
  },
  {
   "cell_type": "code",
   "execution_count": null,
   "metadata": {},
   "outputs": [],
   "source": [
    "# how many classes are completly empty\n",
    "strict_empty = 0\n",
    "lenient_empty = 0\n",
    "for label, count in UHH_label_counts[\"strict_condition\"].items():\n",
    "    if count == 0:\n",
    "        strict_empty += 1\n",
    "        \n",
    "for label, count in UHH_label_counts[\"lenient_condition\"].items():\n",
    "    if count == 0:\n",
    "        lenient_empty += 1\n",
    "\n",
    "print(strict_empty, lenient_empty)"
   ]
  },
  {
   "cell_type": "markdown",
   "metadata": {},
   "source": [
    "## HSN"
   ]
  },
  {
   "cell_type": "code",
   "execution_count": null,
   "metadata": {},
   "outputs": [],
   "source": [
    "HSN = load_birdset_train_split(\"HSN\")\n",
    "HSN"
   ]
  },
  {
   "cell_type": "code",
   "execution_count": null,
   "metadata": {},
   "outputs": [],
   "source": [
    "HSN_label_counts = {\"strict_condition\": count_labels_from_legal_indeces(HSN, get_all_legal_indeces(HSN, strict_condition)),\n",
    "                    \"lenient_condition\": count_labels_from_legal_indeces(HSN, get_all_legal_indeces(HSN, lenient_condition))}"
   ]
  },
  {
   "cell_type": "code",
   "execution_count": null,
   "metadata": {},
   "outputs": [],
   "source": [
    "results = analyse_with_few_shot_counts([2, 4, 8, 16, 32, 64, 128], HSN_label_counts)\n",
    "print_results(results)"
   ]
  },
  {
   "cell_type": "markdown",
   "metadata": {},
   "source": [
    "## NBP"
   ]
  },
  {
   "cell_type": "code",
   "execution_count": null,
   "metadata": {},
   "outputs": [],
   "source": [
    "NBP = load_birdset_train_split(\"NBP\")\n",
    "NBP"
   ]
  },
  {
   "cell_type": "code",
   "execution_count": null,
   "metadata": {},
   "outputs": [],
   "source": [
    "NBP_label_counts = {\"strict_condition\": count_labels_from_legal_indeces(NBP, get_all_legal_indeces(NBP, strict_condition)),\n",
    "                    \"lenient_condition\": count_labels_from_legal_indeces(NBP, get_all_legal_indeces(NBP, lenient_condition))}"
   ]
  },
  {
   "cell_type": "code",
   "execution_count": null,
   "metadata": {},
   "outputs": [],
   "source": [
    "results = analyse_with_few_shot_counts([2, 4, 8, 16, 32, 64, 128], NBP_label_counts)\n",
    "print_results(results)"
   ]
  },
  {
   "cell_type": "markdown",
   "metadata": {},
   "source": [
    "## POW"
   ]
  },
  {
   "cell_type": "code",
   "execution_count": null,
   "metadata": {},
   "outputs": [],
   "source": [
    "POW = load_birdset_train_split(\"POW\")\n",
    "POW"
   ]
  },
  {
   "cell_type": "code",
   "execution_count": null,
   "metadata": {},
   "outputs": [],
   "source": [
    "POW_label_counts = {\"strict_condition\": count_labels_from_legal_indeces(POW, get_all_legal_indeces(POW, strict_condition)),\n",
    "                    \"lenient_condition\": count_labels_from_legal_indeces(POW, get_all_legal_indeces(POW, lenient_condition))}"
   ]
  },
  {
   "cell_type": "code",
   "execution_count": null,
   "metadata": {},
   "outputs": [],
   "source": [
    "results = analyse_with_few_shot_counts([2, 4, 8, 16, 32, 64, 128], POW_label_counts)\n",
    "print_results(results)"
   ]
  },
  {
   "cell_type": "markdown",
   "metadata": {},
   "source": [
    "## SSW"
   ]
  },
  {
   "cell_type": "code",
   "execution_count": null,
   "metadata": {},
   "outputs": [],
   "source": [
    "SSW = load_birdset_train_split(\"SSW\")\n",
    "SSW"
   ]
  },
  {
   "cell_type": "code",
   "execution_count": null,
   "metadata": {},
   "outputs": [],
   "source": [
    "SSW_label_counts = {\"strict_condition\": count_labels_from_legal_indeces(SSW, get_all_legal_indeces(SSW, strict_condition)),\n",
    "                    \"lenient_condition\": count_labels_from_legal_indeces(SSW, get_all_legal_indeces(SSW, lenient_condition))}"
   ]
  },
  {
   "cell_type": "code",
   "execution_count": null,
   "metadata": {},
   "outputs": [],
   "source": [
    "results = analyse_with_few_shot_counts([2, 4, 8, 16, 32, 64, 128], SSW_label_counts)\n",
    "print_results(results)"
   ]
  },
  {
   "cell_type": "markdown",
   "metadata": {},
   "source": [
    "## SNE"
   ]
  },
  {
   "cell_type": "code",
   "execution_count": null,
   "metadata": {},
   "outputs": [],
   "source": [
    "SNE = load_birdset_train_split(\"SNE\")\n",
    "SNE"
   ]
  },
  {
   "cell_type": "code",
   "execution_count": null,
   "metadata": {},
   "outputs": [],
   "source": [
    "SNE_label_counts = {\"strict_condition\": count_labels_from_legal_indeces(SNE, get_all_legal_indeces(SNE, strict_condition)),\n",
    "                    \"lenient_condition\": count_labels_from_legal_indeces(SNE, get_all_legal_indeces(SNE, lenient_condition))}"
   ]
  },
  {
   "cell_type": "code",
   "execution_count": null,
   "metadata": {},
   "outputs": [],
   "source": [
    "results = analyse_with_few_shot_counts([2, 4, 8, 16, 32, 64, 128], SNE_label_counts)\n",
    "print_results(results)"
   ]
  },
  {
   "cell_type": "markdown",
   "metadata": {},
   "source": [
    "# Subset Testing"
   ]
  },
  {
   "cell_type": "code",
   "execution_count": 2,
   "metadata": {},
   "outputs": [
    {
     "name": "stdout",
     "output_type": "stream",
     "text": [
      "Loading dataset\n",
      "Applying condition to training data\n",
      "Mapping satisfying recordings.\n",
      "Selecting samples for subset\n",
      "Selecting relevant columns and renaming\n",
      "One-hot encoding labels\n"
     ]
    },
    {
     "data": {
      "application/vnd.jupyter.widget-view+json": {
       "model_id": "096160cdffae4078a45e81d655f5c0fc",
       "version_major": 2,
       "version_minor": 0
      },
      "text/plain": [
       "Map:   0%|          | 0/103 [00:00<?, ? examples/s]"
      ]
     },
     "metadata": {},
     "output_type": "display_data"
    },
    {
     "name": "stdout",
     "output_type": "stream",
     "text": [
      "DatasetDict({\n",
      "    train: Dataset({\n",
      "        features: ['filepath', 'labels', 'detected_events', 'start_time', 'end_time'],\n",
      "        num_rows: 103\n",
      "    })\n",
      "    test: Dataset({\n",
      "        features: ['filepath', 'labels', 'detected_events', 'start_time', 'end_time'],\n",
      "        num_rows: 12000\n",
      "    })\n",
      "})\n"
     ]
    }
   ],
   "source": [
    "from resources.utils.few_shot.few_shot_subset_creation import create_few_shot_subset\n",
    "from datasets import load_dataset\n",
    "subset_one = create_few_shot_subset(\n",
    "    name=\"HSN\", \n",
    "    cache_dir=\"/mnt/stud/work/rantjuschin/datasets/HSN\",\n",
    "    data_selection_condition=\"lenient\",\n",
    "    fill_up=False)\n",
    "#subset_two = create_few_shot_subset(dataset, data_selection_condition=StrictCondition(), fill_up=True)\n",
    "print(subset_one)\n",
    "#print(subset_two)"
   ]
  },
  {
   "cell_type": "code",
   "execution_count": null,
   "metadata": {},
   "outputs": [],
   "source": []
  }
 ],
 "metadata": {
  "kernelspec": {
   "display_name": "Python 3 (ipykernel)",
   "language": "python",
   "name": "python3"
  },
  "language_info": {
   "codemirror_mode": {
    "name": "ipython",
    "version": 3
   },
   "file_extension": ".py",
   "mimetype": "text/x-python",
   "name": "python",
   "nbconvert_exporter": "python",
   "pygments_lexer": "ipython3",
   "version": "3.10.15"
  }
 },
 "nbformat": 4,
 "nbformat_minor": 4
}
