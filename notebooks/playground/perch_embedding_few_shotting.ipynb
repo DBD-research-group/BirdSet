{
 "cells": [
  {
   "cell_type": "markdown",
   "id": "67630097-d4da-463b-a899-866c67d5d2d2",
   "metadata": {},
   "source": [
    "# Usage Example"
   ]
  },
  {
   "cell_type": "code",
   "execution_count": 1,
   "id": "035c7675-37db-4131-b144-c9883d9d5fc6",
   "metadata": {},
   "outputs": [
    {
     "name": "stderr",
     "output_type": "stream",
     "text": [
      "/mnt/stud/home/rantjuschin/miniconda3/envs/birdset/lib/python3.10/site-packages/huggingface_hub/file_download.py:1132: FutureWarning: `resume_download` is deprecated and will be removed in version 1.0.0. Downloads always resume when possible. If you want to force a new download, use `force_download=True`.\n",
      "  warnings.warn(\n",
      "/mnt/stud/home/rantjuschin/miniconda3/envs/birdset/lib/python3.10/site-packages/torch_audiomentations/utils/io.py:27: UserWarning: torchaudio._backend.set_audio_backend has been deprecated. With dispatcher enabled, this function is no-op. You can remove the function call.\n",
      "  torchaudio.set_audio_backend(\"soundfile\")\n"
     ]
    },
    {
     "name": "stdout",
     "output_type": "stream",
     "text": [
      "Loading dataset\n",
      "Set random seed to 1.\n",
      "Applying condition to training data\n",
      "Mapping satisfying recordings.\n",
      "Selecting samples for subset\n",
      "Filling up labels\n",
      "Selecting relevant columns and renaming\n",
      "One-hot encoding labels\n"
     ]
    },
    {
     "data": {
      "application/vnd.jupyter.widget-view+json": {
       "model_id": "60509b0adb744cbc8ab21d7f460aeb8c",
       "version_major": 2,
       "version_minor": 0
      },
      "text/plain": [
       "Map:   0%|          | 0/105 [00:00<?, ? examples/s]"
      ]
     },
     "metadata": {},
     "output_type": "display_data"
    },
    {
     "data": {
      "text/plain": [
       "DatasetDict({\n",
       "    train: Dataset({\n",
       "        features: ['filepath', 'labels', 'detected_events', 'start_time', 'end_time'],\n",
       "        num_rows: 105\n",
       "    })\n",
       "    test: Dataset({\n",
       "        features: ['filepath', 'labels', 'detected_events', 'start_time', 'end_time'],\n",
       "        num_rows: 12000\n",
       "    })\n",
       "})"
      ]
     },
     "execution_count": 1,
     "metadata": {},
     "output_type": "execute_result"
    }
   ],
   "source": [
    "from resources.utils.few_shot.few_shot_subset_creation import create_few_shot_subset\n",
    "\n",
    "HSN_few_shot = create_few_shot_subset(\n",
    "    name=\"HSN\",\n",
    "    cache_dir=\"/mnt/stud/work/rantjuschin/datasets/HSN\",\n",
    "    few_shot=5,\n",
    "    data_selection_condition=\"lenient\",\n",
    "    fill_up=True,\n",
    "    random_seed=1\n",
    ")\n",
    "HSN_few_shot"
   ]
  },
  {
   "cell_type": "code",
   "execution_count": 2,
   "id": "6d14896e-2023-4f13-824f-713a1c6e9c9b",
   "metadata": {},
   "outputs": [
    {
     "name": "stdout",
     "output_type": "stream",
     "text": [
      "Loading Embedded Dataset\n"
     ]
    },
    {
     "data": {
      "application/vnd.jupyter.widget-view+json": {
       "model_id": "677e596ed19341adbcd3c3d811922cb3",
       "version_major": 2,
       "version_minor": 0
      },
      "text/plain": [
       "Loading dataset from disk:   0%|          | 0/39 [00:00<?, ?it/s]"
      ]
     },
     "metadata": {},
     "output_type": "display_data"
    },
    {
     "name": "stdout",
     "output_type": "stream",
     "text": [
      "Loaded Pre-Filter cache file\n",
      "Matching Samples\n",
      "Adding Samples\n"
     ]
    },
    {
     "data": {
      "application/vnd.jupyter.widget-view+json": {
       "model_id": "2234e59254dc4b319c178fb5cebf06c8",
       "version_major": 2,
       "version_minor": 0
      },
      "text/plain": [
       "Map:   0%|          | 0/105 [00:00<?, ? examples/s]"
      ]
     },
     "metadata": {},
     "output_type": "display_data"
    },
    {
     "data": {
      "text/plain": [
       "DatasetDict({\n",
       "    train: Dataset({\n",
       "        features: ['filepath', 'labels', 'detected_events', 'start_time', 'end_time', 'audio'],\n",
       "        num_rows: 105\n",
       "    })\n",
       "    test: Dataset({\n",
       "        features: ['filepath', 'labels', 'detected_events', 'start_time', 'end_time'],\n",
       "        num_rows: 12000\n",
       "    })\n",
       "})"
      ]
     },
     "execution_count": 2,
     "metadata": {},
     "output_type": "execute_result"
    }
   ],
   "source": [
    "from resources.utils.few_shot.map_to_other import map_dataset_to_other\n",
    "\n",
    "embedded_few_shot = map_dataset_to_other(\n",
    "    HSN_few_shot,\n",
    "    \"/mnt/stud/work/rantjuschin/datasets/embedded/perch/XCL\",\n",
    "    pre_filter_cache_file = \"/mnt/stud/work/rantjuschin/pre_filter/embedded/perch/XCL.json\"\n",
    ")\n",
    "embedded_few_shot"
   ]
  },
  {
   "cell_type": "code",
   "execution_count": 3,
   "id": "f4242494-eecd-494e-b7e7-d95dcf6d5da1",
   "metadata": {},
   "outputs": [
    {
     "data": {
      "text/plain": [
       "{'audio': tensor([ 0.0376, -0.0789,  0.0139,  ...,  0.1221,  0.1506,  0.1569]),\n",
       " 'filepath': '/mnt/stud/work/rantjuschin/datasets/HSN/downloads/extracted/1ec6501c290be5ebd3b4808c4f930adf990f7f324b0385caa98cb6fabc8147df/XC70432.ogg',\n",
       " 'labels': [1, 0, 0, 0, 0, 0, 0, 0, 0, 0, 0, 0, 0, 0, 0, 0, 0, 0, 0, 0, 0],\n",
       " 'detected_events': [0.016, 2.96],\n",
       " 'start_time': None,\n",
       " 'end_time': None}"
      ]
     },
     "execution_count": 3,
     "metadata": {},
     "output_type": "execute_result"
    }
   ],
   "source": [
    "embedded_few_shot[\"train\"][0]"
   ]
  }
 ],
 "metadata": {
  "kernelspec": {
   "display_name": "Python 3 (ipykernel)",
   "language": "python",
   "name": "python3"
  },
  "language_info": {
   "codemirror_mode": {
    "name": "ipython",
    "version": 3
   },
   "file_extension": ".py",
   "mimetype": "text/x-python",
   "name": "python",
   "nbconvert_exporter": "python",
   "pygments_lexer": "ipython3",
   "version": "3.10.15"
  }
 },
 "nbformat": 4,
 "nbformat_minor": 5
}
