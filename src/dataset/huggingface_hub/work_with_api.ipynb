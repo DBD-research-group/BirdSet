{
 "cells": [
  {
   "cell_type": "code",
   "execution_count": 4,
   "metadata": {},
   "outputs": [
    {
     "data": {
      "application/vnd.jupyter.widget-view+json": {
       "model_id": "d2bedb2d1a2246c083b3e511ea06a4b5",
       "version_major": 2,
       "version_minor": 0
      },
      "text/plain": [
       "VBox(children=(HTML(value='<center> <img\\nsrc=https://huggingface.co/front/assets/huggingface_logo-noborder.sv…"
      ]
     },
     "metadata": {},
     "output_type": "display_data"
    }
   ],
   "source": [
    "# login to access private group\n",
    "from huggingface_hub import login\n",
    "login()"
   ]
  },
  {
   "cell_type": "code",
   "execution_count": 3,
   "metadata": {},
   "outputs": [
    {
     "data": {
      "text/plain": [
       "RepoUrl('https://huggingface.co/datasets/DBD-research-group/gadme_v1', endpoint='https://huggingface.co', repo_type='dataset', repo_id='DBD-research-group/gadme_v1')"
      ]
     },
     "execution_count": 3,
     "metadata": {},
     "output_type": "execute_result"
    }
   ],
   "source": [
    "# create repo on hf datasets\n",
    "from huggingface_hub import create_repo\n",
    "create_repo(\"DBD-research-group/gadme_v1\", repo_type=\"dataset\", private=True)"
   ]
  },
  {
   "cell_type": "code",
   "execution_count": 4,
   "metadata": {},
   "outputs": [],
   "source": [
    "from huggingface_hub import HfApi\n",
    "api = HfApi()"
   ]
  },
  {
   "cell_type": "code",
   "execution_count": 5,
   "metadata": {},
   "outputs": [
    {
     "name": "stderr",
     "output_type": "stream",
     "text": [
      "/home/lukas/miniconda3/envs/BERT/lib/python3.11/site-packages/huggingface_hub/utils/_experimental.py:57: UserWarning: 'plan_multi_commits' is experimental and might be subject to breaking changes in the future. You can disable this warning by setting `HF_HUB_DISABLE_EXPERIMENTAL_WARNING=1` as environment variable.\n",
      "  warnings.warn(\n",
      "/home/lukas/miniconda3/envs/BERT/lib/python3.11/site-packages/huggingface_hub/utils/_experimental.py:57: UserWarning: 'HfApi.create_commits_on_pr' is experimental and might be subject to breaking changes in the future. You can disable this warning by setting `HF_HUB_DISABLE_EXPERIMENTAL_WARNING=1` as environment variable.\n",
      "  warnings.warn(\n",
      "Will create 0 deletion commit(s) and 1 addition commit(s), totalling 2 atomic operations.\n",
      "Multi-commits strategy with ID d7a982d6275cd89319da4772b972016a94cb142537e60566ffe58bca641420ad.\n",
      "New PR created: https://huggingface.co/datasets/DBD-research-group/gadme_v1/discussions/1\n"
     ]
    },
    {
     "data": {
      "application/vnd.jupyter.widget-view+json": {
       "model_id": "4c1364018f124f93ad14d649c80586fa",
       "version_major": 2,
       "version_minor": 0
      },
      "text/plain": [
       "Upload 2 LFS files:   0%|          | 0/2 [00:00<?, ?it/s]"
      ]
     },
     "metadata": {},
     "output_type": "display_data"
    },
    {
     "data": {
      "application/vnd.jupyter.widget-view+json": {
       "model_id": "6b264c25d31d44088d5ef4b43c405d7e",
       "version_major": 2,
       "version_minor": 0
      },
      "text/plain": [
       "files.zip:   0%|          | 0.00/232M [00:00<?, ?B/s]"
      ]
     },
     "metadata": {},
     "output_type": "display_data"
    },
    {
     "data": {
      "application/vnd.jupyter.widget-view+json": {
       "model_id": "8b1068609cc0420e8857597e612e3db9",
       "version_major": 2,
       "version_minor": 0
      },
      "text/plain": [
       "metadata.zip:   0%|          | 0.00/66.4k [00:00<?, ?B/s]"
      ]
     },
     "metadata": {},
     "output_type": "display_data"
    },
    {
     "name": "stderr",
     "output_type": "stream",
     "text": [
      "  step 4b175e8169ae478161447d3cde8d1620449f2477c71cf7927cc8957a97c9a24c completed (still 0 to go).\n",
      "All commits have been pushed.\n",
      "PR is now open for reviews.\n",
      "PR has been automatically merged (`merge_pr=True` was passed).\n"
     ]
    },
    {
     "data": {
      "text/plain": [
       "'https://huggingface.co/datasets/DBD-research-group/gadme_v1/tree/main//data'"
      ]
     },
     "execution_count": 5,
     "metadata": {},
     "output_type": "execute_result"
    }
   ],
   "source": [
    "# upload a complete folder to datasets repo\n",
    "api.upload_folder(\n",
    "    folder_path=\"~/Projects/hf_clone/gadme_cloned_repo/data\",\n",
    "    path_in_repo=\"/data\",\n",
    "    repo_id=\"DBD-research-group/gadme_v1\",\n",
    "    repo_type=\"dataset\",\n",
    "    commit_message=\"upload data\",\n",
    "    multi_commits=True,\n",
    "    multi_commits_verbose=True\n",
    ")"
   ]
  },
  {
   "cell_type": "code",
   "execution_count": 1,
   "metadata": {},
   "outputs": [],
   "source": [
    "# prepare metadata from servers (500 subset from NA)\n",
    "import pandas as pd\n",
    "meta = pd.read_csv(\"metadata_na_500.csv\")"
   ]
  },
  {
   "cell_type": "code",
   "execution_count": 4,
   "metadata": {},
   "outputs": [],
   "source": [
    "#meta['file_name'] = 'NA_subset500/' + meta['file_name'].str.extract(r'(XC\\d+\\.ogg)')[0]\n",
    "#meta['file_name'] = 'data/NA_subset500/files/' + meta['file_name'].str.extract(r'(XC\\d+\\.ogg)')[0]\n",
    "meta['file_name'] = meta['file_name'].str.extract(r'(XC\\d+\\.ogg)')[0]"
   ]
  },
  {
   "cell_type": "code",
   "execution_count": 6,
   "metadata": {},
   "outputs": [
    {
     "name": "stderr",
     "output_type": "stream",
     "text": [
      "/home/lukas/miniconda3/envs/BERT/lib/python3.11/site-packages/pandas/core/internals/blocks.py:2538: RuntimeWarning: invalid value encountered in cast\n",
      "  values = values.astype(str)\n"
     ]
    }
   ],
   "source": [
    "meta.to_csv(\"metadata_na_500_hf.csv\", index=False)"
   ]
  },
  {
   "cell_type": "code",
   "execution_count": 18,
   "metadata": {},
   "outputs": [
    {
     "data": {
      "text/plain": [
       "array(['sonspa', 'scatan', 'earpoo1', 'prawar', 'wesant1', 'amerob',\n",
       "       'atbtan1', 'westan', 'barswa', 'btnwar', 'gilwoo', 'rucspa1',\n",
       "       'gowwar', 'amered', 'gbmgem1', 'eursta', 'attwoo1', 'oaktit',\n",
       "       'woothr', 'rucspa', 'blugrb1', 'mouchi', 'motowl', 'grawar',\n",
       "       'shbdow', 'hutvir', 'casspa', 'haiwoo', 'cogdov', 'purfin',\n",
       "       'bhnthr1', 'norcar', 'bkhgro', 'cubthr', 'melbla1', 'blkpho',\n",
       "       'brncre', 'hooori', 'killde', 'easpho', 'fatwar', 'spotow',\n",
       "       'blubun', 'bbnthr1', 'borowl', 'daejun', 'chcswi1', 'scptyr1',\n",
       "       'rubpep1', 'amegfi', 'amecro', 'ltwpar1', 'slbtin1', 'rewbla',\n",
       "       'orcwar', 'pyrrhu', 'brebla', 'comgra', 'bkcvir1', 'houwre',\n",
       "       'bkrfin', 'warvir', 'norfli', 'whiibi', 'ovenbi1', 'snoplo5',\n",
       "       'lobdow', 'grycat', 'tuftit', 'lesnig', 'higtin1', 'glwgul',\n",
       "       'obnthr1', 'sinqua1', 'cocwoo1', 'winwre3', 'banswa', 'wlswar',\n",
       "       'crcwar', 'norwat', 'yucvir', 'yelwar1', 'gocman1', 'grekis',\n",
       "       'eleeup1', 'yehpar', 'saypho', 'lesgre1', 'rebwoo', 'wilsni1',\n",
       "       'chispa', 'wilfly', 'bkcchi', 'verdin', 'cantow', 'rotbec',\n",
       "       'indbun', 'socfly1', 'merlin', 'moudov', 'sursco', 'houspa',\n",
       "       'varbun', 'runwre3', 'mouwar', 'relpar', 'mexchi', 'herthr',\n",
       "       'fiespa', 'bktspa', 'easmea', 'rudtur', 'comrav', 'woewar1',\n",
       "       'hoared', 'bicthr', 'flctan', 'redcro', 'wessan', 'blumoc',\n",
       "       'baleag', 'whtdov', 'rebsap', 'blujay', 'balori', 'caltow',\n",
       "       'bulori', 'btywar', 'blhsis1', 'oceant1', 'sumtan', 'aldfly',\n",
       "       'ruckin', 'marwre', 'brespa', 'treswa', 'houfin', 'ariwoo',\n",
       "       'sincro1', 'fepowl', 'semsan', 'chclon', 'whcspa', 'swathr',\n",
       "       'norhar2', 'dusgro', 'nutfly', 'hoowar', 'mallar3', 'pacwre1',\n",
       "       'rtatan1', 'bkmtou1', 'y00475', 'rebnut', 'squcuc1', 'carchi',\n",
       "       'oliwar', 'sora', 'wooduc', 'whwtan1', 'snobun', 'foxspa',\n",
       "       'hamfly', 'rethaw', 'casfin', 'veery', 'bushti', 'cedwax',\n",
       "       'barowl28', 'golvir1', 'whcsee1', 'whwcro', 'clanut', 'baywre1',\n",
       "       'whtrob1', 'moutro1', 'whevir', 'eastow', 'swtkit', 'gbwwre1',\n",
       "       'pinjay', 'blhsal1', 'slcsol1', 'coohaw', 'bawwar', 'bucmot2',\n",
       "       'semplo', 'gockin', 'sedwre1', 'magwar', 'belkin1', 'casvir',\n",
       "       'paired', 'grasal2', 'bewwre', 'gofwoo', 'cacwre', 'amgplo',\n",
       "       'pregrs1', 'robgro', 'batfal1', 'buhvir', 'audwar', 'whhwre1',\n",
       "       'clcrob', 'grnjay', 'naswar', 'cubcro1', 'grbwoo1', 'amebit',\n",
       "       'allhum', 'doccor', 'herwar', 'nutman', 'gchwar', 'eletro',\n",
       "       'bkbmag1', 'sumwre1', 'shbpig', 'horgre', 'noremt1', 'tropar',\n",
       "       'stejay', 'rocpta1', 'milmac', 'wilplo', 'swaspa', 'reevir1',\n",
       "       'gadwal', 'clcspa', 'cerwar', 'grnvie1', 'logshr', 'rucwar',\n",
       "       'slafin1', 'astfly', 'pinsis', 'bnhcow', 'rubrob', 'grtgra',\n",
       "       'easkin', 'elfowl', 'carwre', 'whbnut', 'ridrai1', 'rengre',\n",
       "       'brnthr', 'gsbfin1', 'blarob1', 'buggna', 'bltwre1', 'belvir',\n",
       "       'loeowl', 'yebela1', 'lobher', 'buwwar', 'plsvir', 'brcvir1',\n",
       "       'normoc', 'leafly', 'purgal2', 'leasan', 'comred', 'orcori',\n",
       "       'evegro', 'willet1', 'bargol', 'arcter', 'whcsee2', 'babwar',\n",
       "       'blkoys', 'bkbwar', 'coukin', 'graspa', 'fiscro', 'rtlhum',\n",
       "       'subfly', 'annhum', 'lesgol', 'yeejun', 'ocbfly1', 'lecspa',\n",
       "       'linspa', 'olbeup1', 'layalb', 'buthum', 'gnttow', 'antnig',\n",
       "       'bcptyr1', 'yebcha', 'bahmoc', 'stfgle1', 'cangoo', 'botspa',\n",
       "       'lobthr', 'sltred', 'vesspa', 'souwpw1', 'bcnher', 'rutjac1',\n",
       "       'thswar5', 'savspa', 'gocwoo1', 'whtswi', 'amepip', 'wbwwre1',\n",
       "       'sedwre', 'stbwre1', 'acowoo', 'trsowl', 'orcpar', 'pipplo',\n",
       "       'incdov', 'bubgro1', 'larspa', 'grnher', 'rcgspa1', 'comyel',\n",
       "       'audori', 'foxsp2', 'plawre1', 'whwdov', 'cupcro1', 'grhowl',\n",
       "       'sobtyr1', 'wtmjay1', 'brthum', 'grcfly', 'pinwar', 'scoori',\n",
       "       'baispa', 'scbtan1', 'yetwar', 'truswa', 'greroa', 'gubter1',\n",
       "       'olsfly', 'cibflo1', 'chwwid', 'thbvir'], dtype=object)"
      ]
     },
     "execution_count": 18,
     "metadata": {},
     "output_type": "execute_result"
    }
   ],
   "source": [
    "# get names list for ClassLabel for HF dataset\n",
    "meta[\"ebird_code\"].unique()"
   ]
  },
  {
   "cell_type": "code",
   "execution_count": 23,
   "metadata": {},
   "outputs": [],
   "source": [
    "# turn into file (does not work right now, see lessons learned)\n",
    "with open(\"ebird_codes.txt\",\"w\") as file:\n",
    "    for code in meta[\"ebird_code\"].unique():\n",
    "        file.write(code + \"\\n\")"
   ]
  },
  {
   "cell_type": "code",
   "execution_count": 25,
   "metadata": {},
   "outputs": [],
   "source": [
    "# example on how to incorporate label file\n",
    "from datasets import Features, ClassLabel\n",
    "features = Features({'label': ClassLabel(names_file=\"ebird_codes.txt\")})\n"
   ]
  },
  {
   "cell_type": "code",
   "execution_count": 3,
   "metadata": {},
   "outputs": [
    {
     "data": {
      "text/plain": [
       "'https://huggingface.co/datasets/DBD-research-group/gadme_v1/blob/main/gadme_v1.py'"
      ]
     },
     "execution_count": 3,
     "metadata": {},
     "output_type": "execute_result"
    }
   ],
   "source": [
    "# upload a single file (loading script)\n",
    "# ! important: the name of the loading script has to be the same as the repo name!!\n",
    "api.upload_file(\n",
    "    path_or_fileobj=\"/home/lukas/Projects/hf_clone/gadme_cloned_repo/gadme_cloned_repo.py\",\n",
    "    path_in_repo=\"gadme_v1.py\",\n",
    "    repo_id=\"DBD-research-group/gadme_v1\",\n",
    "    repo_type=\"dataset\",\n",
    "    commit_message=\"generator script update with bird names\"\n",
    ")"
   ]
  },
  {
   "cell_type": "code",
   "execution_count": 8,
   "metadata": {},
   "outputs": [],
   "source": [
    "# load dataset\n",
    "from datasets import load_dataset\n",
    "ds = load_dataset(\"DBD-research-group/gadme_v1\", \"sapsucker_woods\")"
   ]
  },
  {
   "cell_type": "code",
   "execution_count": 10,
   "metadata": {},
   "outputs": [
    {
     "data": {
      "text/plain": [
       "DatasetDict({\n",
       "    train: Dataset({\n",
       "        features: ['audio', 'label', 'file', 'source', 'start_time', 'end_time', 'local_time', 'events'],\n",
       "        num_rows: 400\n",
       "    })\n",
       "    test: Dataset({\n",
       "        features: ['audio', 'label', 'file', 'source', 'start_time', 'end_time', 'local_time', 'events'],\n",
       "        num_rows: 100\n",
       "    })\n",
       "})"
      ]
     },
     "execution_count": 10,
     "metadata": {},
     "output_type": "execute_result"
    }
   ],
   "source": [
    "ds"
   ]
  },
  {
   "cell_type": "code",
   "execution_count": 17,
   "metadata": {},
   "outputs": [],
   "source": [
    "# create train/test split\n",
    "meta_train = meta[:400]\n",
    "meta_test = meta[400:]"
   ]
  },
  {
   "cell_type": "code",
   "execution_count": 18,
   "metadata": {},
   "outputs": [
    {
     "name": "stderr",
     "output_type": "stream",
     "text": [
      "/home/lukas/miniconda3/envs/BERT/lib/python3.11/site-packages/pandas/core/internals/blocks.py:2538: RuntimeWarning: invalid value encountered in cast\n",
      "  values = values.astype(str)\n"
     ]
    }
   ],
   "source": [
    "# note that they are saved as a .zip file to work with download_and_extract\n",
    "meta_train.to_csv(\"data/NA_subset500/metadata/train.csv\")\n",
    "meta_test.to_csv(\"data/NA_subset500/metadata/test.csv\")"
   ]
  }
 ],
 "metadata": {
  "kernelspec": {
   "display_name": "BERT",
   "language": "python",
   "name": "python3"
  },
  "language_info": {
   "codemirror_mode": {
    "name": "ipython",
    "version": 3
   },
   "file_extension": ".py",
   "mimetype": "text/x-python",
   "name": "python",
   "nbconvert_exporter": "python",
   "pygments_lexer": "ipython3",
   "version": "3.11.4"
  },
  "orig_nbformat": 4
 },
 "nbformat": 4,
 "nbformat_minor": 2
}
