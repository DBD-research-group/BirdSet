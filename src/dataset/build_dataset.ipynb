{
 "cells": [
  {
   "attachments": {},
   "cell_type": "markdown",
   "metadata": {},
   "source": [
    "# Purpose\n",
    "This file is used to build a dataset that includes datasets from different sources. The output is a HuggingFace dataset object."
   ]
  },
  {
   "attachments": {},
   "cell_type": "markdown",
   "metadata": {},
   "source": [
    "## Preparation\n",
    "Before running this notebook some prerequisites must be fulfilled:\n",
    "    * The Zenodo audiofiles should be in Data/Zenodo\n",
    "    * The Zenodo annotations.csv should be in Zenodo/"
   ]
  },
  {
   "cell_type": "code",
   "execution_count": 1,
   "metadata": {},
   "outputs": [
    {
     "name": "stdout",
     "output_type": "stream",
     "text": [
      "Requirement already satisfied: datasets in /home/jlange/.local/lib/python3.8/site-packages (2.13.1)\n",
      "Requirement already satisfied: xxhash in /home/jlange/.local/lib/python3.8/site-packages (from datasets) (3.2.0)\n",
      "Requirement already satisfied: fsspec[http]>=2021.11.1 in /home/jlange/.local/lib/python3.8/site-packages (from datasets) (2023.6.0)\n",
      "Requirement already satisfied: dill<0.3.7,>=0.3.0 in /home/jlange/.local/lib/python3.8/site-packages (from datasets) (0.3.6)\n",
      "Requirement already satisfied: pandas in /home/jlange/.local/lib/python3.8/site-packages (from datasets) (1.5.2)\n",
      "Requirement already satisfied: huggingface-hub<1.0.0,>=0.11.0 in /home/jlange/.local/lib/python3.8/site-packages (from datasets) (0.15.1)\n",
      "Requirement already satisfied: multiprocess in /home/jlange/.local/lib/python3.8/site-packages (from datasets) (0.70.14)\n",
      "Requirement already satisfied: tqdm>=4.62.1 in /home/jlange/.local/lib/python3.8/site-packages (from datasets) (4.64.1)\n",
      "Requirement already satisfied: numpy>=1.17 in /home/jlange/.local/lib/python3.8/site-packages (from datasets) (1.24.4)\n",
      "Requirement already satisfied: pyyaml>=5.1 in /usr/lib/python3/dist-packages (from datasets) (5.3.1)\n",
      "Requirement already satisfied: aiohttp in /home/jlange/.local/lib/python3.8/site-packages (from datasets) (3.8.4)\n",
      "Requirement already satisfied: requests>=2.19.0 in /usr/lib/python3/dist-packages (from datasets) (2.22.0)\n",
      "Requirement already satisfied: packaging in /home/jlange/.local/lib/python3.8/site-packages (from datasets) (22.0)\n",
      "Requirement already satisfied: pyarrow>=8.0.0 in /home/jlange/.local/lib/python3.8/site-packages (from datasets) (12.0.1)\n",
      "Requirement already satisfied: python-dateutil>=2.8.1 in /home/jlange/.local/lib/python3.8/site-packages (from pandas->datasets) (2.8.2)\n",
      "Requirement already satisfied: pytz>=2020.1 in /home/jlange/.local/lib/python3.8/site-packages (from pandas->datasets) (2022.7)\n",
      "Requirement already satisfied: typing-extensions>=3.7.4.3 in /home/jlange/.local/lib/python3.8/site-packages (from huggingface-hub<1.0.0,>=0.11.0->datasets) (4.5.0)\n",
      "Requirement already satisfied: filelock in /home/jlange/.local/lib/python3.8/site-packages (from huggingface-hub<1.0.0,>=0.11.0->datasets) (3.12.2)\n",
      "Requirement already satisfied: charset-normalizer<4.0,>=2.0 in /home/jlange/.local/lib/python3.8/site-packages (from aiohttp->datasets) (3.1.0)\n",
      "Requirement already satisfied: yarl<2.0,>=1.0 in /home/jlange/.local/lib/python3.8/site-packages (from aiohttp->datasets) (1.9.2)\n",
      "Requirement already satisfied: multidict<7.0,>=4.5 in /home/jlange/.local/lib/python3.8/site-packages (from aiohttp->datasets) (6.0.4)\n",
      "Requirement already satisfied: aiosignal>=1.1.2 in /home/jlange/.local/lib/python3.8/site-packages (from aiohttp->datasets) (1.3.1)\n",
      "Requirement already satisfied: frozenlist>=1.1.1 in /home/jlange/.local/lib/python3.8/site-packages (from aiohttp->datasets) (1.3.3)\n",
      "Requirement already satisfied: attrs>=17.3.0 in /usr/lib/python3/dist-packages (from aiohttp->datasets) (19.3.0)\n",
      "Requirement already satisfied: async-timeout<5.0,>=4.0.0a3 in /home/jlange/.local/lib/python3.8/site-packages (from aiohttp->datasets) (4.0.2)\n",
      "Requirement already satisfied: six>=1.5 in /home/jlange/.local/lib/python3.8/site-packages (from python-dateutil>=2.8.1->pandas->datasets) (1.16.0)\n",
      "Requirement already satisfied: idna>=2.0 in /usr/lib/python3/dist-packages (from yarl<2.0,>=1.0->aiohttp->datasets) (2.8)\n",
      "Note: you may need to restart the kernel to use updated packages.\n",
      "Requirement already satisfied: librosa in /home/jlange/.local/lib/python3.8/site-packages (0.10.0.post2)\n",
      "Requirement already satisfied: scikit-learn>=0.20.0 in /home/jlange/.local/lib/python3.8/site-packages (from librosa) (1.2.0)\n",
      "Requirement already satisfied: soundfile>=0.12.1 in /home/jlange/.local/lib/python3.8/site-packages (from librosa) (0.12.1)\n",
      "Requirement already satisfied: numpy!=1.22.0,!=1.22.1,!=1.22.2,>=1.20.3 in /home/jlange/.local/lib/python3.8/site-packages (from librosa) (1.24.4)\n",
      "Requirement already satisfied: pooch<1.7,>=1.0 in /home/jlange/.local/lib/python3.8/site-packages (from librosa) (1.6.0)\n",
      "Requirement already satisfied: msgpack>=1.0 in /home/jlange/.local/lib/python3.8/site-packages (from librosa) (1.0.5)\n",
      "Requirement already satisfied: joblib>=0.14 in /home/jlange/.local/lib/python3.8/site-packages (from librosa) (1.2.0)\n",
      "Requirement already satisfied: soxr>=0.3.2 in /home/jlange/.local/lib/python3.8/site-packages (from librosa) (0.3.5)\n",
      "Requirement already satisfied: numba>=0.51.0 in /home/jlange/.local/lib/python3.8/site-packages (from librosa) (0.57.1)\n",
      "Requirement already satisfied: scipy>=1.2.0 in /home/jlange/.local/lib/python3.8/site-packages (from librosa) (1.9.3)\n",
      "Requirement already satisfied: lazy-loader>=0.1 in /home/jlange/.local/lib/python3.8/site-packages (from librosa) (0.2)\n",
      "Requirement already satisfied: audioread>=2.1.9 in /home/jlange/.local/lib/python3.8/site-packages (from librosa) (3.0.0)\n",
      "Requirement already satisfied: typing-extensions>=4.1.1 in /home/jlange/.local/lib/python3.8/site-packages (from librosa) (4.5.0)\n",
      "Requirement already satisfied: decorator>=4.3.0 in /home/jlange/.local/lib/python3.8/site-packages (from librosa) (5.1.1)\n",
      "Requirement already satisfied: threadpoolctl>=2.0.0 in /home/jlange/.local/lib/python3.8/site-packages (from scikit-learn>=0.20.0->librosa) (3.1.0)\n",
      "Requirement already satisfied: cffi>=1.0 in /home/jlange/.local/lib/python3.8/site-packages (from soundfile>=0.12.1->librosa) (1.15.1)\n",
      "Requirement already satisfied: appdirs>=1.3.0 in /home/jlange/.local/lib/python3.8/site-packages (from pooch<1.7,>=1.0->librosa) (1.4.4)\n",
      "Requirement already satisfied: packaging>=20.0 in /home/jlange/.local/lib/python3.8/site-packages (from pooch<1.7,>=1.0->librosa) (22.0)\n",
      "Requirement already satisfied: requests>=2.19.0 in /usr/lib/python3/dist-packages (from pooch<1.7,>=1.0->librosa) (2.22.0)\n",
      "Requirement already satisfied: importlib-metadata; python_version < \"3.9\" in /usr/local/lib/python3.8/dist-packages (from numba>=0.51.0->librosa) (6.1.0)\n",
      "Requirement already satisfied: llvmlite<0.41,>=0.40.0dev0 in /home/jlange/.local/lib/python3.8/site-packages (from numba>=0.51.0->librosa) (0.40.1)\n",
      "Requirement already satisfied: pycparser in /home/jlange/.local/lib/python3.8/site-packages (from cffi>=1.0->soundfile>=0.12.1->librosa) (2.21)\n",
      "Requirement already satisfied: zipp>=0.5 in /home/jlange/.local/lib/python3.8/site-packages (from importlib-metadata; python_version < \"3.9\"->numba>=0.51.0->librosa) (3.16.2)\n",
      "Note: you may need to restart the kernel to use updated packages.\n",
      "Requirement already up-to-date: matplotlib in /home/jlange/.local/lib/python3.8/site-packages (3.7.2)\n",
      "Requirement already satisfied, skipping upgrade: kiwisolver>=1.0.1 in /home/jlange/.local/lib/python3.8/site-packages (from matplotlib) (1.4.4)\n",
      "Requirement already satisfied, skipping upgrade: packaging>=20.0 in /home/jlange/.local/lib/python3.8/site-packages (from matplotlib) (22.0)\n",
      "Requirement already satisfied, skipping upgrade: importlib-resources>=3.2.0; python_version < \"3.10\" in /usr/local/lib/python3.8/dist-packages (from matplotlib) (5.12.0)\n",
      "Requirement already satisfied, skipping upgrade: numpy>=1.20 in /home/jlange/.local/lib/python3.8/site-packages (from matplotlib) (1.24.4)\n",
      "Requirement already satisfied, skipping upgrade: fonttools>=4.22.0 in /home/jlange/.local/lib/python3.8/site-packages (from matplotlib) (4.38.0)\n",
      "Requirement already satisfied, skipping upgrade: contourpy>=1.0.1 in /home/jlange/.local/lib/python3.8/site-packages (from matplotlib) (1.0.6)\n",
      "Requirement already satisfied, skipping upgrade: python-dateutil>=2.7 in /home/jlange/.local/lib/python3.8/site-packages (from matplotlib) (2.8.2)\n",
      "Requirement already satisfied, skipping upgrade: pillow>=6.2.0 in /home/jlange/.local/lib/python3.8/site-packages (from matplotlib) (10.0.0)\n",
      "Requirement already satisfied, skipping upgrade: pyparsing<3.1,>=2.3.1 in /home/jlange/.local/lib/python3.8/site-packages (from matplotlib) (3.0.9)\n",
      "Requirement already satisfied, skipping upgrade: cycler>=0.10 in /home/jlange/.local/lib/python3.8/site-packages (from matplotlib) (0.11.0)\n",
      "Requirement already satisfied, skipping upgrade: zipp>=3.1.0; python_version < \"3.10\" in /home/jlange/.local/lib/python3.8/site-packages (from importlib-resources>=3.2.0; python_version < \"3.10\"->matplotlib) (3.16.2)\n",
      "Requirement already satisfied, skipping upgrade: six>=1.5 in /home/jlange/.local/lib/python3.8/site-packages (from python-dateutil>=2.7->matplotlib) (1.16.0)\n",
      "Note: you may need to restart the kernel to use updated packages.\n"
     ]
    }
   ],
   "source": [
    "# Installing dependencies\n",
    "%pip install datasets\n",
    "%pip install librosa\n",
    "%pip install -U matplotlib"
   ]
  },
  {
   "cell_type": "markdown",
   "metadata": {},
   "source": [
    "Change the following variables, if the Data or Annotations folder are not in the same directory as this file."
   ]
  },
  {
   "cell_type": "code",
   "execution_count": 5,
   "metadata": {},
   "outputs": [],
   "source": [
    "data_path = \"/data-project/DeepBirdDetect/BirdSet/Data/\"\n",
    "annotations_path = \"Annotations/\""
   ]
  },
  {
   "cell_type": "code",
   "execution_count": 2,
   "metadata": {},
   "outputs": [
    {
     "name": "stdout",
     "output_type": "stream",
     "text": [
      "There are 79 out of 2326 entrys in the Alpha codes which I could not translate to ebirdcodes\n"
     ]
    }
   ],
   "source": [
    "\"\"\"\n",
    "Build an empty dictionary with the colmun-names as keys. For each dataset (i.e. Zenodo, Oeko4, etc.) the empty_dataset is deepcopied and filled.\n",
    "The resulting dataset can then be converted into a HuggingFace Dataset object.\n",
    "Also build dictionarys to translate different bird-codes\n",
    "\"\"\"\n",
    "import copy\n",
    "datasets = []\n",
    "columns=[\"ID\", \"Audio\", \"Start Time (s)\", \"End Time (s)\", \"Low Freq (Hz)\", \"High Freq (Hz)\", \"Species eBird Code\"\n",
    "         , \"Call Type\", \"Sex\", \"Latitude\", \"Longitude\", \"Uncertainty\", \"Microphone\", \"License\", \"Source\"\n",
    "         , \"BirdNet Training Data\"]\n",
    "empty_dataset = {}\n",
    "for column in columns:\n",
    "    empty_dataset[column]=[]    \n",
    "\n",
    "\"\"\"\n",
    "Read the taxonomy from the csv file and convert it to the e_bird_codes dictionary.\n",
    "common_to_ebird maps common_names to e-bird-codes\n",
    "\"\"\"\n",
    "import csv\n",
    "common_to_ebird = {} #This dict saves the e-bird-code for each common name\n",
    "with open('ebird_taxonomy_v2022.csv', newline='') as csvfile:\n",
    "    taxonomy = csv.reader(csvfile, delimiter=',', quotechar='|')\n",
    "    first = True\n",
    "    for row in taxonomy:\n",
    "        if first:\n",
    "            first = False\n",
    "            continue\n",
    "        common_name = row[3]\n",
    "        e_bird_code = row[2]\n",
    "        common_to_ebird[common_name]=e_bird_code\n",
    "\n",
    "\"\"\"\n",
    "The sci_to_ebird dictionary maps each scientific (latin) name to the corresponding e-bird-code.\n",
    "\"\"\"\n",
    "import csv\n",
    "sci_to_ebird = {} #This dict saves the e-bird-code for each common name\n",
    "with open('ebird_taxonomy_v2022.csv', newline='') as csvfile:\n",
    "    taxonomy = csv.reader(csvfile, delimiter=',', quotechar='|')\n",
    "    first = True\n",
    "    for row in taxonomy:\n",
    "        if first:\n",
    "            first = False\n",
    "            continue\n",
    "        sci_name = row[4]\n",
    "        e_bird_code = row[2]\n",
    "        sci_to_ebird[sci_name]=e_bird_code\n",
    "\n",
    "\"\"\"\n",
    "The ebird_to_common dictionary maps each e-bird-code to the corresponding common name.\n",
    "\"\"\"\n",
    "ebird_to_common = {} #This dict saves the e-bird-code for each common name\n",
    "with open('ebird_taxonomy_v2022.csv', newline='') as csvfile:\n",
    "    taxonomy = csv.reader(csvfile, delimiter=',', quotechar='|')\n",
    "    first = True\n",
    "    for row in taxonomy:\n",
    "        if first:\n",
    "            first = False\n",
    "            continue\n",
    "        common_name = row[3]\n",
    "        e_bird_code = row[2]\n",
    "        ebird_to_common[e_bird_code]=common_name\n",
    "\n",
    "\n",
    "\n",
    "\"\"\"\n",
    "The alpha_to_ebird dictionary maps each alpha-code to the corresponding ebird-code.\n",
    "\"\"\"\n",
    "alpha_to_ebird = {} #This dict saves the alpha-code for each e_bird_code\n",
    "not_found = []\n",
    "with open('AlphaCodes.csv', newline='') as csvfile:\n",
    "    taxonomy = csv.reader(csvfile, delimiter=',', quotechar='|')\n",
    "    first = True\n",
    "    for row in taxonomy:\n",
    "        if first:\n",
    "            first = False\n",
    "            continue\n",
    "        common_name = row[3]\n",
    "        alpha_code = row[1]\n",
    "        sci_name = row[4]\n",
    "        if common_name in common_to_ebird.keys():\n",
    "            alpha_to_ebird[alpha_code]=common_to_ebird[common_name]\n",
    "        elif sci_name in sci_to_ebird.keys():\n",
    "            #Sometimes different common names are used\n",
    "            alpha_to_ebird[alpha_code]=sci_to_ebird[sci_name]\n",
    "        else:\n",
    "            not_found.append(f\"{common_name}/ {sci_name}\")\n",
    "print(f\"There are {len(not_found)} out of {len(not_found)+len(alpha_to_ebird.keys())} entrys in the Alpha codes which I could not translate to ebirdcodes\")\n",
    "\n"
   ]
  },
  {
   "attachments": {},
   "cell_type": "markdown",
   "metadata": {},
   "source": [
    "## Partial Datasets\n",
    "First HuggingFace dataset objects are created for each dataset."
   ]
  },
  {
   "attachments": {},
   "cell_type": "markdown",
   "metadata": {},
   "source": [
    "### Zenodo\n",
    "The following Block builds the Zenodo dataset and adds it to the list of datasets. The Zenodo dataset consists of 5 Datasets, namely HSN, SNE, UHH, PER and SSW. The following block combines these 5 Datasets into a single HuggingFace Dataset object."
   ]
  },
  {
   "cell_type": "markdown",
   "metadata": {},
   "source": [
    "#### Define Constants\n",
    "The following codeblock defines some required constants. These include the folder names for the 5 Datasets, their respective sources, as well as their respective cooridinates (Latitude, Longitude)."
   ]
  },
  {
   "cell_type": "code",
   "execution_count": 3,
   "metadata": {},
   "outputs": [],
   "source": [
    "subsets = [\"HSN\", \"SNE\", \"UHH\", \"PER\", \"SSW\", \"NES\"]\n",
    "\n",
    "sources={\"HSN\": \"https://zenodo.org/record/7525805\",\n",
    "        \"SNE\": \"https://zenodo.org/record/7050014\",\n",
    "        \"UHH\": \"https://zenodo.org/record/7078499\",\n",
    "        \"PER\": \"https://zenodo.org/record/7079124\",\n",
    "        \"SSW\": \"https://zenodo.org/record/7079380\",\n",
    "        \"NES\": \"https://zenodo.org/record/7525349\"}\n",
    "\"\"\"\n",
    "Coordinates are saved as [latitude, logitude]. Some of the datasets contain multiple recording sights.\n",
    "I filled these in by hand, as the different datasets had used different formats which had to be \n",
    "converted to (Lat,Lon).\n",
    "\"\"\"\n",
    "coordinates={\"HSN\": {0:[37.0, -118.5]},\n",
    "             \"SNE\": {0:[38.49, -119.95]},\n",
    "             \"UHH\": {1:[19.801668, -155.609444],\n",
    "                     2:[19.792975, -155.321332],\n",
    "                     3:[19.46647, -155.582011],\n",
    "                     4:[19.820609, -155.468097]},\n",
    "             \"PER\": {1:[-12.542578, -69.062050],\n",
    "                     2:[-12.541925, -69.058642],\n",
    "                     4:[-12.537814, -69.054308],\n",
    "                     5:[-12.535539, -69.06674],\n",
    "                     6:[-12.532981, -69.049864],\n",
    "                     8:[-12.529858, -69.046164],\n",
    "                     10:[-12.522983, -69.046822]},\n",
    "             \"SSW\": {0:[42.4768, -76.4527]},\n",
    "             \"NES\": {1:[5.59,-75.85],\n",
    "                     2:[10.11,-84.52]}\n",
    "} "
   ]
  },
  {
   "cell_type": "markdown",
   "metadata": {},
   "source": [
    "#### Build Dataset\n",
    "The following block builds a dictionary from the data and converts it into a HuggingFace Dataset Object"
   ]
  },
  {
   "cell_type": "code",
   "execution_count": 8,
   "metadata": {},
   "outputs": [
    {
     "name": "stdout",
     "output_type": "stream",
     "text": [
      "{'path': '/data-project/DeepBirdDetect/BirdSet/Data/Zenodo/HSN_001_20150708_061805.flac', 'array': array([-0.00073242, -0.00057983, -0.00057983, ..., -0.00030518,\n",
      "       -0.00048828, -0.00048828]), 'sampling_rate': 32000}\n"
     ]
    }
   ],
   "source": [
    "import csv\n",
    "from datasets import Audio, Dataset\n",
    "\n",
    "#build the dictionary\n",
    "#deepcopy is necessary here, because otherwise the empty_dataset gets changed\n",
    "dict = copy.deepcopy(empty_dataset)\n",
    "ID=0\n",
    "for subset in subsets:\n",
    "    with open(f'{annotations_path}Zenodo/{subset}_annotations.csv', newline='') as annotations:\n",
    "        reader = csv.DictReader(annotations) \n",
    "        for sample in reader:\n",
    "            #filter out unknown birds (in the case of zenodo these are all marked as ????)\n",
    "            if sample[\"Species eBird Code\"] == \"????\":\n",
    "                continue\n",
    "\n",
    "            dict[\"ID\"].append(str(ID))\n",
    "            dict[\"Audio\"].append(f\"{data_path}Zenodo/{sample['Filename']}\")     \n",
    "            dict[\"Start Time (s)\"].append(sample[\"Start Time (s)\"])\n",
    "            dict[\"End Time (s)\"].append(sample[\"End Time (s)\"])\n",
    "            dict[\"Low Freq (Hz)\"].append(sample[\"Low Freq (Hz)\"])\n",
    "            dict[\"High Freq (Hz)\"].append(sample[\"High Freq (Hz)\"])\n",
    "            dict[\"Species eBird Code\"].append(sample[\"Species eBird Code\"])\n",
    "            dict[\"Call Type\"].append(None)\n",
    "            dict[\"Sex\"].append(None)\n",
    "\n",
    "            # Some of the subsets used multiple recording sights\n",
    "            if subset in [\"UHH\",\"PER\"]:\n",
    "                #This part of the filename denotes the Recording Sight\n",
    "                sight = int(sample['Filename'][9:11])\n",
    "            else:\n",
    "                sight = 0\n",
    "            dict[\"Latitude\"].append(coordinates[subset][sight][0])\n",
    "            dict[\"Longitude\"].append(coordinates[subset][sight][1])\n",
    "\n",
    "            dict[\"Uncertainty\"].append(None)\n",
    "            dict[\"Microphone\"].append(\"Soundscape\")\n",
    "            dict[\"License\"].append(\"Creative Commons Attribution 4.0 International Public License\")\n",
    "            dict[\"Source\"].append(sources[subset])\n",
    "            \n",
    "            # We do not know that yet\n",
    "            dict[\"BirdNet Training Data\"].append(None)\n",
    "            ID += 1\n",
    "\n",
    "#The following line is only used to extract metadata later\n",
    "zenodo = copy.deepcopy(dict)\n",
    "\n",
    "#Convert the dictionary into a HuggingFace Dataset object\n",
    "audio_dataset = Dataset.from_dict(dict).cast_column(\"Audio\", Audio())\n",
    "datasets.append(audio_dataset)\n",
    "print(audio_dataset[0][\"Audio\"])"
   ]
  },
  {
   "cell_type": "markdown",
   "metadata": {},
   "source": [
    "## OekoFor Dataset\n",
    "For the following code to work properly, all extracted folders should be directly inside Data/OekoFor.\n",
    "For example:\n",
    "\"Data/OekoFor/2016_Scotland/Goldcrest_c (Kontaktruf)_1_NA_Ralph Martin_160923_07_13_48_GB_FKS_RM_LS_72093_s125.4.wav\""
   ]
  },
  {
   "cell_type": "code",
   "execution_count": 9,
   "metadata": {},
   "outputs": [
    {
     "name": "stdout",
     "output_type": "stream",
     "text": [
      "There are 240425 correct samples\n",
      "There are 76294 incorrect samples\n",
      "Out of the correct samples there are 82764 samples containing non-bird sounds\n"
     ]
    }
   ],
   "source": [
    "\"\"\"\n",
    "Build the Dictonary\n",
    "\"\"\"\n",
    "import csv\n",
    "import os\n",
    "folders = [name for name in os.listdir(f\"{data_path}OekoFor/\") if os.path.isdir(f\"{data_path}/OekoFor/{name}\")]\n",
    "#build the dictionary\n",
    "#deepcopy is necessary here, because otherwise the empty_dataset gets changed\n",
    "dict = copy.deepcopy(empty_dataset)\n",
    "ID=0\n",
    "correct = 0\n",
    "incorrect = 0\n",
    "other_sounds = 0\n",
    "# This caharmap is used to exchange all special german charaters (Umlaute)\n",
    "#special_char_map = {ord('ä'):'ae', ord('ü'):'ue', ord('ö'):'oe', ord('ß'):'ss'}\n",
    "for folder in folders:\n",
    "    path = f\"{data_path}OekoFor/{folder}/\"\n",
    "    annotations = [name for name in os.listdir(path) if name[-4:] == \".txt\"]\n",
    "    audio_files = [name for name in os.listdir(path) if name[-4:] == \".wav\"]\n",
    "    for annotation_file in annotations:\n",
    "        with open(f'{path}{annotation_file}', encoding=\"iso-8859-1\", newline='') as annotations:\n",
    "            reader = csv.DictReader(annotations, delimiter='\\t') \n",
    "            for sample in reader:            \n",
    "                #Samples that are incorrect are removed\n",
    "                if sample[\"correct\"] == \"1\":\n",
    "                    correct += 1\n",
    "                else:\n",
    "                    #correct == 0\n",
    "                    incorrect += 1\n",
    "                    continue #remove this line to include incorrect annotations into the dictionary\n",
    "                \n",
    "                #Samples that are not Birds are removed\n",
    "                bird = sample[\"common_name\"]\n",
    "                if bird == \"Mongolian Gull\":\n",
    "                    #The dataset used a different name here\n",
    "                    bird = \"Herring Gull (Mongolian)\"\n",
    "                if bird in common_to_ebird:\n",
    "                    bird = common_to_ebird[bird]\n",
    "                else:\n",
    "                    other_sounds+=1\n",
    "                    continue\n",
    "                \n",
    "                #For uniformity replace NA and \"\" with None\n",
    "                for key in sample.keys():\n",
    "                    if sample[key] == \"NA\" or sample[key]==\"\":\n",
    "                        sample[key] = None\n",
    "                    #else:\n",
    "                    #    sample[key] = sample[key].translate(special_char_map)\n",
    "\n",
    "                dict[\"ID\"].append(str(ID))\n",
    "                dict[\"Audio\"].append(f\"{path}{annotation_file[:-4]}.wav\")     \n",
    "                dict[\"Start Time (s)\"].append(sample['start_sample_random [s]'])\n",
    "                dict[\"End Time (s)\"].append(sample['end_sample_random [s]'])\n",
    "                dict[\"Low Freq (Hz)\"].append(sample['low_freq [Hz]'])\n",
    "                dict[\"High Freq (Hz)\"].append(sample['high_freq [Hz]'])\n",
    "                dict[\"Species eBird Code\"].append(bird)\n",
    "                \n",
    "                #Sometimes the german umlaut ae is used in the annotations for the call type\n",
    "                #These german \"Umlaute\" are removed to avoid trouble\n",
    "                if sample['call_type'] is None:\n",
    "                    dict[\"Call Type\"].append(None)\n",
    "                elif \"gelschlag\" in  sample['call_type']:\n",
    "                    dict['Call Type'].append('wb (Fluegelschlag)')\n",
    "                else:\n",
    "                    dict[\"Call Type\"].append(sample['call_type'])\n",
    "\n",
    "                dict[\"Sex\"].append(sample['sex'])\n",
    "\n",
    "                if sample['latitude [WGS84]'] is None:\n",
    "                    dict[\"Latitude\"].append(None)\n",
    "                else:\n",
    "                    dict[\"Latitude\"].append(float(sample['latitude [WGS84]']))\n",
    "\n",
    "                if sample['longitude [WGS84]'] is None:\n",
    "                    dict[\"Longitude\"].append(None)\n",
    "                else:\n",
    "                    dict[\"Longitude\"].append(float(sample['longitude [WGS84]']))\n",
    "\n",
    "                if sample['uncertainty of GPS data [km]'] is None:\n",
    "                    dict[\"Uncertainty\"].append(None)\n",
    "                else:\n",
    "                    dict[\"Uncertainty\"].append(float(sample['uncertainty of GPS data [km]']))\n",
    "\n",
    "                dict[\"Microphone\"].append(\"Soundscape\")\n",
    "                dict[\"License\"].append(\"Unknown\")\n",
    "                dict[\"Source\"].append(f\"https://cornell.box.com/s/8cpulu253x6kfnc6wag3uovi9p9eb98h {folder}\")\n",
    "                \n",
    "                # We do not know that yet\n",
    "                dict[\"BirdNet Training Data\"].append(False)\n",
    "                ID += 1\n",
    "print(f\"There are {correct} correct samples\")\n",
    "print(f\"There are {incorrect} incorrect samples\")\n",
    "print(f\"Out of the correct samples there are {other_sounds} samples containing non-bird sounds\")\n",
    "\n"
   ]
  },
  {
   "cell_type": "code",
   "execution_count": 13,
   "metadata": {},
   "outputs": [],
   "source": [
    "\"\"\"Soemtimes the exact same audio-file (I compared them bitwise) is saved/used under different names.\n",
    "Moving the pointers to one file should save about 117GB\n",
    "\"\"\"\n",
    "import pickle\n",
    "\n",
    "#Load the pickled dictionary (gererated in usefull_code.ipynb)\n",
    "with open(\"duplicates_dict\", \"rb\") as f:\n",
    "    duplicate_dict = pickle.load(f)\n",
    "    \n",
    "#replace the duplicate audio paths\n",
    "new_audio = []\n",
    "for file in dict[\"Audio\"]:\n",
    "    new_audio.append(f\"{data_path}{duplicate_dict[file[len(data_path):]]}\")\n",
    "dict[\"Audio\"] = new_audio"
   ]
  },
  {
   "cell_type": "code",
   "execution_count": 14,
   "metadata": {},
   "outputs": [
    {
     "name": "stdout",
     "output_type": "stream",
     "text": [
      "{'path': '/data-project/DeepBirdDetect/BirdSet/Data/OekoFor/2022_Eriskircher_Ried_BW_D_Oktober/Eurasian Blackbird_f (Flugruf)_1_NA_Ralph Martin_MINIMI1_20221014_103802_EriRie_BW_D_RM_s1533.3.wav', 'array': array([ 0.01675415,  0.02001953,  0.02005005, ..., -0.00378418,\n",
      "       -0.00488281, -0.00296021]), 'sampling_rate': 24000}\n"
     ]
    }
   ],
   "source": [
    "\"\"\"\n",
    "Build the Hugging Face dataset Object from the dictionary\n",
    "\"\"\"\n",
    "from datasets import Audio, Dataset\n",
    "audio_dataset = Dataset.from_dict(dict).cast_column(\"Audio\", Audio())\n",
    "datasets.append(audio_dataset)\n",
    "print(audio_dataset[0][\"Audio\"])\n",
    "\n",
    "#The following lines are only for meta data generation\n",
    "import copy\n",
    "oekofor = copy.deepcopy(dict)\n"
   ]
  },
  {
   "cell_type": "markdown",
   "metadata": {},
   "source": [
    "## Powdermill"
   ]
  },
  {
   "cell_type": "code",
   "execution_count": 23,
   "metadata": {},
   "outputs": [
    {
     "name": "stdout",
     "output_type": "stream",
     "text": [
      "Was unable to lable 62 samples\n",
      "Could not translate the following alpha-codes to ebird: ['AMGO']\n"
     ]
    }
   ],
   "source": [
    "\"\"\"\n",
    "Build the Dictonary\n",
    "\"\"\"\n",
    "import csv\n",
    "import os\n",
    "folders = [\"Recording_1\", \"Recording_2\", \"Recording_3\", \"Recording_4\"]\n",
    "#build the dictionary\n",
    "#deepcopy is necessary here, because otherwise the empty_dataset gets changed\n",
    "dict = copy.deepcopy(empty_dataset)\n",
    "ID=0\n",
    "other_sounds=[]\n",
    "\n",
    "for folder in folders:\n",
    "    path = f\"{annotations_path}Powdermill/{folder}/\"\n",
    "    audio_path = f\"{data_path}Powdermill/{folder}/\"\n",
    "    annotations = [name for name in os.listdir(path)]\n",
    "    not_found = {}\n",
    "    for annotation_file in annotations:\n",
    "        with open(f'{path}{annotation_file}', newline='') as annotations:\n",
    "            reader = csv.DictReader(annotations, delimiter='\\t') \n",
    "            for sample in reader:                         \n",
    "                #Samples that are not Birds are removed\n",
    "                bird = sample[\"Species\"]\n",
    "                if bird in alpha_to_ebird:\n",
    "                    bird = alpha_to_ebird[bird]\n",
    "                else:\n",
    "                    other_sounds.append(bird)\n",
    "                    continue\n",
    "                \n",
    "                #For uniformity replace NA and \"\" with None\n",
    "                for key in sample.keys():\n",
    "                    if sample[key] == \"NA\" or sample[key]==\"\":\n",
    "                        sample[key] = None\n",
    "\n",
    "                dict[\"ID\"].append(str(ID))\n",
    "\n",
    "                audio_name = f\"{folder}_Segment_{annotation_file[20:22]}.WAV\"\n",
    "                dict[\"Audio\"].append(f\"{audio_path}{audio_name}\")    \n",
    "\n",
    "\n",
    "                dict[\"Start Time (s)\"].append(sample['Begin Time (s)'])\n",
    "                dict[\"End Time (s)\"].append(sample['End Time (s)'])\n",
    "                dict[\"Low Freq (Hz)\"].append(sample['Low Freq (Hz)'])\n",
    "                dict[\"High Freq (Hz)\"].append(sample['High Freq (Hz)'])\n",
    "                dict[\"Species eBird Code\"].append(bird)\n",
    "                dict[\"Call Type\"].append(None)\n",
    "                dict[\"Sex\"].append(None)\n",
    "                dict[\"Latitude\"].append(None)\n",
    "                dict[\"Longitude\"].append(None)\n",
    "                dict[\"Uncertainty\"].append(None)\n",
    "                dict[\"Microphone\"].append(\"Soundscape (AudioMoths)\")\n",
    "                \n",
    "                dict[\"License\"].append(\"Creative Commons Zero v1.0 Universal\")\n",
    "                dict[\"Source\"].append(\"https://zenodo.org/record/4656848\")\n",
    "                dict[\"BirdNet Training Data\"].append(None)\n",
    "                ID += 1\n",
    "print(f\"Was unable to lable {len(other_sounds)} samples\")\n",
    "print(f\"Could not translate the following alpha-codes to ebird: {list(dict.fromkeys(other_sounds))}\")"
   ]
  },
  {
   "cell_type": "code",
   "execution_count": 24,
   "metadata": {},
   "outputs": [
    {
     "name": "stdout",
     "output_type": "stream",
     "text": [
      "{'path': '/data-project/DeepBirdDetect/BirdSet/Data/Powdermill/Recording_1/Recording_1_Segment_03.WAV', 'array': array([-9.15527344e-05, -2.13623047e-03, -2.31933594e-03, ...,\n",
      "        1.06811523e-03,  1.09863281e-03, -1.03759766e-03]), 'sampling_rate': 44100}\n"
     ]
    }
   ],
   "source": [
    "\"\"\"\n",
    "Build the Hugging Face dataset Object from the dictionary\n",
    "\"\"\"\n",
    "from datasets import Audio, Dataset\n",
    "audio_dataset = Dataset.from_dict(dict).cast_column(\"Audio\", Audio())\n",
    "datasets.append(audio_dataset)\n",
    "print(audio_dataset[0][\"Audio\"])\n",
    "\n",
    "#The following lines are only for meta data generation\n",
    "import copy\n",
    "powdermill = copy.deepcopy(dict)"
   ]
  },
  {
   "attachments": {},
   "cell_type": "markdown",
   "metadata": {},
   "source": [
    "### Xeno Canto Data"
   ]
  },
  {
   "cell_type": "code",
   "execution_count": null,
   "metadata": {},
   "outputs": [],
   "source": [
    "# To do build Xeno Canto Data"
   ]
  },
  {
   "attachments": {},
   "cell_type": "markdown",
   "metadata": {},
   "source": [
    "## Combine Datasets\n",
    "The following block combines the datasets in the datasets-list into one dataset."
   ]
  },
  {
   "cell_type": "code",
   "execution_count": 29,
   "metadata": {},
   "outputs": [],
   "source": [
    "\"\"\"\n",
    "This block builds an annotation csv-file for each dataset. \n",
    "In addition a csv-file is createt that combines all datasets\n",
    "\"\"\"\n",
    "#Adjust the following lines by adding more dictionaries\n",
    "dictionaries = [zenodo,oekofor,powdermill]\n",
    "annotations = [(zenodo,\"zenodo_annotations.csv\")\n",
    "               ,(oekofor,\"oekofor_annotations.csv\"),(powdermill,\"powdermill_annotations.csv\")]\n",
    "\n",
    "\n",
    "def save_dict_to_csv(data_dict, filename):\n",
    "    with open(f\"{annotations_path}{filename}\", 'w', newline='') as csv_file:\n",
    "        writer = csv.writer(csv_file)\n",
    "        \n",
    "        # Write the header row using dictionary keys\n",
    "        header = list(data_dict.keys())\n",
    "        writer.writerow(header)\n",
    "        \n",
    "        # Determine the maximum length of lists in the dictionary\n",
    "        max_length = max(len(lst) for lst in data_dict.values())\n",
    "        \n",
    "        # Write rows\n",
    "        for i in range(max_length):\n",
    "            row = [data_dict[key][i] for key in header]\n",
    "            writer.writerow(row)\n",
    "\n",
    "\n",
    "\n",
    "for data_dict, filename in annotations:\n",
    "    save_dict_to_csv(data_dict,filename)\n",
    "\n",
    "combined_dict = {}\n",
    "id = 0\n",
    "for dictionary in dictionaries:\n",
    "        for key, value in dictionary.items():\n",
    "            if key in combined_dict:\n",
    "                if key == \"ID\":\n",
    "                    combined_dict[key].append(id)\n",
    "                    id+=1\n",
    "                else:\n",
    "                    combined_dict[key].append(value)\n",
    "            else:\n",
    "                if key == \"ID\":\n",
    "                    combined_dict[key]=[id]\n",
    "                    id+=1\n",
    "                else:\n",
    "                    combined_dict[key] = [value]\n",
    "save_dict_to_csv(combined_dict,\"combined_annotations.csv\")\n"
   ]
  },
  {
   "cell_type": "code",
   "execution_count": null,
   "metadata": {},
   "outputs": [],
   "source": [
    "## To do combine datasets"
   ]
  },
  {
   "cell_type": "markdown",
   "metadata": {},
   "source": [
    "## Metadata\n",
    "The following Blocks provide some metadata about the different datasets."
   ]
  },
  {
   "cell_type": "code",
   "execution_count": 9,
   "metadata": {},
   "outputs": [
    {
     "name": "stdout",
     "output_type": "stream",
     "text": [
      "The total number of samples is 157,661\n",
      "The datasets contains 336 different birds\n",
      "The datasets contains 15 different call types\n"
     ]
    }
   ],
   "source": [
    "#Select which dataset should be analyzed\n",
    "#dataset = zenodo\n",
    "dataset = oekofor\n",
    "\n",
    "print(f\"The total number of samples is {len(dataset['ID']):,}\")\n",
    "\n",
    "#count each bird occurence\n",
    "bird_samples = {}\n",
    "#start the count at 0 for each bird\n",
    "for bird in ebird_to_common.keys():\n",
    "    bird_samples[bird]=0\n",
    "#count the birds\n",
    "for bird in dataset[\"Species eBird Code\"]:\n",
    "    bird_samples[bird]+=1\n",
    "#delete birds with 0 occurences\n",
    "bird_samples = {k: v for k, v in bird_samples.items() if v>0}\n",
    "\n",
    "print(f\"The datasets contains {len(bird_samples)} different birds\")\n",
    "\n",
    "\n",
    "#count how many different call types there are per Bird\n",
    "call_types = {}\n",
    "all_call_types = []\n",
    "for bird in bird_samples.keys():\n",
    "    call_types[bird]=[]\n",
    "for i in range(len(dataset[\"ID\"])):\n",
    "    call_type = dataset[\"Call Type\"][i]\n",
    "    if call_type is None:\n",
    "        call_type = \"u (Unidentified)\"\n",
    "    bird = dataset[\"Species eBird Code\"][i]\n",
    "    if call_type not in all_call_types:\n",
    "        all_call_types.append(call_type)\n",
    "    if call_type not in call_types[bird]:\n",
    "        call_types[bird].append(call_type)\n",
    "\n",
    "print(f\"The datasets contains {len(all_call_types)} different call types\")\n"
   ]
  },
  {
   "cell_type": "code",
   "execution_count": 10,
   "metadata": {},
   "outputs": [
    {
     "name": "stdout",
     "output_type": "stream",
     "text": [
      "The most common class is spocra1 with 9689 samples\n",
      "The least common class is lotduc with 1 samples\n"
     ]
    },
    {
     "data": {
      "image/png": "[encoded data removed]",
      "text/plain": [
       "<Figure size 640x480 with 1 Axes>"
      ]
     },
     "metadata": {},
     "output_type": "display_data"
    }
   ],
   "source": [
    "\"\"\"\n",
    "This Code plotts the distribution of samples over different bird species\n",
    "\"\"\"\n",
    "import matplotlib.pyplot as plt\n",
    "x = range(len(bird_samples))\n",
    "y = []\n",
    "for b,n in bird_samples.items():\n",
    "    y.append(n)\n",
    "y.sort()\n",
    "plt.plot(x,y)\n",
    "\n",
    "max_bird=max(bird_samples,key=bird_samples.get)\n",
    "print(f\"The most common class is {max_bird} with {bird_samples[max_bird]} samples\")\n",
    "min_bird=min(bird_samples,key=bird_samples.get)\n",
    "print(f\"The least common class is {min_bird} with {bird_samples[min_bird]} samples\")"
   ]
  },
  {
   "cell_type": "code",
   "execution_count": 11,
   "metadata": {},
   "outputs": [
    {
     "data": {
      "text/plain": [
       "[<matplotlib.lines.Line2D at 0x7f92f15ead90>]"
      ]
     },
     "execution_count": 11,
     "metadata": {},
     "output_type": "execute_result"
    },
    {
     "data": {
      "image/png": "[encoded data removed]",
      "text/plain": [
       "<Figure size 640x480 with 1 Axes>"
      ]
     },
     "metadata": {},
     "output_type": "display_data"
    }
   ],
   "source": [
    "\"\"\"This Block plotss how many different call types each bird has\"\"\"\n",
    "\n",
    "import matplotlib.pyplot as plt\n",
    "x = range(len(call_types))\n",
    "y = []\n",
    "for bird,calls in call_types.items():\n",
    "    y.append(len(calls))\n",
    "y.sort()\n",
    "plt.plot(x,y)"
   ]
  },
  {
   "cell_type": "code",
   "execution_count": 12,
   "metadata": {},
   "outputs": [
    {
     "name": "stdout",
     "output_type": "stream",
     "text": [
      "['f (Flugruf)', 'c (Kontaktruf)', 'ac (Alarmruf)', 's (Gesang)', 'wb (Fluegelschlag)', 'rs (Rufe am Schlafplatz)', 'b (Bettelruf)', 's2 (Zweitgesang)', 'nfc (Nachtzugruf)', 'u (Unidentified)', 'e (Erregungsruf)', 'ac_b (Alarmruf_Bodenfeinde)', 'ac_f (Alarmruf Luftfeinde)', 't (Trommeln)', 'nfc (Nachzugruf)']\n"
     ]
    },
    {
     "data": {
      "image/png": "[encoded data removed]",
      "text/plain": [
       "<Figure size 640x480 with 1 Axes>"
      ]
     },
     "metadata": {},
     "output_type": "display_data"
    }
   ],
   "source": [
    "\"\"\"This Block plotts by how many species each call type is used\"\"\"\n",
    "import re\n",
    "\n",
    "fig = plt.figure()\n",
    "ax = fig.add_axes([0,0,1,1])\n",
    "#x = [re.findall(r'\\(.*?\\)',c)[0] for c in all_call_types]\n",
    "x = [re.findall(r'.*?\\s',c)[0][:-1] for c in all_call_types]\n",
    "print(all_call_types)\n",
    "y = []\n",
    "for call in all_call_types:\n",
    "    c=0\n",
    "    for bird,calls in call_types.items():\n",
    "        if call in calls:\n",
    "            c+=1\n",
    "    y.append(c)\n",
    "\n",
    "ax.bar(x,y)\n",
    "plt.show()\n"
   ]
  },
  {
   "cell_type": "code",
   "execution_count": 16,
   "metadata": {},
   "outputs": [
    {
     "name": "stdout",
     "output_type": "stream",
     "text": [
      "Zenodo has 155,584 samples\n",
      "OekoFor has 157,661 samples\n",
      "Oekofor and Zenodo share 9 species\n",
      "This is a total of 17060 samples\n",
      "The species cangoo has 2120 samples\n",
      "The species tunswa has 24 samples\n",
      "The species mallar3 has 975 samples\n",
      "The species bcnher has 2295 samples\n",
      "The species comrav has 580 samples\n",
      "The species skylar has 4562 samples\n",
      "The species eursta has 338 samples\n",
      "The species amepip has 2372 samples\n",
      "The species redcro has 3794 samples\n"
     ]
    }
   ],
   "source": [
    "\"\"\"Lets see how many bird species are shared between datasets\"\"\"\n",
    "\n",
    "#dataset = zenodo\n",
    "#dataset = oekofor\n",
    "\n",
    "print(f\"Zenodo has {len(zenodo['ID']):,} samples\")\n",
    "print(f\"OekoFor has {len(oekofor['ID']):,} samples\")\n",
    "\n",
    "#count each bird occurence\n",
    "zenodo_birds = {}\n",
    "oekofor_birds = {}\n",
    "#start the count at 0 for each bird\n",
    "for bird in ebird_to_common.keys():\n",
    "    zenodo_birds[bird]=0\n",
    "    oekofor_birds[bird]=0\n",
    "#count the birds\n",
    "for bird in zenodo[\"Species eBird Code\"]:\n",
    "    zenodo_birds[bird]+=1\n",
    "for bird in oekofor[\"Species eBird Code\"]:\n",
    "    oekofor_birds[bird]+=1\n",
    "#delete birds with 0 occurences\n",
    "zenodo_birds = {k: v for k, v in zenodo_birds.items() if v>0}\n",
    "oekofor_birds = {k: v for k, v in oekofor_birds.items() if v>0}\n",
    "\n",
    "shared_birds = {}\n",
    "sum = 0\n",
    "for bird, count in zenodo_birds.items():\n",
    "    if bird in oekofor_birds.keys():\n",
    "        shared_birds[bird]=zenodo_birds[bird]+oekofor_birds[bird]\n",
    "        sum+=shared_birds[bird]\n",
    "\n",
    "print(f\"Oekofor and Zenodo share {len(shared_birds)} species\")\n",
    "print(f\"This is a total of {sum} samples\")\n",
    "\n",
    "for key, value in shared_birds.items():\n",
    "    print(f\"The species {key} has {value} samples\")"
   ]
  }
 ],
 "metadata": {
  "kernelspec": {
   "display_name": "Python 3",
   "language": "python",
   "name": "python3"
  },
  "language_info": {
   "codemirror_mode": {
    "name": "ipython",
    "version": 3
   },
   "file_extension": ".py",
   "mimetype": "text/x-python",
   "name": "python",
   "nbconvert_exporter": "python",
   "pygments_lexer": "ipython3",
   "version": "3.8.10"
  },
  "orig_nbformat": 4
 },
 "nbformat": 4,
 "nbformat_minor": 2
}
